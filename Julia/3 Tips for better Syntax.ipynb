{
 "cells": [
  {
   "cell_type": "markdown",
   "metadata": {},
   "source": [
    "# 5 Tips for better syntax\n",
    "### - [Reverse Booleans](#Reverse-Booleans) \n",
    "The great art of code-writing, especially in high-level languages like Python and Julia is something that is rather easy to learn - yet incredibly hard to master. Even very proficient programmers are capable of making seemingly basic mistakes in their syntax. However, having clear and concise code is not only important on the readability standard, but can also have a pretty serious impact when done wrong. Learning some great techniques and shortcuts to perform operations is definitely a fantastic way to make your code shine and make your colleagues love you. Fortunately, there are thousands if not millions of these little tricks that can be performed to enhance your code."
   ]
  },
  {
   "cell_type": "markdown",
   "metadata": {},
   "source": [
    "# Reverse Booleans"
   ]
  },
  {
   "cell_type": "code",
   "execution_count": 19,
   "metadata": {},
   "outputs": [
    {
     "data": {
      "text/plain": [
       "turn_off (generic function with 1 method)"
      ]
     },
     "execution_count": 19,
     "metadata": {},
     "output_type": "execute_result"
    }
   ],
   "source": [
    "# Consider this example:\n",
    "mutable struct light\n",
    "   status\n",
    "end\n",
    "function turn_on(light)\n",
    "    light.status = true\n",
    "    return(light)\n",
    "end\n",
    "function turn_off(light)\n",
    "    light.status = false\n",
    "    return(light)\n",
    "end"
   ]
  },
  {
   "cell_type": "code",
   "execution_count": 20,
   "metadata": {},
   "outputs": [
    {
     "data": {
      "text/plain": [
       "light(false)"
      ]
     },
     "execution_count": 20,
     "metadata": {},
     "output_type": "execute_result"
    }
   ],
   "source": [
    "bulb = light(false)"
   ]
  },
  {
   "cell_type": "code",
   "execution_count": 21,
   "metadata": {},
   "outputs": [
    {
     "data": {
      "text/plain": [
       "light(true)"
      ]
     },
     "execution_count": 21,
     "metadata": {},
     "output_type": "execute_result"
    }
   ],
   "source": [
    "bulb = turn_on(bulb)"
   ]
  },
  {
   "cell_type": "code",
   "execution_count": 35,
   "metadata": {},
   "outputs": [
    {
     "data": {
      "text/plain": [
       "use_switch (generic function with 1 method)"
      ]
     },
     "execution_count": 35,
     "metadata": {},
     "output_type": "execute_result"
    }
   ],
   "source": [
    "function use_switch(light)\n",
    "    if light.status == true\n",
    "        light.status = false\n",
    "    else\n",
    "        light.status = true\n",
    "    end\n",
    "    return(light)\n",
    "end"
   ]
  },
  {
   "cell_type": "code",
   "execution_count": 23,
   "metadata": {},
   "outputs": [
    {
     "data": {
      "text/plain": [
       "false"
      ]
     },
     "execution_count": 23,
     "metadata": {},
     "output_type": "execute_result"
    }
   ],
   "source": [
    "use_switch(bulb)"
   ]
  },
  {
   "cell_type": "code",
   "execution_count": 30,
   "metadata": {},
   "outputs": [
    {
     "data": {
      "text/plain": [
       "use_efficient_switch (generic function with 1 method)"
      ]
     },
     "execution_count": 30,
     "metadata": {},
     "output_type": "execute_result"
    }
   ],
   "source": [
    "function use_efficient_switch(light)\n",
    "    light.status =! light.status\n",
    "    return(light)\n",
    "end"
   ]
  },
  {
   "cell_type": "code",
   "execution_count": 34,
   "metadata": {},
   "outputs": [
    {
     "data": {
      "text/plain": [
       "light(true)"
      ]
     },
     "execution_count": 34,
     "metadata": {},
     "output_type": "execute_result"
    }
   ],
   "source": [
    "bulb = use_efficient_switch(bulb)"
   ]
  },
  {
   "cell_type": "code",
   "execution_count": 37,
   "metadata": {},
   "outputs": [
    {
     "data": {
      "text/plain": [
       "flickeff (generic function with 1 method)"
      ]
     },
     "execution_count": 37,
     "metadata": {},
     "output_type": "execute_result"
    }
   ],
   "source": [
    "function flick(bulb, iters)\n",
    "    for i in 1:iters\n",
    "        use_switch(bulb)\n",
    "    end\n",
    "end\n",
    "function flickeff(bulb, iters)\n",
    "    for i in 1:iters\n",
    "        use_efficient_switch(bulb)\n",
    "    end\n",
    "end"
   ]
  },
  {
   "cell_type": "code",
   "execution_count": 39,
   "metadata": {},
   "outputs": [
    {
     "name": "stdout",
     "output_type": "stream",
     "text": [
      "  0.021365 seconds (19.78 k allocations: 1.075 MiB)\n"
     ]
    }
   ],
   "source": [
    "@time flick(bulb, 300000)"
   ]
  },
  {
   "cell_type": "code",
   "execution_count": 40,
   "metadata": {},
   "outputs": [
    {
     "name": "stdout",
     "output_type": "stream",
     "text": [
      "  0.008663 seconds (15.39 k allocations: 842.602 KiB)\n"
     ]
    }
   ],
   "source": [
    "@time flickeff(bulb, 300000)"
   ]
  },
  {
   "cell_type": "markdown",
   "metadata": {},
   "source": [
    "# Dispatch Everything!"
   ]
  },
  {
   "cell_type": "code",
   "execution_count": 41,
   "metadata": {},
   "outputs": [
    {
     "data": {
      "text/plain": [
       "handle_int (generic function with 1 method)"
      ]
     },
     "execution_count": 41,
     "metadata": {},
     "output_type": "execute_result"
    }
   ],
   "source": [
    "function handle_array(arr)\n",
    "    [println(i) for i in arr]\n",
    "end\n",
    "function handle_int(int)\n",
    "    println(int)\n",
    "end"
   ]
  },
  {
   "cell_type": "code",
   "execution_count": 44,
   "metadata": {},
   "outputs": [
    {
     "name": "stdout",
     "output_type": "stream",
     "text": [
      "5\n",
      "10\n",
      "15\n"
     ]
    }
   ],
   "source": [
    "arr = [5,10,15]\n",
    "[println(i) for i in arr];"
   ]
  },
  {
   "cell_type": "code",
   "execution_count": 43,
   "metadata": {},
   "outputs": [
    {
     "name": "stdout",
     "output_type": "stream",
     "text": [
      "[5, 10, 15]\n"
     ]
    }
   ],
   "source": [
    "println(arr)"
   ]
  },
  {
   "cell_type": "code",
   "execution_count": 45,
   "metadata": {},
   "outputs": [
    {
     "data": {
      "text/plain": [
       "inlineprint (generic function with 2 methods)"
      ]
     },
     "execution_count": 45,
     "metadata": {},
     "output_type": "execute_result"
    }
   ],
   "source": [
    "inlineprint(arr::Array) = handle_array(arr)\n",
    "inlineprint(arr::Int64) = handle_int(arr)"
   ]
  },
  {
   "cell_type": "code",
   "execution_count": 46,
   "metadata": {},
   "outputs": [
    {
     "name": "stdout",
     "output_type": "stream",
     "text": [
      "5\n",
      "10\n",
      "15\n"
     ]
    },
    {
     "data": {
      "text/plain": [
       "3-element Array{Nothing,1}:\n",
       " nothing\n",
       " nothing\n",
       " nothing"
      ]
     },
     "execution_count": 46,
     "metadata": {},
     "output_type": "execute_result"
    }
   ],
   "source": [
    "inlineprint([5,10,15])"
   ]
  },
  {
   "cell_type": "code",
   "execution_count": 47,
   "metadata": {},
   "outputs": [
    {
     "name": "stdout",
     "output_type": "stream",
     "text": [
      "5\n"
     ]
    }
   ],
   "source": [
    "inlineprint(5)"
   ]
  },
  {
   "cell_type": "code",
   "execution_count": 48,
   "metadata": {},
   "outputs": [
    {
     "data": {
      "text/plain": [
       "car_stats(25, 40, nothing)"
      ]
     },
     "execution_count": 48,
     "metadata": {},
     "output_type": "execute_result"
    }
   ],
   "source": [
    "mutable struct car_stats\n",
    "    distance\n",
    "    time\n",
    "    speed\n",
    "end\n",
    "honda_civic = car_stats(25, 40, nothing)"
   ]
  },
  {
   "cell_type": "code",
   "execution_count": 49,
   "metadata": {},
   "outputs": [
    {
     "data": {
      "text/plain": [
       "speed (generic function with 1 method)"
      ]
     },
     "execution_count": 49,
     "metadata": {},
     "output_type": "execute_result"
    }
   ],
   "source": [
    "speed(stats) = stats.distance / stats.time"
   ]
  },
  {
   "cell_type": "code",
   "execution_count": 51,
   "metadata": {},
   "outputs": [
    {
     "data": {
      "text/plain": [
       "0.625"
      ]
     },
     "execution_count": 51,
     "metadata": {},
     "output_type": "execute_result"
    }
   ],
   "source": [
    "honda_civic.speed = speed(honda_civic)"
   ]
  },
  {
   "cell_type": "code",
   "execution_count": 66,
   "metadata": {},
   "outputs": [
    {
     "data": {
      "text/plain": [
       "typemaker (generic function with 1 method)"
      ]
     },
     "execution_count": 66,
     "metadata": {},
     "output_type": "execute_result"
    }
   ],
   "source": [
    "typemaker(speedfunc,civic) = ()->(speedfunc;civic)"
   ]
  },
  {
   "cell_type": "code",
   "execution_count": 68,
   "metadata": {},
   "outputs": [
    {
     "data": {
      "text/plain": [
       "#9 (generic function with 1 method)"
      ]
     },
     "execution_count": 68,
     "metadata": {},
     "output_type": "execute_result"
    }
   ],
   "source": [
    "d = typemaker(speed,honda_civic)"
   ]
  },
  {
   "cell_type": "code",
   "execution_count": 73,
   "metadata": {},
   "outputs": [
    {
     "data": {
      "text/plain": [
       "0.625"
      ]
     },
     "execution_count": 73,
     "metadata": {},
     "output_type": "execute_result"
    }
   ],
   "source": [
    "d.speedfunc(d.civic)"
   ]
  },
  {
   "cell_type": "code",
   "execution_count": 74,
   "metadata": {},
   "outputs": [
    {
     "data": {
      "text/plain": [
       "speed (generic function with 1 method)"
      ]
     },
     "execution_count": 74,
     "metadata": {},
     "output_type": "execute_result"
    }
   ],
   "source": [
    "speed(civic) = civic.distance / civic.time"
   ]
  },
  {
   "cell_type": "code",
   "execution_count": 75,
   "metadata": {},
   "outputs": [
    {
     "data": {
      "text/plain": [
       "typemaker (generic function with 1 method)"
      ]
     },
     "execution_count": 75,
     "metadata": {},
     "output_type": "execute_result"
    }
   ],
   "source": [
    "typemaker(speed,civic) = ()->(speed;civic)"
   ]
  },
  {
   "cell_type": "code",
   "execution_count": 76,
   "metadata": {},
   "outputs": [
    {
     "data": {
      "text/plain": [
       "#11 (generic function with 1 method)"
      ]
     },
     "execution_count": 76,
     "metadata": {},
     "output_type": "execute_result"
    }
   ],
   "source": [
    "d = typemaker(speed,honda_civic)"
   ]
  },
  {
   "cell_type": "code",
   "execution_count": 77,
   "metadata": {},
   "outputs": [
    {
     "ename": "MethodError",
     "evalue": "MethodError: no method matching speed()\nClosest candidates are:\n  speed(!Matched::Any) at In[74]:1",
     "output_type": "error",
     "traceback": [
      "MethodError: no method matching speed()\nClosest candidates are:\n  speed(!Matched::Any) at In[74]:1",
      "",
      "Stacktrace:",
      " [1] top-level scope at In[77]:1"
     ]
    }
   ],
   "source": [
    "d.speed()"
   ]
  },
  {
   "cell_type": "markdown",
   "metadata": {},
   "source": [
    "# Filter"
   ]
  },
  {
   "cell_type": "code",
   "execution_count": 80,
   "metadata": {},
   "outputs": [
    {
     "data": {
      "text/plain": [
       "1:10"
      ]
     },
     "execution_count": 80,
     "metadata": {},
     "output_type": "execute_result"
    }
   ],
   "source": [
    "x = 1:10"
   ]
  },
  {
   "cell_type": "code",
   "execution_count": 81,
   "metadata": {},
   "outputs": [
    {
     "data": {
      "text/plain": [
       "3-element Array{Int64,1}:\n",
       " 3\n",
       " 6\n",
       " 9"
      ]
     },
     "execution_count": 81,
     "metadata": {},
     "output_type": "execute_result"
    }
   ],
   "source": [
    "filter((x) -> x % 3 == 0, x)"
   ]
  },
  {
   "cell_type": "code",
   "execution_count": 88,
   "metadata": {},
   "outputs": [],
   "source": [
    "using DataFrames\n"
   ]
  },
  {
   "cell_type": "code",
   "execution_count": 90,
   "metadata": {},
   "outputs": [
    {
     "data": {
      "text/html": [
       "<table class=\"data-frame\"><thead><tr><th></th><th>Class</th><th>Papers</th></tr><tr><th></th><th>String</th><th>Int64</th></tr></thead><tbody><p>7 rows × 2 columns</p><tr><th>1</th><td>Math</td><td>5</td></tr><tr><th>2</th><td>English</td><td>2</td></tr><tr><th>3</th><td>Math</td><td>8</td></tr><tr><th>4</th><td>English</td><td>3</td></tr><tr><th>5</th><td>Science</td><td>4</td></tr><tr><th>6</th><td>Math</td><td>2</td></tr><tr><th>7</th><td>English</td><td>2</td></tr></tbody></table>"
      ],
      "text/latex": [
       "\\begin{tabular}{r|cc}\n",
       "\t& Class & Papers\\\\\n",
       "\t\\hline\n",
       "\t& String & Int64\\\\\n",
       "\t\\hline\n",
       "\t1 & Math & 5 \\\\\n",
       "\t2 & English & 2 \\\\\n",
       "\t3 & Math & 8 \\\\\n",
       "\t4 & English & 3 \\\\\n",
       "\t5 & Science & 4 \\\\\n",
       "\t6 & Math & 2 \\\\\n",
       "\t7 & English & 2 \\\\\n",
       "\\end{tabular}\n"
      ],
      "text/plain": [
       "7×2 DataFrame\n",
       "│ Row │ Class   │ Papers │\n",
       "│     │ \u001b[90mString\u001b[39m  │ \u001b[90mInt64\u001b[39m  │\n",
       "├─────┼─────────┼────────┤\n",
       "│ 1   │ Math    │ 5      │\n",
       "│ 2   │ English │ 2      │\n",
       "│ 3   │ Math    │ 8      │\n",
       "│ 4   │ English │ 3      │\n",
       "│ 5   │ Science │ 4      │\n",
       "│ 6   │ Math    │ 2      │\n",
       "│ 7   │ English │ 2      │"
      ]
     },
     "execution_count": 90,
     "metadata": {},
     "output_type": "execute_result"
    }
   ],
   "source": [
    "df = DataFrame(:Class => [\"Math\", \"English\", \"Math\", \"English\", \"Science\", \"Math\", \"English\"],\n",
    "        :Papers => [5,2,8,3,4,2,2])"
   ]
  },
  {
   "cell_type": "code",
   "execution_count": 100,
   "metadata": {},
   "outputs": [
    {
     "name": "stderr",
     "output_type": "stream",
     "text": [
      "┌ Warning: `getindex(df::DataFrame, col_ind::ColumnIndex)` is deprecated, use `df[!, col_ind]` instead.\n",
      "│   caller = top-level scope at In[100]:1\n",
      "└ @ Core In[100]:1\n"
     ]
    },
    {
     "ename": "ArgumentError",
     "evalue": "ArgumentError: invalid row index of type Bool",
     "output_type": "error",
     "traceback": [
      "ArgumentError: invalid row index of type Bool",
      "",
      "Stacktrace:",
      " [1] DataFrameRow at /home/emmett/.julia/packages/DataFrames/SOhkD/src/dataframerow/dataframerow.jl:58 [inlined]",
      " [2] getindex(::DataFrame, ::Bool, ::Colon) at /home/emmett/.julia/packages/DataFrames/SOhkD/src/dataframerow/dataframerow.jl:94",
      " [3] top-level scope at In[100]:1"
     ]
    }
   ],
   "source": []
  },
  {
   "cell_type": "code",
   "execution_count": null,
   "metadata": {},
   "outputs": [],
   "source": []
  }
 ],
 "metadata": {
  "kernelspec": {
   "display_name": "Julia 1.2.0",
   "language": "julia",
   "name": "julia-1.2"
  },
  "language_info": {
   "file_extension": ".jl",
   "mimetype": "application/julia",
   "name": "julia",
   "version": "1.4.1"
  }
 },
 "nbformat": 4,
 "nbformat_minor": 2
}
