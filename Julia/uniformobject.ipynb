{
 "cells": [
  {
   "cell_type": "code",
   "execution_count": 1,
   "metadata": {},
   "outputs": [],
   "source": [
    "using Distributions"
   ]
  },
  {
   "cell_type": "code",
   "execution_count": 2,
   "metadata": {},
   "outputs": [
    {
     "name": "stdout",
     "output_type": "stream",
     "text": [
      "search: \u001b[0m\u001b[1mU\u001b[22m\u001b[0m\u001b[1mn\u001b[22m\u001b[0m\u001b[1mi\u001b[22m\u001b[0m\u001b[1mf\u001b[22m\u001b[0m\u001b[1mo\u001b[22m\u001b[0m\u001b[1mr\u001b[22m\u001b[0m\u001b[1mm\u001b[22m Discrete\u001b[0m\u001b[1mU\u001b[22m\u001b[0m\u001b[1mn\u001b[22m\u001b[0m\u001b[1mi\u001b[22m\u001b[0m\u001b[1mf\u001b[22m\u001b[0m\u001b[1mo\u001b[22m\u001b[0m\u001b[1mr\u001b[22m\u001b[0m\u001b[1mm\u001b[22m\n",
      "\n"
     ]
    },
    {
     "data": {
      "text/latex": [
       "\\begin{verbatim}\n",
       "Uniform(a,b)\n",
       "\\end{verbatim}\n",
       "The \\emph{continuous uniform distribution} over an interval $[a, b]$ has probability density function\n",
       "\n",
       "$$f(x; a, b) = \\frac{1}{b - a}, \\quad a \\le x \\le b$$\n",
       "\\begin{verbatim}\n",
       "Uniform()        # Uniform distribution over [0, 1]\n",
       "Uniform(a, b)    # Uniform distribution over [a, b]\n",
       "\n",
       "params(d)        # Get the parameters, i.e. (a, b)\n",
       "minimum(d)       # Get the lower bound, i.e. a\n",
       "maximum(d)       # Get the upper bound, i.e. b\n",
       "location(d)      # Get the location parameter, i.e. a\n",
       "scale(d)         # Get the scale parameter, i.e. b - a\n",
       "\\end{verbatim}\n",
       "External links\n",
       "\n",
       "\\begin{itemize}\n",
       "\\item \\href{http://en.wikipedia.org/wiki/Uniform_distribution_(continuous)}{Uniform distribution (continuous) on Wikipedia}\n",
       "\n",
       "\\end{itemize}\n"
      ],
      "text/markdown": [
       "```\n",
       "Uniform(a,b)\n",
       "```\n",
       "\n",
       "The *continuous uniform distribution* over an interval $[a, b]$ has probability density function\n",
       "\n",
       "$$\n",
       "f(x; a, b) = \\frac{1}{b - a}, \\quad a \\le x \\le b\n",
       "$$\n",
       "\n",
       "```julia\n",
       "Uniform()        # Uniform distribution over [0, 1]\n",
       "Uniform(a, b)    # Uniform distribution over [a, b]\n",
       "\n",
       "params(d)        # Get the parameters, i.e. (a, b)\n",
       "minimum(d)       # Get the lower bound, i.e. a\n",
       "maximum(d)       # Get the upper bound, i.e. b\n",
       "location(d)      # Get the location parameter, i.e. a\n",
       "scale(d)         # Get the scale parameter, i.e. b - a\n",
       "```\n",
       "\n",
       "External links\n",
       "\n",
       "  * [Uniform distribution (continuous) on Wikipedia](http://en.wikipedia.org/wiki/Uniform_distribution_(continuous))\n"
      ],
      "text/plain": [
       "\u001b[36m  Uniform(a,b)\u001b[39m\n",
       "\n",
       "  The \u001b[4mcontinuous uniform distribution\u001b[24m over an interval \u001b[35m[a, b]\u001b[39m has probability\n",
       "  density function\n",
       "\n",
       "\u001b[35m  f(x; a, b) = \\frac{1}{b - a}, \\quad a \\le x \\le b\u001b[39m\n",
       "\n",
       "\u001b[36m  Uniform()        # Uniform distribution over [0, 1]\u001b[39m\n",
       "\u001b[36m  Uniform(a, b)    # Uniform distribution over [a, b]\u001b[39m\n",
       "\u001b[36m  \u001b[39m\n",
       "\u001b[36m  params(d)        # Get the parameters, i.e. (a, b)\u001b[39m\n",
       "\u001b[36m  minimum(d)       # Get the lower bound, i.e. a\u001b[39m\n",
       "\u001b[36m  maximum(d)       # Get the upper bound, i.e. b\u001b[39m\n",
       "\u001b[36m  location(d)      # Get the location parameter, i.e. a\u001b[39m\n",
       "\u001b[36m  scale(d)         # Get the scale parameter, i.e. b - a\u001b[39m\n",
       "\n",
       "  External links\n",
       "\n",
       "    •    Uniform distribution (continuous) on Wikipedia\n",
       "        (http://en.wikipedia.org/wiki/Uniform_distribution_(continuous))"
      ]
     },
     "execution_count": 2,
     "metadata": {},
     "output_type": "execute_result"
    }
   ],
   "source": [
    "?(Uniform)"
   ]
  },
  {
   "cell_type": "code",
   "execution_count": 3,
   "metadata": {},
   "outputs": [
    {
     "data": {
      "text/plain": [
       "4-element Array{Int64,1}:\n",
       "  5\n",
       " 10\n",
       " 15\n",
       " 20"
      ]
     },
     "execution_count": 3,
     "metadata": {},
     "output_type": "execute_result"
    }
   ],
   "source": [
    "x = [5,10,15,20]"
   ]
  },
  {
   "cell_type": "code",
   "execution_count": 4,
   "metadata": {},
   "outputs": [
    {
     "data": {
      "text/plain": [
       "Uniform{Float64}(a=5.0, b=20.0)"
      ]
     },
     "execution_count": 4,
     "metadata": {},
     "output_type": "execute_result"
    }
   ],
   "source": [
    "dist = Uniform(minimum(x), maximum(x))"
   ]
  },
  {
   "cell_type": "code",
   "execution_count": 5,
   "metadata": {},
   "outputs": [
    {
     "data": {
      "text/plain": [
       "Uniform{Float64}(a=5.0, b=20.0)"
      ]
     },
     "execution_count": 5,
     "metadata": {},
     "output_type": "execute_result"
    }
   ],
   "source": [
    "dist"
   ]
  },
  {
   "cell_type": "code",
   "execution_count": 6,
   "metadata": {},
   "outputs": [
    {
     "name": "stdout",
     "output_type": "stream",
     "text": [
      "search: \u001b[0m\u001b[1mc\u001b[22m\u001b[0m\u001b[1md\u001b[22m\u001b[0m\u001b[1mf\u001b[22m log\u001b[0m\u001b[1mc\u001b[22m\u001b[0m\u001b[1md\u001b[22m\u001b[0m\u001b[1mf\u001b[22m \u001b[0m\u001b[1mc\u001b[22mc\u001b[0m\u001b[1md\u001b[22m\u001b[0m\u001b[1mf\u001b[22m invlog\u001b[0m\u001b[1mc\u001b[22m\u001b[0m\u001b[1md\u001b[22m\u001b[0m\u001b[1mf\u001b[22m log\u001b[0m\u001b[1mc\u001b[22mc\u001b[0m\u001b[1md\u001b[22m\u001b[0m\u001b[1mf\u001b[22m logdiff\u001b[0m\u001b[1mc\u001b[22m\u001b[0m\u001b[1md\u001b[22m\u001b[0m\u001b[1mf\u001b[22m invlog\u001b[0m\u001b[1mc\u001b[22mc\u001b[0m\u001b[1md\u001b[22m\u001b[0m\u001b[1mf\u001b[22m \u001b[0m\u001b[1mC\u001b[22mptr\u001b[0m\u001b[1md\u001b[22mi\u001b[0m\u001b[1mf\u001b[22mf_t\n",
      "\n"
     ]
    },
    {
     "data": {
      "text/latex": [
       "\\begin{verbatim}\n",
       "cdf(d::UnivariateDistribution, x::Real)\n",
       "\\end{verbatim}\n",
       "Evaluate the cumulative probability at \\texttt{x}.\n",
       "\n",
       "See also \\href{@ref}{\\texttt{ccdf}}, \\href{@ref}{\\texttt{logcdf}}, and \\href{@ref}{\\texttt{logccdf}}.\n",
       "\n",
       "\\rule{\\textwidth}{1pt}\n",
       "\\begin{verbatim}\n",
       "cdf(d::Skellam, t::Real)\n",
       "\\end{verbatim}\n",
       "Implementation based on SciPy: https://github.com/scipy/scipy/blob/v0.15.1/scipy/stats/\\emph{discrete}distns.py\n",
       "\n",
       "Refer to Eqn (5) in On an Extension of the Connexion Between Poisson and χ2 Distributions, N.L Johnson(1959) Vol 46, No 3/4, doi:10.2307/2333532 It relates the Skellam and Non-central chisquare PDFs, which is very similar to their CDFs computation as well.\n",
       "\n",
       "Computing cdf of the Skellam distribution.\n",
       "\n",
       "\\rule{\\textwidth}{1pt}\n",
       "\\begin{verbatim}\n",
       "cdf(d, x)\n",
       "\\end{verbatim}\n",
       "Calculates the CDF of the distribution. To determine the CDF, the incomplete gamma function is required. The CDF  of the Gamma distribution provides this, with the necessary 1/Γ(a) normalization.\n",
       "\n"
      ],
      "text/markdown": [
       "```\n",
       "cdf(d::UnivariateDistribution, x::Real)\n",
       "```\n",
       "\n",
       "Evaluate the cumulative probability at `x`.\n",
       "\n",
       "See also [`ccdf`](@ref), [`logcdf`](@ref), and [`logccdf`](@ref).\n",
       "\n",
       "---\n",
       "\n",
       "```\n",
       "cdf(d::Skellam, t::Real)\n",
       "```\n",
       "\n",
       "Implementation based on SciPy: https://github.com/scipy/scipy/blob/v0.15.1/scipy/stats/*discrete*distns.py\n",
       "\n",
       "Refer to Eqn (5) in On an Extension of the Connexion Between Poisson and χ2 Distributions, N.L Johnson(1959) Vol 46, No 3/4, doi:10.2307/2333532 It relates the Skellam and Non-central chisquare PDFs, which is very similar to their CDFs computation as well.\n",
       "\n",
       "Computing cdf of the Skellam distribution.\n",
       "\n",
       "---\n",
       "\n",
       "```\n",
       "cdf(d, x)\n",
       "```\n",
       "\n",
       "Calculates the CDF of the distribution. To determine the CDF, the incomplete gamma function is required. The CDF  of the Gamma distribution provides this, with the necessary 1/Γ(a) normalization.\n"
      ],
      "text/plain": [
       "\u001b[36m  cdf(d::UnivariateDistribution, x::Real)\u001b[39m\n",
       "\n",
       "  Evaluate the cumulative probability at \u001b[36mx\u001b[39m.\n",
       "\n",
       "  See also \u001b[36mccdf\u001b[39m, \u001b[36mlogcdf\u001b[39m, and \u001b[36mlogccdf\u001b[39m.\n",
       "\n",
       "  ────────────────────────────────────────────────────────────────────────────\n",
       "\n",
       "\u001b[36m  cdf(d::Skellam, t::Real)\u001b[39m\n",
       "\n",
       "  Implementation based on SciPy:\n",
       "  https://github.com/scipy/scipy/blob/v0.15.1/scipy/stats/\u001b[4mdiscrete\u001b[24mdistns.py\n",
       "\n",
       "  Refer to Eqn (5) in On an Extension of the Connexion Between Poisson and χ2\n",
       "  Distributions, N.L Johnson(1959) Vol 46, No 3/4, doi:10.2307/2333532 It\n",
       "  relates the Skellam and Non-central chisquare PDFs, which is very similar to\n",
       "  their CDFs computation as well.\n",
       "\n",
       "  Computing cdf of the Skellam distribution.\n",
       "\n",
       "  ────────────────────────────────────────────────────────────────────────────\n",
       "\n",
       "\u001b[36m  cdf(d, x)\u001b[39m\n",
       "\n",
       "  Calculates the CDF of the distribution. To determine the CDF, the incomplete\n",
       "  gamma function is required. The CDF of the Gamma distribution provides this,\n",
       "  with the necessary 1/Γ(a) normalization."
      ]
     },
     "execution_count": 6,
     "metadata": {},
     "output_type": "execute_result"
    }
   ],
   "source": [
    "?(cdf)"
   ]
  },
  {
   "cell_type": "code",
   "execution_count": 9,
   "metadata": {},
   "outputs": [
    {
     "data": {
      "text/plain": [
       "0.3333333333333333"
      ]
     },
     "execution_count": 9,
     "metadata": {},
     "output_type": "execute_result"
    }
   ],
   "source": [
    "g = cdf(dist, 10)"
   ]
  },
  {
   "cell_type": "code",
   "execution_count": 66,
   "metadata": {},
   "outputs": [],
   "source": [
    "import Distributions: cdf"
   ]
  },
  {
   "cell_type": "code",
   "execution_count": 56,
   "metadata": {},
   "outputs": [
    {
     "data": {
      "text/plain": [
       "UniformDist (generic function with 1 method)"
      ]
     },
     "execution_count": 56,
     "metadata": {},
     "output_type": "execute_result"
    }
   ],
   "source": [
    "function UniformDist(array)\n",
    "    dist = Uniform(minimum(array), maximum(array))\n",
    "    cdf(x) = cdf(dist, x)\n",
    "    apply(xt) = pdf(dist, xt)\n",
    "\n",
    "    (var) ->(dist;cdf;apply)\n",
    "end"
   ]
  },
  {
   "cell_type": "code",
   "execution_count": 57,
   "metadata": {},
   "outputs": [
    {
     "data": {
      "text/plain": [
       "#55 (generic function with 1 method)"
      ]
     },
     "execution_count": 57,
     "metadata": {},
     "output_type": "execute_result"
    }
   ],
   "source": [
    "z = UniformDist([5,10,15])"
   ]
  },
  {
   "cell_type": "code",
   "execution_count": 60,
   "metadata": {},
   "outputs": [
    {
     "data": {
      "text/plain": [
       "4-element Array{Int64,1}:\n",
       "  5\n",
       " 10\n",
       " 15\n",
       " 20"
      ]
     },
     "execution_count": 60,
     "metadata": {},
     "output_type": "execute_result"
    }
   ],
   "source": [
    "array = [5,10,15,20]"
   ]
  },
  {
   "cell_type": "code",
   "execution_count": 61,
   "metadata": {},
   "outputs": [
    {
     "data": {
      "text/plain": [
       "Uniform{Float64}(a=5.0, b=20.0)"
      ]
     },
     "execution_count": 61,
     "metadata": {},
     "output_type": "execute_result"
    }
   ],
   "source": [
    "dist = Uniform(minimum(array), maximum(array))"
   ]
  },
  {
   "cell_type": "code",
   "execution_count": 65,
   "metadata": {},
   "outputs": [
    {
     "data": {
      "text/plain": [
       "4-element Array{Float64,1}:\n",
       " 0.0\n",
       " 0.3333333333333333\n",
       " 0.6666666666666666\n",
       " 1.0"
      ]
     },
     "execution_count": 65,
     "metadata": {},
     "output_type": "execute_result"
    }
   ],
   "source": [
    "import Distributions: cdf\n",
    "cdf(dist, x)"
   ]
  },
  {
   "cell_type": "code",
   "execution_count": 67,
   "metadata": {},
   "outputs": [
    {
     "ename": "LoadError",
     "evalue": "MethodError: objects of type Core.Box are not callable",
     "output_type": "error",
     "traceback": [
      "MethodError: objects of type Core.Box are not callable",
      "",
      "Stacktrace:",
      " [1] top-level scope at In[67]:1",
      " [2] include_string(::Function, ::Module, ::String, ::String) at ./loading.jl:1091",
      " [3] execute_code(::String, ::String) at /home/emmett/.julia/packages/IJulia/rWZ9e/src/execute_request.jl:27",
      " [4] execute_request(::ZMQ.Socket, ::IJulia.Msg) at /home/emmett/.julia/packages/IJulia/rWZ9e/src/execute_request.jl:86",
      " [5] #invokelatest#1 at ./essentials.jl:710 [inlined]",
      " [6] invokelatest at ./essentials.jl:709 [inlined]",
      " [7] eventloop(::ZMQ.Socket) at /home/emmett/.julia/packages/IJulia/rWZ9e/src/eventloop.jl:8",
      " [8] (::IJulia.var\"#15#18\")() at ./task.jl:356"
     ]
    }
   ],
   "source": [
    "z.cdf([5,10])"
   ]
  },
  {
   "cell_type": "code",
   "execution_count": 71,
   "metadata": {},
   "outputs": [
    {
     "data": {
      "text/plain": [
       "UniformDist (generic function with 1 method)"
      ]
     },
     "execution_count": 71,
     "metadata": {},
     "output_type": "execute_result"
    }
   ],
   "source": [
    "function UniformDist(array)\n",
    "    dist = Uniform(minimum(array), maximum(array))\n",
    "    cdf(x) = cdf(dist, x)\n",
    "    apply(xt) = pdf(dist, xt)\n",
    "    (var) ->(dist;cdf;apply)\n",
    "end"
   ]
  },
  {
   "cell_type": "code",
   "execution_count": 72,
   "metadata": {},
   "outputs": [
    {
     "data": {
      "text/plain": [
       "#63 (generic function with 1 method)"
      ]
     },
     "execution_count": 72,
     "metadata": {},
     "output_type": "execute_result"
    }
   ],
   "source": [
    "x = UniformDist([5,10,15])"
   ]
  },
  {
   "cell_type": "code",
   "execution_count": 74,
   "metadata": {},
   "outputs": [
    {
     "data": {
      "text/plain": [
       "3-element Array{Float64,1}:\n",
       " 0.1\n",
       " 0.5\n",
       " 1.0"
      ]
     },
     "execution_count": 74,
     "metadata": {},
     "output_type": "execute_result"
    }
   ],
   "source": [
    "x.ccccc([6,10,30])"
   ]
  },
  {
   "cell_type": "code",
   "execution_count": 11,
   "metadata": {},
   "outputs": [
    {
     "data": {
      "text/plain": [
       "NormalDist (generic function with 1 method)"
      ]
     },
     "execution_count": 11,
     "metadata": {},
     "output_type": "execute_result"
    }
   ],
   "source": [
    "function NormalDist(array)\n",
    "    σ = std(array)\n",
    "    μ = mean(array)\n",
    "    apply(xt) = [i = (i-μ) / σ for i in xt]\n",
    "    (var) ->(σ;μ;cdf;apply)\n",
    "end"
   ]
  },
  {
   "cell_type": "code",
   "execution_count": 34,
   "metadata": {},
   "outputs": [
    {
     "data": {
      "text/plain": [
       "_quant (generic function with 1 method)"
      ]
     },
     "execution_count": 34,
     "metadata": {},
     "output_type": "execute_result"
    }
   ],
   "source": [
    "function _quant(xt, dist)\n",
    " #   normal = dist.norm.apply(xt)\n",
    "    dist.cdf(xt)\n",
    "end"
   ]
  },
  {
   "cell_type": "code",
   "execution_count": 35,
   "metadata": {},
   "outputs": [
    {
     "data": {
      "text/plain": [
       "QuantileTransformer (generic function with 1 method)"
      ]
     },
     "execution_count": 35,
     "metadata": {},
     "output_type": "execute_result"
    }
   ],
   "source": [
    "function QuantileTransformer(array)\n",
    "    norm = NormalDist(array)\n",
    "    normalized = norm.apply(array)\n",
    "    dist = UniformDist(normalized)\n",
    "    predict(xt) = dist.cummulative(xt)\n",
    "    (var) -> (dist;predict;norm)\n",
    "end"
   ]
  },
  {
   "cell_type": "code",
   "execution_count": 36,
   "metadata": {},
   "outputs": [
    {
     "data": {
      "text/plain": [
       "#36 (generic function with 1 method)"
      ]
     },
     "execution_count": 36,
     "metadata": {},
     "output_type": "execute_result"
    }
   ],
   "source": [
    "d = QuantileTransformer([5,10,15])"
   ]
  },
  {
   "cell_type": "code",
   "execution_count": 37,
   "metadata": {},
   "outputs": [
    {
     "ename": "LoadError",
     "evalue": "MethodError: objects of type Core.Box are not callable",
     "output_type": "error",
     "traceback": [
      "MethodError: objects of type Core.Box are not callable",
      "",
      "Stacktrace:",
      " [1] _quant(::Array{Int64,1}, ::Function) at ./In[34]:3",
      " [2] (::var\"#predict#37\"{var\"#1#4\"{var\"#6#9\"{Float64,Float64,var\"#apply#7\"{Float64,Float64}},Uniform{Float64},var\"#apply#2\"{Uniform{Float64}}}})(::Array{Int64,1}) at ./In[35]:3",
      " [3] top-level scope at In[37]:1",
      " [4] include_string(::Function, ::Module, ::String, ::String) at ./loading.jl:1091",
      " [5] execute_code(::String, ::String) at /home/emmett/.julia/packages/IJulia/rWZ9e/src/execute_request.jl:27",
      " [6] execute_request(::ZMQ.Socket, ::IJulia.Msg) at /home/emmett/.julia/packages/IJulia/rWZ9e/src/execute_request.jl:86",
      " [7] #invokelatest#1 at ./essentials.jl:710 [inlined]",
      " [8] invokelatest at ./essentials.jl:709 [inlined]",
      " [9] eventloop(::ZMQ.Socket) at /home/emmett/.julia/packages/IJulia/rWZ9e/src/eventloop.jl:8",
      " [10] (::IJulia.var\"#15#18\")() at ./task.jl:356"
     ]
    }
   ],
   "source": [
    "d.predict([5,10,15])"
   ]
  },
  {
   "cell_type": "code",
   "execution_count": null,
   "metadata": {},
   "outputs": [],
   "source": []
  }
 ],
 "metadata": {
  "kernelspec": {
   "display_name": "Julia 1.5.2",
   "language": "julia",
   "name": "julia-1.5"
  },
  "language_info": {
   "file_extension": ".jl",
   "mimetype": "application/julia",
   "name": "julia",
   "version": "1.5.2"
  }
 },
 "nbformat": 4,
 "nbformat_minor": 2
}
