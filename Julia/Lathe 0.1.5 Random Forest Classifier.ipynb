{
 "cells": [
  {
   "cell_type": "markdown",
   "metadata": {},
   "source": [
    "# Introduction\n",
    "Within the past few years of very rapid development in data science technology, we have seen the dramatic escalation and adoption of a multitude of open-source tools. Among these are well-known tools like SkLearn and Tensorflow. With the recent early adoption of Julia, however, there are oppurtunities to dramatically improve our strategic approaches to solving machine-learning problems. The problem that effects the Julia language most is easily the lack of mature packages for various science or data related operations. While this has been a long road that is certainly still being traveled, I think it is work taking a look at what Julia has to offer in its current state that hadn't been there before. One recent addition I have been excited about is the addition of a Random Forest Classifier to Lathe. Using Lathe, DataFrames, and CSV, we can now easily explore, encode, and predict with various features!"
   ]
  },
  {
   "cell_type": "code",
   "execution_count": 1,
   "metadata": {},
   "outputs": [],
   "source": [
    "using DataFrames, PrettyTables\n",
    "using CSV"
   ]
  },
  {
   "cell_type": "code",
   "execution_count": 2,
   "metadata": {},
   "outputs": [
    {
     "data": {
      "text/html": [
       "<table class=\"data-frame\"><thead><tr><th></th><th>Car_Name</th><th>Year</th><th>Selling_Price</th><th>Present_Price</th><th>Kms_Driven</th><th>Fuel_Type</th><th>Seller_Type</th></tr><tr><th></th><th>String</th><th>Int64</th><th>Float64</th><th>Float64</th><th>Int64</th><th>String</th><th>String</th></tr></thead><tbody><p>301 rows × 9 columns (omitted printing of 2 columns)</p><tr><th>1</th><td>ritz</td><td>2014</td><td>3.35</td><td>5.59</td><td>27000</td><td>Petrol</td><td>Dealer</td></tr><tr><th>2</th><td>sx4</td><td>2013</td><td>4.75</td><td>9.54</td><td>43000</td><td>Diesel</td><td>Dealer</td></tr><tr><th>3</th><td>ciaz</td><td>2017</td><td>7.25</td><td>9.85</td><td>6900</td><td>Petrol</td><td>Dealer</td></tr><tr><th>4</th><td>wagon r</td><td>2011</td><td>2.85</td><td>4.15</td><td>5200</td><td>Petrol</td><td>Dealer</td></tr><tr><th>5</th><td>swift</td><td>2014</td><td>4.6</td><td>6.87</td><td>42450</td><td>Diesel</td><td>Dealer</td></tr><tr><th>6</th><td>vitara brezza</td><td>2018</td><td>9.25</td><td>9.83</td><td>2071</td><td>Diesel</td><td>Dealer</td></tr><tr><th>7</th><td>ciaz</td><td>2015</td><td>6.75</td><td>8.12</td><td>18796</td><td>Petrol</td><td>Dealer</td></tr><tr><th>8</th><td>s cross</td><td>2015</td><td>6.5</td><td>8.61</td><td>33429</td><td>Diesel</td><td>Dealer</td></tr><tr><th>9</th><td>ciaz</td><td>2016</td><td>8.75</td><td>8.89</td><td>20273</td><td>Diesel</td><td>Dealer</td></tr><tr><th>10</th><td>ciaz</td><td>2015</td><td>7.45</td><td>8.92</td><td>42367</td><td>Diesel</td><td>Dealer</td></tr><tr><th>11</th><td>alto 800</td><td>2017</td><td>2.85</td><td>3.6</td><td>2135</td><td>Petrol</td><td>Dealer</td></tr><tr><th>12</th><td>ciaz</td><td>2015</td><td>6.85</td><td>10.38</td><td>51000</td><td>Diesel</td><td>Dealer</td></tr><tr><th>13</th><td>ciaz</td><td>2015</td><td>7.5</td><td>9.94</td><td>15000</td><td>Petrol</td><td>Dealer</td></tr><tr><th>14</th><td>ertiga</td><td>2015</td><td>6.1</td><td>7.71</td><td>26000</td><td>Petrol</td><td>Dealer</td></tr><tr><th>15</th><td>dzire</td><td>2009</td><td>2.25</td><td>7.21</td><td>77427</td><td>Petrol</td><td>Dealer</td></tr><tr><th>16</th><td>ertiga</td><td>2016</td><td>7.75</td><td>10.79</td><td>43000</td><td>Diesel</td><td>Dealer</td></tr><tr><th>17</th><td>ertiga</td><td>2015</td><td>7.25</td><td>10.79</td><td>41678</td><td>Diesel</td><td>Dealer</td></tr><tr><th>18</th><td>ertiga</td><td>2016</td><td>7.75</td><td>10.79</td><td>43000</td><td>Diesel</td><td>Dealer</td></tr><tr><th>19</th><td>wagon r</td><td>2015</td><td>3.25</td><td>5.09</td><td>35500</td><td>CNG</td><td>Dealer</td></tr><tr><th>20</th><td>sx4</td><td>2010</td><td>2.65</td><td>7.98</td><td>41442</td><td>Petrol</td><td>Dealer</td></tr><tr><th>21</th><td>alto k10</td><td>2016</td><td>2.85</td><td>3.95</td><td>25000</td><td>Petrol</td><td>Dealer</td></tr><tr><th>22</th><td>ignis</td><td>2017</td><td>4.9</td><td>5.71</td><td>2400</td><td>Petrol</td><td>Dealer</td></tr><tr><th>23</th><td>sx4</td><td>2011</td><td>4.4</td><td>8.01</td><td>50000</td><td>Petrol</td><td>Dealer</td></tr><tr><th>24</th><td>alto k10</td><td>2014</td><td>2.5</td><td>3.46</td><td>45280</td><td>Petrol</td><td>Dealer</td></tr><tr><th>25</th><td>wagon r</td><td>2013</td><td>2.9</td><td>4.41</td><td>56879</td><td>Petrol</td><td>Dealer</td></tr><tr><th>26</th><td>swift</td><td>2011</td><td>3.0</td><td>4.99</td><td>20000</td><td>Petrol</td><td>Dealer</td></tr><tr><th>27</th><td>swift</td><td>2013</td><td>4.15</td><td>5.87</td><td>55138</td><td>Petrol</td><td>Dealer</td></tr><tr><th>28</th><td>swift</td><td>2017</td><td>6.0</td><td>6.49</td><td>16200</td><td>Petrol</td><td>Individual</td></tr><tr><th>29</th><td>alto k10</td><td>2010</td><td>1.95</td><td>3.95</td><td>44542</td><td>Petrol</td><td>Dealer</td></tr><tr><th>30</th><td>ciaz</td><td>2015</td><td>7.45</td><td>10.38</td><td>45000</td><td>Diesel</td><td>Dealer</td></tr><tr><th>&vellip;</th><td>&vellip;</td><td>&vellip;</td><td>&vellip;</td><td>&vellip;</td><td>&vellip;</td><td>&vellip;</td><td>&vellip;</td></tr></tbody></table>"
      ],
      "text/latex": [
       "\\begin{tabular}{r|cccccccc}\n",
       "\t& Car\\_Name & Year & Selling\\_Price & Present\\_Price & Kms\\_Driven & Fuel\\_Type & Seller\\_Type & \\\\\n",
       "\t\\hline\n",
       "\t& String & Int64 & Float64 & Float64 & Int64 & String & String & \\\\\n",
       "\t\\hline\n",
       "\t1 & ritz & 2014 & 3.35 & 5.59 & 27000 & Petrol & Dealer & $\\dots$ \\\\\n",
       "\t2 & sx4 & 2013 & 4.75 & 9.54 & 43000 & Diesel & Dealer & $\\dots$ \\\\\n",
       "\t3 & ciaz & 2017 & 7.25 & 9.85 & 6900 & Petrol & Dealer & $\\dots$ \\\\\n",
       "\t4 & wagon r & 2011 & 2.85 & 4.15 & 5200 & Petrol & Dealer & $\\dots$ \\\\\n",
       "\t5 & swift & 2014 & 4.6 & 6.87 & 42450 & Diesel & Dealer & $\\dots$ \\\\\n",
       "\t6 & vitara brezza & 2018 & 9.25 & 9.83 & 2071 & Diesel & Dealer & $\\dots$ \\\\\n",
       "\t7 & ciaz & 2015 & 6.75 & 8.12 & 18796 & Petrol & Dealer & $\\dots$ \\\\\n",
       "\t8 & s cross & 2015 & 6.5 & 8.61 & 33429 & Diesel & Dealer & $\\dots$ \\\\\n",
       "\t9 & ciaz & 2016 & 8.75 & 8.89 & 20273 & Diesel & Dealer & $\\dots$ \\\\\n",
       "\t10 & ciaz & 2015 & 7.45 & 8.92 & 42367 & Diesel & Dealer & $\\dots$ \\\\\n",
       "\t11 & alto 800 & 2017 & 2.85 & 3.6 & 2135 & Petrol & Dealer & $\\dots$ \\\\\n",
       "\t12 & ciaz & 2015 & 6.85 & 10.38 & 51000 & Diesel & Dealer & $\\dots$ \\\\\n",
       "\t13 & ciaz & 2015 & 7.5 & 9.94 & 15000 & Petrol & Dealer & $\\dots$ \\\\\n",
       "\t14 & ertiga & 2015 & 6.1 & 7.71 & 26000 & Petrol & Dealer & $\\dots$ \\\\\n",
       "\t15 & dzire & 2009 & 2.25 & 7.21 & 77427 & Petrol & Dealer & $\\dots$ \\\\\n",
       "\t16 & ertiga & 2016 & 7.75 & 10.79 & 43000 & Diesel & Dealer & $\\dots$ \\\\\n",
       "\t17 & ertiga & 2015 & 7.25 & 10.79 & 41678 & Diesel & Dealer & $\\dots$ \\\\\n",
       "\t18 & ertiga & 2016 & 7.75 & 10.79 & 43000 & Diesel & Dealer & $\\dots$ \\\\\n",
       "\t19 & wagon r & 2015 & 3.25 & 5.09 & 35500 & CNG & Dealer & $\\dots$ \\\\\n",
       "\t20 & sx4 & 2010 & 2.65 & 7.98 & 41442 & Petrol & Dealer & $\\dots$ \\\\\n",
       "\t21 & alto k10 & 2016 & 2.85 & 3.95 & 25000 & Petrol & Dealer & $\\dots$ \\\\\n",
       "\t22 & ignis & 2017 & 4.9 & 5.71 & 2400 & Petrol & Dealer & $\\dots$ \\\\\n",
       "\t23 & sx4 & 2011 & 4.4 & 8.01 & 50000 & Petrol & Dealer & $\\dots$ \\\\\n",
       "\t24 & alto k10 & 2014 & 2.5 & 3.46 & 45280 & Petrol & Dealer & $\\dots$ \\\\\n",
       "\t25 & wagon r & 2013 & 2.9 & 4.41 & 56879 & Petrol & Dealer & $\\dots$ \\\\\n",
       "\t26 & swift & 2011 & 3.0 & 4.99 & 20000 & Petrol & Dealer & $\\dots$ \\\\\n",
       "\t27 & swift & 2013 & 4.15 & 5.87 & 55138 & Petrol & Dealer & $\\dots$ \\\\\n",
       "\t28 & swift & 2017 & 6.0 & 6.49 & 16200 & Petrol & Individual & $\\dots$ \\\\\n",
       "\t29 & alto k10 & 2010 & 1.95 & 3.95 & 44542 & Petrol & Dealer & $\\dots$ \\\\\n",
       "\t30 & ciaz & 2015 & 7.45 & 10.38 & 45000 & Diesel & Dealer & $\\dots$ \\\\\n",
       "\t$\\dots$ & $\\dots$ & $\\dots$ & $\\dots$ & $\\dots$ & $\\dots$ & $\\dots$ & $\\dots$ &  \\\\\n",
       "\\end{tabular}\n"
      ],
      "text/plain": [
       "\u001b[1m301×9 DataFrame\u001b[0m\n",
       "\u001b[1m Row \u001b[0m│\u001b[1m Car_Name      \u001b[0m\u001b[1m Year  \u001b[0m\u001b[1m Selling_Price \u001b[0m\u001b[1m Present_Price \u001b[0m\u001b[1m Kms_Driven \u001b[0m\u001b[1m Fuel_Ty\u001b[0m ⋯\n",
       "\u001b[1m     \u001b[0m│\u001b[90m String        \u001b[0m\u001b[90m Int64 \u001b[0m\u001b[90m Float64       \u001b[0m\u001b[90m Float64       \u001b[0m\u001b[90m Int64      \u001b[0m\u001b[90m String \u001b[0m ⋯\n",
       "─────┼──────────────────────────────────────────────────────────────────────────\n",
       "   1 │ ritz            2014           3.35           5.59       27000  Petrol  ⋯\n",
       "   2 │ sx4             2013           4.75           9.54       43000  Diesel\n",
       "   3 │ ciaz            2017           7.25           9.85        6900  Petrol\n",
       "   4 │ wagon r         2011           2.85           4.15        5200  Petrol\n",
       "   5 │ swift           2014           4.6            6.87       42450  Diesel  ⋯\n",
       "   6 │ vitara brezza   2018           9.25           9.83        2071  Diesel\n",
       "   7 │ ciaz            2015           6.75           8.12       18796  Petrol\n",
       "   8 │ s cross         2015           6.5            8.61       33429  Diesel\n",
       "   9 │ ciaz            2016           8.75           8.89       20273  Diesel  ⋯\n",
       "  10 │ ciaz            2015           7.45           8.92       42367  Diesel\n",
       "  11 │ alto 800        2017           2.85           3.6         2135  Petrol\n",
       "  ⋮  │       ⋮          ⋮          ⋮              ⋮            ⋮           ⋮   ⋱\n",
       " 292 │ brio            2015           5.4            6.1        31427  Petrol\n",
       " 293 │ jazz            2016           6.4            8.4        12000  Petrol  ⋯\n",
       " 294 │ city            2010           3.25           9.9        38000  Petrol\n",
       " 295 │ amaze           2014           3.75           6.8        33019  Petrol\n",
       " 296 │ city            2015           8.55          13.09       60076  Diesel\n",
       " 297 │ city            2016           9.5           11.6        33988  Diesel  ⋯\n",
       " 298 │ brio            2015           4.0            5.9        60000  Petrol\n",
       " 299 │ city            2009           3.35          11.0        87934  Petrol\n",
       " 300 │ city            2017          11.5           12.5         9000  Diesel\n",
       " 301 │ brio            2016           5.3            5.9         5464  Petrol  ⋯\n",
       "\u001b[31m                                                  4 columns and 280 rows omitted\u001b[0m"
      ]
     },
     "execution_count": 2,
     "metadata": {},
     "output_type": "execute_result"
    }
   ],
   "source": [
    "using DataFrames; df = CSV.read(\"car data.csv\", DataFrame)"
   ]
  },
  {
   "cell_type": "code",
   "execution_count": 3,
   "metadata": {},
   "outputs": [
    {
     "name": "stdout",
     "output_type": "stream",
     "text": [
      "\u001b[1m301×9 DataFrame\u001b[0m\n",
      "\u001b[1m Row \u001b[0m│\u001b[1m Car_Name      \u001b[0m\u001b[1m Year  \u001b[0m\u001b[1m Selling_Price \u001b[0m\u001b[1m Present_Price \u001b[0m\u001b[1m Kms_Driven \u001b[0m\u001b[1m Fuel_Type \u001b[0m\u001b[1m Seller_Type \u001b[0m\u001b[1m Transmission \u001b[0m\u001b[1m Owner \u001b[0m\n",
      "\u001b[1m     \u001b[0m│\u001b[90m String        \u001b[0m\u001b[90m Int64 \u001b[0m\u001b[90m Float64       \u001b[0m\u001b[90m Float64       \u001b[0m\u001b[90m Int64      \u001b[0m\u001b[90m String    \u001b[0m\u001b[90m String      \u001b[0m\u001b[90m String       \u001b[0m\u001b[90m Int64 \u001b[0m\n",
      "─────┼─────────────────────────────────────────────────────────────────────────────────────────────────────────────\n",
      "   1 │ ritz            2014           3.35           5.59       27000  Petrol     Dealer       Manual            0\n",
      "   2 │ sx4             2013           4.75           9.54       43000  Diesel     Dealer       Manual            0\n",
      "   3 │ ciaz            2017           7.25           9.85        6900  Petrol     Dealer       Manual            0\n",
      "   4 │ wagon r         2011           2.85           4.15        5200  Petrol     Dealer       Manual            0\n",
      "   5 │ swift           2014           4.6            6.87       42450  Diesel     Dealer       Manual            0\n",
      "   6 │ vitara brezza   2018           9.25           9.83        2071  Diesel     Dealer       Manual            0\n",
      "   7 │ ciaz            2015           6.75           8.12       18796  Petrol     Dealer       Manual            0\n",
      "   8 │ s cross         2015           6.5            8.61       33429  Diesel     Dealer       Manual            0\n",
      "   9 │ ciaz            2016           8.75           8.89       20273  Diesel     Dealer       Manual            0\n",
      "  10 │ ciaz            2015           7.45           8.92       42367  Diesel     Dealer       Manual            0\n",
      "  11 │ alto 800        2017           2.85           3.6         2135  Petrol     Dealer       Manual            0\n",
      "  ⋮  │       ⋮          ⋮          ⋮              ⋮            ⋮           ⋮           ⋮            ⋮          ⋮\n",
      " 291 │ amaze           2014           4.5            6.4        19000  Petrol     Dealer       Manual            0\n",
      " 292 │ brio            2015           5.4            6.1        31427  Petrol     Dealer       Manual            0\n",
      " 293 │ jazz            2016           6.4            8.4        12000  Petrol     Dealer       Manual            0\n",
      " 294 │ city            2010           3.25           9.9        38000  Petrol     Dealer       Manual            0\n",
      " 295 │ amaze           2014           3.75           6.8        33019  Petrol     Dealer       Manual            0\n",
      " 296 │ city            2015           8.55          13.09       60076  Diesel     Dealer       Manual            0\n",
      " 297 │ city            2016           9.5           11.6        33988  Diesel     Dealer       Manual            0\n",
      " 298 │ brio            2015           4.0            5.9        60000  Petrol     Dealer       Manual            0\n",
      " 299 │ city            2009           3.35          11.0        87934  Petrol     Dealer       Manual            0\n",
      " 300 │ city            2017          11.5           12.5         9000  Diesel     Dealer       Manual            0\n",
      " 301 │ brio            2016           5.3            5.9         5464  Petrol     Dealer       Manual            0\n",
      "\u001b[31m                                                                                                   279 rows omitted\u001b[0m"
     ]
    }
   ],
   "source": [
    "show(df, allcols = true)"
   ]
  },
  {
   "cell_type": "code",
   "execution_count": 4,
   "metadata": {},
   "outputs": [
    {
     "data": {
      "text/plain": [
       "Set{String} with 2 elements:\n",
       "  \"Manual\"\n",
       "  \"Automatic\""
      ]
     },
     "execution_count": 4,
     "metadata": {},
     "output_type": "execute_result"
    }
   ],
   "source": [
    "Set(df[!, :Transmission])"
   ]
  },
  {
   "cell_type": "code",
   "execution_count": 5,
   "metadata": {},
   "outputs": [
    {
     "data": {
      "text/plain": [
       "Set{String} with 3 elements:\n",
       "  \"Diesel\"\n",
       "  \"CNG\"\n",
       "  \"Petrol\""
      ]
     },
     "execution_count": 5,
     "metadata": {},
     "output_type": "execute_result"
    }
   ],
   "source": [
    "Set(df[!, :Fuel_Type])"
   ]
  },
  {
   "cell_type": "code",
   "execution_count": 6,
   "metadata": {},
   "outputs": [
    {
     "data": {
      "text/plain": [
       "Set{String} with 2 elements:\n",
       "  \"Dealer\"\n",
       "  \"Individual\""
      ]
     },
     "execution_count": 6,
     "metadata": {},
     "output_type": "execute_result"
    }
   ],
   "source": [
    "Set(df[!, :Seller_Type])"
   ]
  },
  {
   "cell_type": "code",
   "execution_count": 7,
   "metadata": {},
   "outputs": [
    {
     "data": {
      "text/html": [
       "<table class=\"data-frame\"><thead><tr><th></th><th>Fuel</th><th>Kms</th></tr><tr><th></th><th>String</th><th>Int64</th></tr></thead><tbody><p>301 rows × 2 columns</p><tr><th>1</th><td>Petrol</td><td>27000</td></tr><tr><th>2</th><td>Diesel</td><td>43000</td></tr><tr><th>3</th><td>Petrol</td><td>6900</td></tr><tr><th>4</th><td>Petrol</td><td>5200</td></tr><tr><th>5</th><td>Diesel</td><td>42450</td></tr><tr><th>6</th><td>Diesel</td><td>2071</td></tr><tr><th>7</th><td>Petrol</td><td>18796</td></tr><tr><th>8</th><td>Diesel</td><td>33429</td></tr><tr><th>9</th><td>Diesel</td><td>20273</td></tr><tr><th>10</th><td>Diesel</td><td>42367</td></tr><tr><th>11</th><td>Petrol</td><td>2135</td></tr><tr><th>12</th><td>Diesel</td><td>51000</td></tr><tr><th>13</th><td>Petrol</td><td>15000</td></tr><tr><th>14</th><td>Petrol</td><td>26000</td></tr><tr><th>15</th><td>Petrol</td><td>77427</td></tr><tr><th>16</th><td>Diesel</td><td>43000</td></tr><tr><th>17</th><td>Diesel</td><td>41678</td></tr><tr><th>18</th><td>Diesel</td><td>43000</td></tr><tr><th>19</th><td>CNG</td><td>35500</td></tr><tr><th>20</th><td>Petrol</td><td>41442</td></tr><tr><th>21</th><td>Petrol</td><td>25000</td></tr><tr><th>22</th><td>Petrol</td><td>2400</td></tr><tr><th>23</th><td>Petrol</td><td>50000</td></tr><tr><th>24</th><td>Petrol</td><td>45280</td></tr><tr><th>25</th><td>Petrol</td><td>56879</td></tr><tr><th>26</th><td>Petrol</td><td>20000</td></tr><tr><th>27</th><td>Petrol</td><td>55138</td></tr><tr><th>28</th><td>Petrol</td><td>16200</td></tr><tr><th>29</th><td>Petrol</td><td>44542</td></tr><tr><th>30</th><td>Diesel</td><td>45000</td></tr><tr><th>&vellip;</th><td>&vellip;</td><td>&vellip;</td></tr></tbody></table>"
      ],
      "text/latex": [
       "\\begin{tabular}{r|cc}\n",
       "\t& Fuel & Kms\\\\\n",
       "\t\\hline\n",
       "\t& String & Int64\\\\\n",
       "\t\\hline\n",
       "\t1 & Petrol & 27000 \\\\\n",
       "\t2 & Diesel & 43000 \\\\\n",
       "\t3 & Petrol & 6900 \\\\\n",
       "\t4 & Petrol & 5200 \\\\\n",
       "\t5 & Diesel & 42450 \\\\\n",
       "\t6 & Diesel & 2071 \\\\\n",
       "\t7 & Petrol & 18796 \\\\\n",
       "\t8 & Diesel & 33429 \\\\\n",
       "\t9 & Diesel & 20273 \\\\\n",
       "\t10 & Diesel & 42367 \\\\\n",
       "\t11 & Petrol & 2135 \\\\\n",
       "\t12 & Diesel & 51000 \\\\\n",
       "\t13 & Petrol & 15000 \\\\\n",
       "\t14 & Petrol & 26000 \\\\\n",
       "\t15 & Petrol & 77427 \\\\\n",
       "\t16 & Diesel & 43000 \\\\\n",
       "\t17 & Diesel & 41678 \\\\\n",
       "\t18 & Diesel & 43000 \\\\\n",
       "\t19 & CNG & 35500 \\\\\n",
       "\t20 & Petrol & 41442 \\\\\n",
       "\t21 & Petrol & 25000 \\\\\n",
       "\t22 & Petrol & 2400 \\\\\n",
       "\t23 & Petrol & 50000 \\\\\n",
       "\t24 & Petrol & 45280 \\\\\n",
       "\t25 & Petrol & 56879 \\\\\n",
       "\t26 & Petrol & 20000 \\\\\n",
       "\t27 & Petrol & 55138 \\\\\n",
       "\t28 & Petrol & 16200 \\\\\n",
       "\t29 & Petrol & 44542 \\\\\n",
       "\t30 & Diesel & 45000 \\\\\n",
       "\t$\\dots$ & $\\dots$ & $\\dots$ \\\\\n",
       "\\end{tabular}\n"
      ],
      "text/plain": [
       "\u001b[1m301×2 DataFrame\u001b[0m\n",
       "\u001b[1m Row \u001b[0m│\u001b[1m Fuel   \u001b[0m\u001b[1m Kms   \u001b[0m\n",
       "\u001b[1m     \u001b[0m│\u001b[90m String \u001b[0m\u001b[90m Int64 \u001b[0m\n",
       "─────┼───────────────\n",
       "   1 │ Petrol  27000\n",
       "   2 │ Diesel  43000\n",
       "   3 │ Petrol   6900\n",
       "   4 │ Petrol   5200\n",
       "   5 │ Diesel  42450\n",
       "   6 │ Diesel   2071\n",
       "   7 │ Petrol  18796\n",
       "   8 │ Diesel  33429\n",
       "   9 │ Diesel  20273\n",
       "  10 │ Diesel  42367\n",
       "  11 │ Petrol   2135\n",
       "  ⋮  │   ⋮       ⋮\n",
       " 292 │ Petrol  31427\n",
       " 293 │ Petrol  12000\n",
       " 294 │ Petrol  38000\n",
       " 295 │ Petrol  33019\n",
       " 296 │ Diesel  60076\n",
       " 297 │ Diesel  33988\n",
       " 298 │ Petrol  60000\n",
       " 299 │ Petrol  87934\n",
       " 300 │ Diesel   9000\n",
       " 301 │ Petrol   5464\n",
       "\u001b[31m     280 rows omitted\u001b[0m"
      ]
     },
     "execution_count": 7,
     "metadata": {},
     "output_type": "execute_result"
    }
   ],
   "source": [
    "mldf = DataFrame(:Fuel => df[!, :Fuel_Type], :Kms => df[!, :Kms_Driven])"
   ]
  },
  {
   "cell_type": "code",
   "execution_count": 8,
   "metadata": {},
   "outputs": [
    {
     "data": {
      "text/plain": [
       "(\u001b[1m225×2 DataFrame\u001b[0m\n",
       "\u001b[1m Row \u001b[0m│\u001b[1m Fuel   \u001b[0m\u001b[1m Kms   \u001b[0m\n",
       "\u001b[1m     \u001b[0m│\u001b[90m String \u001b[0m\u001b[90m Int64 \u001b[0m\n",
       "─────┼───────────────\n",
       "   1 │ Petrol  27000\n",
       "   2 │ Diesel  43000\n",
       "   3 │ Petrol   6900\n",
       "   4 │ Petrol   5200\n",
       "   5 │ Diesel  42450\n",
       "   6 │ Diesel   2071\n",
       "   7 │ Diesel  33429\n",
       "   8 │ Diesel  20273\n",
       "   9 │ Petrol   2135\n",
       "  10 │ Petrol  15000\n",
       "  11 │ Petrol  26000\n",
       "  ⋮  │   ⋮       ⋮\n",
       " 216 │ Petrol  19000\n",
       " 217 │ Petrol  31427\n",
       " 218 │ Petrol  38000\n",
       " 219 │ Petrol  33019\n",
       " 220 │ Diesel  60076\n",
       " 221 │ Diesel  33988\n",
       " 222 │ Petrol  60000\n",
       " 223 │ Petrol  87934\n",
       " 224 │ Diesel   9000\n",
       " 225 │ Petrol   5464\n",
       "\u001b[31m     204 rows omitted\u001b[0m, \u001b[1m76×2 DataFrame\u001b[0m\n",
       "\u001b[1m Row \u001b[0m│\u001b[1m Fuel   \u001b[0m\u001b[1m Kms   \u001b[0m\n",
       "\u001b[1m     \u001b[0m│\u001b[90m String \u001b[0m\u001b[90m Int64 \u001b[0m\n",
       "─────┼───────────────\n",
       "   1 │ Petrol  18796\n",
       "   2 │ Diesel  42367\n",
       "   3 │ Diesel  51000\n",
       "   4 │ Petrol   2400\n",
       "   5 │ Petrol  50000\n",
       "   6 │ Petrol  45280\n",
       "   7 │ Petrol  56879\n",
       "   8 │ Petrol  20000\n",
       "   9 │ Petrol  44542\n",
       "  10 │ Diesel  45000\n",
       "  11 │ Diesel  45000\n",
       "  ⋮  │   ⋮       ⋮\n",
       "  67 │ Petrol  31427\n",
       "  68 │ Diesel  48000\n",
       "  69 │ Petrol  49562\n",
       "  70 │ Petrol   5600\n",
       "  71 │ Petrol  61203\n",
       "  72 │ Petrol  30753\n",
       "  73 │ Petrol  21780\n",
       "  74 │ Petrol   4000\n",
       "  75 │ Petrol   9010\n",
       "  76 │ Petrol  12000\n",
       "\u001b[31m      55 rows omitted\u001b[0m)"
      ]
     },
     "execution_count": 8,
     "metadata": {},
     "output_type": "execute_result"
    }
   ],
   "source": [
    "using Lathe.preprocess: TrainTestSplit\n",
    "train, test = TrainTestSplit(mldf)"
   ]
  },
  {
   "cell_type": "code",
   "execution_count": 9,
   "metadata": {},
   "outputs": [
    {
     "data": {
      "text/plain": [
       ":Fuel"
      ]
     },
     "execution_count": 9,
     "metadata": {},
     "output_type": "execute_result"
    }
   ],
   "source": [
    "X = :Kms\n",
    "Y = :Fuel"
   ]
  },
  {
   "cell_type": "code",
   "execution_count": 10,
   "metadata": {},
   "outputs": [
    {
     "data": {
      "text/plain": [
       "76-element PooledArrays.PooledArray{String,UInt32,1,Array{UInt32,1}}:\n",
       " \"Petrol\"\n",
       " \"Diesel\"\n",
       " \"Diesel\"\n",
       " \"Petrol\"\n",
       " \"Petrol\"\n",
       " \"Petrol\"\n",
       " \"Petrol\"\n",
       " \"Petrol\"\n",
       " \"Petrol\"\n",
       " \"Diesel\"\n",
       " \"Diesel\"\n",
       " \"Petrol\"\n",
       " \"Petrol\"\n",
       " ⋮\n",
       " \"Diesel\"\n",
       " \"Diesel\"\n",
       " \"Petrol\"\n",
       " \"Diesel\"\n",
       " \"Petrol\"\n",
       " \"Petrol\"\n",
       " \"Petrol\"\n",
       " \"Petrol\"\n",
       " \"Petrol\"\n",
       " \"Petrol\"\n",
       " \"Petrol\"\n",
       " \"Petrol\""
      ]
     },
     "execution_count": 10,
     "metadata": {},
     "output_type": "execute_result"
    }
   ],
   "source": [
    "trainX = train[!, X]\n",
    "trainy = train[!, Y]\n",
    "testX = test[!, X]\n",
    "testy = test[!, Y]"
   ]
  },
  {
   "cell_type": "code",
   "execution_count": 11,
   "metadata": {},
   "outputs": [],
   "source": [
    "using Lathe.models: majClassBaseline"
   ]
  },
  {
   "cell_type": "code",
   "execution_count": 12,
   "metadata": {},
   "outputs": [
    {
     "name": "stdout",
     "output_type": "stream",
     "text": [
      "search:\n",
      "\n"
     ]
    },
    {
     "data": {
      "text/latex": [
       "Majority class baseline is used to find the most often interpreted  classification in an array.\n",
       "\n",
       "\\rule{\\textwidth}{1pt}\n",
       "==PARAMETERS==\n",
       "\n",
       "[y] <- Fill with your trainY values. Should be an array of shape (0,1) or (1,0)\n",
       "\n",
       "\\rule{\\textwidth}{1pt}\n",
       "==Functions==\n",
       "\n",
       "predict(xt) <- Returns a prediction from the model based on the xtrain value passed (xt)\n",
       "\n",
       "counts() <- Returns a dictionary with the counts of all inserted keys.\n",
       "\n",
       "highest() <- Will return a Dictionary key with the count as well as the value for the most interpreted classification.\n",
       "\n"
      ],
      "text/markdown": [
       "Majority class baseline is used to find the most often interpreted  classification in an array.\n",
       "\n",
       "---\n",
       "\n",
       "==PARAMETERS==\n",
       "\n",
       "[y] <- Fill with your trainY values. Should be an array of shape (0,1) or (1,0)\n",
       "\n",
       "---\n",
       "\n",
       "==Functions==\n",
       "\n",
       "predict(xt) <- Returns a prediction from the model based on the xtrain value passed (xt)\n",
       "\n",
       "counts() <- Returns a dictionary with the counts of all inserted keys.\n",
       "\n",
       "highest() <- Will return a Dictionary key with the count as well as the value for the most interpreted classification.\n"
      ],
      "text/plain": [
       "  Majority class baseline is used to find the most often interpreted\n",
       "  classification in an array.\n",
       "\n",
       "  ────────────────────────────────────────────────────────────────────────────\n",
       "\n",
       "  ==PARAMETERS==\n",
       "\n",
       "  [y] <- Fill with your trainY values. Should be an array of shape (0,1) or\n",
       "  (1,0)\n",
       "\n",
       "  ────────────────────────────────────────────────────────────────────────────\n",
       "\n",
       "  ==Functions==\n",
       "\n",
       "  predict(xt) <- Returns a prediction from the model based on the xtrain value\n",
       "  passed (xt)\n",
       "\n",
       "  counts() <- Returns a dictionary with the counts of all inserted keys.\n",
       "\n",
       "  highest() <- Will return a Dictionary key with the count as well as the\n",
       "  value for the most interpreted classification."
      ]
     },
     "execution_count": 12,
     "metadata": {},
     "output_type": "execute_result"
    }
   ],
   "source": [
    "?(majClassBaseline)"
   ]
  },
  {
   "cell_type": "code",
   "execution_count": 13,
   "metadata": {},
   "outputs": [
    {
     "data": {
      "text/plain": [
       "#37 (generic function with 1 method)"
      ]
     },
     "execution_count": 13,
     "metadata": {},
     "output_type": "execute_result"
    }
   ],
   "source": [
    "evaluation = majClassBaseline(trainy)"
   ]
  },
  {
   "cell_type": "code",
   "execution_count": 14,
   "metadata": {},
   "outputs": [
    {
     "data": {
      "text/plain": [
       "76-element Array{String,1}:\n",
       " \"Petrol\"\n",
       " \"Petrol\"\n",
       " \"Petrol\"\n",
       " \"Petrol\"\n",
       " \"Petrol\"\n",
       " \"Petrol\"\n",
       " \"Petrol\"\n",
       " \"Petrol\"\n",
       " \"Petrol\"\n",
       " \"Petrol\"\n",
       " \"Petrol\"\n",
       " \"Petrol\"\n",
       " \"Petrol\"\n",
       " ⋮\n",
       " \"Petrol\"\n",
       " \"Petrol\"\n",
       " \"Petrol\"\n",
       " \"Petrol\"\n",
       " \"Petrol\"\n",
       " \"Petrol\"\n",
       " \"Petrol\"\n",
       " \"Petrol\"\n",
       " \"Petrol\"\n",
       " \"Petrol\"\n",
       " \"Petrol\"\n",
       " \"Petrol\""
      ]
     },
     "execution_count": 14,
     "metadata": {},
     "output_type": "execute_result"
    }
   ],
   "source": [
    "yhat = evaluation.predict(testX)"
   ]
  },
  {
   "cell_type": "code",
   "execution_count": 15,
   "metadata": {},
   "outputs": [],
   "source": [
    "using Lathe.lstats: catacc"
   ]
  },
  {
   "cell_type": "code",
   "execution_count": 16,
   "metadata": {},
   "outputs": [
    {
     "name": "stdout",
     "output_type": "stream",
     "text": [
      "search: \u001b[0m\u001b[1mc\u001b[22m\u001b[0m\u001b[1ma\u001b[22m\u001b[0m\u001b[1mt\u001b[22mch_b\u001b[0m\u001b[1ma\u001b[22m\u001b[0m\u001b[1mc\u001b[22mktra\u001b[0m\u001b[1mc\u001b[22me \u001b[0m\u001b[1mC\u001b[22mr\u001b[0m\u001b[1ma\u001b[22myonS\u001b[0m\u001b[1mt\u001b[22m\u001b[0m\u001b[1ma\u001b[22m\u001b[0m\u001b[1mc\u001b[22mk \u001b[0m\u001b[1mC\u001b[22m\u001b[0m\u001b[1ma\u001b[22mr\u001b[0m\u001b[1mt\u001b[22mesi\u001b[0m\u001b[1ma\u001b[22mnIndi\u001b[0m\u001b[1mc\u001b[22mes\n",
      "\n"
     ]
    },
    {
     "data": {
      "text/latex": [
       "Categorical accuracy is used to determine the accuracy of a categorical model by calculating the percentage of correct predictions.\n",
       "\n",
       "\\rule{\\textwidth}{1pt}\n",
       "testy = [\"hi\",\"hello\"]\n",
       "\n",
       "yhat = [\"hi\",\"hi\"]\n",
       "\n",
       "accuracy = catacc(yhat,testy)\n",
       "\n",
       ".5\n",
       "\n"
      ],
      "text/markdown": [
       "Categorical accuracy is used to determine the accuracy of a categorical model by calculating the percentage of correct predictions.\n",
       "\n",
       "---\n",
       "\n",
       "testy = [\"hi\",\"hello\"]\n",
       "\n",
       "yhat = [\"hi\",\"hi\"]\n",
       "\n",
       "accuracy = catacc(yhat,testy)\n",
       "\n",
       ".5\n"
      ],
      "text/plain": [
       "  Categorical accuracy is used to determine the accuracy of a categorical\n",
       "  model by calculating the percentage of correct predictions.\n",
       "\n",
       "  ────────────────────────────────────────────────────────────────────────────\n",
       "\n",
       "  testy = [\"hi\",\"hello\"]\n",
       "\n",
       "  yhat = [\"hi\",\"hi\"]\n",
       "\n",
       "  accuracy = catacc(yhat,testy)\n",
       "\n",
       "  .5"
      ]
     },
     "execution_count": 16,
     "metadata": {},
     "output_type": "execute_result"
    }
   ],
   "source": [
    "?(catacc)"
   ]
  },
  {
   "cell_type": "code",
   "execution_count": 17,
   "metadata": {},
   "outputs": [
    {
     "data": {
      "text/plain": [
       "0.8552631578947368"
      ]
     },
     "execution_count": 17,
     "metadata": {},
     "output_type": "execute_result"
    }
   ],
   "source": [
    "catacc(yhat, testy)"
   ]
  },
  {
   "cell_type": "code",
   "execution_count": 18,
   "metadata": {},
   "outputs": [
    {
     "data": {
      "text/plain": [
       "3-element Array{Pair{String,Int64},1}:\n",
       "    \"CNG\" => 2\n",
       " \"Diesel\" => 49\n",
       " \"Petrol\" => 174"
      ]
     },
     "execution_count": 18,
     "metadata": {},
     "output_type": "execute_result"
    }
   ],
   "source": [
    "evaluation.counts()"
   ]
  },
  {
   "cell_type": "code",
   "execution_count": 19,
   "metadata": {},
   "outputs": [],
   "source": [
    "using Lathe.models: RandomForestClassifier"
   ]
  },
  {
   "cell_type": "code",
   "execution_count": 20,
   "metadata": {},
   "outputs": [
    {
     "name": "stdout",
     "output_type": "stream",
     "text": [
      "search:\n",
      "\n"
     ]
    },
    {
     "data": {
      "text/latex": [
       "\\subsection{Random Forest Classifier}\n",
       "\\subsubsection{Description}\n",
       "The Random Forest Classifier uses a multitude of decision trees to   solve classification problems.\n",
       "\n",
       "\\rule{\\textwidth}{1pt}\n",
       "\\subsubsection{Input}\n",
       "RandomForestClassifier(x, y, rng ;   max\\emph{depth = 6, min}node\\emph{records = 1, n}trees = 100)\n",
       "\n",
       "\\rule{\\textwidth}{1pt}\n",
       "\\paragraph{Positional Arguments}\n",
       "Array\\{Any\\} - X:: Array of x's for which the model will use to   predict y.\n",
       "\n",
       "Array\\{Any\\} - Y:: Array of y's for which the x's are used to predict.\n",
       "\n",
       "RandomNumberGenerator - rng:: Determines the seed for the given model.\n",
       "\n",
       "\\paragraph{Key-word Arguments}\n",
       "Int64 - max\\_depth:: Determines the max depth which the tree should use   as a stop parameter.\n",
       "\n",
       "Int64 - min\\emph{node}records:: Determines the minimum number of nodes a   constructed node is allowed to have.\n",
       "\n",
       "\\subsection{Int64 - n\\_trees:: Determines how many decision trees should be trained.}\n",
       "\\subsubsection{Output}\n",
       "model:: A Lathe Model.\n",
       "\n",
       "\\rule{\\textwidth}{1pt}\n",
       "\\subsubsection{Functions}\n",
       "Model.predict(xt) :: Predicts a new y based on the data provided as xt and   the weights obtained from X.\n",
       "\n",
       "\\rule{\\textwidth}{1pt}\n",
       "\\subsubsection{Data}\n",
       "storedata :: A tree node type that contains the weights and their  corresponding values.\n",
       "\n"
      ],
      "text/markdown": [
       "## Random Forest Classifier\n",
       "\n",
       "### Description\n",
       "\n",
       "The Random Forest Classifier uses a multitude of decision trees to   solve classification problems.\n",
       "\n",
       "---\n",
       "\n",
       "### Input\n",
       "\n",
       "RandomForestClassifier(x, y, rng ;   max*depth = 6, min*node*records = 1, n*trees = 100)\n",
       "\n",
       "---\n",
       "\n",
       "#### Positional Arguments\n",
       "\n",
       "Array{Any} - X:: Array of x's for which the model will use to   predict y.\n",
       "\n",
       "Array{Any} - Y:: Array of y's for which the x's are used to predict.\n",
       "\n",
       "RandomNumberGenerator - rng:: Determines the seed for the given model.\n",
       "\n",
       "#### Key-word Arguments\n",
       "\n",
       "Int64 - max_depth:: Determines the max depth which the tree should use   as a stop parameter.\n",
       "\n",
       "Int64 - min*node*records:: Determines the minimum number of nodes a   constructed node is allowed to have.\n",
       "\n",
       "## Int64 - n_trees:: Determines how many decision trees should be trained.\n",
       "\n",
       "### Output\n",
       "\n",
       "model:: A Lathe Model.\n",
       "\n",
       "---\n",
       "\n",
       "### Functions\n",
       "\n",
       "Model.predict(xt) :: Predicts a new y based on the data provided as xt and   the weights obtained from X.\n",
       "\n",
       "---\n",
       "\n",
       "### Data\n",
       "\n",
       "storedata :: A tree node type that contains the weights and their  corresponding values.\n"
      ],
      "text/plain": [
       "\u001b[1m  Random Forest Classifier\u001b[22m\n",
       "\u001b[1m  ==========================\u001b[22m\n",
       "\n",
       "\u001b[1m  Description\u001b[22m\n",
       "\u001b[1m  –––––––––––––\u001b[22m\n",
       "\n",
       "  The Random Forest Classifier uses a multitude of decision trees to solve\n",
       "  classification problems.\n",
       "\n",
       "  ────────────────────────────────────────────────────────────────────────────\n",
       "\n",
       "\u001b[1m  Input\u001b[22m\n",
       "\u001b[1m  –––––––\u001b[22m\n",
       "\n",
       "  RandomForestClassifier(x, y, rng ; max\u001b[4mdepth = 6, min\u001b[24mnode\u001b[4mrecords = 1, n\u001b[24mtrees\n",
       "  = 100)\n",
       "\n",
       "  ────────────────────────────────────────────────────────────────────────────\n",
       "\n",
       "\u001b[1m  Positional Arguments\u001b[22m\n",
       "\u001b[1m  ----------------------\u001b[22m\n",
       "\n",
       "  Array{Any} - X:: Array of x's for which the model will use to predict y.\n",
       "\n",
       "  Array{Any} - Y:: Array of y's for which the x's are used to predict.\n",
       "\n",
       "  RandomNumberGenerator - rng:: Determines the seed for the given model.\n",
       "\n",
       "\u001b[1m  Key-word Arguments\u001b[22m\n",
       "\u001b[1m  --------------------\u001b[22m\n",
       "\n",
       "  Int64 - max_depth:: Determines the max depth which the tree should use as a\n",
       "  stop parameter.\n",
       "\n",
       "  Int64 - min\u001b[4mnode\u001b[24mrecords:: Determines the minimum number of nodes a\n",
       "  constructed node is allowed to have.\n",
       "\n",
       "\u001b[1m  Int64 - n_trees:: Determines how many decision trees should be trained.\u001b[22m\n",
       "\u001b[1m  =========================================================================\u001b[22m\n",
       "\n",
       "\u001b[1m  Output\u001b[22m\n",
       "\u001b[1m  ––––––––\u001b[22m\n",
       "\n",
       "  model:: A Lathe Model.\n",
       "\n",
       "  ────────────────────────────────────────────────────────────────────────────\n",
       "\n",
       "\u001b[1m  Functions\u001b[22m\n",
       "\u001b[1m  –––––––––––\u001b[22m\n",
       "\n",
       "  Model.predict(xt) :: Predicts a new y based on the data provided as xt and\n",
       "  the weights obtained from X.\n",
       "\n",
       "  ────────────────────────────────────────────────────────────────────────────\n",
       "\n",
       "\u001b[1m  Data\u001b[22m\n",
       "\u001b[1m  ––––––\u001b[22m\n",
       "\n",
       "  storedata :: A tree node type that contains the weights and their\n",
       "  corresponding values."
      ]
     },
     "execution_count": 20,
     "metadata": {},
     "output_type": "execute_result"
    }
   ],
   "source": [
    "?(RandomForestClassifier)"
   ]
  },
  {
   "cell_type": "code",
   "execution_count": 21,
   "metadata": {},
   "outputs": [
    {
     "data": {
      "text/plain": [
       "#15 (generic function with 1 method)"
      ]
     },
     "execution_count": 21,
     "metadata": {},
     "output_type": "execute_result"
    }
   ],
   "source": [
    "model = RandomForestClassifier(trainX, trainy)"
   ]
  },
  {
   "cell_type": "code",
   "execution_count": 22,
   "metadata": {},
   "outputs": [
    {
     "data": {
      "text/plain": [
       "76-element Array{String,1}:\n",
       " \"Petrol\"\n",
       " \"Petrol\"\n",
       " \"Petrol\"\n",
       " \"Petrol\"\n",
       " \"Petrol\"\n",
       " \"Petrol\"\n",
       " \"Petrol\"\n",
       " \"Petrol\"\n",
       " \"Petrol\"\n",
       " \"Petrol\"\n",
       " \"Petrol\"\n",
       " \"Petrol\"\n",
       " \"Diesel\"\n",
       " ⋮\n",
       " \"Petrol\"\n",
       " \"Petrol\"\n",
       " \"Petrol\"\n",
       " \"Petrol\"\n",
       " \"Petrol\"\n",
       " \"Petrol\"\n",
       " \"Diesel\"\n",
       " \"Petrol\"\n",
       " \"Petrol\"\n",
       " \"Petrol\"\n",
       " \"Petrol\"\n",
       " \"Petrol\""
      ]
     },
     "execution_count": 22,
     "metadata": {},
     "output_type": "execute_result"
    }
   ],
   "source": [
    "yhat = model.predict(testX)"
   ]
  },
  {
   "cell_type": "code",
   "execution_count": 23,
   "metadata": {},
   "outputs": [
    {
     "data": {
      "text/plain": [
       "Set{String} with 2 elements:\n",
       "  \"Diesel\"\n",
       "  \"Petrol\""
      ]
     },
     "execution_count": 23,
     "metadata": {},
     "output_type": "execute_result"
    }
   ],
   "source": [
    "Set(yhat)"
   ]
  },
  {
   "cell_type": "code",
   "execution_count": 24,
   "metadata": {
    "scrolled": true
   },
   "outputs": [
    {
     "data": {
      "text/plain": [
       "0.8026315789473685"
      ]
     },
     "execution_count": 24,
     "metadata": {},
     "output_type": "execute_result"
    }
   ],
   "source": [
    "catacc(yhat, testy)"
   ]
  },
  {
   "cell_type": "code",
   "execution_count": 25,
   "metadata": {
    "scrolled": true
   },
   "outputs": [
    {
     "data": {
      "text/plain": [
       "#15 (generic function with 1 method)"
      ]
     },
     "execution_count": 25,
     "metadata": {},
     "output_type": "execute_result"
    }
   ],
   "source": [
    "model = RandomForestClassifier(trainX, trainy, n_trees = 100, max_depth = 11)"
   ]
  },
  {
   "cell_type": "code",
   "execution_count": 26,
   "metadata": {},
   "outputs": [
    {
     "data": {
      "text/plain": [
       "76-element Array{String,1}:\n",
       " \"Petrol\"\n",
       " \"Petrol\"\n",
       " \"Petrol\"\n",
       " \"Petrol\"\n",
       " \"Petrol\"\n",
       " \"Petrol\"\n",
       " \"Petrol\"\n",
       " \"Petrol\"\n",
       " \"Petrol\"\n",
       " \"Petrol\"\n",
       " \"Petrol\"\n",
       " \"Petrol\"\n",
       " \"Diesel\"\n",
       " ⋮\n",
       " \"Petrol\"\n",
       " \"Petrol\"\n",
       " \"Petrol\"\n",
       " \"Petrol\"\n",
       " \"Petrol\"\n",
       " \"Petrol\"\n",
       " \"Diesel\"\n",
       " \"Petrol\"\n",
       " \"Petrol\"\n",
       " \"Petrol\"\n",
       " \"Diesel\"\n",
       " \"Petrol\""
      ]
     },
     "execution_count": 26,
     "metadata": {},
     "output_type": "execute_result"
    }
   ],
   "source": [
    "yhat = model.predict(testX)"
   ]
  },
  {
   "cell_type": "code",
   "execution_count": 27,
   "metadata": {},
   "outputs": [
    {
     "data": {
      "text/plain": [
       "0.8026315789473685"
      ]
     },
     "execution_count": 27,
     "metadata": {},
     "output_type": "execute_result"
    }
   ],
   "source": [
    "catacc(yhat, testy)"
   ]
  },
  {
   "cell_type": "code",
   "execution_count": 28,
   "metadata": {},
   "outputs": [
    {
     "data": {
      "text/plain": [
       "76-element Array{String,1}:\n",
       " \"Petrol\"\n",
       " \"Petrol\"\n",
       " \"Petrol\"\n",
       " \"Petrol\"\n",
       " \"Petrol\"\n",
       " \"Petrol\"\n",
       " \"Petrol\"\n",
       " \"Petrol\"\n",
       " \"Petrol\"\n",
       " \"Petrol\"\n",
       " \"Petrol\"\n",
       " \"Petrol\"\n",
       " \"Diesel\"\n",
       " ⋮\n",
       " \"Petrol\"\n",
       " \"Petrol\"\n",
       " \"Petrol\"\n",
       " \"Petrol\"\n",
       " \"Petrol\"\n",
       " \"Petrol\"\n",
       " \"Diesel\"\n",
       " \"Petrol\"\n",
       " \"Petrol\"\n",
       " \"Petrol\"\n",
       " \"Petrol\"\n",
       " \"Petrol\""
      ]
     },
     "execution_count": 28,
     "metadata": {},
     "output_type": "execute_result"
    }
   ],
   "source": [
    "model = RandomForestClassifier(trainX, trainy, n_trees = 1500, max_depth = 5)\n",
    "\n",
    "yhat = model.predict(testX)"
   ]
  },
  {
   "cell_type": "code",
   "execution_count": 29,
   "metadata": {},
   "outputs": [
    {
     "data": {
      "text/plain": [
       "0.8026315789473685"
      ]
     },
     "execution_count": 29,
     "metadata": {},
     "output_type": "execute_result"
    }
   ],
   "source": [
    "catacc(yhat, testy)"
   ]
  },
  {
   "cell_type": "code",
   "execution_count": 30,
   "metadata": {},
   "outputs": [],
   "source": [
    "using Lathe.preprocess: StandardScaler"
   ]
  },
  {
   "cell_type": "code",
   "execution_count": 31,
   "metadata": {},
   "outputs": [
    {
     "name": "stdout",
     "output_type": "stream",
     "text": [
      "search:\n",
      "\n"
     ]
    },
    {
     "data": {
      "text/latex": [
       "\\subsection{Standard Scaler}\n",
       "\\subsubsection{Description}\n",
       "Normalizes an array using the z (Normal) distribution.\n",
       "\n",
       "\\rule{\\textwidth}{1pt}\n",
       "\\subsubsection{Input}\n",
       "StandardScaler(x)\n",
       "\n",
       "\\rule{\\textwidth}{1pt}\n",
       "\\paragraph{Positional Arguments}\n",
       "Array\\{Any\\} - x:: Array for which the original scaler should be based   off of.\n",
       "\n",
       "\\rule{\\textwidth}{1pt}\n",
       "\\subsubsection{Output}\n",
       "\\subsection{scalar :: A Lathe Preprocesser object.}\n",
       "\\subsubsection{Functions}\n",
       "Preprocesser.predict(xt) :: Applies the scaler to xt.\n",
       "\n",
       "\\rule{\\textwidth}{1pt}\n",
       "\\subsubsection{Data}\n",
       "dist  :: Returns the normal distribution object for which this scaler uses.\n",
       "\n"
      ],
      "text/markdown": [
       "## Standard Scaler\n",
       "\n",
       "### Description\n",
       "\n",
       "Normalizes an array using the z (Normal) distribution.\n",
       "\n",
       "---\n",
       "\n",
       "### Input\n",
       "\n",
       "StandardScaler(x)\n",
       "\n",
       "---\n",
       "\n",
       "#### Positional Arguments\n",
       "\n",
       "Array{Any} - x:: Array for which the original scaler should be based   off of.\n",
       "\n",
       "---\n",
       "\n",
       "### Output\n",
       "\n",
       "## scalar :: A Lathe Preprocesser object.\n",
       "\n",
       "### Functions\n",
       "\n",
       "Preprocesser.predict(xt) :: Applies the scaler to xt.\n",
       "\n",
       "---\n",
       "\n",
       "### Data\n",
       "\n",
       "dist  :: Returns the normal distribution object for which this scaler uses.\n"
      ],
      "text/plain": [
       "\u001b[1m  Standard Scaler\u001b[22m\n",
       "\u001b[1m  =================\u001b[22m\n",
       "\n",
       "\u001b[1m  Description\u001b[22m\n",
       "\u001b[1m  –––––––––––––\u001b[22m\n",
       "\n",
       "  Normalizes an array using the z (Normal) distribution.\n",
       "\n",
       "  ────────────────────────────────────────────────────────────────────────────\n",
       "\n",
       "\u001b[1m  Input\u001b[22m\n",
       "\u001b[1m  –––––––\u001b[22m\n",
       "\n",
       "  StandardScaler(x)\n",
       "\n",
       "  ────────────────────────────────────────────────────────────────────────────\n",
       "\n",
       "\u001b[1m  Positional Arguments\u001b[22m\n",
       "\u001b[1m  ----------------------\u001b[22m\n",
       "\n",
       "  Array{Any} - x:: Array for which the original scaler should be based off of.\n",
       "\n",
       "  ────────────────────────────────────────────────────────────────────────────\n",
       "\n",
       "\u001b[1m  Output\u001b[22m\n",
       "\u001b[1m  ––––––––\u001b[22m\n",
       "\n",
       "\u001b[1m  scalar :: A Lathe Preprocesser object.\u001b[22m\n",
       "\u001b[1m  ========================================\u001b[22m\n",
       "\n",
       "\u001b[1m  Functions\u001b[22m\n",
       "\u001b[1m  –––––––––––\u001b[22m\n",
       "\n",
       "  Preprocesser.predict(xt) :: Applies the scaler to xt.\n",
       "\n",
       "  ────────────────────────────────────────────────────────────────────────────\n",
       "\n",
       "\u001b[1m  Data\u001b[22m\n",
       "\u001b[1m  ––––––\u001b[22m\n",
       "\n",
       "  dist :: Returns the normal distribution object for which this scaler uses."
      ]
     },
     "execution_count": 31,
     "metadata": {},
     "output_type": "execute_result"
    }
   ],
   "source": [
    "?(StandardScaler)"
   ]
  },
  {
   "cell_type": "code",
   "execution_count": 32,
   "metadata": {},
   "outputs": [
    {
     "data": {
      "text/plain": [
       "#33 (generic function with 1 method)"
      ]
     },
     "execution_count": 32,
     "metadata": {},
     "output_type": "execute_result"
    }
   ],
   "source": [
    "scaler = StandardScaler(trainX)"
   ]
  },
  {
   "cell_type": "code",
   "execution_count": 33,
   "metadata": {},
   "outputs": [
    {
     "data": {
      "text/plain": [
       "225-element Array{Complex{Float64},1}:\n",
       " -59.690787567795894 + 0.0im\n",
       "  21.589116586419653 - 0.0im\n",
       " -161.79866716152918 + 0.0im\n",
       " -170.43465697791456 + 0.0im\n",
       "   18.79511988111849 - 0.0im\n",
       " -186.32995823407336 + 0.0im\n",
       "  -27.03150607983016 + 0.0im\n",
       "  -93.86390727063389 + 0.0im\n",
       " -186.00483861745647 + 0.0im\n",
       " -120.65071568345755 + 0.0im\n",
       "  -64.77078157743436 + 0.0im\n",
       "   196.4780703562433 - 0.0im\n",
       "  21.589116586419653 - 0.0im\n",
       "                     ⋮\n",
       "  -24.13082950032659 + 0.0im\n",
       " -141.07229160220422 + 0.0im\n",
       " -100.33073964490366 + 0.0im\n",
       "  -37.20165408712638 + 0.0im\n",
       "  -3.810853461772706 + 0.0im\n",
       " -29.114303623781932 + 0.0im\n",
       "  108.33509429500619 - 0.0im\n",
       " -24.191789428442252 + 0.0im\n",
       "  107.94901475027366 - 0.0im\n",
       "  249.85356741551473 - 0.0im\n",
       "  -151.1306797412884 + 0.0im\n",
       " -169.09353855937002 + 0.0im"
      ]
     },
     "execution_count": 33,
     "metadata": {},
     "output_type": "execute_result"
    }
   ],
   "source": [
    "trainX = scaler.predict(trainX)"
   ]
  },
  {
   "cell_type": "code",
   "execution_count": 34,
   "metadata": {},
   "outputs": [
    {
     "data": {
      "text/plain": [
       "76-element Array{Complex{Float64},1}:\n",
       " -101.36705842286992 + 0.0im\n",
       "  18.373480378318497 - 0.0im\n",
       "   62.22906866352742 - 0.0im\n",
       "  -184.6586402049023 + 0.0im\n",
       "   57.14907465388895 - 0.0im\n",
       "   33.17150292839537 - 0.0im\n",
       "     92.094353446192 - 0.0im\n",
       "  -95.25074563526519 + 0.0im\n",
       "  29.422467349282176 - 0.0im\n",
       "  31.749104605696594 - 0.0im\n",
       "  31.749104605696594 - 0.0im\n",
       "   50.88544204000472 - 0.0im\n",
       "  118.10900276955061 - 0.0im\n",
       "                     ⋮\n",
       "   52.06908064425048 - 0.0im\n",
       " -14.306121085685788 + 0.0im\n",
       "  -37.20165408712638 + 0.0im\n",
       "   46.98908663461201 - 0.0im\n",
       "    54.9240372776673 - 0.0im\n",
       " -168.40265937405917 + 0.0im\n",
       "  114.06024754386874 - 0.0im\n",
       "  -40.62557004962271 + 0.0im\n",
       "  -86.20835629810871 + 0.0im\n",
       " -176.53064978948075 + 0.0im\n",
       "   -151.079879801192 + 0.0im\n",
       " -135.89069771237297 + 0.0im"
      ]
     },
     "execution_count": 34,
     "metadata": {},
     "output_type": "execute_result"
    }
   ],
   "source": [
    "testX = scaler.predict(testX)"
   ]
  },
  {
   "cell_type": "code",
   "execution_count": 35,
   "metadata": {},
   "outputs": [
    {
     "data": {
      "text/plain": [
       "76-element Array{Real,1}:\n",
       " -101.36705842286992\n",
       "   18.373480378318497\n",
       "   62.22906866352742\n",
       " -184.6586402049023\n",
       "   57.14907465388895\n",
       "   33.17150292839537\n",
       "   92.094353446192\n",
       "  -95.25074563526519\n",
       "   29.422467349282176\n",
       "   31.749104605696594\n",
       "   31.749104605696594\n",
       "   50.88544204000472\n",
       "  118.10900276955061\n",
       "    ⋮\n",
       "   52.06908064425048\n",
       "  -14.306121085685788\n",
       "  -37.20165408712638\n",
       "   46.98908663461201\n",
       "   54.9240372776673\n",
       " -168.40265937405917\n",
       "  114.06024754386874\n",
       "  -40.62557004962271\n",
       "  -86.20835629810871\n",
       " -176.53064978948075\n",
       " -151.079879801192\n",
       " -135.89069771237297"
      ]
     },
     "execution_count": 35,
     "metadata": {},
     "output_type": "execute_result"
    }
   ],
   "source": [
    "trainX = Array{Real}(trainX)\n",
    "testX = Array{Real}(testX)"
   ]
  },
  {
   "cell_type": "code",
   "execution_count": 50,
   "metadata": {},
   "outputs": [
    {
     "data": {
      "text/plain": [
       "76-element Array{String,1}:\n",
       " \"Petrol\"\n",
       " \"Petrol\"\n",
       " \"Petrol\"\n",
       " \"Petrol\"\n",
       " \"Petrol\"\n",
       " \"Petrol\"\n",
       " \"Petrol\"\n",
       " \"Petrol\"\n",
       " \"Petrol\"\n",
       " \"Petrol\"\n",
       " \"Petrol\"\n",
       " \"Petrol\"\n",
       " \"Petrol\"\n",
       " ⋮\n",
       " \"Petrol\"\n",
       " \"Petrol\"\n",
       " \"Petrol\"\n",
       " \"Petrol\"\n",
       " \"Petrol\"\n",
       " \"Petrol\"\n",
       " \"Petrol\"\n",
       " \"Petrol\"\n",
       " \"Petrol\"\n",
       " \"Petrol\"\n",
       " \"Petrol\"\n",
       " \"Petrol\""
      ]
     },
     "execution_count": 50,
     "metadata": {},
     "output_type": "execute_result"
    }
   ],
   "source": [
    "model = RandomForestClassifier(trainX, trainy, n_trees = 1500, max_depth = 3)\n",
    "\n",
    "yhat = model.predict(testX)"
   ]
  },
  {
   "cell_type": "code",
   "execution_count": 51,
   "metadata": {},
   "outputs": [
    {
     "data": {
      "text/plain": [
       "0.8552631578947368"
      ]
     },
     "execution_count": 51,
     "metadata": {},
     "output_type": "execute_result"
    }
   ],
   "source": [
    "catacc(yhat, testy)"
   ]
  },
  {
   "cell_type": "code",
   "execution_count": 52,
   "metadata": {},
   "outputs": [
    {
     "name": "stdout",
     "output_type": "stream",
     "text": [
      "search:\n",
      "\n"
     ]
    },
    {
     "data": {
      "text/latex": [
       "\\subsection{Random Forest Classifier}\n",
       "\\subsubsection{Description}\n",
       "The Random Forest Classifier uses a multitude of decision trees to   solve classification problems.\n",
       "\n",
       "\\rule{\\textwidth}{1pt}\n",
       "\\subsubsection{Input}\n",
       "RandomForestClassifier(x, y, rng ;   max\\emph{depth = 6, min}node\\emph{records = 1, n}trees = 100)\n",
       "\n",
       "\\rule{\\textwidth}{1pt}\n",
       "\\paragraph{Positional Arguments}\n",
       "Array\\{Any\\} - X:: Array of x's for which the model will use to   predict y.\n",
       "\n",
       "Array\\{Any\\} - Y:: Array of y's for which the x's are used to predict.\n",
       "\n",
       "RandomNumberGenerator - rng:: Determines the seed for the given model.\n",
       "\n",
       "\\paragraph{Key-word Arguments}\n",
       "Int64 - max\\_depth:: Determines the max depth which the tree should use   as a stop parameter.\n",
       "\n",
       "Int64 - min\\emph{node}records:: Determines the minimum number of nodes a   constructed node is allowed to have.\n",
       "\n",
       "\\subsection{Int64 - n\\_trees:: Determines how many decision trees should be trained.}\n",
       "\\subsubsection{Output}\n",
       "model:: A Lathe Model.\n",
       "\n",
       "\\rule{\\textwidth}{1pt}\n",
       "\\subsubsection{Functions}\n",
       "Model.predict(xt) :: Predicts a new y based on the data provided as xt and   the weights obtained from X.\n",
       "\n",
       "\\rule{\\textwidth}{1pt}\n",
       "\\subsubsection{Data}\n",
       "storedata :: A tree node type that contains the weights and their  corresponding values.\n",
       "\n"
      ],
      "text/markdown": [
       "## Random Forest Classifier\n",
       "\n",
       "### Description\n",
       "\n",
       "The Random Forest Classifier uses a multitude of decision trees to   solve classification problems.\n",
       "\n",
       "---\n",
       "\n",
       "### Input\n",
       "\n",
       "RandomForestClassifier(x, y, rng ;   max*depth = 6, min*node*records = 1, n*trees = 100)\n",
       "\n",
       "---\n",
       "\n",
       "#### Positional Arguments\n",
       "\n",
       "Array{Any} - X:: Array of x's for which the model will use to   predict y.\n",
       "\n",
       "Array{Any} - Y:: Array of y's for which the x's are used to predict.\n",
       "\n",
       "RandomNumberGenerator - rng:: Determines the seed for the given model.\n",
       "\n",
       "#### Key-word Arguments\n",
       "\n",
       "Int64 - max_depth:: Determines the max depth which the tree should use   as a stop parameter.\n",
       "\n",
       "Int64 - min*node*records:: Determines the minimum number of nodes a   constructed node is allowed to have.\n",
       "\n",
       "## Int64 - n_trees:: Determines how many decision trees should be trained.\n",
       "\n",
       "### Output\n",
       "\n",
       "model:: A Lathe Model.\n",
       "\n",
       "---\n",
       "\n",
       "### Functions\n",
       "\n",
       "Model.predict(xt) :: Predicts a new y based on the data provided as xt and   the weights obtained from X.\n",
       "\n",
       "---\n",
       "\n",
       "### Data\n",
       "\n",
       "storedata :: A tree node type that contains the weights and their  corresponding values.\n"
      ],
      "text/plain": [
       "\u001b[1m  Random Forest Classifier\u001b[22m\n",
       "\u001b[1m  ==========================\u001b[22m\n",
       "\n",
       "\u001b[1m  Description\u001b[22m\n",
       "\u001b[1m  –––––––––––––\u001b[22m\n",
       "\n",
       "  The Random Forest Classifier uses a multitude of decision trees to solve\n",
       "  classification problems.\n",
       "\n",
       "  ────────────────────────────────────────────────────────────────────────────\n",
       "\n",
       "\u001b[1m  Input\u001b[22m\n",
       "\u001b[1m  –––––––\u001b[22m\n",
       "\n",
       "  RandomForestClassifier(x, y, rng ; max\u001b[4mdepth = 6, min\u001b[24mnode\u001b[4mrecords = 1, n\u001b[24mtrees\n",
       "  = 100)\n",
       "\n",
       "  ────────────────────────────────────────────────────────────────────────────\n",
       "\n",
       "\u001b[1m  Positional Arguments\u001b[22m\n",
       "\u001b[1m  ----------------------\u001b[22m\n",
       "\n",
       "  Array{Any} - X:: Array of x's for which the model will use to predict y.\n",
       "\n",
       "  Array{Any} - Y:: Array of y's for which the x's are used to predict.\n",
       "\n",
       "  RandomNumberGenerator - rng:: Determines the seed for the given model.\n",
       "\n",
       "\u001b[1m  Key-word Arguments\u001b[22m\n",
       "\u001b[1m  --------------------\u001b[22m\n",
       "\n",
       "  Int64 - max_depth:: Determines the max depth which the tree should use as a\n",
       "  stop parameter.\n",
       "\n",
       "  Int64 - min\u001b[4mnode\u001b[24mrecords:: Determines the minimum number of nodes a\n",
       "  constructed node is allowed to have.\n",
       "\n",
       "\u001b[1m  Int64 - n_trees:: Determines how many decision trees should be trained.\u001b[22m\n",
       "\u001b[1m  =========================================================================\u001b[22m\n",
       "\n",
       "\u001b[1m  Output\u001b[22m\n",
       "\u001b[1m  ––––––––\u001b[22m\n",
       "\n",
       "  model:: A Lathe Model.\n",
       "\n",
       "  ────────────────────────────────────────────────────────────────────────────\n",
       "\n",
       "\u001b[1m  Functions\u001b[22m\n",
       "\u001b[1m  –––––––––––\u001b[22m\n",
       "\n",
       "  Model.predict(xt) :: Predicts a new y based on the data provided as xt and\n",
       "  the weights obtained from X.\n",
       "\n",
       "  ────────────────────────────────────────────────────────────────────────────\n",
       "\n",
       "\u001b[1m  Data\u001b[22m\n",
       "\u001b[1m  ––––––\u001b[22m\n",
       "\n",
       "  storedata :: A tree node type that contains the weights and their\n",
       "  corresponding values."
      ]
     },
     "execution_count": 52,
     "metadata": {},
     "output_type": "execute_result"
    }
   ],
   "source": [
    "?(RandomForestClassifier)"
   ]
  },
  {
   "cell_type": "code",
   "execution_count": 83,
   "metadata": {},
   "outputs": [
    {
     "data": {
      "text/plain": [
       "0.8552631578947368"
      ]
     },
     "execution_count": 83,
     "metadata": {},
     "output_type": "execute_result"
    }
   ],
   "source": [
    "model = RandomForestClassifier(trainX, trainy, n_trees = 10, max_depth = 2, min_node_records = 4)\n",
    "\n",
    "yhat = model.predict(testX)\n",
    "\n",
    "catacc(yhat, testy)"
   ]
  },
  {
   "cell_type": "code",
   "execution_count": null,
   "metadata": {},
   "outputs": [],
   "source": []
  },
  {
   "cell_type": "code",
   "execution_count": null,
   "metadata": {},
   "outputs": [],
   "source": []
  }
 ],
 "metadata": {
  "@webio": {
   "lastCommId": null,
   "lastKernelId": null
  },
  "kernelspec": {
   "display_name": "Julia 1.5.2",
   "language": "julia",
   "name": "julia-1.5"
  },
  "language_info": {
   "file_extension": ".jl",
   "mimetype": "application/julia",
   "name": "julia",
   "version": "1.5.2"
  }
 },
 "nbformat": 4,
 "nbformat_minor": 2
}
