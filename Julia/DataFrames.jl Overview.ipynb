{
 "cells": [
  {
   "cell_type": "code",
   "execution_count": 1,
   "metadata": {},
   "outputs": [],
   "source": [
    "using DataFrames"
   ]
  },
  {
   "cell_type": "code",
   "execution_count": 2,
   "metadata": {},
   "outputs": [
    {
     "name": "stdout",
     "output_type": "stream",
     "text": [
      "search: \u001b[0m\u001b[1mD\u001b[22m\u001b[0m\u001b[1ma\u001b[22m\u001b[0m\u001b[1mt\u001b[22m\u001b[0m\u001b[1ma\u001b[22m\u001b[0m\u001b[1mF\u001b[22m\u001b[0m\u001b[1mr\u001b[22m\u001b[0m\u001b[1ma\u001b[22m\u001b[0m\u001b[1mm\u001b[22m\u001b[0m\u001b[1me\u001b[22m \u001b[0m\u001b[1mD\u001b[22m\u001b[0m\u001b[1ma\u001b[22m\u001b[0m\u001b[1mt\u001b[22m\u001b[0m\u001b[1ma\u001b[22m\u001b[0m\u001b[1mF\u001b[22m\u001b[0m\u001b[1mr\u001b[22m\u001b[0m\u001b[1ma\u001b[22m\u001b[0m\u001b[1mm\u001b[22m\u001b[0m\u001b[1me\u001b[22m! \u001b[0m\u001b[1mD\u001b[22m\u001b[0m\u001b[1ma\u001b[22m\u001b[0m\u001b[1mt\u001b[22m\u001b[0m\u001b[1ma\u001b[22m\u001b[0m\u001b[1mF\u001b[22m\u001b[0m\u001b[1mr\u001b[22m\u001b[0m\u001b[1ma\u001b[22m\u001b[0m\u001b[1mm\u001b[22m\u001b[0m\u001b[1me\u001b[22ms \u001b[0m\u001b[1mD\u001b[22m\u001b[0m\u001b[1ma\u001b[22m\u001b[0m\u001b[1mt\u001b[22m\u001b[0m\u001b[1ma\u001b[22m\u001b[0m\u001b[1mF\u001b[22m\u001b[0m\u001b[1mr\u001b[22m\u001b[0m\u001b[1ma\u001b[22m\u001b[0m\u001b[1mm\u001b[22m\u001b[0m\u001b[1me\u001b[22mRow Sub\u001b[0m\u001b[1mD\u001b[22m\u001b[0m\u001b[1ma\u001b[22m\u001b[0m\u001b[1mt\u001b[22m\u001b[0m\u001b[1ma\u001b[22m\u001b[0m\u001b[1mF\u001b[22m\u001b[0m\u001b[1mr\u001b[22m\u001b[0m\u001b[1ma\u001b[22m\u001b[0m\u001b[1mm\u001b[22m\u001b[0m\u001b[1me\u001b[22m\n",
      "\n"
     ]
    },
    {
     "data": {
      "text/latex": [
       "\\begin{verbatim}\n",
       "DataFrame <: AbstractDataFrame\n",
       "\\end{verbatim}\n",
       "An AbstractDataFrame that stores a set of named columns\n",
       "\n",
       "The columns are normally AbstractVectors stored in memory, particularly a Vector or CategoricalVector.\n",
       "\n",
       "\\section{Constructors}\n",
       "\\begin{verbatim}\n",
       "DataFrame(pairs::Pair...; makeunique::Bool=false, copycols::Bool=true)\n",
       "DataFrame(pairs::AbstractVector{<:Pair}; makeunique::Bool=false, copycols::Bool=true)\n",
       "DataFrame(ds::AbstractDict; copycols::Bool=true)\n",
       "DataFrame(kwargs..., copycols::Bool=true)\n",
       "\n",
       "DataFrame(columns::AbstractVecOrMat, names::Union{AbstractVector, Symbol};\n",
       "          makeunique::Bool=false, copycols::Bool=true)\n",
       "\n",
       "DataFrame(table; copycols::Bool=true)\n",
       "DataFrame(::DataFrameRow)\n",
       "DataFrame(::GroupedDataFrame; keepkeys::Bool=true)\n",
       "\\end{verbatim}\n",
       "\\section{Keyword arguments}\n",
       "\\begin{itemize}\n",
       "\\item \\texttt{copycols} : whether vectors passed as columns should be copied; by default set to \\texttt{true} and the vectors are copied; if set to \\texttt{false} then the constructor will still copy the passed columns if it is not possible to construct a \\texttt{DataFrame} without materializing new columns.\n",
       "\n",
       "\n",
       "\\item \\texttt{makeunique} : if \\texttt{false} (the default), an error will be raised\n",
       "\n",
       "\\end{itemize}\n",
       "(note that not all constructors support these keyword arguments)\n",
       "\n",
       "\\section{Details on behavior of different constructors}\n",
       "It is allowed to pass a vector of \\texttt{Pair}s, a list of \\texttt{Pair}s as positional arguments, or a list of keyword arguments. In this case each pair is considered to represent a column name to column value mapping and column name must be a \\texttt{Symbol} or string. Alternatively a dictionary can be passed to the constructor in which case its entries are considered to define the column name and column value pairs. If the dictionary is a \\texttt{Dict} then column names will be sorted in the returned \\texttt{DataFrame}.\n",
       "\n",
       "In all the constructors described above column value can be a vector which is consumed as is or an object of any other type (except \\texttt{AbstractArray}). In the latter case the passed value is automatically repeated to fill a new vector of the appropriate length. As a particular rule values stored in a \\texttt{Ref} or a \\texttt{0}-dimensional \\texttt{AbstractArray} are unwrapped and treated in the same way.\n",
       "\n",
       "It is also allowed to pass a vector of vectors or a matrix as as the first argument. In this case the second argument must be a vector of \\texttt{Symbol}s or strings specifying column names, or the symbol \\texttt{:auto} to generate column names \\texttt{x1}, \\texttt{x2}, ... automatically.\n",
       "\n",
       "If a single positional argument is passed to a \\texttt{DataFrame} constructor then it is assumed to be of type that implements the \\href{https://github.com/JuliaData/Tables.jl}{Tables.jl} interface using which the returned \\texttt{DataFrame} is materialized.\n",
       "\n",
       "Finally it is allowed to construct a \\texttt{DataFrame} from a \\texttt{DataFrameRow} or a \\texttt{GroupedDataFrame}. In the latter case the \\texttt{keepkeys} keyword argument specifies whether the resulting \\texttt{DataFrame} should contain the grouping columns of the passed \\texttt{GroupedDataFrame} and the order of rows in the result follows the order of groups in the \\texttt{GroupedDataFrame} passed.\n",
       "\n",
       "\\section{Notes}\n",
       "The \\texttt{DataFrame} constructor by default copies all columns vectors passed to it. Pass the \\texttt{copycols=false} keyword argument (where supported) to reuse vectors without copying them.\n",
       "\n",
       "By default an error will be raised if duplicates in column names are found. Pass \\texttt{makeunique=true} keyword argument (where supported) to accept duplicate names, in which case they will be suffixed with \\texttt{\\_i} (\\texttt{i} starting at 1 for the first duplicate).\n",
       "\n",
       "If an \\texttt{AbstractRange} is passed to a \\texttt{DataFrame} constructor as a column it is always collected to a \\texttt{Vector} (even if \\texttt{copycols=false}). As a general rule \\texttt{AbstractRange} values are always materialized to a \\texttt{Vector} by all functions in DataFrames.jl before being stored in a \\texttt{DataFrame}.\n",
       "\n",
       "The \\texttt{DataFrame} type is designed to allow column types to vary and to be dynamically changed also after it is constructed. Therefore \\texttt{DataFrame}s are not type stable. For performance-critical code that requires type-stability either use the functionality provided by \\texttt{select}/\\texttt{transform}/\\texttt{combine} functions, use \\texttt{Tables.columntable} and \\texttt{Tables.namedtupleiterator} functions, use barrier functions, or provide type assertions to the variables that hold columns extracted from a \\texttt{DataFrame}.\n",
       "\n",
       "\\section{Examples}\n",
       "\\begin{verbatim}\n",
       "julia> DataFrame((a=[1, 2], b=[3, 4])) # Tables.jl table constructor\n",
       "2×2 DataFrame\n",
       " Row │ a      b\n",
       "     │ Int64  Int64\n",
       "─────┼──────────────\n",
       "   1 │     1      3\n",
       "   2 │     2      4\n",
       "\n",
       "julia> DataFrame([(a=1, b=0), (a=2, b=0)]) # Tables.jl table constructor\n",
       "2×2 DataFrame\n",
       " Row │ a      b\n",
       "     │ Int64  Int64\n",
       "─────┼──────────────\n",
       "   1 │     1      0\n",
       "   2 │     2      0\n",
       "\n",
       "julia> DataFrame(\"a\" => 1:2, \"b\" => 0) # Pair constructor\n",
       "2×2 DataFrame\n",
       " Row │ a      b\n",
       "     │ Int64  Int64\n",
       "─────┼──────────────\n",
       "   1 │     1      0\n",
       "   2 │     2      0\n",
       "\n",
       "julia> DataFrame([:a => 1:2, :b => 0]) # vector of Pairs constructor\n",
       "2×2 DataFrame\n",
       " Row │ a      b\n",
       "     │ Int64  Int64\n",
       "─────┼──────────────\n",
       "   1 │     1      0\n",
       "   2 │     2      0\n",
       "\n",
       "julia> DataFrame(Dict(:a => 1:2, :b => 0)) # dictionary constructor\n",
       "2×2 DataFrame\n",
       " Row │ a      b\n",
       "     │ Int64  Int64\n",
       "─────┼──────────────\n",
       "   1 │     1      0\n",
       "   2 │     2      0\n",
       "\n",
       "julia> DataFrame(a=1:2, b=0) # keyword argument constructor\n",
       "2×2 DataFrame\n",
       " Row │ a      b\n",
       "     │ Int64  Int64\n",
       "─────┼──────────────\n",
       "   1 │     1      0\n",
       "   2 │     2      0\n",
       "\n",
       "julia> DataFrame([[1, 2], [0, 0]], [:a, :b]) # vector of vectors constructor\n",
       "2×2 DataFrame\n",
       " Row │ a      b\n",
       "     │ Int64  Int64\n",
       "─────┼──────────────\n",
       "   1 │     1      0\n",
       "   2 │     2      0\n",
       "\n",
       "julia> DataFrame([1 0; 2 0], :auto) # matrix constructor\n",
       "2×2 DataFrame\n",
       " Row │ x1     x2\n",
       "     │ Int64  Int64\n",
       "─────┼──────────────\n",
       "   1 │     1      0\n",
       "   2 │     2      0\n",
       "\\end{verbatim}\n"
      ],
      "text/markdown": [
       "```\n",
       "DataFrame <: AbstractDataFrame\n",
       "```\n",
       "\n",
       "An AbstractDataFrame that stores a set of named columns\n",
       "\n",
       "The columns are normally AbstractVectors stored in memory, particularly a Vector or CategoricalVector.\n",
       "\n",
       "# Constructors\n",
       "\n",
       "```julia\n",
       "DataFrame(pairs::Pair...; makeunique::Bool=false, copycols::Bool=true)\n",
       "DataFrame(pairs::AbstractVector{<:Pair}; makeunique::Bool=false, copycols::Bool=true)\n",
       "DataFrame(ds::AbstractDict; copycols::Bool=true)\n",
       "DataFrame(kwargs..., copycols::Bool=true)\n",
       "\n",
       "DataFrame(columns::AbstractVecOrMat, names::Union{AbstractVector, Symbol};\n",
       "          makeunique::Bool=false, copycols::Bool=true)\n",
       "\n",
       "DataFrame(table; copycols::Bool=true)\n",
       "DataFrame(::DataFrameRow)\n",
       "DataFrame(::GroupedDataFrame; keepkeys::Bool=true)\n",
       "```\n",
       "\n",
       "# Keyword arguments\n",
       "\n",
       "  * `copycols` : whether vectors passed as columns should be copied; by default set to `true` and the vectors are copied; if set to `false` then the constructor will still copy the passed columns if it is not possible to construct a `DataFrame` without materializing new columns.\n",
       "  * `makeunique` : if `false` (the default), an error will be raised\n",
       "\n",
       "(note that not all constructors support these keyword arguments)\n",
       "\n",
       "# Details on behavior of different constructors\n",
       "\n",
       "It is allowed to pass a vector of `Pair`s, a list of `Pair`s as positional arguments, or a list of keyword arguments. In this case each pair is considered to represent a column name to column value mapping and column name must be a `Symbol` or string. Alternatively a dictionary can be passed to the constructor in which case its entries are considered to define the column name and column value pairs. If the dictionary is a `Dict` then column names will be sorted in the returned `DataFrame`.\n",
       "\n",
       "In all the constructors described above column value can be a vector which is consumed as is or an object of any other type (except `AbstractArray`). In the latter case the passed value is automatically repeated to fill a new vector of the appropriate length. As a particular rule values stored in a `Ref` or a `0`-dimensional `AbstractArray` are unwrapped and treated in the same way.\n",
       "\n",
       "It is also allowed to pass a vector of vectors or a matrix as as the first argument. In this case the second argument must be a vector of `Symbol`s or strings specifying column names, or the symbol `:auto` to generate column names `x1`, `x2`, ... automatically.\n",
       "\n",
       "If a single positional argument is passed to a `DataFrame` constructor then it is assumed to be of type that implements the [Tables.jl](https://github.com/JuliaData/Tables.jl) interface using which the returned `DataFrame` is materialized.\n",
       "\n",
       "Finally it is allowed to construct a `DataFrame` from a `DataFrameRow` or a `GroupedDataFrame`. In the latter case the `keepkeys` keyword argument specifies whether the resulting `DataFrame` should contain the grouping columns of the passed `GroupedDataFrame` and the order of rows in the result follows the order of groups in the `GroupedDataFrame` passed.\n",
       "\n",
       "# Notes\n",
       "\n",
       "The `DataFrame` constructor by default copies all columns vectors passed to it. Pass the `copycols=false` keyword argument (where supported) to reuse vectors without copying them.\n",
       "\n",
       "By default an error will be raised if duplicates in column names are found. Pass `makeunique=true` keyword argument (where supported) to accept duplicate names, in which case they will be suffixed with `_i` (`i` starting at 1 for the first duplicate).\n",
       "\n",
       "If an `AbstractRange` is passed to a `DataFrame` constructor as a column it is always collected to a `Vector` (even if `copycols=false`). As a general rule `AbstractRange` values are always materialized to a `Vector` by all functions in DataFrames.jl before being stored in a `DataFrame`.\n",
       "\n",
       "The `DataFrame` type is designed to allow column types to vary and to be dynamically changed also after it is constructed. Therefore `DataFrame`s are not type stable. For performance-critical code that requires type-stability either use the functionality provided by `select`/`transform`/`combine` functions, use `Tables.columntable` and `Tables.namedtupleiterator` functions, use barrier functions, or provide type assertions to the variables that hold columns extracted from a `DataFrame`.\n",
       "\n",
       "# Examples\n",
       "\n",
       "```julia\n",
       "julia> DataFrame((a=[1, 2], b=[3, 4])) # Tables.jl table constructor\n",
       "2×2 DataFrame\n",
       " Row │ a      b\n",
       "     │ Int64  Int64\n",
       "─────┼──────────────\n",
       "   1 │     1      3\n",
       "   2 │     2      4\n",
       "\n",
       "julia> DataFrame([(a=1, b=0), (a=2, b=0)]) # Tables.jl table constructor\n",
       "2×2 DataFrame\n",
       " Row │ a      b\n",
       "     │ Int64  Int64\n",
       "─────┼──────────────\n",
       "   1 │     1      0\n",
       "   2 │     2      0\n",
       "\n",
       "julia> DataFrame(\"a\" => 1:2, \"b\" => 0) # Pair constructor\n",
       "2×2 DataFrame\n",
       " Row │ a      b\n",
       "     │ Int64  Int64\n",
       "─────┼──────────────\n",
       "   1 │     1      0\n",
       "   2 │     2      0\n",
       "\n",
       "julia> DataFrame([:a => 1:2, :b => 0]) # vector of Pairs constructor\n",
       "2×2 DataFrame\n",
       " Row │ a      b\n",
       "     │ Int64  Int64\n",
       "─────┼──────────────\n",
       "   1 │     1      0\n",
       "   2 │     2      0\n",
       "\n",
       "julia> DataFrame(Dict(:a => 1:2, :b => 0)) # dictionary constructor\n",
       "2×2 DataFrame\n",
       " Row │ a      b\n",
       "     │ Int64  Int64\n",
       "─────┼──────────────\n",
       "   1 │     1      0\n",
       "   2 │     2      0\n",
       "\n",
       "julia> DataFrame(a=1:2, b=0) # keyword argument constructor\n",
       "2×2 DataFrame\n",
       " Row │ a      b\n",
       "     │ Int64  Int64\n",
       "─────┼──────────────\n",
       "   1 │     1      0\n",
       "   2 │     2      0\n",
       "\n",
       "julia> DataFrame([[1, 2], [0, 0]], [:a, :b]) # vector of vectors constructor\n",
       "2×2 DataFrame\n",
       " Row │ a      b\n",
       "     │ Int64  Int64\n",
       "─────┼──────────────\n",
       "   1 │     1      0\n",
       "   2 │     2      0\n",
       "\n",
       "julia> DataFrame([1 0; 2 0], :auto) # matrix constructor\n",
       "2×2 DataFrame\n",
       " Row │ x1     x2\n",
       "     │ Int64  Int64\n",
       "─────┼──────────────\n",
       "   1 │     1      0\n",
       "   2 │     2      0\n",
       "```\n"
      ],
      "text/plain": [
       "\u001b[36m  DataFrame <: AbstractDataFrame\u001b[39m\n",
       "\n",
       "  An AbstractDataFrame that stores a set of named columns\n",
       "\n",
       "  The columns are normally AbstractVectors stored in memory, particularly a\n",
       "  Vector or CategoricalVector.\n",
       "\n",
       "\u001b[1m  Constructors\u001b[22m\n",
       "\u001b[1m  ≡≡≡≡≡≡≡≡≡≡≡≡≡≡\u001b[22m\n",
       "\n",
       "\u001b[36m  DataFrame(pairs::Pair...; makeunique::Bool=false, copycols::Bool=true)\u001b[39m\n",
       "\u001b[36m  DataFrame(pairs::AbstractVector{<:Pair}; makeunique::Bool=false, copycols::Bool=true)\u001b[39m\n",
       "\u001b[36m  DataFrame(ds::AbstractDict; copycols::Bool=true)\u001b[39m\n",
       "\u001b[36m  DataFrame(kwargs..., copycols::Bool=true)\u001b[39m\n",
       "\u001b[36m  \u001b[39m\n",
       "\u001b[36m  DataFrame(columns::AbstractVecOrMat, names::Union{AbstractVector, Symbol};\u001b[39m\n",
       "\u001b[36m            makeunique::Bool=false, copycols::Bool=true)\u001b[39m\n",
       "\u001b[36m  \u001b[39m\n",
       "\u001b[36m  DataFrame(table; copycols::Bool=true)\u001b[39m\n",
       "\u001b[36m  DataFrame(::DataFrameRow)\u001b[39m\n",
       "\u001b[36m  DataFrame(::GroupedDataFrame; keepkeys::Bool=true)\u001b[39m\n",
       "\n",
       "\u001b[1m  Keyword arguments\u001b[22m\n",
       "\u001b[1m  ≡≡≡≡≡≡≡≡≡≡≡≡≡≡≡≡≡≡≡\u001b[22m\n",
       "\n",
       "    •    \u001b[36mcopycols\u001b[39m : whether vectors passed as columns should be copied; by\n",
       "        default set to \u001b[36mtrue\u001b[39m and the vectors are copied; if set to \u001b[36mfalse\u001b[39m\n",
       "        then the constructor will still copy the passed columns if it is\n",
       "        not possible to construct a \u001b[36mDataFrame\u001b[39m without materializing new\n",
       "        columns.\n",
       "\n",
       "    •    \u001b[36mmakeunique\u001b[39m : if \u001b[36mfalse\u001b[39m (the default), an error will be raised\n",
       "\n",
       "  (note that not all constructors support these keyword arguments)\n",
       "\n",
       "\u001b[1m  Details on behavior of different constructors\u001b[22m\n",
       "\u001b[1m  ≡≡≡≡≡≡≡≡≡≡≡≡≡≡≡≡≡≡≡≡≡≡≡≡≡≡≡≡≡≡≡≡≡≡≡≡≡≡≡≡≡≡≡≡≡≡≡\u001b[22m\n",
       "\n",
       "  It is allowed to pass a vector of \u001b[36mPair\u001b[39ms, a list of \u001b[36mPair\u001b[39ms as positional\n",
       "  arguments, or a list of keyword arguments. In this case each pair is\n",
       "  considered to represent a column name to column value mapping and column\n",
       "  name must be a \u001b[36mSymbol\u001b[39m or string. Alternatively a dictionary can be passed to\n",
       "  the constructor in which case its entries are considered to define the\n",
       "  column name and column value pairs. If the dictionary is a \u001b[36mDict\u001b[39m then column\n",
       "  names will be sorted in the returned \u001b[36mDataFrame\u001b[39m.\n",
       "\n",
       "  In all the constructors described above column value can be a vector which\n",
       "  is consumed as is or an object of any other type (except \u001b[36mAbstractArray\u001b[39m). In\n",
       "  the latter case the passed value is automatically repeated to fill a new\n",
       "  vector of the appropriate length. As a particular rule values stored in a\n",
       "  \u001b[36mRef\u001b[39m or a \u001b[36m0\u001b[39m-dimensional \u001b[36mAbstractArray\u001b[39m are unwrapped and treated in the same\n",
       "  way.\n",
       "\n",
       "  It is also allowed to pass a vector of vectors or a matrix as as the first\n",
       "  argument. In this case the second argument must be a vector of \u001b[36mSymbol\u001b[39ms or\n",
       "  strings specifying column names, or the symbol \u001b[36m:auto\u001b[39m to generate column\n",
       "  names \u001b[36mx1\u001b[39m, \u001b[36mx2\u001b[39m, ... automatically.\n",
       "\n",
       "  If a single positional argument is passed to a \u001b[36mDataFrame\u001b[39m constructor then it\n",
       "  is assumed to be of type that implements the Tables.jl\n",
       "  (https://github.com/JuliaData/Tables.jl) interface using which the returned\n",
       "  \u001b[36mDataFrame\u001b[39m is materialized.\n",
       "\n",
       "  Finally it is allowed to construct a \u001b[36mDataFrame\u001b[39m from a \u001b[36mDataFrameRow\u001b[39m or a\n",
       "  \u001b[36mGroupedDataFrame\u001b[39m. In the latter case the \u001b[36mkeepkeys\u001b[39m keyword argument specifies\n",
       "  whether the resulting \u001b[36mDataFrame\u001b[39m should contain the grouping columns of the\n",
       "  passed \u001b[36mGroupedDataFrame\u001b[39m and the order of rows in the result follows the\n",
       "  order of groups in the \u001b[36mGroupedDataFrame\u001b[39m passed.\n",
       "\n",
       "\u001b[1m  Notes\u001b[22m\n",
       "\u001b[1m  ≡≡≡≡≡≡≡\u001b[22m\n",
       "\n",
       "  The \u001b[36mDataFrame\u001b[39m constructor by default copies all columns vectors passed to\n",
       "  it. Pass the \u001b[36mcopycols=false\u001b[39m keyword argument (where supported) to reuse\n",
       "  vectors without copying them.\n",
       "\n",
       "  By default an error will be raised if duplicates in column names are found.\n",
       "  Pass \u001b[36mmakeunique=true\u001b[39m keyword argument (where supported) to accept duplicate\n",
       "  names, in which case they will be suffixed with \u001b[36m_i\u001b[39m (\u001b[36mi\u001b[39m starting at 1 for the\n",
       "  first duplicate).\n",
       "\n",
       "  If an \u001b[36mAbstractRange\u001b[39m is passed to a \u001b[36mDataFrame\u001b[39m constructor as a column it is\n",
       "  always collected to a \u001b[36mVector\u001b[39m (even if \u001b[36mcopycols=false\u001b[39m). As a general rule\n",
       "  \u001b[36mAbstractRange\u001b[39m values are always materialized to a \u001b[36mVector\u001b[39m by all functions in\n",
       "  DataFrames.jl before being stored in a \u001b[36mDataFrame\u001b[39m.\n",
       "\n",
       "  The \u001b[36mDataFrame\u001b[39m type is designed to allow column types to vary and to be\n",
       "  dynamically changed also after it is constructed. Therefore \u001b[36mDataFrame\u001b[39ms are\n",
       "  not type stable. For performance-critical code that requires type-stability\n",
       "  either use the functionality provided by \u001b[36mselect\u001b[39m/\u001b[36mtransform\u001b[39m/\u001b[36mcombine\u001b[39m functions,\n",
       "  use \u001b[36mTables.columntable\u001b[39m and \u001b[36mTables.namedtupleiterator\u001b[39m functions, use barrier\n",
       "  functions, or provide type assertions to the variables that hold columns\n",
       "  extracted from a \u001b[36mDataFrame\u001b[39m.\n",
       "\n",
       "\u001b[1m  Examples\u001b[22m\n",
       "\u001b[1m  ≡≡≡≡≡≡≡≡≡≡\u001b[22m\n",
       "\n",
       "\u001b[36m  julia> DataFrame((a=[1, 2], b=[3, 4])) # Tables.jl table constructor\u001b[39m\n",
       "\u001b[36m  2×2 DataFrame\u001b[39m\n",
       "\u001b[36m   Row │ a      b\u001b[39m\n",
       "\u001b[36m       │ Int64  Int64\u001b[39m\n",
       "\u001b[36m  ─────┼──────────────\u001b[39m\n",
       "\u001b[36m     1 │     1      3\u001b[39m\n",
       "\u001b[36m     2 │     2      4\u001b[39m\n",
       "\u001b[36m  \u001b[39m\n",
       "\u001b[36m  julia> DataFrame([(a=1, b=0), (a=2, b=0)]) # Tables.jl table constructor\u001b[39m\n",
       "\u001b[36m  2×2 DataFrame\u001b[39m\n",
       "\u001b[36m   Row │ a      b\u001b[39m\n",
       "\u001b[36m       │ Int64  Int64\u001b[39m\n",
       "\u001b[36m  ─────┼──────────────\u001b[39m\n",
       "\u001b[36m     1 │     1      0\u001b[39m\n",
       "\u001b[36m     2 │     2      0\u001b[39m\n",
       "\u001b[36m  \u001b[39m\n",
       "\u001b[36m  julia> DataFrame(\"a\" => 1:2, \"b\" => 0) # Pair constructor\u001b[39m\n",
       "\u001b[36m  2×2 DataFrame\u001b[39m\n",
       "\u001b[36m   Row │ a      b\u001b[39m\n",
       "\u001b[36m       │ Int64  Int64\u001b[39m\n",
       "\u001b[36m  ─────┼──────────────\u001b[39m\n",
       "\u001b[36m     1 │     1      0\u001b[39m\n",
       "\u001b[36m     2 │     2      0\u001b[39m\n",
       "\u001b[36m  \u001b[39m\n",
       "\u001b[36m  julia> DataFrame([:a => 1:2, :b => 0]) # vector of Pairs constructor\u001b[39m\n",
       "\u001b[36m  2×2 DataFrame\u001b[39m\n",
       "\u001b[36m   Row │ a      b\u001b[39m\n",
       "\u001b[36m       │ Int64  Int64\u001b[39m\n",
       "\u001b[36m  ─────┼──────────────\u001b[39m\n",
       "\u001b[36m     1 │     1      0\u001b[39m\n",
       "\u001b[36m     2 │     2      0\u001b[39m\n",
       "\u001b[36m  \u001b[39m\n",
       "\u001b[36m  julia> DataFrame(Dict(:a => 1:2, :b => 0)) # dictionary constructor\u001b[39m\n",
       "\u001b[36m  2×2 DataFrame\u001b[39m\n",
       "\u001b[36m   Row │ a      b\u001b[39m\n",
       "\u001b[36m       │ Int64  Int64\u001b[39m\n",
       "\u001b[36m  ─────┼──────────────\u001b[39m\n",
       "\u001b[36m     1 │     1      0\u001b[39m\n",
       "\u001b[36m     2 │     2      0\u001b[39m\n",
       "\u001b[36m  \u001b[39m\n",
       "\u001b[36m  julia> DataFrame(a=1:2, b=0) # keyword argument constructor\u001b[39m\n",
       "\u001b[36m  2×2 DataFrame\u001b[39m\n",
       "\u001b[36m   Row │ a      b\u001b[39m\n",
       "\u001b[36m       │ Int64  Int64\u001b[39m\n",
       "\u001b[36m  ─────┼──────────────\u001b[39m\n",
       "\u001b[36m     1 │     1      0\u001b[39m\n",
       "\u001b[36m     2 │     2      0\u001b[39m\n",
       "\u001b[36m  \u001b[39m\n",
       "\u001b[36m  julia> DataFrame([[1, 2], [0, 0]], [:a, :b]) # vector of vectors constructor\u001b[39m\n",
       "\u001b[36m  2×2 DataFrame\u001b[39m\n",
       "\u001b[36m   Row │ a      b\u001b[39m\n",
       "\u001b[36m       │ Int64  Int64\u001b[39m\n",
       "\u001b[36m  ─────┼──────────────\u001b[39m\n",
       "\u001b[36m     1 │     1      0\u001b[39m\n",
       "\u001b[36m     2 │     2      0\u001b[39m\n",
       "\u001b[36m  \u001b[39m\n",
       "\u001b[36m  julia> DataFrame([1 0; 2 0], :auto) # matrix constructor\u001b[39m\n",
       "\u001b[36m  2×2 DataFrame\u001b[39m\n",
       "\u001b[36m   Row │ x1     x2\u001b[39m\n",
       "\u001b[36m       │ Int64  Int64\u001b[39m\n",
       "\u001b[36m  ─────┼──────────────\u001b[39m\n",
       "\u001b[36m     1 │     1      0\u001b[39m\n",
       "\u001b[36m     2 │     2      0\u001b[39m"
      ]
     },
     "execution_count": 2,
     "metadata": {},
     "output_type": "execute_result"
    }
   ],
   "source": [
    "?(DataFrame)"
   ]
  },
  {
   "cell_type": "code",
   "execution_count": 3,
   "metadata": {},
   "outputs": [
    {
     "data": {
      "text/plain": [
       "(:H => [5, 10], :J => [10, 15])"
      ]
     },
     "execution_count": 3,
     "metadata": {},
     "output_type": "execute_result"
    }
   ],
   "source": [
    "tuples = (:H => [5, 10], :J => [10, 15])"
   ]
  },
  {
   "cell_type": "code",
   "execution_count": 4,
   "metadata": {},
   "outputs": [
    {
     "data": {
      "text/plain": [
       "Tuple{Pair{Symbol,Array{Int64,1}},Pair{Symbol,Array{Int64,1}}}"
      ]
     },
     "execution_count": 4,
     "metadata": {},
     "output_type": "execute_result"
    }
   ],
   "source": [
    "typeof(tuples)"
   ]
  },
  {
   "cell_type": "code",
   "execution_count": 5,
   "metadata": {},
   "outputs": [
    {
     "data": {
      "text/html": [
       "<table class=\"data-frame\"><thead><tr><th></th><th>H</th><th>J</th></tr><tr><th></th><th>Int64</th><th>Int64</th></tr></thead><tbody><p>2 rows × 2 columns</p><tr><th>1</th><td>5</td><td>10</td></tr><tr><th>2</th><td>10</td><td>15</td></tr></tbody></table>"
      ],
      "text/latex": [
       "\\begin{tabular}{r|cc}\n",
       "\t& H & J\\\\\n",
       "\t\\hline\n",
       "\t& Int64 & Int64\\\\\n",
       "\t\\hline\n",
       "\t1 & 5 & 10 \\\\\n",
       "\t2 & 10 & 15 \\\\\n",
       "\\end{tabular}\n"
      ],
      "text/plain": [
       "\u001b[1m2×2 DataFrame\u001b[0m\n",
       "\u001b[1m Row \u001b[0m│\u001b[1m H     \u001b[0m\u001b[1m J     \u001b[0m\n",
       "\u001b[1m     \u001b[0m│\u001b[90m Int64 \u001b[0m\u001b[90m Int64 \u001b[0m\n",
       "─────┼──────────────\n",
       "   1 │     5     10\n",
       "   2 │    10     15"
      ]
     },
     "execution_count": 5,
     "metadata": {},
     "output_type": "execute_result"
    }
   ],
   "source": [
    "df = DataFrame(tuples)"
   ]
  },
  {
   "cell_type": "code",
   "execution_count": 6,
   "metadata": {},
   "outputs": [
    {
     "data": {
      "text/plain": [
       "Dict{Symbol,Array{Int64,1}} with 2 entries:\n",
       "  :H => [5, 10, 15, 20]\n",
       "  :J => [1, 2, 3, 4]"
      ]
     },
     "execution_count": 6,
     "metadata": {},
     "output_type": "execute_result"
    }
   ],
   "source": [
    "dict = Dict(:H => [5, 10, 15, 20], :J => [1, 2, 3, 4])"
   ]
  },
  {
   "cell_type": "code",
   "execution_count": 7,
   "metadata": {},
   "outputs": [
    {
     "data": {
      "text/plain": [
       "Dict{Symbol,Array{Int64,1}}"
      ]
     },
     "execution_count": 7,
     "metadata": {},
     "output_type": "execute_result"
    }
   ],
   "source": [
    "typeof(dict)"
   ]
  },
  {
   "cell_type": "code",
   "execution_count": 8,
   "metadata": {},
   "outputs": [
    {
     "data": {
      "text/html": [
       "<table class=\"data-frame\"><thead><tr><th></th><th>H</th><th>J</th></tr><tr><th></th><th>Int64</th><th>Int64</th></tr></thead><tbody><p>4 rows × 2 columns</p><tr><th>1</th><td>5</td><td>1</td></tr><tr><th>2</th><td>10</td><td>2</td></tr><tr><th>3</th><td>15</td><td>3</td></tr><tr><th>4</th><td>20</td><td>4</td></tr></tbody></table>"
      ],
      "text/latex": [
       "\\begin{tabular}{r|cc}\n",
       "\t& H & J\\\\\n",
       "\t\\hline\n",
       "\t& Int64 & Int64\\\\\n",
       "\t\\hline\n",
       "\t1 & 5 & 1 \\\\\n",
       "\t2 & 10 & 2 \\\\\n",
       "\t3 & 15 & 3 \\\\\n",
       "\t4 & 20 & 4 \\\\\n",
       "\\end{tabular}\n"
      ],
      "text/plain": [
       "\u001b[1m4×2 DataFrame\u001b[0m\n",
       "\u001b[1m Row \u001b[0m│\u001b[1m H     \u001b[0m\u001b[1m J     \u001b[0m\n",
       "\u001b[1m     \u001b[0m│\u001b[90m Int64 \u001b[0m\u001b[90m Int64 \u001b[0m\n",
       "─────┼──────────────\n",
       "   1 │     5      1\n",
       "   2 │    10      2\n",
       "   3 │    15      3\n",
       "   4 │    20      4"
      ]
     },
     "execution_count": 8,
     "metadata": {},
     "output_type": "execute_result"
    }
   ],
   "source": [
    "df = DataFrame(dict)"
   ]
  },
  {
   "cell_type": "code",
   "execution_count": 9,
   "metadata": {},
   "outputs": [],
   "source": [
    "using CSV"
   ]
  },
  {
   "cell_type": "code",
   "execution_count": 10,
   "metadata": {},
   "outputs": [
    {
     "data": {
      "text/html": [
       "<table class=\"data-frame\"><thead><tr><th></th><th>Car_Name</th><th>Year</th><th>Selling_Price</th><th>Present_Price</th><th>Kms_Driven</th><th>Fuel_Type</th><th>Seller_Type</th></tr><tr><th></th><th>String</th><th>Int64</th><th>Float64</th><th>Float64</th><th>Int64</th><th>String</th><th>String</th></tr></thead><tbody><p>301 rows × 9 columns (omitted printing of 2 columns)</p><tr><th>1</th><td>ritz</td><td>2014</td><td>3.35</td><td>5.59</td><td>27000</td><td>Petrol</td><td>Dealer</td></tr><tr><th>2</th><td>sx4</td><td>2013</td><td>4.75</td><td>9.54</td><td>43000</td><td>Diesel</td><td>Dealer</td></tr><tr><th>3</th><td>ciaz</td><td>2017</td><td>7.25</td><td>9.85</td><td>6900</td><td>Petrol</td><td>Dealer</td></tr><tr><th>4</th><td>wagon r</td><td>2011</td><td>2.85</td><td>4.15</td><td>5200</td><td>Petrol</td><td>Dealer</td></tr><tr><th>5</th><td>swift</td><td>2014</td><td>4.6</td><td>6.87</td><td>42450</td><td>Diesel</td><td>Dealer</td></tr><tr><th>6</th><td>vitara brezza</td><td>2018</td><td>9.25</td><td>9.83</td><td>2071</td><td>Diesel</td><td>Dealer</td></tr><tr><th>7</th><td>ciaz</td><td>2015</td><td>6.75</td><td>8.12</td><td>18796</td><td>Petrol</td><td>Dealer</td></tr><tr><th>8</th><td>s cross</td><td>2015</td><td>6.5</td><td>8.61</td><td>33429</td><td>Diesel</td><td>Dealer</td></tr><tr><th>9</th><td>ciaz</td><td>2016</td><td>8.75</td><td>8.89</td><td>20273</td><td>Diesel</td><td>Dealer</td></tr><tr><th>10</th><td>ciaz</td><td>2015</td><td>7.45</td><td>8.92</td><td>42367</td><td>Diesel</td><td>Dealer</td></tr><tr><th>11</th><td>alto 800</td><td>2017</td><td>2.85</td><td>3.6</td><td>2135</td><td>Petrol</td><td>Dealer</td></tr><tr><th>12</th><td>ciaz</td><td>2015</td><td>6.85</td><td>10.38</td><td>51000</td><td>Diesel</td><td>Dealer</td></tr><tr><th>13</th><td>ciaz</td><td>2015</td><td>7.5</td><td>9.94</td><td>15000</td><td>Petrol</td><td>Dealer</td></tr><tr><th>14</th><td>ertiga</td><td>2015</td><td>6.1</td><td>7.71</td><td>26000</td><td>Petrol</td><td>Dealer</td></tr><tr><th>15</th><td>dzire</td><td>2009</td><td>2.25</td><td>7.21</td><td>77427</td><td>Petrol</td><td>Dealer</td></tr><tr><th>16</th><td>ertiga</td><td>2016</td><td>7.75</td><td>10.79</td><td>43000</td><td>Diesel</td><td>Dealer</td></tr><tr><th>17</th><td>ertiga</td><td>2015</td><td>7.25</td><td>10.79</td><td>41678</td><td>Diesel</td><td>Dealer</td></tr><tr><th>18</th><td>ertiga</td><td>2016</td><td>7.75</td><td>10.79</td><td>43000</td><td>Diesel</td><td>Dealer</td></tr><tr><th>19</th><td>wagon r</td><td>2015</td><td>3.25</td><td>5.09</td><td>35500</td><td>CNG</td><td>Dealer</td></tr><tr><th>20</th><td>sx4</td><td>2010</td><td>2.65</td><td>7.98</td><td>41442</td><td>Petrol</td><td>Dealer</td></tr><tr><th>21</th><td>alto k10</td><td>2016</td><td>2.85</td><td>3.95</td><td>25000</td><td>Petrol</td><td>Dealer</td></tr><tr><th>22</th><td>ignis</td><td>2017</td><td>4.9</td><td>5.71</td><td>2400</td><td>Petrol</td><td>Dealer</td></tr><tr><th>23</th><td>sx4</td><td>2011</td><td>4.4</td><td>8.01</td><td>50000</td><td>Petrol</td><td>Dealer</td></tr><tr><th>24</th><td>alto k10</td><td>2014</td><td>2.5</td><td>3.46</td><td>45280</td><td>Petrol</td><td>Dealer</td></tr><tr><th>25</th><td>wagon r</td><td>2013</td><td>2.9</td><td>4.41</td><td>56879</td><td>Petrol</td><td>Dealer</td></tr><tr><th>26</th><td>swift</td><td>2011</td><td>3.0</td><td>4.99</td><td>20000</td><td>Petrol</td><td>Dealer</td></tr><tr><th>27</th><td>swift</td><td>2013</td><td>4.15</td><td>5.87</td><td>55138</td><td>Petrol</td><td>Dealer</td></tr><tr><th>28</th><td>swift</td><td>2017</td><td>6.0</td><td>6.49</td><td>16200</td><td>Petrol</td><td>Individual</td></tr><tr><th>29</th><td>alto k10</td><td>2010</td><td>1.95</td><td>3.95</td><td>44542</td><td>Petrol</td><td>Dealer</td></tr><tr><th>30</th><td>ciaz</td><td>2015</td><td>7.45</td><td>10.38</td><td>45000</td><td>Diesel</td><td>Dealer</td></tr><tr><th>&vellip;</th><td>&vellip;</td><td>&vellip;</td><td>&vellip;</td><td>&vellip;</td><td>&vellip;</td><td>&vellip;</td><td>&vellip;</td></tr></tbody></table>"
      ],
      "text/latex": [
       "\\begin{tabular}{r|cccccccc}\n",
       "\t& Car\\_Name & Year & Selling\\_Price & Present\\_Price & Kms\\_Driven & Fuel\\_Type & Seller\\_Type & \\\\\n",
       "\t\\hline\n",
       "\t& String & Int64 & Float64 & Float64 & Int64 & String & String & \\\\\n",
       "\t\\hline\n",
       "\t1 & ritz & 2014 & 3.35 & 5.59 & 27000 & Petrol & Dealer & $\\dots$ \\\\\n",
       "\t2 & sx4 & 2013 & 4.75 & 9.54 & 43000 & Diesel & Dealer & $\\dots$ \\\\\n",
       "\t3 & ciaz & 2017 & 7.25 & 9.85 & 6900 & Petrol & Dealer & $\\dots$ \\\\\n",
       "\t4 & wagon r & 2011 & 2.85 & 4.15 & 5200 & Petrol & Dealer & $\\dots$ \\\\\n",
       "\t5 & swift & 2014 & 4.6 & 6.87 & 42450 & Diesel & Dealer & $\\dots$ \\\\\n",
       "\t6 & vitara brezza & 2018 & 9.25 & 9.83 & 2071 & Diesel & Dealer & $\\dots$ \\\\\n",
       "\t7 & ciaz & 2015 & 6.75 & 8.12 & 18796 & Petrol & Dealer & $\\dots$ \\\\\n",
       "\t8 & s cross & 2015 & 6.5 & 8.61 & 33429 & Diesel & Dealer & $\\dots$ \\\\\n",
       "\t9 & ciaz & 2016 & 8.75 & 8.89 & 20273 & Diesel & Dealer & $\\dots$ \\\\\n",
       "\t10 & ciaz & 2015 & 7.45 & 8.92 & 42367 & Diesel & Dealer & $\\dots$ \\\\\n",
       "\t11 & alto 800 & 2017 & 2.85 & 3.6 & 2135 & Petrol & Dealer & $\\dots$ \\\\\n",
       "\t12 & ciaz & 2015 & 6.85 & 10.38 & 51000 & Diesel & Dealer & $\\dots$ \\\\\n",
       "\t13 & ciaz & 2015 & 7.5 & 9.94 & 15000 & Petrol & Dealer & $\\dots$ \\\\\n",
       "\t14 & ertiga & 2015 & 6.1 & 7.71 & 26000 & Petrol & Dealer & $\\dots$ \\\\\n",
       "\t15 & dzire & 2009 & 2.25 & 7.21 & 77427 & Petrol & Dealer & $\\dots$ \\\\\n",
       "\t16 & ertiga & 2016 & 7.75 & 10.79 & 43000 & Diesel & Dealer & $\\dots$ \\\\\n",
       "\t17 & ertiga & 2015 & 7.25 & 10.79 & 41678 & Diesel & Dealer & $\\dots$ \\\\\n",
       "\t18 & ertiga & 2016 & 7.75 & 10.79 & 43000 & Diesel & Dealer & $\\dots$ \\\\\n",
       "\t19 & wagon r & 2015 & 3.25 & 5.09 & 35500 & CNG & Dealer & $\\dots$ \\\\\n",
       "\t20 & sx4 & 2010 & 2.65 & 7.98 & 41442 & Petrol & Dealer & $\\dots$ \\\\\n",
       "\t21 & alto k10 & 2016 & 2.85 & 3.95 & 25000 & Petrol & Dealer & $\\dots$ \\\\\n",
       "\t22 & ignis & 2017 & 4.9 & 5.71 & 2400 & Petrol & Dealer & $\\dots$ \\\\\n",
       "\t23 & sx4 & 2011 & 4.4 & 8.01 & 50000 & Petrol & Dealer & $\\dots$ \\\\\n",
       "\t24 & alto k10 & 2014 & 2.5 & 3.46 & 45280 & Petrol & Dealer & $\\dots$ \\\\\n",
       "\t25 & wagon r & 2013 & 2.9 & 4.41 & 56879 & Petrol & Dealer & $\\dots$ \\\\\n",
       "\t26 & swift & 2011 & 3.0 & 4.99 & 20000 & Petrol & Dealer & $\\dots$ \\\\\n",
       "\t27 & swift & 2013 & 4.15 & 5.87 & 55138 & Petrol & Dealer & $\\dots$ \\\\\n",
       "\t28 & swift & 2017 & 6.0 & 6.49 & 16200 & Petrol & Individual & $\\dots$ \\\\\n",
       "\t29 & alto k10 & 2010 & 1.95 & 3.95 & 44542 & Petrol & Dealer & $\\dots$ \\\\\n",
       "\t30 & ciaz & 2015 & 7.45 & 10.38 & 45000 & Diesel & Dealer & $\\dots$ \\\\\n",
       "\t$\\dots$ & $\\dots$ & $\\dots$ & $\\dots$ & $\\dots$ & $\\dots$ & $\\dots$ & $\\dots$ &  \\\\\n",
       "\\end{tabular}\n"
      ],
      "text/plain": [
       "\u001b[1m301×9 DataFrame\u001b[0m\n",
       "\u001b[1m Row \u001b[0m│\u001b[1m Car_Name      \u001b[0m\u001b[1m Year  \u001b[0m\u001b[1m Selling_Price \u001b[0m\u001b[1m Present_Price \u001b[0m\u001b[1m Kms_Driven \u001b[0m\u001b[1m Fuel_Ty\u001b[0m ⋯\n",
       "\u001b[1m     \u001b[0m│\u001b[90m String        \u001b[0m\u001b[90m Int64 \u001b[0m\u001b[90m Float64       \u001b[0m\u001b[90m Float64       \u001b[0m\u001b[90m Int64      \u001b[0m\u001b[90m String \u001b[0m ⋯\n",
       "─────┼──────────────────────────────────────────────────────────────────────────\n",
       "   1 │ ritz            2014           3.35           5.59       27000  Petrol  ⋯\n",
       "   2 │ sx4             2013           4.75           9.54       43000  Diesel\n",
       "   3 │ ciaz            2017           7.25           9.85        6900  Petrol\n",
       "   4 │ wagon r         2011           2.85           4.15        5200  Petrol\n",
       "   5 │ swift           2014           4.6            6.87       42450  Diesel  ⋯\n",
       "   6 │ vitara brezza   2018           9.25           9.83        2071  Diesel\n",
       "   7 │ ciaz            2015           6.75           8.12       18796  Petrol\n",
       "   8 │ s cross         2015           6.5            8.61       33429  Diesel\n",
       "   9 │ ciaz            2016           8.75           8.89       20273  Diesel  ⋯\n",
       "  10 │ ciaz            2015           7.45           8.92       42367  Diesel\n",
       "  11 │ alto 800        2017           2.85           3.6         2135  Petrol\n",
       "  ⋮  │       ⋮          ⋮          ⋮              ⋮            ⋮           ⋮   ⋱\n",
       " 292 │ brio            2015           5.4            6.1        31427  Petrol\n",
       " 293 │ jazz            2016           6.4            8.4        12000  Petrol  ⋯\n",
       " 294 │ city            2010           3.25           9.9        38000  Petrol\n",
       " 295 │ amaze           2014           3.75           6.8        33019  Petrol\n",
       " 296 │ city            2015           8.55          13.09       60076  Diesel\n",
       " 297 │ city            2016           9.5           11.6        33988  Diesel  ⋯\n",
       " 298 │ brio            2015           4.0            5.9        60000  Petrol\n",
       " 299 │ city            2009           3.35          11.0        87934  Petrol\n",
       " 300 │ city            2017          11.5           12.5         9000  Diesel\n",
       " 301 │ brio            2016           5.3            5.9         5464  Petrol  ⋯\n",
       "\u001b[31m                                                  4 columns and 280 rows omitted\u001b[0m"
      ]
     },
     "execution_count": 10,
     "metadata": {},
     "output_type": "execute_result"
    }
   ],
   "source": [
    "using DataFrames; df = CSV.read(\"car data.csv\", DataFrame)"
   ]
  },
  {
   "cell_type": "code",
   "execution_count": 11,
   "metadata": {},
   "outputs": [
    {
     "data": {
      "text/html": [
       "<table class=\"data-frame\"><thead><tr><th></th><th>X</th><th>Y</th></tr><tr><th></th><th>Int64</th><th>Int64</th></tr></thead><tbody><p>4 rows × 2 columns</p><tr><th>1</th><td>5</td><td>5</td></tr><tr><th>2</th><td>10</td><td>10</td></tr><tr><th>3</th><td>15</td><td>15</td></tr><tr><th>4</th><td>20</td><td>20</td></tr></tbody></table>"
      ],
      "text/latex": [
       "\\begin{tabular}{r|cc}\n",
       "\t& X & Y\\\\\n",
       "\t\\hline\n",
       "\t& Int64 & Int64\\\\\n",
       "\t\\hline\n",
       "\t1 & 5 & 5 \\\\\n",
       "\t2 & 10 & 10 \\\\\n",
       "\t3 & 15 & 15 \\\\\n",
       "\t4 & 20 & 20 \\\\\n",
       "\\end{tabular}\n"
      ],
      "text/plain": [
       "\u001b[1m4×2 DataFrame\u001b[0m\n",
       "\u001b[1m Row \u001b[0m│\u001b[1m X     \u001b[0m\u001b[1m Y     \u001b[0m\n",
       "\u001b[1m     \u001b[0m│\u001b[90m Int64 \u001b[0m\u001b[90m Int64 \u001b[0m\n",
       "─────┼──────────────\n",
       "   1 │     5      5\n",
       "   2 │    10     10\n",
       "   3 │    15     15\n",
       "   4 │    20     20"
      ]
     },
     "execution_count": 11,
     "metadata": {},
     "output_type": "execute_result"
    }
   ],
   "source": [
    "df = DataFrame(:X => [5,10,15,20], :Y => [5,10,15,20])"
   ]
  },
  {
   "cell_type": "code",
   "execution_count": 12,
   "metadata": {},
   "outputs": [
    {
     "data": {
      "text/html": [
       "<table class=\"data-frame\"><thead><tr><th></th><th>X</th><th>Y</th></tr><tr><th></th><th>Int64</th><th>Int64</th></tr></thead><tbody><p>5 rows × 2 columns</p><tr><th>1</th><td>5</td><td>5</td></tr><tr><th>2</th><td>10</td><td>10</td></tr><tr><th>3</th><td>15</td><td>15</td></tr><tr><th>4</th><td>20</td><td>20</td></tr><tr><th>5</th><td>10</td><td>15</td></tr></tbody></table>"
      ],
      "text/latex": [
       "\\begin{tabular}{r|cc}\n",
       "\t& X & Y\\\\\n",
       "\t\\hline\n",
       "\t& Int64 & Int64\\\\\n",
       "\t\\hline\n",
       "\t1 & 5 & 5 \\\\\n",
       "\t2 & 10 & 10 \\\\\n",
       "\t3 & 15 & 15 \\\\\n",
       "\t4 & 20 & 20 \\\\\n",
       "\t5 & 10 & 15 \\\\\n",
       "\\end{tabular}\n"
      ],
      "text/plain": [
       "\u001b[1m5×2 DataFrame\u001b[0m\n",
       "\u001b[1m Row \u001b[0m│\u001b[1m X     \u001b[0m\u001b[1m Y     \u001b[0m\n",
       "\u001b[1m     \u001b[0m│\u001b[90m Int64 \u001b[0m\u001b[90m Int64 \u001b[0m\n",
       "─────┼──────────────\n",
       "   1 │     5      5\n",
       "   2 │    10     10\n",
       "   3 │    15     15\n",
       "   4 │    20     20\n",
       "   5 │    10     15"
      ]
     },
     "execution_count": 12,
     "metadata": {},
     "output_type": "execute_result"
    }
   ],
   "source": [
    "push!(df, [10, 15])"
   ]
  },
  {
   "cell_type": "code",
   "execution_count": 13,
   "metadata": {},
   "outputs": [
    {
     "data": {
      "text/plain": [
       "5-element Array{Int64,1}:\n",
       "  5\n",
       " 10\n",
       " 15\n",
       " 20\n",
       " 10"
      ]
     },
     "execution_count": 13,
     "metadata": {},
     "output_type": "execute_result"
    }
   ],
   "source": [
    "# Child of struct:\n",
    "df.X"
   ]
  },
  {
   "cell_type": "code",
   "execution_count": 14,
   "metadata": {},
   "outputs": [
    {
     "data": {
      "text/plain": [
       "5-element Array{Int64,1}:\n",
       "  5\n",
       " 10\n",
       " 15\n",
       " 20\n",
       " 10"
      ]
     },
     "execution_count": 14,
     "metadata": {},
     "output_type": "execute_result"
    }
   ],
   "source": [
    "# Key:\n",
    "df[!, :X]"
   ]
  },
  {
   "cell_type": "code",
   "execution_count": 15,
   "metadata": {},
   "outputs": [
    {
     "data": {
      "text/plain": [
       "2-element Array{String,1}:\n",
       " \"X\"\n",
       " \"Y\""
      ]
     },
     "execution_count": 15,
     "metadata": {},
     "output_type": "execute_result"
    }
   ],
   "source": [
    "names(df)"
   ]
  },
  {
   "cell_type": "code",
   "execution_count": 16,
   "metadata": {},
   "outputs": [
    {
     "data": {
      "text/plain": [
       "5-element Array{Int64,1}:\n",
       " 1\n",
       " 2\n",
       " 3\n",
       " 4\n",
       " 5"
      ]
     },
     "execution_count": 16,
     "metadata": {},
     "output_type": "execute_result"
    }
   ],
   "source": [
    "df[!, :Z] = [1, 2, 3, 4, 5]"
   ]
  },
  {
   "cell_type": "code",
   "execution_count": 17,
   "metadata": {},
   "outputs": [
    {
     "name": "stdout",
     "output_type": "stream",
     "text": [
      "\u001b[1m5×3 DataFrame\u001b[0m\n",
      "\u001b[1m Row \u001b[0m│\u001b[1m X     \u001b[0m\u001b[1m Y     \u001b[0m\u001b[1m Z     \u001b[0m\n",
      "\u001b[1m     \u001b[0m│\u001b[90m Int64 \u001b[0m\u001b[90m Int64 \u001b[0m\u001b[90m Int64 \u001b[0m\n",
      "─────┼─────────────────────\n",
      "   1 │     5      5      1\n",
      "   2 │    10     10      2\n",
      "   3 │    15     15      3\n",
      "   4 │    20     20      4\n",
      "   5 │    10     15      5"
     ]
    }
   ],
   "source": [
    "show(df)"
   ]
  },
  {
   "cell_type": "code",
   "execution_count": 18,
   "metadata": {},
   "outputs": [
    {
     "name": "stdout",
     "output_type": "stream",
     "text": [
      "\u001b[1m5×3 DataFrame\u001b[0m\n",
      "\u001b[1m Row \u001b[0m│\u001b[1m X     \u001b[0m\u001b[1m Y     \u001b[0m\u001b[1m Z     \u001b[0m\n",
      "\u001b[1m     \u001b[0m│\u001b[90m Int64 \u001b[0m\u001b[90m Int64 \u001b[0m\u001b[90m Int64 \u001b[0m\n",
      "─────┼─────────────────────\n",
      "   1 │     5      5      1\n",
      "   2 │    10     10      2\n",
      "   3 │    15     15      3\n",
      "   4 │    20     20      4\n",
      "   5 │    10     15      5"
     ]
    }
   ],
   "source": [
    "show(df, allcols = true)"
   ]
  },
  {
   "cell_type": "code",
   "execution_count": 19,
   "metadata": {},
   "outputs": [
    {
     "data": {
      "text/html": [
       "<table class=\"data-frame\"><thead><tr><th></th><th>X</th><th>Y</th><th>Z</th></tr><tr><th></th><th>Int64</th><th>Int64</th><th>Int64</th></tr></thead><tbody><p>2 rows × 3 columns</p><tr><th>1</th><td>5</td><td>5</td><td>1</td></tr><tr><th>2</th><td>10</td><td>10</td><td>2</td></tr></tbody></table>"
      ],
      "text/latex": [
       "\\begin{tabular}{r|ccc}\n",
       "\t& X & Y & Z\\\\\n",
       "\t\\hline\n",
       "\t& Int64 & Int64 & Int64\\\\\n",
       "\t\\hline\n",
       "\t1 & 5 & 5 & 1 \\\\\n",
       "\t2 & 10 & 10 & 2 \\\\\n",
       "\\end{tabular}\n"
      ],
      "text/plain": [
       "\u001b[1m2×3 DataFrame\u001b[0m\n",
       "\u001b[1m Row \u001b[0m│\u001b[1m X     \u001b[0m\u001b[1m Y     \u001b[0m\u001b[1m Z     \u001b[0m\n",
       "\u001b[1m     \u001b[0m│\u001b[90m Int64 \u001b[0m\u001b[90m Int64 \u001b[0m\u001b[90m Int64 \u001b[0m\n",
       "─────┼─────────────────────\n",
       "   1 │     5      5      1\n",
       "   2 │    10     10      2"
      ]
     },
     "execution_count": 19,
     "metadata": {},
     "output_type": "execute_result"
    }
   ],
   "source": [
    "first(df, 2)"
   ]
  },
  {
   "cell_type": "code",
   "execution_count": 20,
   "metadata": {},
   "outputs": [
    {
     "data": {
      "text/html": [
       "<table class=\"data-frame\"><thead><tr><th></th><th>X</th><th>Y</th><th>Z</th></tr><tr><th></th><th>Int64</th><th>Int64</th><th>Int64</th></tr></thead><tbody><p>3 rows × 3 columns</p><tr><th>1</th><td>15</td><td>15</td><td>3</td></tr><tr><th>2</th><td>20</td><td>20</td><td>4</td></tr><tr><th>3</th><td>10</td><td>15</td><td>5</td></tr></tbody></table>"
      ],
      "text/latex": [
       "\\begin{tabular}{r|ccc}\n",
       "\t& X & Y & Z\\\\\n",
       "\t\\hline\n",
       "\t& Int64 & Int64 & Int64\\\\\n",
       "\t\\hline\n",
       "\t1 & 15 & 15 & 3 \\\\\n",
       "\t2 & 20 & 20 & 4 \\\\\n",
       "\t3 & 10 & 15 & 5 \\\\\n",
       "\\end{tabular}\n"
      ],
      "text/plain": [
       "\u001b[1m3×3 DataFrame\u001b[0m\n",
       "\u001b[1m Row \u001b[0m│\u001b[1m X     \u001b[0m\u001b[1m Y     \u001b[0m\u001b[1m Z     \u001b[0m\n",
       "\u001b[1m     \u001b[0m│\u001b[90m Int64 \u001b[0m\u001b[90m Int64 \u001b[0m\u001b[90m Int64 \u001b[0m\n",
       "─────┼─────────────────────\n",
       "   1 │    15     15      3\n",
       "   2 │    20     20      4\n",
       "   3 │    10     15      5"
      ]
     },
     "execution_count": 20,
     "metadata": {},
     "output_type": "execute_result"
    }
   ],
   "source": [
    "last(df, 3)"
   ]
  },
  {
   "cell_type": "code",
   "execution_count": 21,
   "metadata": {},
   "outputs": [
    {
     "data": {
      "text/html": [
       "<table class=\"data-frame\"><thead><tr><th></th><th>X</th><th>Y</th><th>Z</th></tr><tr><th></th><th>Int64</th><th>Int64</th><th>Int64</th></tr></thead><tbody><p>3 rows × 3 columns</p><tr><th>1</th><td>10</td><td>10</td><td>2</td></tr><tr><th>2</th><td>15</td><td>15</td><td>3</td></tr><tr><th>3</th><td>20</td><td>20</td><td>4</td></tr></tbody></table>"
      ],
      "text/latex": [
       "\\begin{tabular}{r|ccc}\n",
       "\t& X & Y & Z\\\\\n",
       "\t\\hline\n",
       "\t& Int64 & Int64 & Int64\\\\\n",
       "\t\\hline\n",
       "\t1 & 10 & 10 & 2 \\\\\n",
       "\t2 & 15 & 15 & 3 \\\\\n",
       "\t3 & 20 & 20 & 4 \\\\\n",
       "\\end{tabular}\n"
      ],
      "text/plain": [
       "\u001b[1m3×3 DataFrame\u001b[0m\n",
       "\u001b[1m Row \u001b[0m│\u001b[1m X     \u001b[0m\u001b[1m Y     \u001b[0m\u001b[1m Z     \u001b[0m\n",
       "\u001b[1m     \u001b[0m│\u001b[90m Int64 \u001b[0m\u001b[90m Int64 \u001b[0m\u001b[90m Int64 \u001b[0m\n",
       "─────┼─────────────────────\n",
       "   1 │    10     10      2\n",
       "   2 │    15     15      3\n",
       "   3 │    20     20      4"
      ]
     },
     "execution_count": 21,
     "metadata": {},
     "output_type": "execute_result"
    }
   ],
   "source": [
    "df[2:4, :]"
   ]
  },
  {
   "cell_type": "code",
   "execution_count": 22,
   "metadata": {},
   "outputs": [
    {
     "data": {
      "text/html": [
       "<table class=\"data-frame\"><thead><tr><th></th><th>X</th><th>Y</th><th>Z</th></tr><tr><th></th><th>Int64</th><th>Int64</th><th>Int64</th></tr></thead><tbody><p>2 rows × 3 columns</p><tr><th>1</th><td>5</td><td>5</td><td>1</td></tr><tr><th>2</th><td>10</td><td>15</td><td>5</td></tr></tbody></table>"
      ],
      "text/latex": [
       "\\begin{tabular}{r|ccc}\n",
       "\t& X & Y & Z\\\\\n",
       "\t\\hline\n",
       "\t& Int64 & Int64 & Int64\\\\\n",
       "\t\\hline\n",
       "\t1 & 5 & 5 & 1 \\\\\n",
       "\t2 & 10 & 15 & 5 \\\\\n",
       "\\end{tabular}\n"
      ],
      "text/plain": [
       "\u001b[1m2×3 DataFrame\u001b[0m\n",
       "\u001b[1m Row \u001b[0m│\u001b[1m X     \u001b[0m\u001b[1m Y     \u001b[0m\u001b[1m Z     \u001b[0m\n",
       "\u001b[1m     \u001b[0m│\u001b[90m Int64 \u001b[0m\u001b[90m Int64 \u001b[0m\u001b[90m Int64 \u001b[0m\n",
       "─────┼─────────────────────\n",
       "   1 │     5      5      1\n",
       "   2 │    10     15      5"
      ]
     },
     "execution_count": 22,
     "metadata": {},
     "output_type": "execute_result"
    }
   ],
   "source": [
    "df[Not(2:4), :]"
   ]
  },
  {
   "cell_type": "code",
   "execution_count": 23,
   "metadata": {},
   "outputs": [
    {
     "name": "stdout",
     "output_type": "stream",
     "text": [
      "\u001b[1m5×3 DataFrame\u001b[0m\n",
      "\u001b[1m Row \u001b[0m│\u001b[1m X     \u001b[0m\u001b[1m Y     \u001b[0m\u001b[1m Z     \u001b[0m\n",
      "\u001b[1m     \u001b[0m│\u001b[90m Int64 \u001b[0m\u001b[90m Int64 \u001b[0m\u001b[90m Int64 \u001b[0m\n",
      "─────┼─────────────────────\n",
      "   1 │     5      5      1\n",
      "   2 │    10     10      2\n",
      "   3 │    15     15      3\n",
      "   4 │    20     20      4\n",
      "   5 │    10     15      5"
     ]
    }
   ],
   "source": [
    "show(df)"
   ]
  },
  {
   "cell_type": "code",
   "execution_count": 24,
   "metadata": {},
   "outputs": [
    {
     "data": {
      "text/plain": [
       "10"
      ]
     },
     "execution_count": 24,
     "metadata": {},
     "output_type": "execute_result"
    }
   ],
   "source": [
    "df[2, 2]"
   ]
  },
  {
   "cell_type": "code",
   "execution_count": 27,
   "metadata": {},
   "outputs": [
    {
     "data": {
      "text/html": [
       "<table class=\"data-frame\"><thead><tr><th></th><th>A</th><th>Y</th></tr><tr><th></th><th>Int64</th><th>Int64</th></tr></thead><tbody><p>5 rows × 2 columns</p><tr><th>1</th><td>5</td><td>5</td></tr><tr><th>2</th><td>10</td><td>10</td></tr><tr><th>3</th><td>15</td><td>15</td></tr><tr><th>4</th><td>20</td><td>20</td></tr><tr><th>5</th><td>25</td><td>15</td></tr></tbody></table>"
      ],
      "text/latex": [
       "\\begin{tabular}{r|cc}\n",
       "\t& A & Y\\\\\n",
       "\t\\hline\n",
       "\t& Int64 & Int64\\\\\n",
       "\t\\hline\n",
       "\t1 & 5 & 5 \\\\\n",
       "\t2 & 10 & 10 \\\\\n",
       "\t3 & 15 & 15 \\\\\n",
       "\t4 & 20 & 20 \\\\\n",
       "\t5 & 25 & 15 \\\\\n",
       "\\end{tabular}\n"
      ],
      "text/plain": [
       "\u001b[1m5×2 DataFrame\u001b[0m\n",
       "\u001b[1m Row \u001b[0m│\u001b[1m A     \u001b[0m\u001b[1m Y     \u001b[0m\n",
       "\u001b[1m     \u001b[0m│\u001b[90m Int64 \u001b[0m\u001b[90m Int64 \u001b[0m\n",
       "─────┼──────────────\n",
       "   1 │     5      5\n",
       "   2 │    10     10\n",
       "   3 │    15     15\n",
       "   4 │    20     20\n",
       "   5 │    25     15"
      ]
     },
     "execution_count": 27,
     "metadata": {},
     "output_type": "execute_result"
    }
   ],
   "source": [
    "df2 = DataFrame(:A => [5, 10, 15, 20, 25], :Y => [5, 10, 15, 20, 15])"
   ]
  },
  {
   "cell_type": "code",
   "execution_count": 28,
   "metadata": {},
   "outputs": [
    {
     "data": {
      "text/html": [
       "<table class=\"data-frame\"><thead><tr><th></th><th>X</th><th>Y</th><th>Z</th><th>A</th></tr><tr><th></th><th>Int64</th><th>Int64</th><th>Int64</th><th>Int64</th></tr></thead><tbody><p>7 rows × 4 columns</p><tr><th>1</th><td>5</td><td>5</td><td>1</td><td>5</td></tr><tr><th>2</th><td>10</td><td>10</td><td>2</td><td>10</td></tr><tr><th>3</th><td>15</td><td>15</td><td>3</td><td>15</td></tr><tr><th>4</th><td>15</td><td>15</td><td>3</td><td>25</td></tr><tr><th>5</th><td>20</td><td>20</td><td>4</td><td>20</td></tr><tr><th>6</th><td>10</td><td>15</td><td>5</td><td>15</td></tr><tr><th>7</th><td>10</td><td>15</td><td>5</td><td>25</td></tr></tbody></table>"
      ],
      "text/latex": [
       "\\begin{tabular}{r|cccc}\n",
       "\t& X & Y & Z & A\\\\\n",
       "\t\\hline\n",
       "\t& Int64 & Int64 & Int64 & Int64\\\\\n",
       "\t\\hline\n",
       "\t1 & 5 & 5 & 1 & 5 \\\\\n",
       "\t2 & 10 & 10 & 2 & 10 \\\\\n",
       "\t3 & 15 & 15 & 3 & 15 \\\\\n",
       "\t4 & 15 & 15 & 3 & 25 \\\\\n",
       "\t5 & 20 & 20 & 4 & 20 \\\\\n",
       "\t6 & 10 & 15 & 5 & 15 \\\\\n",
       "\t7 & 10 & 15 & 5 & 25 \\\\\n",
       "\\end{tabular}\n"
      ],
      "text/plain": [
       "\u001b[1m7×4 DataFrame\u001b[0m\n",
       "\u001b[1m Row \u001b[0m│\u001b[1m X     \u001b[0m\u001b[1m Y     \u001b[0m\u001b[1m Z     \u001b[0m\u001b[1m A     \u001b[0m\n",
       "\u001b[1m     \u001b[0m│\u001b[90m Int64 \u001b[0m\u001b[90m Int64 \u001b[0m\u001b[90m Int64 \u001b[0m\u001b[90m Int64 \u001b[0m\n",
       "─────┼────────────────────────────\n",
       "   1 │     5      5      1      5\n",
       "   2 │    10     10      2     10\n",
       "   3 │    15     15      3     15\n",
       "   4 │    15     15      3     25\n",
       "   5 │    20     20      4     20\n",
       "   6 │    10     15      5     15\n",
       "   7 │    10     15      5     25"
      ]
     },
     "execution_count": 28,
     "metadata": {},
     "output_type": "execute_result"
    }
   ],
   "source": [
    "innerjoin(df, df2, on = :Y)"
   ]
  },
  {
   "cell_type": "code",
   "execution_count": 29,
   "metadata": {},
   "outputs": [
    {
     "name": "stdout",
     "output_type": "stream",
     "text": [
      "search: \u001b[0m\u001b[1mo\u001b[22m\u001b[0m\u001b[1mu\u001b[22m\u001b[0m\u001b[1mt\u001b[22m\u001b[0m\u001b[1me\u001b[22m\u001b[0m\u001b[1mr\u001b[22m\u001b[0m\u001b[1mj\u001b[22m\u001b[0m\u001b[1mo\u001b[22m\u001b[0m\u001b[1mi\u001b[22m\u001b[0m\u001b[1mn\u001b[22m\n",
      "\n"
     ]
    },
    {
     "data": {
      "text/latex": [
       "\\begin{verbatim}\n",
       "outerjoin(df1, df2; on, makeunique=false, indicator=nothing, validate=(false, false),\n",
       "          renamecols=(identity => identity), matchmissing=:error)\n",
       "outerjoin(df1, df2, dfs...; on, makeunique = false,\n",
       "          validate = (false, false), matchmissing=:error)\n",
       "\\end{verbatim}\n",
       "Perform an outer join of two or more data frame objects and return a \\texttt{DataFrame} containing the result. An outer join includes rows with keys that appear in any of the passed data frames.\n",
       "\n",
       "The order of rows in the result is undefined and may change in the future releases.\n",
       "\n",
       "\\section{Arguments}\n",
       "\\begin{itemize}\n",
       "\\item \\texttt{df1}, \\texttt{df2}, \\texttt{dfs...} : the \\texttt{AbstractDataFrames} to be joined\n",
       "\n",
       "\\end{itemize}\n",
       "\\section{Keyword Arguments}\n",
       "\\begin{itemize}\n",
       "\\item \\texttt{on} : A column name to join \\texttt{df1} and \\texttt{df2} on. If the columns on which \\texttt{df1} and \\texttt{df2} will be joined have different names, then a \\texttt{left=>right} pair can be passed. It is also allowed to perform a join on multiple columns, in which case a vector of column names or column name pairs can be passed (mixing names and pairs is allowed). If more than two data frames are joined then only a column name or a vector of column names are allowed. \\texttt{on} is a required argument.\n",
       "\n",
       "\n",
       "\\item \\texttt{makeunique} : if \\texttt{false} (the default), an error will be raised if duplicate names are found in columns not joined on; if \\texttt{true}, duplicate names will be suffixed with \\texttt{\\_i} (\\texttt{i} starting at 1 for the first duplicate).\n",
       "\n",
       "\n",
       "\\item \\texttt{indicator} : Default: \\texttt{nothing}. If a \\texttt{Symbol} or string, adds categorical indicator column with the given name for whether a row appeared in only \\texttt{df1} (\\texttt{\"left\\_only\"}), only \\texttt{df2} (\\texttt{\"right\\_only\"}) or in both (\\texttt{\"both\"}). If the name is already in use, the column name will be modified if \\texttt{makeunique=true}. This argument is only supported when joining exactly two data frames.\n",
       "\n",
       "\n",
       "\\item \\texttt{validate} : whether to check that columns passed as the \\texttt{on} argument define unique keys in each input data frame (according to \\texttt{isequal}). Can be a tuple or a pair, with the first element indicating whether to run check for \\texttt{df1} and the second element for \\texttt{df2}. By default no check is performed.\n",
       "\n",
       "\n",
       "\\item \\texttt{renamecols} : a \\texttt{Pair} specifying how columns of left and right data frames should be renamed in the resulting data frame. Each element of the pair can be a string or a \\texttt{Symbol} can be passed in which case it is appended to the original column name; alternatively a function can be passed in which case it is applied to each column name, which is passed to it as a \\texttt{String}. Note that \\texttt{renamecols} does not affect \\texttt{on} columns, whose names are always taken from the left data frame and left unchanged.\n",
       "\n",
       "\n",
       "\\item \\texttt{matchmissing} : if equal to \\texttt{:error} throw an error if \\texttt{missing} is present in \\texttt{on} columns; if equal to \\texttt{:equal} then \\texttt{missing} is allowed and missings are matched (\\texttt{isequal} is used for comparisons of rows for equality)\n",
       "\n",
       "\\end{itemize}\n",
       "All columns of the returned data table will support missing values.\n",
       "\n",
       "It is not allowed to join on columns that contain \\texttt{NaN} or \\texttt{-0.0} in real or imaginary part of the number. If you need to perform a join on such values use CategoricalArrays.jl and transform a column containing such values into a \\texttt{CategoricalVector}.\n",
       "\n",
       "When merging \\texttt{on} categorical columns that differ in the ordering of their levels, the ordering of the left data frame takes precedence over the ordering of the right data frame.\n",
       "\n",
       "If more than two data frames are passed, the join is performed recursively with left associativity. In this case the \\texttt{indicator} keyword argument is not supported and \\texttt{validate} keyword argument is applied recursively with left associativity.\n",
       "\n",
       "See also: \\href{@ref}{\\texttt{innerjoin}}, \\href{@ref}{\\texttt{leftjoin}}, \\href{@ref}{\\texttt{rightjoin}},           \\href{@ref}{\\texttt{semijoin}}, \\href{@ref}{\\texttt{antijoin}}, \\href{@ref}{\\texttt{crossjoin}}.\n",
       "\n",
       "\\section{Examples}\n",
       "\\begin{verbatim}\n",
       "julia> name = DataFrame(ID = [1, 2, 3], Name = [\"John Doe\", \"Jane Doe\", \"Joe Blogs\"])\n",
       "3×2 DataFrame\n",
       " Row │ ID     Name\n",
       "     │ Int64  String\n",
       "─────┼──────────────────\n",
       "   1 │     1  John Doe\n",
       "   2 │     2  Jane Doe\n",
       "   3 │     3  Joe Blogs\n",
       "\n",
       "julia> job = DataFrame(ID = [1, 2, 4], Job = [\"Lawyer\", \"Doctor\", \"Farmer\"])\n",
       "3×2 DataFrame\n",
       " Row │ ID     Job\n",
       "     │ Int64  String\n",
       "─────┼───────────────\n",
       "   1 │     1  Lawyer\n",
       "   2 │     2  Doctor\n",
       "   3 │     4  Farmer\n",
       "\n",
       "julia> outerjoin(name, job, on = :ID)\n",
       "4×3 DataFrame\n",
       " Row │ ID     Name       Job\n",
       "     │ Int64  String?    String?\n",
       "─────┼───────────────────────────\n",
       "   1 │     1  John Doe   Lawyer\n",
       "   2 │     2  Jane Doe   Doctor\n",
       "   3 │     3  Joe Blogs  missing\n",
       "   4 │     4  missing    Farmer\n",
       "\n",
       "julia> job2 = DataFrame(identifier = [1, 2, 4], Job = [\"Lawyer\", \"Doctor\", \"Farmer\"])\n",
       "3×2 DataFrame\n",
       " Row │ identifier  Job\n",
       "     │ Int64       String\n",
       "─────┼────────────────────\n",
       "   1 │          1  Lawyer\n",
       "   2 │          2  Doctor\n",
       "   3 │          4  Farmer\n",
       "\n",
       "julia> rightjoin(name, job2, on = :ID => :identifier, renamecols = \"_left\" => \"_right\")\n",
       "3×3 DataFrame\n",
       " Row │ ID     Name_left  Job_right\n",
       "     │ Int64  String?    String\n",
       "─────┼─────────────────────────────\n",
       "   1 │     1  John Doe   Lawyer\n",
       "   2 │     2  Jane Doe   Doctor\n",
       "   3 │     4  missing    Farmer\n",
       "\n",
       "julia> rightjoin(name, job2, on = [:ID => :identifier], renamecols = uppercase => lowercase)\n",
       "3×3 DataFrame\n",
       " Row │ ID     NAME      job\n",
       "     │ Int64  String?   String\n",
       "─────┼─────────────────────────\n",
       "   1 │     1  John Doe  Lawyer\n",
       "   2 │     2  Jane Doe  Doctor\n",
       "   3 │     4  missing   Farmer\n",
       "\\end{verbatim}\n"
      ],
      "text/markdown": [
       "```\n",
       "outerjoin(df1, df2; on, makeunique=false, indicator=nothing, validate=(false, false),\n",
       "          renamecols=(identity => identity), matchmissing=:error)\n",
       "outerjoin(df1, df2, dfs...; on, makeunique = false,\n",
       "          validate = (false, false), matchmissing=:error)\n",
       "```\n",
       "\n",
       "Perform an outer join of two or more data frame objects and return a `DataFrame` containing the result. An outer join includes rows with keys that appear in any of the passed data frames.\n",
       "\n",
       "The order of rows in the result is undefined and may change in the future releases.\n",
       "\n",
       "# Arguments\n",
       "\n",
       "  * `df1`, `df2`, `dfs...` : the `AbstractDataFrames` to be joined\n",
       "\n",
       "# Keyword Arguments\n",
       "\n",
       "  * `on` : A column name to join `df1` and `df2` on. If the columns on which `df1` and `df2` will be joined have different names, then a `left=>right` pair can be passed. It is also allowed to perform a join on multiple columns, in which case a vector of column names or column name pairs can be passed (mixing names and pairs is allowed). If more than two data frames are joined then only a column name or a vector of column names are allowed. `on` is a required argument.\n",
       "  * `makeunique` : if `false` (the default), an error will be raised if duplicate names are found in columns not joined on; if `true`, duplicate names will be suffixed with `_i` (`i` starting at 1 for the first duplicate).\n",
       "  * `indicator` : Default: `nothing`. If a `Symbol` or string, adds categorical indicator column with the given name for whether a row appeared in only `df1` (`\"left_only\"`), only `df2` (`\"right_only\"`) or in both (`\"both\"`). If the name is already in use, the column name will be modified if `makeunique=true`. This argument is only supported when joining exactly two data frames.\n",
       "  * `validate` : whether to check that columns passed as the `on` argument define unique keys in each input data frame (according to `isequal`). Can be a tuple or a pair, with the first element indicating whether to run check for `df1` and the second element for `df2`. By default no check is performed.\n",
       "  * `renamecols` : a `Pair` specifying how columns of left and right data frames should be renamed in the resulting data frame. Each element of the pair can be a string or a `Symbol` can be passed in which case it is appended to the original column name; alternatively a function can be passed in which case it is applied to each column name, which is passed to it as a `String`. Note that `renamecols` does not affect `on` columns, whose names are always taken from the left data frame and left unchanged.\n",
       "  * `matchmissing` : if equal to `:error` throw an error if `missing` is present in `on` columns; if equal to `:equal` then `missing` is allowed and missings are matched (`isequal` is used for comparisons of rows for equality)\n",
       "\n",
       "All columns of the returned data table will support missing values.\n",
       "\n",
       "It is not allowed to join on columns that contain `NaN` or `-0.0` in real or imaginary part of the number. If you need to perform a join on such values use CategoricalArrays.jl and transform a column containing such values into a `CategoricalVector`.\n",
       "\n",
       "When merging `on` categorical columns that differ in the ordering of their levels, the ordering of the left data frame takes precedence over the ordering of the right data frame.\n",
       "\n",
       "If more than two data frames are passed, the join is performed recursively with left associativity. In this case the `indicator` keyword argument is not supported and `validate` keyword argument is applied recursively with left associativity.\n",
       "\n",
       "See also: [`innerjoin`](@ref), [`leftjoin`](@ref), [`rightjoin`](@ref),           [`semijoin`](@ref), [`antijoin`](@ref), [`crossjoin`](@ref).\n",
       "\n",
       "# Examples\n",
       "\n",
       "```julia\n",
       "julia> name = DataFrame(ID = [1, 2, 3], Name = [\"John Doe\", \"Jane Doe\", \"Joe Blogs\"])\n",
       "3×2 DataFrame\n",
       " Row │ ID     Name\n",
       "     │ Int64  String\n",
       "─────┼──────────────────\n",
       "   1 │     1  John Doe\n",
       "   2 │     2  Jane Doe\n",
       "   3 │     3  Joe Blogs\n",
       "\n",
       "julia> job = DataFrame(ID = [1, 2, 4], Job = [\"Lawyer\", \"Doctor\", \"Farmer\"])\n",
       "3×2 DataFrame\n",
       " Row │ ID     Job\n",
       "     │ Int64  String\n",
       "─────┼───────────────\n",
       "   1 │     1  Lawyer\n",
       "   2 │     2  Doctor\n",
       "   3 │     4  Farmer\n",
       "\n",
       "julia> outerjoin(name, job, on = :ID)\n",
       "4×3 DataFrame\n",
       " Row │ ID     Name       Job\n",
       "     │ Int64  String?    String?\n",
       "─────┼───────────────────────────\n",
       "   1 │     1  John Doe   Lawyer\n",
       "   2 │     2  Jane Doe   Doctor\n",
       "   3 │     3  Joe Blogs  missing\n",
       "   4 │     4  missing    Farmer\n",
       "\n",
       "julia> job2 = DataFrame(identifier = [1, 2, 4], Job = [\"Lawyer\", \"Doctor\", \"Farmer\"])\n",
       "3×2 DataFrame\n",
       " Row │ identifier  Job\n",
       "     │ Int64       String\n",
       "─────┼────────────────────\n",
       "   1 │          1  Lawyer\n",
       "   2 │          2  Doctor\n",
       "   3 │          4  Farmer\n",
       "\n",
       "julia> rightjoin(name, job2, on = :ID => :identifier, renamecols = \"_left\" => \"_right\")\n",
       "3×3 DataFrame\n",
       " Row │ ID     Name_left  Job_right\n",
       "     │ Int64  String?    String\n",
       "─────┼─────────────────────────────\n",
       "   1 │     1  John Doe   Lawyer\n",
       "   2 │     2  Jane Doe   Doctor\n",
       "   3 │     4  missing    Farmer\n",
       "\n",
       "julia> rightjoin(name, job2, on = [:ID => :identifier], renamecols = uppercase => lowercase)\n",
       "3×3 DataFrame\n",
       " Row │ ID     NAME      job\n",
       "     │ Int64  String?   String\n",
       "─────┼─────────────────────────\n",
       "   1 │     1  John Doe  Lawyer\n",
       "   2 │     2  Jane Doe  Doctor\n",
       "   3 │     4  missing   Farmer\n",
       "```\n"
      ],
      "text/plain": [
       "\u001b[36m  outerjoin(df1, df2; on, makeunique=false, indicator=nothing, validate=(false, false),\u001b[39m\n",
       "\u001b[36m            renamecols=(identity => identity), matchmissing=:error)\u001b[39m\n",
       "\u001b[36m  outerjoin(df1, df2, dfs...; on, makeunique = false,\u001b[39m\n",
       "\u001b[36m            validate = (false, false), matchmissing=:error)\u001b[39m\n",
       "\n",
       "  Perform an outer join of two or more data frame objects and return a\n",
       "  \u001b[36mDataFrame\u001b[39m containing the result. An outer join includes rows with keys that\n",
       "  appear in any of the passed data frames.\n",
       "\n",
       "  The order of rows in the result is undefined and may change in the future\n",
       "  releases.\n",
       "\n",
       "\u001b[1m  Arguments\u001b[22m\n",
       "\u001b[1m  ≡≡≡≡≡≡≡≡≡≡≡\u001b[22m\n",
       "\n",
       "    •    \u001b[36mdf1\u001b[39m, \u001b[36mdf2\u001b[39m, \u001b[36mdfs...\u001b[39m : the \u001b[36mAbstractDataFrames\u001b[39m to be joined\n",
       "\n",
       "\u001b[1m  Keyword Arguments\u001b[22m\n",
       "\u001b[1m  ≡≡≡≡≡≡≡≡≡≡≡≡≡≡≡≡≡≡≡\u001b[22m\n",
       "\n",
       "    •    \u001b[36mon\u001b[39m : A column name to join \u001b[36mdf1\u001b[39m and \u001b[36mdf2\u001b[39m on. If the columns on which\n",
       "        \u001b[36mdf1\u001b[39m and \u001b[36mdf2\u001b[39m will be joined have different names, then a\n",
       "        \u001b[36mleft=>right\u001b[39m pair can be passed. It is also allowed to perform a\n",
       "        join on multiple columns, in which case a vector of column names\n",
       "        or column name pairs can be passed (mixing names and pairs is\n",
       "        allowed). If more than two data frames are joined then only a\n",
       "        column name or a vector of column names are allowed. \u001b[36mon\u001b[39m is a\n",
       "        required argument.\n",
       "\n",
       "    •    \u001b[36mmakeunique\u001b[39m : if \u001b[36mfalse\u001b[39m (the default), an error will be raised if\n",
       "        duplicate names are found in columns not joined on; if \u001b[36mtrue\u001b[39m,\n",
       "        duplicate names will be suffixed with \u001b[36m_i\u001b[39m (\u001b[36mi\u001b[39m starting at 1 for the\n",
       "        first duplicate).\n",
       "\n",
       "    •    \u001b[36mindicator\u001b[39m : Default: \u001b[36mnothing\u001b[39m. If a \u001b[36mSymbol\u001b[39m or string, adds\n",
       "        categorical indicator column with the given name for whether a row\n",
       "        appeared in only \u001b[36mdf1\u001b[39m (\u001b[36m\"left_only\"\u001b[39m), only \u001b[36mdf2\u001b[39m (\u001b[36m\"right_only\"\u001b[39m) or in\n",
       "        both (\u001b[36m\"both\"\u001b[39m). If the name is already in use, the column name will\n",
       "        be modified if \u001b[36mmakeunique=true\u001b[39m. This argument is only supported\n",
       "        when joining exactly two data frames.\n",
       "\n",
       "    •    \u001b[36mvalidate\u001b[39m : whether to check that columns passed as the \u001b[36mon\u001b[39m argument\n",
       "        define unique keys in each input data frame (according to\n",
       "        \u001b[36misequal\u001b[39m). Can be a tuple or a pair, with the first element\n",
       "        indicating whether to run check for \u001b[36mdf1\u001b[39m and the second element for\n",
       "        \u001b[36mdf2\u001b[39m. By default no check is performed.\n",
       "\n",
       "    •    \u001b[36mrenamecols\u001b[39m : a \u001b[36mPair\u001b[39m specifying how columns of left and right data\n",
       "        frames should be renamed in the resulting data frame. Each element\n",
       "        of the pair can be a string or a \u001b[36mSymbol\u001b[39m can be passed in which\n",
       "        case it is appended to the original column name; alternatively a\n",
       "        function can be passed in which case it is applied to each column\n",
       "        name, which is passed to it as a \u001b[36mString\u001b[39m. Note that \u001b[36mrenamecols\u001b[39m does\n",
       "        not affect \u001b[36mon\u001b[39m columns, whose names are always taken from the left\n",
       "        data frame and left unchanged.\n",
       "\n",
       "    •    \u001b[36mmatchmissing\u001b[39m : if equal to \u001b[36m:error\u001b[39m throw an error if \u001b[36mmissing\u001b[39m is\n",
       "        present in \u001b[36mon\u001b[39m columns; if equal to \u001b[36m:equal\u001b[39m then \u001b[36mmissing\u001b[39m is allowed\n",
       "        and missings are matched (\u001b[36misequal\u001b[39m is used for comparisons of rows\n",
       "        for equality)\n",
       "\n",
       "  All columns of the returned data table will support missing values.\n",
       "\n",
       "  It is not allowed to join on columns that contain \u001b[36mNaN\u001b[39m or \u001b[36m-0.0\u001b[39m in real or\n",
       "  imaginary part of the number. If you need to perform a join on such values\n",
       "  use CategoricalArrays.jl and transform a column containing such values into\n",
       "  a \u001b[36mCategoricalVector\u001b[39m.\n",
       "\n",
       "  When merging \u001b[36mon\u001b[39m categorical columns that differ in the ordering of their\n",
       "  levels, the ordering of the left data frame takes precedence over the\n",
       "  ordering of the right data frame.\n",
       "\n",
       "  If more than two data frames are passed, the join is performed recursively\n",
       "  with left associativity. In this case the \u001b[36mindicator\u001b[39m keyword argument is not\n",
       "  supported and \u001b[36mvalidate\u001b[39m keyword argument is applied recursively with left\n",
       "  associativity.\n",
       "\n",
       "  See also: \u001b[36minnerjoin\u001b[39m, \u001b[36mleftjoin\u001b[39m, \u001b[36mrightjoin\u001b[39m, \u001b[36msemijoin\u001b[39m, \u001b[36mantijoin\u001b[39m, \u001b[36mcrossjoin\u001b[39m.\n",
       "\n",
       "\u001b[1m  Examples\u001b[22m\n",
       "\u001b[1m  ≡≡≡≡≡≡≡≡≡≡\u001b[22m\n",
       "\n",
       "\u001b[36m  julia> name = DataFrame(ID = [1, 2, 3], Name = [\"John Doe\", \"Jane Doe\", \"Joe Blogs\"])\u001b[39m\n",
       "\u001b[36m  3×2 DataFrame\u001b[39m\n",
       "\u001b[36m   Row │ ID     Name\u001b[39m\n",
       "\u001b[36m       │ Int64  String\u001b[39m\n",
       "\u001b[36m  ─────┼──────────────────\u001b[39m\n",
       "\u001b[36m     1 │     1  John Doe\u001b[39m\n",
       "\u001b[36m     2 │     2  Jane Doe\u001b[39m\n",
       "\u001b[36m     3 │     3  Joe Blogs\u001b[39m\n",
       "\u001b[36m  \u001b[39m\n",
       "\u001b[36m  julia> job = DataFrame(ID = [1, 2, 4], Job = [\"Lawyer\", \"Doctor\", \"Farmer\"])\u001b[39m\n",
       "\u001b[36m  3×2 DataFrame\u001b[39m\n",
       "\u001b[36m   Row │ ID     Job\u001b[39m\n",
       "\u001b[36m       │ Int64  String\u001b[39m\n",
       "\u001b[36m  ─────┼───────────────\u001b[39m\n",
       "\u001b[36m     1 │     1  Lawyer\u001b[39m\n",
       "\u001b[36m     2 │     2  Doctor\u001b[39m\n",
       "\u001b[36m     3 │     4  Farmer\u001b[39m\n",
       "\u001b[36m  \u001b[39m\n",
       "\u001b[36m  julia> outerjoin(name, job, on = :ID)\u001b[39m\n",
       "\u001b[36m  4×3 DataFrame\u001b[39m\n",
       "\u001b[36m   Row │ ID     Name       Job\u001b[39m\n",
       "\u001b[36m       │ Int64  String?    String?\u001b[39m\n",
       "\u001b[36m  ─────┼───────────────────────────\u001b[39m\n",
       "\u001b[36m     1 │     1  John Doe   Lawyer\u001b[39m\n",
       "\u001b[36m     2 │     2  Jane Doe   Doctor\u001b[39m\n",
       "\u001b[36m     3 │     3  Joe Blogs  missing\u001b[39m\n",
       "\u001b[36m     4 │     4  missing    Farmer\u001b[39m\n",
       "\u001b[36m  \u001b[39m\n",
       "\u001b[36m  julia> job2 = DataFrame(identifier = [1, 2, 4], Job = [\"Lawyer\", \"Doctor\", \"Farmer\"])\u001b[39m\n",
       "\u001b[36m  3×2 DataFrame\u001b[39m\n",
       "\u001b[36m   Row │ identifier  Job\u001b[39m\n",
       "\u001b[36m       │ Int64       String\u001b[39m\n",
       "\u001b[36m  ─────┼────────────────────\u001b[39m\n",
       "\u001b[36m     1 │          1  Lawyer\u001b[39m\n",
       "\u001b[36m     2 │          2  Doctor\u001b[39m\n",
       "\u001b[36m     3 │          4  Farmer\u001b[39m\n",
       "\u001b[36m  \u001b[39m\n",
       "\u001b[36m  julia> rightjoin(name, job2, on = :ID => :identifier, renamecols = \"_left\" => \"_right\")\u001b[39m\n",
       "\u001b[36m  3×3 DataFrame\u001b[39m\n",
       "\u001b[36m   Row │ ID     Name_left  Job_right\u001b[39m\n",
       "\u001b[36m       │ Int64  String?    String\u001b[39m\n",
       "\u001b[36m  ─────┼─────────────────────────────\u001b[39m\n",
       "\u001b[36m     1 │     1  John Doe   Lawyer\u001b[39m\n",
       "\u001b[36m     2 │     2  Jane Doe   Doctor\u001b[39m\n",
       "\u001b[36m     3 │     4  missing    Farmer\u001b[39m\n",
       "\u001b[36m  \u001b[39m\n",
       "\u001b[36m  julia> rightjoin(name, job2, on = [:ID => :identifier], renamecols = uppercase => lowercase)\u001b[39m\n",
       "\u001b[36m  3×3 DataFrame\u001b[39m\n",
       "\u001b[36m   Row │ ID     NAME      job\u001b[39m\n",
       "\u001b[36m       │ Int64  String?   String\u001b[39m\n",
       "\u001b[36m  ─────┼─────────────────────────\u001b[39m\n",
       "\u001b[36m     1 │     1  John Doe  Lawyer\u001b[39m\n",
       "\u001b[36m     2 │     2  Jane Doe  Doctor\u001b[39m\n",
       "\u001b[36m     3 │     4  missing   Farmer\u001b[39m"
      ]
     },
     "execution_count": 29,
     "metadata": {},
     "output_type": "execute_result"
    }
   ],
   "source": [
    "?(outerjoin)"
   ]
  },
  {
   "cell_type": "code",
   "execution_count": 33,
   "metadata": {},
   "outputs": [
    {
     "data": {
      "text/html": [
       "<table class=\"data-frame\"><thead><tr><th></th><th>X</th><th>Y</th><th>Z</th></tr><tr><th></th><th>Int64</th><th>Int64</th><th>Int64</th></tr></thead><tbody><p>5 rows × 3 columns</p><tr><th>1</th><td>5</td><td>5</td><td>1</td></tr><tr><th>2</th><td>10</td><td>10</td><td>2</td></tr><tr><th>3</th><td>15</td><td>15</td><td>3</td></tr><tr><th>4</th><td>20</td><td>20</td><td>4</td></tr><tr><th>5</th><td>10</td><td>15</td><td>5</td></tr></tbody></table>"
      ],
      "text/latex": [
       "\\begin{tabular}{r|ccc}\n",
       "\t& X & Y & Z\\\\\n",
       "\t\\hline\n",
       "\t& Int64 & Int64 & Int64\\\\\n",
       "\t\\hline\n",
       "\t1 & 5 & 5 & 1 \\\\\n",
       "\t2 & 10 & 10 & 2 \\\\\n",
       "\t3 & 15 & 15 & 3 \\\\\n",
       "\t4 & 20 & 20 & 4 \\\\\n",
       "\t5 & 10 & 15 & 5 \\\\\n",
       "\\end{tabular}\n"
      ],
      "text/plain": [
       "\u001b[1m5×3 DataFrame\u001b[0m\n",
       "\u001b[1m Row \u001b[0m│\u001b[1m X     \u001b[0m\u001b[1m Y     \u001b[0m\u001b[1m Z     \u001b[0m\n",
       "\u001b[1m     \u001b[0m│\u001b[90m Int64 \u001b[0m\u001b[90m Int64 \u001b[0m\u001b[90m Int64 \u001b[0m\n",
       "─────┼─────────────────────\n",
       "   1 │     5      5      1\n",
       "   2 │    10     10      2\n",
       "   3 │    15     15      3\n",
       "   4 │    20     20      4\n",
       "   5 │    10     15      5"
      ]
     },
     "execution_count": 33,
     "metadata": {},
     "output_type": "execute_result"
    }
   ],
   "source": [
    "df"
   ]
  },
  {
   "cell_type": "code",
   "execution_count": 36,
   "metadata": {},
   "outputs": [
    {
     "data": {
      "text/html": [
       "<table class=\"data-frame\"><thead><tr><th></th><th>X</th><th>Y</th><th>Z</th></tr><tr><th></th><th>Int64</th><th>Int64</th><th>Int64</th></tr></thead><tbody><p>5 rows × 3 columns</p><tr><th>1</th><td>5</td><td>5</td><td>1</td></tr><tr><th>2</th><td>10</td><td>10</td><td>2</td></tr><tr><th>3</th><td>15</td><td>15</td><td>3</td></tr><tr><th>4</th><td>20</td><td>20</td><td>4</td></tr><tr><th>5</th><td>10</td><td>15</td><td>5</td></tr></tbody></table>"
      ],
      "text/latex": [
       "\\begin{tabular}{r|ccc}\n",
       "\t& X & Y & Z\\\\\n",
       "\t\\hline\n",
       "\t& Int64 & Int64 & Int64\\\\\n",
       "\t\\hline\n",
       "\t1 & 5 & 5 & 1 \\\\\n",
       "\t2 & 10 & 10 & 2 \\\\\n",
       "\t3 & 15 & 15 & 3 \\\\\n",
       "\t4 & 20 & 20 & 4 \\\\\n",
       "\t5 & 10 & 15 & 5 \\\\\n",
       "\\end{tabular}\n"
      ],
      "text/plain": [
       "\u001b[1m5×3 DataFrame\u001b[0m\n",
       "\u001b[1m Row \u001b[0m│\u001b[1m X     \u001b[0m\u001b[1m Y     \u001b[0m\u001b[1m Z     \u001b[0m\n",
       "\u001b[1m     \u001b[0m│\u001b[90m Int64 \u001b[0m\u001b[90m Int64 \u001b[0m\u001b[90m Int64 \u001b[0m\n",
       "─────┼─────────────────────\n",
       "   1 │     5      5      1\n",
       "   2 │    10     10      2\n",
       "   3 │    15     15      3\n",
       "   4 │    20     20      4\n",
       "   5 │    10     15      5"
      ]
     },
     "execution_count": 36,
     "metadata": {},
     "output_type": "execute_result"
    }
   ],
   "source": [
    "df"
   ]
  },
  {
   "cell_type": "code",
   "execution_count": 39,
   "metadata": {},
   "outputs": [
    {
     "data": {
      "text/html": [
       "<table class=\"data-frame\"><thead><tr><th></th><th>X</th><th>Y</th><th>Z</th></tr><tr><th></th><th>Int64</th><th>Int64</th><th>Int64</th></tr></thead><tbody><p>5 rows × 3 columns</p><tr><th>1</th><td>5</td><td>5</td><td>1</td></tr><tr><th>2</th><td>10</td><td>10</td><td>2</td></tr><tr><th>3</th><td>10</td><td>15</td><td>5</td></tr><tr><th>4</th><td>15</td><td>15</td><td>3</td></tr><tr><th>5</th><td>20</td><td>20</td><td>4</td></tr></tbody></table>"
      ],
      "text/latex": [
       "\\begin{tabular}{r|ccc}\n",
       "\t& X & Y & Z\\\\\n",
       "\t\\hline\n",
       "\t& Int64 & Int64 & Int64\\\\\n",
       "\t\\hline\n",
       "\t1 & 5 & 5 & 1 \\\\\n",
       "\t2 & 10 & 10 & 2 \\\\\n",
       "\t3 & 10 & 15 & 5 \\\\\n",
       "\t4 & 15 & 15 & 3 \\\\\n",
       "\t5 & 20 & 20 & 4 \\\\\n",
       "\\end{tabular}\n"
      ],
      "text/plain": [
       "\u001b[1m5×3 DataFrame\u001b[0m\n",
       "\u001b[1m Row \u001b[0m│\u001b[1m X     \u001b[0m\u001b[1m Y     \u001b[0m\u001b[1m Z     \u001b[0m\n",
       "\u001b[1m     \u001b[0m│\u001b[90m Int64 \u001b[0m\u001b[90m Int64 \u001b[0m\u001b[90m Int64 \u001b[0m\n",
       "─────┼─────────────────────\n",
       "   1 │     5      5      1\n",
       "   2 │    10     10      2\n",
       "   3 │    10     15      5\n",
       "   4 │    15     15      3\n",
       "   5 │    20     20      4"
      ]
     },
     "execution_count": 39,
     "metadata": {},
     "output_type": "execute_result"
    }
   ],
   "source": [
    "sort!(df)"
   ]
  },
  {
   "cell_type": "code",
   "execution_count": 40,
   "metadata": {},
   "outputs": [
    {
     "data": {
      "text/html": [
       "<table class=\"data-frame\"><thead><tr><th></th><th>A</th><th>B</th></tr><tr><th></th><th>Int64?</th><th>Int64</th></tr></thead><tbody><p>3 rows × 2 columns</p><tr><th>1</th><td>5</td><td>5</td></tr><tr><th>2</th><td><em>missing</em></td><td>10</td></tr><tr><th>3</th><td>6</td><td>2</td></tr></tbody></table>"
      ],
      "text/latex": [
       "\\begin{tabular}{r|cc}\n",
       "\t& A & B\\\\\n",
       "\t\\hline\n",
       "\t& Int64? & Int64\\\\\n",
       "\t\\hline\n",
       "\t1 & 5 & 5 \\\\\n",
       "\t2 & \\emph{missing} & 10 \\\\\n",
       "\t3 & 6 & 2 \\\\\n",
       "\\end{tabular}\n"
      ],
      "text/plain": [
       "\u001b[1m3×2 DataFrame\u001b[0m\n",
       "\u001b[1m Row \u001b[0m│\u001b[1m A       \u001b[0m\u001b[1m B     \u001b[0m\n",
       "\u001b[1m     \u001b[0m│\u001b[90m Int64?  \u001b[0m\u001b[90m Int64 \u001b[0m\n",
       "─────┼────────────────\n",
       "   1 │       5      5\n",
       "   2 │\u001b[90m missing \u001b[0m    10\n",
       "   3 │       6      2"
      ]
     },
     "execution_count": 40,
     "metadata": {},
     "output_type": "execute_result"
    }
   ],
   "source": [
    "df = DataFrame(:A => [5, missing, 6], :B => [5, 10, 2])"
   ]
  },
  {
   "cell_type": "code",
   "execution_count": 41,
   "metadata": {},
   "outputs": [
    {
     "data": {
      "text/html": [
       "<table class=\"data-frame\"><thead><tr><th></th><th>A</th><th>B</th></tr><tr><th></th><th>Int64</th><th>Int64</th></tr></thead><tbody><p>2 rows × 2 columns</p><tr><th>1</th><td>5</td><td>5</td></tr><tr><th>2</th><td>6</td><td>2</td></tr></tbody></table>"
      ],
      "text/latex": [
       "\\begin{tabular}{r|cc}\n",
       "\t& A & B\\\\\n",
       "\t\\hline\n",
       "\t& Int64 & Int64\\\\\n",
       "\t\\hline\n",
       "\t1 & 5 & 5 \\\\\n",
       "\t2 & 6 & 2 \\\\\n",
       "\\end{tabular}\n"
      ],
      "text/plain": [
       "\u001b[1m2×2 DataFrame\u001b[0m\n",
       "\u001b[1m Row \u001b[0m│\u001b[1m A     \u001b[0m\u001b[1m B     \u001b[0m\n",
       "\u001b[1m     \u001b[0m│\u001b[90m Int64 \u001b[0m\u001b[90m Int64 \u001b[0m\n",
       "─────┼──────────────\n",
       "   1 │     5      5\n",
       "   2 │     6      2"
      ]
     },
     "execution_count": 41,
     "metadata": {},
     "output_type": "execute_result"
    }
   ],
   "source": [
    "dropmissing(df)"
   ]
  },
  {
   "cell_type": "code",
   "execution_count": 42,
   "metadata": {},
   "outputs": [
    {
     "data": {
      "text/html": [
       "<table class=\"data-frame\"><thead><tr><th></th><th>A</th><th>B</th></tr><tr><th></th><th>Int64?</th><th>Int64</th></tr></thead><tbody><p>3 rows × 2 columns</p><tr><th>1</th><td>5</td><td>5</td></tr><tr><th>2</th><td><em>missing</em></td><td>10</td></tr><tr><th>3</th><td>6</td><td>2</td></tr></tbody></table>"
      ],
      "text/latex": [
       "\\begin{tabular}{r|cc}\n",
       "\t& A & B\\\\\n",
       "\t\\hline\n",
       "\t& Int64? & Int64\\\\\n",
       "\t\\hline\n",
       "\t1 & 5 & 5 \\\\\n",
       "\t2 & \\emph{missing} & 10 \\\\\n",
       "\t3 & 6 & 2 \\\\\n",
       "\\end{tabular}\n"
      ],
      "text/plain": [
       "\u001b[1m3×2 DataFrame\u001b[0m\n",
       "\u001b[1m Row \u001b[0m│\u001b[1m A       \u001b[0m\u001b[1m B     \u001b[0m\n",
       "\u001b[1m     \u001b[0m│\u001b[90m Int64?  \u001b[0m\u001b[90m Int64 \u001b[0m\n",
       "─────┼────────────────\n",
       "   1 │       5      5\n",
       "   2 │\u001b[90m missing \u001b[0m    10\n",
       "   3 │       6      2"
      ]
     },
     "execution_count": 42,
     "metadata": {},
     "output_type": "execute_result"
    }
   ],
   "source": [
    "df"
   ]
  },
  {
   "cell_type": "code",
   "execution_count": 43,
   "metadata": {},
   "outputs": [
    {
     "data": {
      "text/html": [
       "<table class=\"data-frame\"><thead><tr><th></th><th>A</th><th>B</th></tr><tr><th></th><th>Int64</th><th>Int64</th></tr></thead><tbody><p>2 rows × 2 columns</p><tr><th>1</th><td>5</td><td>5</td></tr><tr><th>2</th><td>6</td><td>2</td></tr></tbody></table>"
      ],
      "text/latex": [
       "\\begin{tabular}{r|cc}\n",
       "\t& A & B\\\\\n",
       "\t\\hline\n",
       "\t& Int64 & Int64\\\\\n",
       "\t\\hline\n",
       "\t1 & 5 & 5 \\\\\n",
       "\t2 & 6 & 2 \\\\\n",
       "\\end{tabular}\n"
      ],
      "text/plain": [
       "\u001b[1m2×2 DataFrame\u001b[0m\n",
       "\u001b[1m Row \u001b[0m│\u001b[1m A     \u001b[0m\u001b[1m B     \u001b[0m\n",
       "\u001b[1m     \u001b[0m│\u001b[90m Int64 \u001b[0m\u001b[90m Int64 \u001b[0m\n",
       "─────┼──────────────\n",
       "   1 │     5      5\n",
       "   2 │     6      2"
      ]
     },
     "execution_count": 43,
     "metadata": {},
     "output_type": "execute_result"
    }
   ],
   "source": [
    "dropmissing(df, :A)"
   ]
  },
  {
   "cell_type": "code",
   "execution_count": null,
   "metadata": {},
   "outputs": [],
   "source": []
  }
 ],
 "metadata": {
  "@webio": {
   "lastCommId": null,
   "lastKernelId": null
  },
  "kernelspec": {
   "display_name": "Julia 1.5.2",
   "language": "julia",
   "name": "julia-1.5"
  },
  "language_info": {
   "file_extension": ".jl",
   "mimetype": "application/julia",
   "name": "julia",
   "version": "1.5.2"
  }
 },
 "nbformat": 4,
 "nbformat_minor": 2
}
