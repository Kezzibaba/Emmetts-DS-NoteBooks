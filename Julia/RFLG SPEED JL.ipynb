{
 "cells": [
  {
   "cell_type": "code",
   "execution_count": 1,
   "metadata": {},
   "outputs": [],
   "source": [
    "using DataFrames\n",
    "using CSV\n",
    "using Lathe.models: RandomForestClassifier\n",
    "using Lathe.preprocess: TrainTestSplit"
   ]
  },
  {
   "cell_type": "code",
   "execution_count": 2,
   "metadata": {},
   "outputs": [
    {
     "data": {
      "text/html": [
       "<table class=\"data-frame\"><thead><tr><th></th><th>Formatted Date</th><th>Summary</th><th>Precip Type</th><th>Temperature (C)</th><th>Apparent Temperature (C)</th></tr><tr><th></th><th>String</th><th>String</th><th>String</th><th>Float64</th><th>Float64</th></tr></thead><tbody><p>96,453 rows × 12 columns (omitted printing of 7 columns)</p><tr><th>1</th><td>2006-04-01 00:00:00.000 +0200</td><td>Partly Cloudy</td><td>rain</td><td>9.47222</td><td>7.38889</td></tr><tr><th>2</th><td>2006-04-01 01:00:00.000 +0200</td><td>Partly Cloudy</td><td>rain</td><td>9.35556</td><td>7.22778</td></tr><tr><th>3</th><td>2006-04-01 02:00:00.000 +0200</td><td>Mostly Cloudy</td><td>rain</td><td>9.37778</td><td>9.37778</td></tr><tr><th>4</th><td>2006-04-01 03:00:00.000 +0200</td><td>Partly Cloudy</td><td>rain</td><td>8.28889</td><td>5.94444</td></tr><tr><th>5</th><td>2006-04-01 04:00:00.000 +0200</td><td>Mostly Cloudy</td><td>rain</td><td>8.75556</td><td>6.97778</td></tr><tr><th>6</th><td>2006-04-01 05:00:00.000 +0200</td><td>Partly Cloudy</td><td>rain</td><td>9.22222</td><td>7.11111</td></tr><tr><th>7</th><td>2006-04-01 06:00:00.000 +0200</td><td>Partly Cloudy</td><td>rain</td><td>7.73333</td><td>5.52222</td></tr><tr><th>8</th><td>2006-04-01 07:00:00.000 +0200</td><td>Partly Cloudy</td><td>rain</td><td>8.77222</td><td>6.52778</td></tr><tr><th>9</th><td>2006-04-01 08:00:00.000 +0200</td><td>Partly Cloudy</td><td>rain</td><td>10.8222</td><td>10.8222</td></tr><tr><th>10</th><td>2006-04-01 09:00:00.000 +0200</td><td>Partly Cloudy</td><td>rain</td><td>13.7722</td><td>13.7722</td></tr><tr><th>11</th><td>2006-04-01 10:00:00.000 +0200</td><td>Partly Cloudy</td><td>rain</td><td>16.0167</td><td>16.0167</td></tr><tr><th>12</th><td>2006-04-01 11:00:00.000 +0200</td><td>Partly Cloudy</td><td>rain</td><td>17.1444</td><td>17.1444</td></tr><tr><th>13</th><td>2006-04-01 12:00:00.000 +0200</td><td>Partly Cloudy</td><td>rain</td><td>17.8</td><td>17.8</td></tr><tr><th>14</th><td>2006-04-01 13:00:00.000 +0200</td><td>Partly Cloudy</td><td>rain</td><td>17.3333</td><td>17.3333</td></tr><tr><th>15</th><td>2006-04-01 14:00:00.000 +0200</td><td>Partly Cloudy</td><td>rain</td><td>18.8778</td><td>18.8778</td></tr><tr><th>16</th><td>2006-04-01 15:00:00.000 +0200</td><td>Partly Cloudy</td><td>rain</td><td>18.9111</td><td>18.9111</td></tr><tr><th>17</th><td>2006-04-01 16:00:00.000 +0200</td><td>Partly Cloudy</td><td>rain</td><td>15.3889</td><td>15.3889</td></tr><tr><th>18</th><td>2006-04-01 17:00:00.000 +0200</td><td>Mostly Cloudy</td><td>rain</td><td>15.55</td><td>15.55</td></tr><tr><th>19</th><td>2006-04-01 18:00:00.000 +0200</td><td>Mostly Cloudy</td><td>rain</td><td>14.2556</td><td>14.2556</td></tr><tr><th>20</th><td>2006-04-01 19:00:00.000 +0200</td><td>Mostly Cloudy</td><td>rain</td><td>13.1444</td><td>13.1444</td></tr><tr><th>21</th><td>2006-04-01 20:00:00.000 +0200</td><td>Mostly Cloudy</td><td>rain</td><td>11.55</td><td>11.55</td></tr><tr><th>22</th><td>2006-04-01 21:00:00.000 +0200</td><td>Mostly Cloudy</td><td>rain</td><td>11.1833</td><td>11.1833</td></tr><tr><th>23</th><td>2006-04-01 22:00:00.000 +0200</td><td>Partly Cloudy</td><td>rain</td><td>10.1167</td><td>10.1167</td></tr><tr><th>24</th><td>2006-04-01 23:00:00.000 +0200</td><td>Mostly Cloudy</td><td>rain</td><td>10.2</td><td>10.2</td></tr><tr><th>25</th><td>2006-04-10 00:00:00.000 +0200</td><td>Partly Cloudy</td><td>rain</td><td>10.4222</td><td>10.4222</td></tr><tr><th>26</th><td>2006-04-10 01:00:00.000 +0200</td><td>Partly Cloudy</td><td>rain</td><td>9.91111</td><td>7.56667</td></tr><tr><th>27</th><td>2006-04-10 02:00:00.000 +0200</td><td>Mostly Cloudy</td><td>rain</td><td>11.1833</td><td>11.1833</td></tr><tr><th>28</th><td>2006-04-10 03:00:00.000 +0200</td><td>Partly Cloudy</td><td>rain</td><td>7.15556</td><td>5.04444</td></tr><tr><th>29</th><td>2006-04-10 04:00:00.000 +0200</td><td>Partly Cloudy</td><td>rain</td><td>6.11111</td><td>4.81667</td></tr><tr><th>30</th><td>2006-04-10 05:00:00.000 +0200</td><td>Partly Cloudy</td><td>rain</td><td>6.78889</td><td>4.27222</td></tr><tr><th>&vellip;</th><td>&vellip;</td><td>&vellip;</td><td>&vellip;</td><td>&vellip;</td><td>&vellip;</td></tr></tbody></table>"
      ],
      "text/latex": [
       "\\begin{tabular}{r|cccccc}\n",
       "\t& Formatted Date & Summary & Precip Type & Temperature (C) & Apparent Temperature (C) & \\\\\n",
       "\t\\hline\n",
       "\t& String & String & String & Float64 & Float64 & \\\\\n",
       "\t\\hline\n",
       "\t1 & 2006-04-01 00:00:00.000 +0200 & Partly Cloudy & rain & 9.47222 & 7.38889 & $\\dots$ \\\\\n",
       "\t2 & 2006-04-01 01:00:00.000 +0200 & Partly Cloudy & rain & 9.35556 & 7.22778 & $\\dots$ \\\\\n",
       "\t3 & 2006-04-01 02:00:00.000 +0200 & Mostly Cloudy & rain & 9.37778 & 9.37778 & $\\dots$ \\\\\n",
       "\t4 & 2006-04-01 03:00:00.000 +0200 & Partly Cloudy & rain & 8.28889 & 5.94444 & $\\dots$ \\\\\n",
       "\t5 & 2006-04-01 04:00:00.000 +0200 & Mostly Cloudy & rain & 8.75556 & 6.97778 & $\\dots$ \\\\\n",
       "\t6 & 2006-04-01 05:00:00.000 +0200 & Partly Cloudy & rain & 9.22222 & 7.11111 & $\\dots$ \\\\\n",
       "\t7 & 2006-04-01 06:00:00.000 +0200 & Partly Cloudy & rain & 7.73333 & 5.52222 & $\\dots$ \\\\\n",
       "\t8 & 2006-04-01 07:00:00.000 +0200 & Partly Cloudy & rain & 8.77222 & 6.52778 & $\\dots$ \\\\\n",
       "\t9 & 2006-04-01 08:00:00.000 +0200 & Partly Cloudy & rain & 10.8222 & 10.8222 & $\\dots$ \\\\\n",
       "\t10 & 2006-04-01 09:00:00.000 +0200 & Partly Cloudy & rain & 13.7722 & 13.7722 & $\\dots$ \\\\\n",
       "\t11 & 2006-04-01 10:00:00.000 +0200 & Partly Cloudy & rain & 16.0167 & 16.0167 & $\\dots$ \\\\\n",
       "\t12 & 2006-04-01 11:00:00.000 +0200 & Partly Cloudy & rain & 17.1444 & 17.1444 & $\\dots$ \\\\\n",
       "\t13 & 2006-04-01 12:00:00.000 +0200 & Partly Cloudy & rain & 17.8 & 17.8 & $\\dots$ \\\\\n",
       "\t14 & 2006-04-01 13:00:00.000 +0200 & Partly Cloudy & rain & 17.3333 & 17.3333 & $\\dots$ \\\\\n",
       "\t15 & 2006-04-01 14:00:00.000 +0200 & Partly Cloudy & rain & 18.8778 & 18.8778 & $\\dots$ \\\\\n",
       "\t16 & 2006-04-01 15:00:00.000 +0200 & Partly Cloudy & rain & 18.9111 & 18.9111 & $\\dots$ \\\\\n",
       "\t17 & 2006-04-01 16:00:00.000 +0200 & Partly Cloudy & rain & 15.3889 & 15.3889 & $\\dots$ \\\\\n",
       "\t18 & 2006-04-01 17:00:00.000 +0200 & Mostly Cloudy & rain & 15.55 & 15.55 & $\\dots$ \\\\\n",
       "\t19 & 2006-04-01 18:00:00.000 +0200 & Mostly Cloudy & rain & 14.2556 & 14.2556 & $\\dots$ \\\\\n",
       "\t20 & 2006-04-01 19:00:00.000 +0200 & Mostly Cloudy & rain & 13.1444 & 13.1444 & $\\dots$ \\\\\n",
       "\t21 & 2006-04-01 20:00:00.000 +0200 & Mostly Cloudy & rain & 11.55 & 11.55 & $\\dots$ \\\\\n",
       "\t22 & 2006-04-01 21:00:00.000 +0200 & Mostly Cloudy & rain & 11.1833 & 11.1833 & $\\dots$ \\\\\n",
       "\t23 & 2006-04-01 22:00:00.000 +0200 & Partly Cloudy & rain & 10.1167 & 10.1167 & $\\dots$ \\\\\n",
       "\t24 & 2006-04-01 23:00:00.000 +0200 & Mostly Cloudy & rain & 10.2 & 10.2 & $\\dots$ \\\\\n",
       "\t25 & 2006-04-10 00:00:00.000 +0200 & Partly Cloudy & rain & 10.4222 & 10.4222 & $\\dots$ \\\\\n",
       "\t26 & 2006-04-10 01:00:00.000 +0200 & Partly Cloudy & rain & 9.91111 & 7.56667 & $\\dots$ \\\\\n",
       "\t27 & 2006-04-10 02:00:00.000 +0200 & Mostly Cloudy & rain & 11.1833 & 11.1833 & $\\dots$ \\\\\n",
       "\t28 & 2006-04-10 03:00:00.000 +0200 & Partly Cloudy & rain & 7.15556 & 5.04444 & $\\dots$ \\\\\n",
       "\t29 & 2006-04-10 04:00:00.000 +0200 & Partly Cloudy & rain & 6.11111 & 4.81667 & $\\dots$ \\\\\n",
       "\t30 & 2006-04-10 05:00:00.000 +0200 & Partly Cloudy & rain & 6.78889 & 4.27222 & $\\dots$ \\\\\n",
       "\t$\\dots$ & $\\dots$ & $\\dots$ & $\\dots$ & $\\dots$ & $\\dots$ &  \\\\\n",
       "\\end{tabular}\n"
      ],
      "text/plain": [
       "\u001b[1m96453×12 DataFrame\u001b[0m\n",
       "\u001b[1m   Row \u001b[0m│\u001b[1m Formatted Date                \u001b[0m\u001b[1m Summary       \u001b[0m\u001b[1m Precip Type \u001b[0m\u001b[1m Temperatur\u001b[0m ⋯\n",
       "\u001b[1m       \u001b[0m│\u001b[90m String                        \u001b[0m\u001b[90m String        \u001b[0m\u001b[90m String      \u001b[0m\u001b[90m Float64   \u001b[0m ⋯\n",
       "───────┼────────────────────────────────────────────────────────────────────────\n",
       "     1 │ 2006-04-01 00:00:00.000 +0200  Partly Cloudy  rain                 9. ⋯\n",
       "     2 │ 2006-04-01 01:00:00.000 +0200  Partly Cloudy  rain                 9.\n",
       "     3 │ 2006-04-01 02:00:00.000 +0200  Mostly Cloudy  rain                 9.\n",
       "     4 │ 2006-04-01 03:00:00.000 +0200  Partly Cloudy  rain                 8.\n",
       "     5 │ 2006-04-01 04:00:00.000 +0200  Mostly Cloudy  rain                 8. ⋯\n",
       "     6 │ 2006-04-01 05:00:00.000 +0200  Partly Cloudy  rain                 9.\n",
       "     7 │ 2006-04-01 06:00:00.000 +0200  Partly Cloudy  rain                 7.\n",
       "     8 │ 2006-04-01 07:00:00.000 +0200  Partly Cloudy  rain                 8.\n",
       "     9 │ 2006-04-01 08:00:00.000 +0200  Partly Cloudy  rain                10. ⋯\n",
       "    10 │ 2006-04-01 09:00:00.000 +0200  Partly Cloudy  rain                13.\n",
       "    11 │ 2006-04-01 10:00:00.000 +0200  Partly Cloudy  rain                16.\n",
       "   ⋮   │               ⋮                      ⋮             ⋮              ⋮   ⋱\n",
       " 96444 │ 2016-09-09 14:00:00.000 +0200  Partly Cloudy  rain                30.\n",
       " 96445 │ 2016-09-09 15:00:00.000 +0200  Partly Cloudy  rain                31. ⋯\n",
       " 96446 │ 2016-09-09 16:00:00.000 +0200  Partly Cloudy  rain                31.\n",
       " 96447 │ 2016-09-09 17:00:00.000 +0200  Partly Cloudy  rain                30.\n",
       " 96448 │ 2016-09-09 18:00:00.000 +0200  Partly Cloudy  rain                28.\n",
       " 96449 │ 2016-09-09 19:00:00.000 +0200  Partly Cloudy  rain                26. ⋯\n",
       " 96450 │ 2016-09-09 20:00:00.000 +0200  Partly Cloudy  rain                24.\n",
       " 96451 │ 2016-09-09 21:00:00.000 +0200  Partly Cloudy  rain                22.\n",
       " 96452 │ 2016-09-09 22:00:00.000 +0200  Partly Cloudy  rain                21.\n",
       " 96453 │ 2016-09-09 23:00:00.000 +0200  Partly Cloudy  rain                20. ⋯\n",
       "\u001b[31m                                                9 columns and 96432 rows omitted\u001b[0m"
      ]
     },
     "execution_count": 2,
     "metadata": {},
     "output_type": "execute_result"
    }
   ],
   "source": [
    "using DataFrames; df = CSV.read(\"weatherHistory.csv\", DataFrame)"
   ]
  },
  {
   "cell_type": "code",
   "execution_count": 8,
   "metadata": {},
   "outputs": [
    {
     "data": {
      "text/html": [
       "<table class=\"data-frame\"><thead><tr><th></th><th>Formatted Date</th><th>Summary</th><th>Precip Type</th><th>Temperature (C)</th><th>Apparent Temperature (C)</th></tr><tr><th></th><th>String</th><th>String</th><th>String</th><th>Float64</th><th>Float64</th></tr></thead><tbody><p>96,453 rows × 12 columns (omitted printing of 7 columns)</p><tr><th>1</th><td>2006-04-01 00:00:00.000 +0200</td><td>Partly Cloudy</td><td>rain</td><td>9.47222</td><td>7.38889</td></tr><tr><th>2</th><td>2006-04-01 01:00:00.000 +0200</td><td>Partly Cloudy</td><td>rain</td><td>9.35556</td><td>7.22778</td></tr><tr><th>3</th><td>2006-04-01 02:00:00.000 +0200</td><td>Mostly Cloudy</td><td>rain</td><td>9.37778</td><td>9.37778</td></tr><tr><th>4</th><td>2006-04-01 03:00:00.000 +0200</td><td>Partly Cloudy</td><td>rain</td><td>8.28889</td><td>5.94444</td></tr><tr><th>5</th><td>2006-04-01 04:00:00.000 +0200</td><td>Mostly Cloudy</td><td>rain</td><td>8.75556</td><td>6.97778</td></tr><tr><th>6</th><td>2006-04-01 05:00:00.000 +0200</td><td>Partly Cloudy</td><td>rain</td><td>9.22222</td><td>7.11111</td></tr><tr><th>7</th><td>2006-04-01 06:00:00.000 +0200</td><td>Partly Cloudy</td><td>rain</td><td>7.73333</td><td>5.52222</td></tr><tr><th>8</th><td>2006-04-01 07:00:00.000 +0200</td><td>Partly Cloudy</td><td>rain</td><td>8.77222</td><td>6.52778</td></tr><tr><th>9</th><td>2006-04-01 08:00:00.000 +0200</td><td>Partly Cloudy</td><td>rain</td><td>10.8222</td><td>10.8222</td></tr><tr><th>10</th><td>2006-04-01 09:00:00.000 +0200</td><td>Partly Cloudy</td><td>rain</td><td>13.7722</td><td>13.7722</td></tr><tr><th>11</th><td>2006-04-01 10:00:00.000 +0200</td><td>Partly Cloudy</td><td>rain</td><td>16.0167</td><td>16.0167</td></tr><tr><th>12</th><td>2006-04-01 11:00:00.000 +0200</td><td>Partly Cloudy</td><td>rain</td><td>17.1444</td><td>17.1444</td></tr><tr><th>13</th><td>2006-04-01 12:00:00.000 +0200</td><td>Partly Cloudy</td><td>rain</td><td>17.8</td><td>17.8</td></tr><tr><th>14</th><td>2006-04-01 13:00:00.000 +0200</td><td>Partly Cloudy</td><td>rain</td><td>17.3333</td><td>17.3333</td></tr><tr><th>15</th><td>2006-04-01 14:00:00.000 +0200</td><td>Partly Cloudy</td><td>rain</td><td>18.8778</td><td>18.8778</td></tr><tr><th>16</th><td>2006-04-01 15:00:00.000 +0200</td><td>Partly Cloudy</td><td>rain</td><td>18.9111</td><td>18.9111</td></tr><tr><th>17</th><td>2006-04-01 16:00:00.000 +0200</td><td>Partly Cloudy</td><td>rain</td><td>15.3889</td><td>15.3889</td></tr><tr><th>18</th><td>2006-04-01 17:00:00.000 +0200</td><td>Mostly Cloudy</td><td>rain</td><td>15.55</td><td>15.55</td></tr><tr><th>19</th><td>2006-04-01 18:00:00.000 +0200</td><td>Mostly Cloudy</td><td>rain</td><td>14.2556</td><td>14.2556</td></tr><tr><th>20</th><td>2006-04-01 19:00:00.000 +0200</td><td>Mostly Cloudy</td><td>rain</td><td>13.1444</td><td>13.1444</td></tr><tr><th>21</th><td>2006-04-01 20:00:00.000 +0200</td><td>Mostly Cloudy</td><td>rain</td><td>11.55</td><td>11.55</td></tr><tr><th>22</th><td>2006-04-01 21:00:00.000 +0200</td><td>Mostly Cloudy</td><td>rain</td><td>11.1833</td><td>11.1833</td></tr><tr><th>23</th><td>2006-04-01 22:00:00.000 +0200</td><td>Partly Cloudy</td><td>rain</td><td>10.1167</td><td>10.1167</td></tr><tr><th>24</th><td>2006-04-01 23:00:00.000 +0200</td><td>Mostly Cloudy</td><td>rain</td><td>10.2</td><td>10.2</td></tr><tr><th>25</th><td>2006-04-10 00:00:00.000 +0200</td><td>Partly Cloudy</td><td>rain</td><td>10.4222</td><td>10.4222</td></tr><tr><th>26</th><td>2006-04-10 01:00:00.000 +0200</td><td>Partly Cloudy</td><td>rain</td><td>9.91111</td><td>7.56667</td></tr><tr><th>27</th><td>2006-04-10 02:00:00.000 +0200</td><td>Mostly Cloudy</td><td>rain</td><td>11.1833</td><td>11.1833</td></tr><tr><th>28</th><td>2006-04-10 03:00:00.000 +0200</td><td>Partly Cloudy</td><td>rain</td><td>7.15556</td><td>5.04444</td></tr><tr><th>29</th><td>2006-04-10 04:00:00.000 +0200</td><td>Partly Cloudy</td><td>rain</td><td>6.11111</td><td>4.81667</td></tr><tr><th>30</th><td>2006-04-10 05:00:00.000 +0200</td><td>Partly Cloudy</td><td>rain</td><td>6.78889</td><td>4.27222</td></tr><tr><th>&vellip;</th><td>&vellip;</td><td>&vellip;</td><td>&vellip;</td><td>&vellip;</td><td>&vellip;</td></tr></tbody></table>"
      ],
      "text/latex": [
       "\\begin{tabular}{r|cccccc}\n",
       "\t& Formatted Date & Summary & Precip Type & Temperature (C) & Apparent Temperature (C) & \\\\\n",
       "\t\\hline\n",
       "\t& String & String & String & Float64 & Float64 & \\\\\n",
       "\t\\hline\n",
       "\t1 & 2006-04-01 00:00:00.000 +0200 & Partly Cloudy & rain & 9.47222 & 7.38889 & $\\dots$ \\\\\n",
       "\t2 & 2006-04-01 01:00:00.000 +0200 & Partly Cloudy & rain & 9.35556 & 7.22778 & $\\dots$ \\\\\n",
       "\t3 & 2006-04-01 02:00:00.000 +0200 & Mostly Cloudy & rain & 9.37778 & 9.37778 & $\\dots$ \\\\\n",
       "\t4 & 2006-04-01 03:00:00.000 +0200 & Partly Cloudy & rain & 8.28889 & 5.94444 & $\\dots$ \\\\\n",
       "\t5 & 2006-04-01 04:00:00.000 +0200 & Mostly Cloudy & rain & 8.75556 & 6.97778 & $\\dots$ \\\\\n",
       "\t6 & 2006-04-01 05:00:00.000 +0200 & Partly Cloudy & rain & 9.22222 & 7.11111 & $\\dots$ \\\\\n",
       "\t7 & 2006-04-01 06:00:00.000 +0200 & Partly Cloudy & rain & 7.73333 & 5.52222 & $\\dots$ \\\\\n",
       "\t8 & 2006-04-01 07:00:00.000 +0200 & Partly Cloudy & rain & 8.77222 & 6.52778 & $\\dots$ \\\\\n",
       "\t9 & 2006-04-01 08:00:00.000 +0200 & Partly Cloudy & rain & 10.8222 & 10.8222 & $\\dots$ \\\\\n",
       "\t10 & 2006-04-01 09:00:00.000 +0200 & Partly Cloudy & rain & 13.7722 & 13.7722 & $\\dots$ \\\\\n",
       "\t11 & 2006-04-01 10:00:00.000 +0200 & Partly Cloudy & rain & 16.0167 & 16.0167 & $\\dots$ \\\\\n",
       "\t12 & 2006-04-01 11:00:00.000 +0200 & Partly Cloudy & rain & 17.1444 & 17.1444 & $\\dots$ \\\\\n",
       "\t13 & 2006-04-01 12:00:00.000 +0200 & Partly Cloudy & rain & 17.8 & 17.8 & $\\dots$ \\\\\n",
       "\t14 & 2006-04-01 13:00:00.000 +0200 & Partly Cloudy & rain & 17.3333 & 17.3333 & $\\dots$ \\\\\n",
       "\t15 & 2006-04-01 14:00:00.000 +0200 & Partly Cloudy & rain & 18.8778 & 18.8778 & $\\dots$ \\\\\n",
       "\t16 & 2006-04-01 15:00:00.000 +0200 & Partly Cloudy & rain & 18.9111 & 18.9111 & $\\dots$ \\\\\n",
       "\t17 & 2006-04-01 16:00:00.000 +0200 & Partly Cloudy & rain & 15.3889 & 15.3889 & $\\dots$ \\\\\n",
       "\t18 & 2006-04-01 17:00:00.000 +0200 & Mostly Cloudy & rain & 15.55 & 15.55 & $\\dots$ \\\\\n",
       "\t19 & 2006-04-01 18:00:00.000 +0200 & Mostly Cloudy & rain & 14.2556 & 14.2556 & $\\dots$ \\\\\n",
       "\t20 & 2006-04-01 19:00:00.000 +0200 & Mostly Cloudy & rain & 13.1444 & 13.1444 & $\\dots$ \\\\\n",
       "\t21 & 2006-04-01 20:00:00.000 +0200 & Mostly Cloudy & rain & 11.55 & 11.55 & $\\dots$ \\\\\n",
       "\t22 & 2006-04-01 21:00:00.000 +0200 & Mostly Cloudy & rain & 11.1833 & 11.1833 & $\\dots$ \\\\\n",
       "\t23 & 2006-04-01 22:00:00.000 +0200 & Partly Cloudy & rain & 10.1167 & 10.1167 & $\\dots$ \\\\\n",
       "\t24 & 2006-04-01 23:00:00.000 +0200 & Mostly Cloudy & rain & 10.2 & 10.2 & $\\dots$ \\\\\n",
       "\t25 & 2006-04-10 00:00:00.000 +0200 & Partly Cloudy & rain & 10.4222 & 10.4222 & $\\dots$ \\\\\n",
       "\t26 & 2006-04-10 01:00:00.000 +0200 & Partly Cloudy & rain & 9.91111 & 7.56667 & $\\dots$ \\\\\n",
       "\t27 & 2006-04-10 02:00:00.000 +0200 & Mostly Cloudy & rain & 11.1833 & 11.1833 & $\\dots$ \\\\\n",
       "\t28 & 2006-04-10 03:00:00.000 +0200 & Partly Cloudy & rain & 7.15556 & 5.04444 & $\\dots$ \\\\\n",
       "\t29 & 2006-04-10 04:00:00.000 +0200 & Partly Cloudy & rain & 6.11111 & 4.81667 & $\\dots$ \\\\\n",
       "\t30 & 2006-04-10 05:00:00.000 +0200 & Partly Cloudy & rain & 6.78889 & 4.27222 & $\\dots$ \\\\\n",
       "\t$\\dots$ & $\\dots$ & $\\dots$ & $\\dots$ & $\\dots$ & $\\dots$ &  \\\\\n",
       "\\end{tabular}\n"
      ],
      "text/plain": [
       "\u001b[1m96453×12 DataFrame\u001b[0m\n",
       "\u001b[1m   Row \u001b[0m│\u001b[1m Formatted Date                \u001b[0m\u001b[1m Summary       \u001b[0m\u001b[1m Precip Type \u001b[0m\u001b[1m Temperatur\u001b[0m ⋯\n",
       "\u001b[1m       \u001b[0m│\u001b[90m String                        \u001b[0m\u001b[90m String        \u001b[0m\u001b[90m String      \u001b[0m\u001b[90m Float64   \u001b[0m ⋯\n",
       "───────┼────────────────────────────────────────────────────────────────────────\n",
       "     1 │ 2006-04-01 00:00:00.000 +0200  Partly Cloudy  rain                 9. ⋯\n",
       "     2 │ 2006-04-01 01:00:00.000 +0200  Partly Cloudy  rain                 9.\n",
       "     3 │ 2006-04-01 02:00:00.000 +0200  Mostly Cloudy  rain                 9.\n",
       "     4 │ 2006-04-01 03:00:00.000 +0200  Partly Cloudy  rain                 8.\n",
       "     5 │ 2006-04-01 04:00:00.000 +0200  Mostly Cloudy  rain                 8. ⋯\n",
       "     6 │ 2006-04-01 05:00:00.000 +0200  Partly Cloudy  rain                 9.\n",
       "     7 │ 2006-04-01 06:00:00.000 +0200  Partly Cloudy  rain                 7.\n",
       "     8 │ 2006-04-01 07:00:00.000 +0200  Partly Cloudy  rain                 8.\n",
       "     9 │ 2006-04-01 08:00:00.000 +0200  Partly Cloudy  rain                10. ⋯\n",
       "    10 │ 2006-04-01 09:00:00.000 +0200  Partly Cloudy  rain                13.\n",
       "    11 │ 2006-04-01 10:00:00.000 +0200  Partly Cloudy  rain                16.\n",
       "   ⋮   │               ⋮                      ⋮             ⋮              ⋮   ⋱\n",
       " 96444 │ 2016-09-09 14:00:00.000 +0200  Partly Cloudy  rain                30.\n",
       " 96445 │ 2016-09-09 15:00:00.000 +0200  Partly Cloudy  rain                31. ⋯\n",
       " 96446 │ 2016-09-09 16:00:00.000 +0200  Partly Cloudy  rain                31.\n",
       " 96447 │ 2016-09-09 17:00:00.000 +0200  Partly Cloudy  rain                30.\n",
       " 96448 │ 2016-09-09 18:00:00.000 +0200  Partly Cloudy  rain                28.\n",
       " 96449 │ 2016-09-09 19:00:00.000 +0200  Partly Cloudy  rain                26. ⋯\n",
       " 96450 │ 2016-09-09 20:00:00.000 +0200  Partly Cloudy  rain                24.\n",
       " 96451 │ 2016-09-09 21:00:00.000 +0200  Partly Cloudy  rain                22.\n",
       " 96452 │ 2016-09-09 22:00:00.000 +0200  Partly Cloudy  rain                21.\n",
       " 96453 │ 2016-09-09 23:00:00.000 +0200  Partly Cloudy  rain                20. ⋯\n",
       "\u001b[31m                                                9 columns and 96432 rows omitted\u001b[0m"
      ]
     },
     "execution_count": 8,
     "metadata": {},
     "output_type": "execute_result"
    }
   ],
   "source": [
    "df = dropmissing(df)"
   ]
  },
  {
   "cell_type": "code",
   "execution_count": 9,
   "metadata": {},
   "outputs": [
    {
     "data": {
      "text/plain": [
       "Symbol(\"Temperature (C)\")"
      ]
     },
     "execution_count": 9,
     "metadata": {},
     "output_type": "execute_result"
    }
   ],
   "source": [
    "target = Symbol(\"Precip Type\")\n",
    "feature = Symbol(\"Temperature (C)\")"
   ]
  },
  {
   "cell_type": "code",
   "execution_count": 10,
   "metadata": {},
   "outputs": [
    {
     "data": {
      "text/plain": [
       "(\u001b[1m72446×12 DataFrame\u001b[0m\n",
       "\u001b[1m   Row \u001b[0m│\u001b[1m Formatted Date                \u001b[0m\u001b[1m Summary       \u001b[0m\u001b[1m Precip Type \u001b[0m\u001b[1m Temperatur\u001b[0m ⋯\n",
       "\u001b[1m       \u001b[0m│\u001b[90m String                        \u001b[0m\u001b[90m String        \u001b[0m\u001b[90m String      \u001b[0m\u001b[90m Float64   \u001b[0m ⋯\n",
       "───────┼────────────────────────────────────────────────────────────────────────\n",
       "     1 │ 2006-04-01 00:00:00.000 +0200  Partly Cloudy  rain                 9. ⋯\n",
       "     2 │ 2006-04-01 01:00:00.000 +0200  Partly Cloudy  rain                 9.\n",
       "     3 │ 2006-04-01 02:00:00.000 +0200  Mostly Cloudy  rain                 9.\n",
       "     4 │ 2006-04-01 05:00:00.000 +0200  Partly Cloudy  rain                 9.\n",
       "     5 │ 2006-04-01 06:00:00.000 +0200  Partly Cloudy  rain                 7. ⋯\n",
       "     6 │ 2006-04-01 07:00:00.000 +0200  Partly Cloudy  rain                 8.\n",
       "     7 │ 2006-04-01 08:00:00.000 +0200  Partly Cloudy  rain                10.\n",
       "     8 │ 2006-04-01 09:00:00.000 +0200  Partly Cloudy  rain                13.\n",
       "     9 │ 2006-04-01 10:00:00.000 +0200  Partly Cloudy  rain                16. ⋯\n",
       "    10 │ 2006-04-01 11:00:00.000 +0200  Partly Cloudy  rain                17.\n",
       "    11 │ 2006-04-01 12:00:00.000 +0200  Partly Cloudy  rain                17.\n",
       "   ⋮   │               ⋮                      ⋮             ⋮              ⋮   ⋱\n",
       " 72437 │ 2016-09-09 13:00:00.000 +0200  Partly Cloudy  rain                30.\n",
       " 72438 │ 2016-09-09 14:00:00.000 +0200  Partly Cloudy  rain                30. ⋯\n",
       " 72439 │ 2016-09-09 15:00:00.000 +0200  Partly Cloudy  rain                31.\n",
       " 72440 │ 2016-09-09 16:00:00.000 +0200  Partly Cloudy  rain                31.\n",
       " 72441 │ 2016-09-09 18:00:00.000 +0200  Partly Cloudy  rain                28.\n",
       " 72442 │ 2016-09-09 19:00:00.000 +0200  Partly Cloudy  rain                26. ⋯\n",
       " 72443 │ 2016-09-09 20:00:00.000 +0200  Partly Cloudy  rain                24.\n",
       " 72444 │ 2016-09-09 21:00:00.000 +0200  Partly Cloudy  rain                22.\n",
       " 72445 │ 2016-09-09 22:00:00.000 +0200  Partly Cloudy  rain                21.\n",
       " 72446 │ 2016-09-09 23:00:00.000 +0200  Partly Cloudy  rain                20. ⋯\n",
       "\u001b[31m                                                9 columns and 72425 rows omitted\u001b[0m, \u001b[1m24007×12 DataFrame\u001b[0m\n",
       "\u001b[1m   Row \u001b[0m│\u001b[1m Formatted Date                \u001b[0m\u001b[1m Summary       \u001b[0m\u001b[1m Precip Type \u001b[0m\u001b[1m Temperatur\u001b[0m ⋯\n",
       "\u001b[1m       \u001b[0m│\u001b[90m String                        \u001b[0m\u001b[90m String        \u001b[0m\u001b[90m String      \u001b[0m\u001b[90m Float64   \u001b[0m ⋯\n",
       "───────┼────────────────────────────────────────────────────────────────────────\n",
       "     1 │ 2006-04-01 03:00:00.000 +0200  Partly Cloudy  rain                 8. ⋯\n",
       "     2 │ 2006-04-01 04:00:00.000 +0200  Mostly Cloudy  rain                 8.\n",
       "     3 │ 2006-04-01 14:00:00.000 +0200  Partly Cloudy  rain                18.\n",
       "     4 │ 2006-04-01 16:00:00.000 +0200  Partly Cloudy  rain                15.\n",
       "     5 │ 2006-04-01 22:00:00.000 +0200  Partly Cloudy  rain                10. ⋯\n",
       "     6 │ 2006-04-01 23:00:00.000 +0200  Mostly Cloudy  rain                10.\n",
       "     7 │ 2006-04-10 02:00:00.000 +0200  Mostly Cloudy  rain                11.\n",
       "     8 │ 2006-04-10 09:00:00.000 +0200  Mostly Cloudy  rain                12.\n",
       "     9 │ 2006-04-10 12:00:00.000 +0200  Mostly Cloudy  rain                19. ⋯\n",
       "    10 │ 2006-04-11 00:00:00.000 +0200  Overcast       rain                13.\n",
       "    11 │ 2006-04-11 15:00:00.000 +0200  Mostly Cloudy  rain                17.\n",
       "   ⋮   │               ⋮                      ⋮             ⋮              ⋮   ⋱\n",
       " 23998 │ 2016-09-08 14:00:00.000 +0200  Partly Cloudy  rain                30.\n",
       " 23999 │ 2016-09-08 17:00:00.000 +0200  Partly Cloudy  rain                28. ⋯\n",
       " 24000 │ 2016-09-08 18:00:00.000 +0200  Partly Cloudy  rain                27.\n",
       " 24001 │ 2016-09-08 20:00:00.000 +0200  Partly Cloudy  rain                22.\n",
       " 24002 │ 2016-09-09 00:00:00.000 +0200  Partly Cloudy  rain                17.\n",
       " 24003 │ 2016-09-09 02:00:00.000 +0200  Clear          rain                16. ⋯\n",
       " 24004 │ 2016-09-09 07:00:00.000 +0200  Clear          rain                16.\n",
       " 24005 │ 2016-09-09 09:00:00.000 +0200  Partly Cloudy  rain                22.\n",
       " 24006 │ 2016-09-09 11:00:00.000 +0200  Partly Cloudy  rain                27.\n",
       " 24007 │ 2016-09-09 17:00:00.000 +0200  Partly Cloudy  rain                30. ⋯\n",
       "\u001b[31m                                                9 columns and 23986 rows omitted\u001b[0m)"
      ]
     },
     "execution_count": 10,
     "metadata": {},
     "output_type": "execute_result"
    }
   ],
   "source": [
    "train, test = TrainTestSplit(df)"
   ]
  },
  {
   "cell_type": "code",
   "execution_count": 11,
   "metadata": {},
   "outputs": [
    {
     "data": {
      "text/plain": [
       "24007-element PooledArrays.PooledArray{String,UInt32,1,Array{UInt32,1}}:\n",
       " \"rain\"\n",
       " \"rain\"\n",
       " \"rain\"\n",
       " \"rain\"\n",
       " \"rain\"\n",
       " \"rain\"\n",
       " \"rain\"\n",
       " \"rain\"\n",
       " \"rain\"\n",
       " \"rain\"\n",
       " \"rain\"\n",
       " \"rain\"\n",
       " \"rain\"\n",
       " ⋮\n",
       " \"rain\"\n",
       " \"rain\"\n",
       " \"rain\"\n",
       " \"rain\"\n",
       " \"rain\"\n",
       " \"rain\"\n",
       " \"rain\"\n",
       " \"rain\"\n",
       " \"rain\"\n",
       " \"rain\"\n",
       " \"rain\"\n",
       " \"rain\""
      ]
     },
     "execution_count": 11,
     "metadata": {},
     "output_type": "execute_result"
    }
   ],
   "source": [
    "trainX = train[!, feature]\n",
    "trainy = train[!, target]\n",
    "testX = test[!, feature]\n",
    "testy = test[!, target]"
   ]
  },
  {
   "cell_type": "code",
   "execution_count": 12,
   "metadata": {},
   "outputs": [
    {
     "name": "stdout",
     "output_type": "stream",
     "text": [
      "search:\n",
      "\n"
     ]
    },
    {
     "data": {
      "text/latex": [
       "\\subsection{Random Forest Classifier}\n",
       "\\subsubsection{Description}\n",
       "The Random Forest Classifier uses a multitude of decision trees to   solve classification problems.\n",
       "\n",
       "\\rule{\\textwidth}{1pt}\n",
       "\\subsubsection{Input}\n",
       "RandomForestClassifier(x, y, rng ;   max\\emph{depth = 6, min}node\\emph{records = 1, n}trees = 100)\n",
       "\n",
       "\\rule{\\textwidth}{1pt}\n",
       "\\paragraph{Positional Arguments}\n",
       "Array\\{Any\\} - X:: Array of x's for which the model will use to   predict y.\n",
       "\n",
       "Array\\{Any\\} - Y:: Array of y's for which the x's are used to predict.\n",
       "\n",
       "RandomNumberGenerator - rng:: Determines the seed for the given model.\n",
       "\n",
       "\\paragraph{Key-word Arguments}\n",
       "Int64 - max\\_depth:: Determines the max depth which the tree should use   as a stop parameter.\n",
       "\n",
       "Int64 - min\\emph{node}records:: Determines the minimum number of nodes a   constructed node is allowed to have.\n",
       "\n",
       "\\subsection{Int64 - n\\_trees:: Determines how many decision trees should be trained.}\n",
       "\\subsubsection{Output}\n",
       "model:: A Lathe Model.\n",
       "\n",
       "\\rule{\\textwidth}{1pt}\n",
       "\\subsubsection{Functions}\n",
       "Model.predict(xt) :: Predicts a new y based on the data provided as xt and   the weights obtained from X.\n",
       "\n",
       "\\rule{\\textwidth}{1pt}\n",
       "\\subsubsection{Data}\n",
       "storedata :: A tree node type that contains the weights and their  corresponding values.\n",
       "\n"
      ],
      "text/markdown": [
       "## Random Forest Classifier\n",
       "\n",
       "### Description\n",
       "\n",
       "The Random Forest Classifier uses a multitude of decision trees to   solve classification problems.\n",
       "\n",
       "---\n",
       "\n",
       "### Input\n",
       "\n",
       "RandomForestClassifier(x, y, rng ;   max*depth = 6, min*node*records = 1, n*trees = 100)\n",
       "\n",
       "---\n",
       "\n",
       "#### Positional Arguments\n",
       "\n",
       "Array{Any} - X:: Array of x's for which the model will use to   predict y.\n",
       "\n",
       "Array{Any} - Y:: Array of y's for which the x's are used to predict.\n",
       "\n",
       "RandomNumberGenerator - rng:: Determines the seed for the given model.\n",
       "\n",
       "#### Key-word Arguments\n",
       "\n",
       "Int64 - max_depth:: Determines the max depth which the tree should use   as a stop parameter.\n",
       "\n",
       "Int64 - min*node*records:: Determines the minimum number of nodes a   constructed node is allowed to have.\n",
       "\n",
       "## Int64 - n_trees:: Determines how many decision trees should be trained.\n",
       "\n",
       "### Output\n",
       "\n",
       "model:: A Lathe Model.\n",
       "\n",
       "---\n",
       "\n",
       "### Functions\n",
       "\n",
       "Model.predict(xt) :: Predicts a new y based on the data provided as xt and   the weights obtained from X.\n",
       "\n",
       "---\n",
       "\n",
       "### Data\n",
       "\n",
       "storedata :: A tree node type that contains the weights and their  corresponding values.\n"
      ],
      "text/plain": [
       "\u001b[1m  Random Forest Classifier\u001b[22m\n",
       "\u001b[1m  ==========================\u001b[22m\n",
       "\n",
       "\u001b[1m  Description\u001b[22m\n",
       "\u001b[1m  –––––––––––––\u001b[22m\n",
       "\n",
       "  The Random Forest Classifier uses a multitude of decision trees to solve\n",
       "  classification problems.\n",
       "\n",
       "  ────────────────────────────────────────────────────────────────────────────\n",
       "\n",
       "\u001b[1m  Input\u001b[22m\n",
       "\u001b[1m  –––––––\u001b[22m\n",
       "\n",
       "  RandomForestClassifier(x, y, rng ; max\u001b[4mdepth = 6, min\u001b[24mnode\u001b[4mrecords = 1, n\u001b[24mtrees\n",
       "  = 100)\n",
       "\n",
       "  ────────────────────────────────────────────────────────────────────────────\n",
       "\n",
       "\u001b[1m  Positional Arguments\u001b[22m\n",
       "\u001b[1m  ----------------------\u001b[22m\n",
       "\n",
       "  Array{Any} - X:: Array of x's for which the model will use to predict y.\n",
       "\n",
       "  Array{Any} - Y:: Array of y's for which the x's are used to predict.\n",
       "\n",
       "  RandomNumberGenerator - rng:: Determines the seed for the given model.\n",
       "\n",
       "\u001b[1m  Key-word Arguments\u001b[22m\n",
       "\u001b[1m  --------------------\u001b[22m\n",
       "\n",
       "  Int64 - max_depth:: Determines the max depth which the tree should use as a\n",
       "  stop parameter.\n",
       "\n",
       "  Int64 - min\u001b[4mnode\u001b[24mrecords:: Determines the minimum number of nodes a\n",
       "  constructed node is allowed to have.\n",
       "\n",
       "\u001b[1m  Int64 - n_trees:: Determines how many decision trees should be trained.\u001b[22m\n",
       "\u001b[1m  =========================================================================\u001b[22m\n",
       "\n",
       "\u001b[1m  Output\u001b[22m\n",
       "\u001b[1m  ––––––––\u001b[22m\n",
       "\n",
       "  model:: A Lathe Model.\n",
       "\n",
       "  ────────────────────────────────────────────────────────────────────────────\n",
       "\n",
       "\u001b[1m  Functions\u001b[22m\n",
       "\u001b[1m  –––––––––––\u001b[22m\n",
       "\n",
       "  Model.predict(xt) :: Predicts a new y based on the data provided as xt and\n",
       "  the weights obtained from X.\n",
       "\n",
       "  ────────────────────────────────────────────────────────────────────────────\n",
       "\n",
       "\u001b[1m  Data\u001b[22m\n",
       "\u001b[1m  ––––––\u001b[22m\n",
       "\n",
       "  storedata :: A tree node type that contains the weights and their\n",
       "  corresponding values."
      ]
     },
     "execution_count": 12,
     "metadata": {},
     "output_type": "execute_result"
    }
   ],
   "source": [
    "?(RandomForestClassifier)"
   ]
  },
  {
   "cell_type": "code",
   "execution_count": 15,
   "metadata": {},
   "outputs": [
    {
     "name": "stdout",
     "output_type": "stream",
     "text": [
      " 54.532284 seconds (136.12 k allocations: 2.518 GiB, 0.31% gc time)\n"
     ]
    },
    {
     "data": {
      "text/plain": [
       "24007-element Array{String,1}:\n",
       " \"rain\"\n",
       " \"rain\"\n",
       " \"rain\"\n",
       " \"rain\"\n",
       " \"rain\"\n",
       " \"rain\"\n",
       " \"rain\"\n",
       " \"rain\"\n",
       " \"rain\"\n",
       " \"rain\"\n",
       " \"rain\"\n",
       " \"rain\"\n",
       " \"rain\"\n",
       " ⋮\n",
       " \"rain\"\n",
       " \"rain\"\n",
       " \"rain\"\n",
       " \"rain\"\n",
       " \"rain\"\n",
       " \"rain\"\n",
       " \"rain\"\n",
       " \"rain\"\n",
       " \"rain\"\n",
       " \"rain\"\n",
       " \"rain\"\n",
       " \"rain\""
      ]
     },
     "execution_count": 15,
     "metadata": {},
     "output_type": "execute_result"
    }
   ],
   "source": [
    "@time RandomForestClassifier(trainX, trainy, n_trees = 200, max_depth = 5).predict(testX)"
   ]
  },
  {
   "cell_type": "code",
   "execution_count": 16,
   "metadata": {},
   "outputs": [
    {
     "name": "stdout",
     "output_type": "stream",
     "text": [
      " 17.563298 seconds (28.31 k allocations: 803.551 MiB, 0.32% gc time)\n"
     ]
    },
    {
     "data": {
      "text/plain": [
       "24007-element Array{String,1}:\n",
       " \"rain\"\n",
       " \"rain\"\n",
       " \"rain\"\n",
       " \"rain\"\n",
       " \"rain\"\n",
       " \"rain\"\n",
       " \"rain\"\n",
       " \"rain\"\n",
       " \"rain\"\n",
       " \"rain\"\n",
       " \"rain\"\n",
       " \"rain\"\n",
       " \"rain\"\n",
       " ⋮\n",
       " \"rain\"\n",
       " \"rain\"\n",
       " \"rain\"\n",
       " \"rain\"\n",
       " \"rain\"\n",
       " \"rain\"\n",
       " \"rain\"\n",
       " \"rain\"\n",
       " \"rain\"\n",
       " \"rain\"\n",
       " \"rain\"\n",
       " \"rain\""
      ]
     },
     "execution_count": 16,
     "metadata": {},
     "output_type": "execute_result"
    }
   ],
   "source": [
    "@time RandomForestClassifier(trainX, trainy, n_trees = 75, max_depth = 4).predict(testX)"
   ]
  },
  {
   "cell_type": "code",
   "execution_count": 17,
   "metadata": {},
   "outputs": [],
   "source": [
    "using Lathe.lstats: catacc"
   ]
  },
  {
   "cell_type": "code",
   "execution_count": 18,
   "metadata": {},
   "outputs": [
    {
     "data": {
      "text/plain": [
       "24007-element Array{String,1}:\n",
       " \"rain\"\n",
       " \"rain\"\n",
       " \"rain\"\n",
       " \"rain\"\n",
       " \"rain\"\n",
       " \"rain\"\n",
       " \"rain\"\n",
       " \"rain\"\n",
       " \"rain\"\n",
       " \"rain\"\n",
       " \"rain\"\n",
       " \"rain\"\n",
       " \"rain\"\n",
       " ⋮\n",
       " \"rain\"\n",
       " \"rain\"\n",
       " \"rain\"\n",
       " \"rain\"\n",
       " \"rain\"\n",
       " \"rain\"\n",
       " \"rain\"\n",
       " \"rain\"\n",
       " \"rain\"\n",
       " \"rain\"\n",
       " \"rain\"\n",
       " \"rain\""
      ]
     },
     "execution_count": 18,
     "metadata": {},
     "output_type": "execute_result"
    }
   ],
   "source": [
    "yhat = RandomForestClassifier(trainX, trainy, n_trees = 75, max_depth = 4).predict(testX)"
   ]
  },
  {
   "cell_type": "code",
   "execution_count": 19,
   "metadata": {},
   "outputs": [
    {
     "data": {
      "text/plain": [
       "24007-element Array{String,1}:\n",
       " \"rain\"\n",
       " \"rain\"\n",
       " \"rain\"\n",
       " \"rain\"\n",
       " \"rain\"\n",
       " \"rain\"\n",
       " \"rain\"\n",
       " \"rain\"\n",
       " \"rain\"\n",
       " \"rain\"\n",
       " \"rain\"\n",
       " \"rain\"\n",
       " \"rain\"\n",
       " ⋮\n",
       " \"rain\"\n",
       " \"rain\"\n",
       " \"rain\"\n",
       " \"rain\"\n",
       " \"rain\"\n",
       " \"rain\"\n",
       " \"rain\"\n",
       " \"rain\"\n",
       " \"rain\"\n",
       " \"rain\"\n",
       " \"rain\"\n",
       " \"rain\""
      ]
     },
     "execution_count": 19,
     "metadata": {},
     "output_type": "execute_result"
    }
   ],
   "source": [
    "yhat"
   ]
  },
  {
   "cell_type": "code",
   "execution_count": 20,
   "metadata": {},
   "outputs": [
    {
     "data": {
      "text/plain": [
       "0.9945432582163536"
      ]
     },
     "execution_count": 20,
     "metadata": {},
     "output_type": "execute_result"
    }
   ],
   "source": [
    "catacc(yhat, testy)"
   ]
  },
  {
   "cell_type": "code",
   "execution_count": null,
   "metadata": {},
   "outputs": [],
   "source": []
  }
 ],
 "metadata": {
  "@webio": {
   "lastCommId": null,
   "lastKernelId": null
  },
  "kernelspec": {
   "display_name": "Julia 1.5.2",
   "language": "julia",
   "name": "julia-1.5"
  },
  "language_info": {
   "file_extension": ".jl",
   "mimetype": "application/julia",
   "name": "julia",
   "version": "1.5.2"
  }
 },
 "nbformat": 4,
 "nbformat_minor": 2
}
