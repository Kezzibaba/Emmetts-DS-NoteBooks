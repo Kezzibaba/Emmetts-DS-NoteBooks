{
 "cells": [
  {
   "cell_type": "code",
   "execution_count": 21,
   "metadata": {},
   "outputs": [
    {
     "name": "stderr",
     "output_type": "stream",
     "text": [
      "┌ Info: Precompiling Lathe [38d8eb38-e7b1-11e9-0012-376b6c802672]\n",
      "└ @ Base loading.jl:1278\n"
     ]
    },
    {
     "name": "stdout",
     "output_type": "stream",
     "text": [
      "=== Lathe 0.1.2 Butterball ===\n",
      "-0-0- Easily ML -0-0-\n",
      "Thank you for trying Lathe!\n",
      "-0-0- Contributors -0-0-\n",
      "emmettgbstefanches7PallHaraldson\n"
     ]
    }
   ],
   "source": [
    "# If your installation worked out correctly, this should run:\n",
    "using Lathe"
   ]
  },
  {
   "cell_type": "code",
   "execution_count": 22,
   "metadata": {},
   "outputs": [
    {
     "name": "stdout",
     "output_type": "stream",
     "text": [
      "search: \u001b[0m\u001b[1mL\u001b[22m\u001b[0m\u001b[1ma\u001b[22m\u001b[0m\u001b[1mt\u001b[22m\u001b[0m\u001b[1mh\u001b[22m\u001b[0m\u001b[1me\u001b[22m JU\u001b[0m\u001b[1mL\u001b[22mI\u001b[0m\u001b[1mA\u001b[22m_NUM_\u001b[0m\u001b[1mT\u001b[22m\u001b[0m\u001b[1mH\u001b[22mR\u001b[0m\u001b[1mE\u001b[22mADS re\u001b[0m\u001b[1ml\u001b[22mp\u001b[0m\u001b[1ma\u001b[22m\u001b[0m\u001b[1mt\u001b[22m\u001b[0m\u001b[1mh\u001b[22m rea\u001b[0m\u001b[1ml\u001b[22mp\u001b[0m\u001b[1ma\u001b[22m\u001b[0m\u001b[1mt\u001b[22m\u001b[0m\u001b[1mh\u001b[22m sp\u001b[0m\u001b[1ml\u001b[22mitp\u001b[0m\u001b[1ma\u001b[22m\u001b[0m\u001b[1mt\u001b[22m\u001b[0m\u001b[1mh\u001b[22m \u001b[0m\u001b[1mL\u001b[22mO\u001b[0m\u001b[1mA\u001b[22mD_PA\u001b[0m\u001b[1mT\u001b[22m\u001b[0m\u001b[1mH\u001b[22m\n",
      "\n"
     ]
    },
    {
     "data": {
      "text/latex": [
       "|====== Lathe - Easily ML =====\n",
       "\n",
       "|= = = = = v. 0.1.2 = = = = = |\n",
       "\n",
       "|==============================\n",
       "\n",
       "|\\_\\_\\_\\_\\_\\_\\_\\_\\_\\_Lathe.stats\n",
       "\n",
       "|\\_\\_\\_\\_\\_\\_\\_\\_\\_\\_Lathe.preprocess\n",
       "\n",
       "|\\_\\_\\_\\_\\_\\_\\_\\_\\_\\_Lathe.models\n",
       "\n",
       "|\\_\\_\\_\\_\\_\\_\\_\\_\\_\\_\\_\\_\\_\\_\\_\\_\\_\\_\\_\\_\\_\\_\\_\\_\\_\\_\\_\\_\\_\\_\n",
       "\n",
       "Use ?(Lathe.package) for information!\n",
       "\n",
       "[uuid]\n",
       "\n",
       "38d8eb38-e7b1-11e9-0012-376b6c802672\n",
       "\n",
       "[deps]\n",
       "\n",
       "DataFrames.jl\n",
       "\n",
       "Random.jl\n",
       "\n",
       "\\begin{verbatim}\n",
       "\n",
       "\\end{verbatim}\n"
      ],
      "text/markdown": [
       "|====== Lathe - Easily ML =====\n",
       "\n",
       "|= = = = = v. 0.1.2 = = = = = |\n",
       "\n",
       "|==============================\n",
       "\n",
       "|__________Lathe.stats\n",
       "\n",
       "|__________Lathe.preprocess\n",
       "\n",
       "|__________Lathe.models\n",
       "\n",
       "|______________________________\n",
       "\n",
       "Use ?(Lathe.package) for information!\n",
       "\n",
       "[uuid]\n",
       "\n",
       "38d8eb38-e7b1-11e9-0012-376b6c802672\n",
       "\n",
       "[deps]\n",
       "\n",
       "DataFrames.jl\n",
       "\n",
       "Random.jl\n",
       "\n",
       "```\n",
       "\n",
       "```\n"
      ],
      "text/plain": [
       "  |====== Lathe - Easily ML =====\n",
       "\n",
       "  |= = = = = v. 0.1.2 = = = = = |\n",
       "\n",
       "  |==============================\n",
       "\n",
       "  |__________Lathe.stats\n",
       "\n",
       "  |__________Lathe.preprocess\n",
       "\n",
       "  |__________Lathe.models\n",
       "\n",
       "  |______________________________\n",
       "\n",
       "  Use ?(Lathe.package) for information!\n",
       "\n",
       "  [uuid]\n",
       "\n",
       "  38d8eb38-e7b1-11e9-0012-376b6c802672\n",
       "\n",
       "  [deps]\n",
       "\n",
       "  DataFrames.jl\n",
       "\n",
       "  Random.jl\n",
       "\n",
       "\u001b[36m  \u001b[39m"
      ]
     },
     "execution_count": 22,
     "metadata": {},
     "output_type": "execute_result"
    }
   ],
   "source": [
    "?(Lathe)"
   ]
  },
  {
   "cell_type": "code",
   "execution_count": 23,
   "metadata": {},
   "outputs": [],
   "source": [
    "using Lathe: stats"
   ]
  },
  {
   "cell_type": "code",
   "execution_count": 24,
   "metadata": {},
   "outputs": [
    {
     "name": "stdout",
     "output_type": "stream",
     "text": [
      "search: \u001b[0m\u001b[1ms\u001b[22m\u001b[0m\u001b[1mt\u001b[22m\u001b[0m\u001b[1ma\u001b[22mr\u001b[0m\u001b[1mt\u001b[22m\u001b[0m\u001b[1ms\u001b[22mwith Ab\u001b[0m\u001b[1ms\u001b[22m\u001b[0m\u001b[1mt\u001b[22mr\u001b[0m\u001b[1ma\u001b[22mc\u001b[0m\u001b[1mt\u001b[22m\u001b[0m\u001b[1mS\u001b[22met Ab\u001b[0m\u001b[1ms\u001b[22m\u001b[0m\u001b[1mt\u001b[22mr\u001b[0m\u001b[1ma\u001b[22mc\u001b[0m\u001b[1mt\u001b[22m\u001b[0m\u001b[1mS\u001b[22mtring ignore\u001b[0m\u001b[1ms\u001b[22m\u001b[0m\u001b[1mt\u001b[22m\u001b[0m\u001b[1ma\u001b[22m\u001b[0m\u001b[1mt\u001b[22mu\u001b[0m\u001b[1ms\u001b[22m MathCon\u001b[0m\u001b[1ms\u001b[22m\u001b[0m\u001b[1mt\u001b[22m\u001b[0m\u001b[1ma\u001b[22mn\u001b[0m\u001b[1mt\u001b[22m\u001b[0m\u001b[1ms\u001b[22m\n",
      "\n"
     ]
    },
    {
     "ename": "BoundsError",
     "evalue": "BoundsError: attempt to access 0-element Array{SubString{String},1} at index [1]",
     "output_type": "error",
     "traceback": [
      "BoundsError: attempt to access 0-element Array{SubString{String},1} at index [1]",
      "",
      "Stacktrace:",
      " [1] getindex at ./array.jl:809 [inlined]",
      " [2] (::Markdown.var\"#55#57\"{Base.GenericIOBuffer{Array{UInt8,1}},Markdown.MD})() at /buildworker/worker/package_linux64/build/usr/share/julia/stdlib/v1.5/Markdown/src/GitHub/table.jl:48",
      " [3] withstream at /buildworker/worker/package_linux64/build/usr/share/julia/stdlib/v1.5/Markdown/src/parse/util.jl:114 [inlined]",
      " [4] github_table(::Base.GenericIOBuffer{Array{UInt8,1}}, ::Markdown.MD) at /buildworker/worker/package_linux64/build/usr/share/julia/stdlib/v1.5/Markdown/src/GitHub/table.jl:41",
      " [5] parse(::Base.GenericIOBuffer{Array{UInt8,1}}, ::Markdown.MD, ::Markdown.Config; breaking::Bool) at /buildworker/worker/package_linux64/build/usr/share/julia/stdlib/v1.5/Markdown/src/parse/parse.jl:83",
      " [6] parse at /buildworker/worker/package_linux64/build/usr/share/julia/stdlib/v1.5/Markdown/src/parse/parse.jl:80 [inlined]",
      " [7] parse(::Base.GenericIOBuffer{Array{UInt8,1}}; flavor::Markdown.Config) at /buildworker/worker/package_linux64/build/usr/share/julia/stdlib/v1.5/Markdown/src/parse/parse.jl:94",
      " [8] parse at /buildworker/worker/package_linux64/build/usr/share/julia/stdlib/v1.5/Markdown/src/parse/parse.jl:92 [inlined]",
      " [9] formatdoc(::Base.Docs.DocStr) at /buildworker/worker/package_linux64/build/usr/share/julia/stdlib/v1.5/REPL/src/docview.jl:85",
      " [10] parsedoc(::Base.Docs.DocStr) at /buildworker/worker/package_linux64/build/usr/share/julia/stdlib/v1.5/REPL/src/docview.jl:91",
      " [11] iterate at ./generator.jl:47 [inlined]",
      " [12] _collect(::Array{Base.Docs.DocStr,1}, ::Base.Generator{Array{Base.Docs.DocStr,1},typeof(Base.Docs.parsedoc)}, ::Base.EltypeUnknown, ::Base.HasShape{1}) at ./array.jl:699",
      " [13] collect_similar at ./array.jl:628 [inlined]",
      " [14] map at ./abstractarray.jl:2162 [inlined]",
      " [15] doc(::Base.Docs.Binding, ::Type{T} where T) at /buildworker/worker/package_linux64/build/usr/share/julia/stdlib/v1.5/REPL/src/docview.jl:185",
      " [16] doc(::Base.Docs.Binding) at /buildworker/worker/package_linux64/build/usr/share/julia/stdlib/v1.5/REPL/src/docview.jl:153",
      " [17] top-level scope at /buildworker/worker/package_linux64/build/usr/share/julia/stdlib/v1.5/REPL/src/docview.jl:368",
      " [18] eval at ./boot.jl:331 [inlined]",
      " [19] execute_request(::ZMQ.Socket, ::IJulia.Msg) at /home/emmett/.julia/packages/IJulia/rWZ9e/src/execute_request.jl:83",
      " [20] #invokelatest#1 at ./essentials.jl:710 [inlined]",
      " [21] invokelatest at ./essentials.jl:709 [inlined]",
      " [22] eventloop(::ZMQ.Socket) at /home/emmett/.julia/packages/IJulia/rWZ9e/src/eventloop.jl:8",
      " [23] (::IJulia.var\"#15#18\")() at ./task.jl:356"
     ]
    }
   ],
   "source": [
    "?(stats)"
   ]
  },
  {
   "cell_type": "code",
   "execution_count": 25,
   "metadata": {},
   "outputs": [],
   "source": [
    "using CSV"
   ]
  },
  {
   "cell_type": "code",
   "execution_count": 26,
   "metadata": {},
   "outputs": [
    {
     "data": {
      "text/html": [
       "<table class=\"data-frame\"><thead><tr><th></th><th>Car_Name</th><th>Year</th><th>Selling_Price</th><th>Present_Price</th><th>Kms_Driven</th><th>Fuel_Type</th><th>Seller_Type</th></tr><tr><th></th><th>String</th><th>Int64</th><th>Float64</th><th>Float64</th><th>Int64</th><th>String</th><th>String</th></tr></thead><tbody><p>301 rows × 9 columns (omitted printing of 2 columns)</p><tr><th>1</th><td>ritz</td><td>2014</td><td>3.35</td><td>5.59</td><td>27000</td><td>Petrol</td><td>Dealer</td></tr><tr><th>2</th><td>sx4</td><td>2013</td><td>4.75</td><td>9.54</td><td>43000</td><td>Diesel</td><td>Dealer</td></tr><tr><th>3</th><td>ciaz</td><td>2017</td><td>7.25</td><td>9.85</td><td>6900</td><td>Petrol</td><td>Dealer</td></tr><tr><th>4</th><td>wagon r</td><td>2011</td><td>2.85</td><td>4.15</td><td>5200</td><td>Petrol</td><td>Dealer</td></tr><tr><th>5</th><td>swift</td><td>2014</td><td>4.6</td><td>6.87</td><td>42450</td><td>Diesel</td><td>Dealer</td></tr><tr><th>6</th><td>vitara brezza</td><td>2018</td><td>9.25</td><td>9.83</td><td>2071</td><td>Diesel</td><td>Dealer</td></tr><tr><th>7</th><td>ciaz</td><td>2015</td><td>6.75</td><td>8.12</td><td>18796</td><td>Petrol</td><td>Dealer</td></tr><tr><th>8</th><td>s cross</td><td>2015</td><td>6.5</td><td>8.61</td><td>33429</td><td>Diesel</td><td>Dealer</td></tr><tr><th>9</th><td>ciaz</td><td>2016</td><td>8.75</td><td>8.89</td><td>20273</td><td>Diesel</td><td>Dealer</td></tr><tr><th>10</th><td>ciaz</td><td>2015</td><td>7.45</td><td>8.92</td><td>42367</td><td>Diesel</td><td>Dealer</td></tr><tr><th>11</th><td>alto 800</td><td>2017</td><td>2.85</td><td>3.6</td><td>2135</td><td>Petrol</td><td>Dealer</td></tr><tr><th>12</th><td>ciaz</td><td>2015</td><td>6.85</td><td>10.38</td><td>51000</td><td>Diesel</td><td>Dealer</td></tr><tr><th>13</th><td>ciaz</td><td>2015</td><td>7.5</td><td>9.94</td><td>15000</td><td>Petrol</td><td>Dealer</td></tr><tr><th>14</th><td>ertiga</td><td>2015</td><td>6.1</td><td>7.71</td><td>26000</td><td>Petrol</td><td>Dealer</td></tr><tr><th>15</th><td>dzire</td><td>2009</td><td>2.25</td><td>7.21</td><td>77427</td><td>Petrol</td><td>Dealer</td></tr><tr><th>16</th><td>ertiga</td><td>2016</td><td>7.75</td><td>10.79</td><td>43000</td><td>Diesel</td><td>Dealer</td></tr><tr><th>17</th><td>ertiga</td><td>2015</td><td>7.25</td><td>10.79</td><td>41678</td><td>Diesel</td><td>Dealer</td></tr><tr><th>18</th><td>ertiga</td><td>2016</td><td>7.75</td><td>10.79</td><td>43000</td><td>Diesel</td><td>Dealer</td></tr><tr><th>19</th><td>wagon r</td><td>2015</td><td>3.25</td><td>5.09</td><td>35500</td><td>CNG</td><td>Dealer</td></tr><tr><th>20</th><td>sx4</td><td>2010</td><td>2.65</td><td>7.98</td><td>41442</td><td>Petrol</td><td>Dealer</td></tr><tr><th>21</th><td>alto k10</td><td>2016</td><td>2.85</td><td>3.95</td><td>25000</td><td>Petrol</td><td>Dealer</td></tr><tr><th>22</th><td>ignis</td><td>2017</td><td>4.9</td><td>5.71</td><td>2400</td><td>Petrol</td><td>Dealer</td></tr><tr><th>23</th><td>sx4</td><td>2011</td><td>4.4</td><td>8.01</td><td>50000</td><td>Petrol</td><td>Dealer</td></tr><tr><th>24</th><td>alto k10</td><td>2014</td><td>2.5</td><td>3.46</td><td>45280</td><td>Petrol</td><td>Dealer</td></tr><tr><th>25</th><td>wagon r</td><td>2013</td><td>2.9</td><td>4.41</td><td>56879</td><td>Petrol</td><td>Dealer</td></tr><tr><th>26</th><td>swift</td><td>2011</td><td>3.0</td><td>4.99</td><td>20000</td><td>Petrol</td><td>Dealer</td></tr><tr><th>27</th><td>swift</td><td>2013</td><td>4.15</td><td>5.87</td><td>55138</td><td>Petrol</td><td>Dealer</td></tr><tr><th>28</th><td>swift</td><td>2017</td><td>6.0</td><td>6.49</td><td>16200</td><td>Petrol</td><td>Individual</td></tr><tr><th>29</th><td>alto k10</td><td>2010</td><td>1.95</td><td>3.95</td><td>44542</td><td>Petrol</td><td>Dealer</td></tr><tr><th>30</th><td>ciaz</td><td>2015</td><td>7.45</td><td>10.38</td><td>45000</td><td>Diesel</td><td>Dealer</td></tr><tr><th>&vellip;</th><td>&vellip;</td><td>&vellip;</td><td>&vellip;</td><td>&vellip;</td><td>&vellip;</td><td>&vellip;</td><td>&vellip;</td></tr></tbody></table>"
      ],
      "text/latex": [
       "\\begin{tabular}{r|cccccccc}\n",
       "\t& Car\\_Name & Year & Selling\\_Price & Present\\_Price & Kms\\_Driven & Fuel\\_Type & Seller\\_Type & \\\\\n",
       "\t\\hline\n",
       "\t& String & Int64 & Float64 & Float64 & Int64 & String & String & \\\\\n",
       "\t\\hline\n",
       "\t1 & ritz & 2014 & 3.35 & 5.59 & 27000 & Petrol & Dealer & $\\dots$ \\\\\n",
       "\t2 & sx4 & 2013 & 4.75 & 9.54 & 43000 & Diesel & Dealer & $\\dots$ \\\\\n",
       "\t3 & ciaz & 2017 & 7.25 & 9.85 & 6900 & Petrol & Dealer & $\\dots$ \\\\\n",
       "\t4 & wagon r & 2011 & 2.85 & 4.15 & 5200 & Petrol & Dealer & $\\dots$ \\\\\n",
       "\t5 & swift & 2014 & 4.6 & 6.87 & 42450 & Diesel & Dealer & $\\dots$ \\\\\n",
       "\t6 & vitara brezza & 2018 & 9.25 & 9.83 & 2071 & Diesel & Dealer & $\\dots$ \\\\\n",
       "\t7 & ciaz & 2015 & 6.75 & 8.12 & 18796 & Petrol & Dealer & $\\dots$ \\\\\n",
       "\t8 & s cross & 2015 & 6.5 & 8.61 & 33429 & Diesel & Dealer & $\\dots$ \\\\\n",
       "\t9 & ciaz & 2016 & 8.75 & 8.89 & 20273 & Diesel & Dealer & $\\dots$ \\\\\n",
       "\t10 & ciaz & 2015 & 7.45 & 8.92 & 42367 & Diesel & Dealer & $\\dots$ \\\\\n",
       "\t11 & alto 800 & 2017 & 2.85 & 3.6 & 2135 & Petrol & Dealer & $\\dots$ \\\\\n",
       "\t12 & ciaz & 2015 & 6.85 & 10.38 & 51000 & Diesel & Dealer & $\\dots$ \\\\\n",
       "\t13 & ciaz & 2015 & 7.5 & 9.94 & 15000 & Petrol & Dealer & $\\dots$ \\\\\n",
       "\t14 & ertiga & 2015 & 6.1 & 7.71 & 26000 & Petrol & Dealer & $\\dots$ \\\\\n",
       "\t15 & dzire & 2009 & 2.25 & 7.21 & 77427 & Petrol & Dealer & $\\dots$ \\\\\n",
       "\t16 & ertiga & 2016 & 7.75 & 10.79 & 43000 & Diesel & Dealer & $\\dots$ \\\\\n",
       "\t17 & ertiga & 2015 & 7.25 & 10.79 & 41678 & Diesel & Dealer & $\\dots$ \\\\\n",
       "\t18 & ertiga & 2016 & 7.75 & 10.79 & 43000 & Diesel & Dealer & $\\dots$ \\\\\n",
       "\t19 & wagon r & 2015 & 3.25 & 5.09 & 35500 & CNG & Dealer & $\\dots$ \\\\\n",
       "\t20 & sx4 & 2010 & 2.65 & 7.98 & 41442 & Petrol & Dealer & $\\dots$ \\\\\n",
       "\t21 & alto k10 & 2016 & 2.85 & 3.95 & 25000 & Petrol & Dealer & $\\dots$ \\\\\n",
       "\t22 & ignis & 2017 & 4.9 & 5.71 & 2400 & Petrol & Dealer & $\\dots$ \\\\\n",
       "\t23 & sx4 & 2011 & 4.4 & 8.01 & 50000 & Petrol & Dealer & $\\dots$ \\\\\n",
       "\t24 & alto k10 & 2014 & 2.5 & 3.46 & 45280 & Petrol & Dealer & $\\dots$ \\\\\n",
       "\t25 & wagon r & 2013 & 2.9 & 4.41 & 56879 & Petrol & Dealer & $\\dots$ \\\\\n",
       "\t26 & swift & 2011 & 3.0 & 4.99 & 20000 & Petrol & Dealer & $\\dots$ \\\\\n",
       "\t27 & swift & 2013 & 4.15 & 5.87 & 55138 & Petrol & Dealer & $\\dots$ \\\\\n",
       "\t28 & swift & 2017 & 6.0 & 6.49 & 16200 & Petrol & Individual & $\\dots$ \\\\\n",
       "\t29 & alto k10 & 2010 & 1.95 & 3.95 & 44542 & Petrol & Dealer & $\\dots$ \\\\\n",
       "\t30 & ciaz & 2015 & 7.45 & 10.38 & 45000 & Diesel & Dealer & $\\dots$ \\\\\n",
       "\t$\\dots$ & $\\dots$ & $\\dots$ & $\\dots$ & $\\dots$ & $\\dots$ & $\\dots$ & $\\dots$ &  \\\\\n",
       "\\end{tabular}\n"
      ],
      "text/plain": [
       "301×9 DataFrame. Omitted printing of 4 columns\n",
       "│ Row │ Car_Name      │ Year  │ Selling_Price │ Present_Price │ Kms_Driven │\n",
       "│     │ \u001b[90mString\u001b[39m        │ \u001b[90mInt64\u001b[39m │ \u001b[90mFloat64\u001b[39m       │ \u001b[90mFloat64\u001b[39m       │ \u001b[90mInt64\u001b[39m      │\n",
       "├─────┼───────────────┼───────┼───────────────┼───────────────┼────────────┤\n",
       "│ 1   │ ritz          │ 2014  │ 3.35          │ 5.59          │ 27000      │\n",
       "│ 2   │ sx4           │ 2013  │ 4.75          │ 9.54          │ 43000      │\n",
       "│ 3   │ ciaz          │ 2017  │ 7.25          │ 9.85          │ 6900       │\n",
       "│ 4   │ wagon r       │ 2011  │ 2.85          │ 4.15          │ 5200       │\n",
       "│ 5   │ swift         │ 2014  │ 4.6           │ 6.87          │ 42450      │\n",
       "│ 6   │ vitara brezza │ 2018  │ 9.25          │ 9.83          │ 2071       │\n",
       "│ 7   │ ciaz          │ 2015  │ 6.75          │ 8.12          │ 18796      │\n",
       "│ 8   │ s cross       │ 2015  │ 6.5           │ 8.61          │ 33429      │\n",
       "│ 9   │ ciaz          │ 2016  │ 8.75          │ 8.89          │ 20273      │\n",
       "│ 10  │ ciaz          │ 2015  │ 7.45          │ 8.92          │ 42367      │\n",
       "⋮\n",
       "│ 291 │ amaze         │ 2014  │ 4.5           │ 6.4           │ 19000      │\n",
       "│ 292 │ brio          │ 2015  │ 5.4           │ 6.1           │ 31427      │\n",
       "│ 293 │ jazz          │ 2016  │ 6.4           │ 8.4           │ 12000      │\n",
       "│ 294 │ city          │ 2010  │ 3.25          │ 9.9           │ 38000      │\n",
       "│ 295 │ amaze         │ 2014  │ 3.75          │ 6.8           │ 33019      │\n",
       "│ 296 │ city          │ 2015  │ 8.55          │ 13.09         │ 60076      │\n",
       "│ 297 │ city          │ 2016  │ 9.5           │ 11.6          │ 33988      │\n",
       "│ 298 │ brio          │ 2015  │ 4.0           │ 5.9           │ 60000      │\n",
       "│ 299 │ city          │ 2009  │ 3.35          │ 11.0          │ 87934      │\n",
       "│ 300 │ city          │ 2017  │ 11.5          │ 12.5          │ 9000       │\n",
       "│ 301 │ brio          │ 2016  │ 5.3           │ 5.9           │ 5464       │"
      ]
     },
     "execution_count": 26,
     "metadata": {},
     "output_type": "execute_result"
    }
   ],
   "source": [
    "df = CSV.read(\"car data.csv\")"
   ]
  },
  {
   "cell_type": "code",
   "execution_count": 27,
   "metadata": {},
   "outputs": [
    {
     "data": {
      "text/html": [
       "<table class=\"data-frame\"><thead><tr><th></th><th>Year</th><th>Price</th></tr><tr><th></th><th>Int64</th><th>Float64</th></tr></thead><tbody><p>301 rows × 2 columns</p><tr><th>1</th><td>2014</td><td>3.35</td></tr><tr><th>2</th><td>2013</td><td>4.75</td></tr><tr><th>3</th><td>2017</td><td>7.25</td></tr><tr><th>4</th><td>2011</td><td>2.85</td></tr><tr><th>5</th><td>2014</td><td>4.6</td></tr><tr><th>6</th><td>2018</td><td>9.25</td></tr><tr><th>7</th><td>2015</td><td>6.75</td></tr><tr><th>8</th><td>2015</td><td>6.5</td></tr><tr><th>9</th><td>2016</td><td>8.75</td></tr><tr><th>10</th><td>2015</td><td>7.45</td></tr><tr><th>11</th><td>2017</td><td>2.85</td></tr><tr><th>12</th><td>2015</td><td>6.85</td></tr><tr><th>13</th><td>2015</td><td>7.5</td></tr><tr><th>14</th><td>2015</td><td>6.1</td></tr><tr><th>15</th><td>2009</td><td>2.25</td></tr><tr><th>16</th><td>2016</td><td>7.75</td></tr><tr><th>17</th><td>2015</td><td>7.25</td></tr><tr><th>18</th><td>2016</td><td>7.75</td></tr><tr><th>19</th><td>2015</td><td>3.25</td></tr><tr><th>20</th><td>2010</td><td>2.65</td></tr><tr><th>21</th><td>2016</td><td>2.85</td></tr><tr><th>22</th><td>2017</td><td>4.9</td></tr><tr><th>23</th><td>2011</td><td>4.4</td></tr><tr><th>24</th><td>2014</td><td>2.5</td></tr><tr><th>25</th><td>2013</td><td>2.9</td></tr><tr><th>26</th><td>2011</td><td>3.0</td></tr><tr><th>27</th><td>2013</td><td>4.15</td></tr><tr><th>28</th><td>2017</td><td>6.0</td></tr><tr><th>29</th><td>2010</td><td>1.95</td></tr><tr><th>30</th><td>2015</td><td>7.45</td></tr><tr><th>&vellip;</th><td>&vellip;</td><td>&vellip;</td></tr></tbody></table>"
      ],
      "text/latex": [
       "\\begin{tabular}{r|cc}\n",
       "\t& Year & Price\\\\\n",
       "\t\\hline\n",
       "\t& Int64 & Float64\\\\\n",
       "\t\\hline\n",
       "\t1 & 2014 & 3.35 \\\\\n",
       "\t2 & 2013 & 4.75 \\\\\n",
       "\t3 & 2017 & 7.25 \\\\\n",
       "\t4 & 2011 & 2.85 \\\\\n",
       "\t5 & 2014 & 4.6 \\\\\n",
       "\t6 & 2018 & 9.25 \\\\\n",
       "\t7 & 2015 & 6.75 \\\\\n",
       "\t8 & 2015 & 6.5 \\\\\n",
       "\t9 & 2016 & 8.75 \\\\\n",
       "\t10 & 2015 & 7.45 \\\\\n",
       "\t11 & 2017 & 2.85 \\\\\n",
       "\t12 & 2015 & 6.85 \\\\\n",
       "\t13 & 2015 & 7.5 \\\\\n",
       "\t14 & 2015 & 6.1 \\\\\n",
       "\t15 & 2009 & 2.25 \\\\\n",
       "\t16 & 2016 & 7.75 \\\\\n",
       "\t17 & 2015 & 7.25 \\\\\n",
       "\t18 & 2016 & 7.75 \\\\\n",
       "\t19 & 2015 & 3.25 \\\\\n",
       "\t20 & 2010 & 2.65 \\\\\n",
       "\t21 & 2016 & 2.85 \\\\\n",
       "\t22 & 2017 & 4.9 \\\\\n",
       "\t23 & 2011 & 4.4 \\\\\n",
       "\t24 & 2014 & 2.5 \\\\\n",
       "\t25 & 2013 & 2.9 \\\\\n",
       "\t26 & 2011 & 3.0 \\\\\n",
       "\t27 & 2013 & 4.15 \\\\\n",
       "\t28 & 2017 & 6.0 \\\\\n",
       "\t29 & 2010 & 1.95 \\\\\n",
       "\t30 & 2015 & 7.45 \\\\\n",
       "\t$\\dots$ & $\\dots$ & $\\dots$ \\\\\n",
       "\\end{tabular}\n"
      ],
      "text/plain": [
       "301×2 DataFrame\n",
       "│ Row │ Year  │ Price   │\n",
       "│     │ \u001b[90mInt64\u001b[39m │ \u001b[90mFloat64\u001b[39m │\n",
       "├─────┼───────┼─────────┤\n",
       "│ 1   │ 2014  │ 3.35    │\n",
       "│ 2   │ 2013  │ 4.75    │\n",
       "│ 3   │ 2017  │ 7.25    │\n",
       "│ 4   │ 2011  │ 2.85    │\n",
       "│ 5   │ 2014  │ 4.6     │\n",
       "│ 6   │ 2018  │ 9.25    │\n",
       "│ 7   │ 2015  │ 6.75    │\n",
       "│ 8   │ 2015  │ 6.5     │\n",
       "│ 9   │ 2016  │ 8.75    │\n",
       "│ 10  │ 2015  │ 7.45    │\n",
       "⋮\n",
       "│ 291 │ 2014  │ 4.5     │\n",
       "│ 292 │ 2015  │ 5.4     │\n",
       "│ 293 │ 2016  │ 6.4     │\n",
       "│ 294 │ 2010  │ 3.25    │\n",
       "│ 295 │ 2014  │ 3.75    │\n",
       "│ 296 │ 2015  │ 8.55    │\n",
       "│ 297 │ 2016  │ 9.5     │\n",
       "│ 298 │ 2015  │ 4.0     │\n",
       "│ 299 │ 2009  │ 3.35    │\n",
       "│ 300 │ 2017  │ 11.5    │\n",
       "│ 301 │ 2016  │ 5.3     │"
      ]
     },
     "execution_count": 27,
     "metadata": {},
     "output_type": "execute_result"
    }
   ],
   "source": [
    "using DataFrames\n",
    "df = DataFrame(:Year => df[:Year], :Price => df[:Selling_Price])"
   ]
  },
  {
   "cell_type": "code",
   "execution_count": 28,
   "metadata": {},
   "outputs": [],
   "source": [
    "for year in df[:Year]\n",
    "    if year == Missing\n",
    "        println(\"missing\")\n",
    "    end\n",
    "end\n",
    "for price in df[:Price]\n",
    "    if price == Missing\n",
    "        println(\"missing\")\n",
    "    end\n",
    "end"
   ]
  },
  {
   "cell_type": "code",
   "execution_count": 29,
   "metadata": {},
   "outputs": [],
   "source": [
    "using Lathe: preprocess"
   ]
  },
  {
   "cell_type": "code",
   "execution_count": 30,
   "metadata": {},
   "outputs": [
    {
     "name": "stdout",
     "output_type": "stream",
     "text": [
      "search:\n",
      "\n"
     ]
    },
    {
     "data": {
      "text/latex": [
       "|====== Lathe.preprocess =====\n",
       "\n",
       "|\\_\\_\\_\\_\\_\\_\\_\\_\\_\\_\\_\\_/ Generalized Processing \\_\\_\\_\\_\\_\\_\\_\\_\\_\\_\\_\n",
       "\n",
       "|\\_\\_\\_\\_\\_preprocess.TrainTestSplit(array)\n",
       "\n",
       "|\\_\\_\\_\\_\\_preprocess.SortSplit(array)\n",
       "\n",
       "|\\_\\_\\_\\_\\_preprocess.UniformSplit(array)\n",
       "\n",
       "|\\_\\_\\_\\_\\_\\_\\_\\_\\_\\_\\_\\_/ Feature Scaling \\_\\_\\_\\_\\_\\_\\_\\_\\_\\_\\_\n",
       "\n",
       "|\\_\\_\\_\\_\\_preprocess.Rescalar(array)\n",
       "\n",
       "|\\_\\_\\_\\_\\_preprocess.ArbitraryRescale(array)\n",
       "\n",
       "|\\_\\_\\_\\_\\_preprocess.MeanNormalization(array)\n",
       "\n",
       "|\\_\\_\\_\\_\\_preprocess.StandardScalar(array)\n",
       "\n",
       "|\\_\\_\\_\\_\\_\\_\\_\\_\\_\\_\\_\\_/ Categorical Encoding \\_\\_\\_\\_\\_\\_\\_\\_\\_\\_\\_\n",
       "\n",
       "|\\_\\_\\_\\_\\_preprocess.OneHotEncode(array)\n",
       "\n",
       "\\begin{verbatim}\n",
       "\n",
       "\\end{verbatim}\n"
      ],
      "text/markdown": [
       "|====== Lathe.preprocess =====\n",
       "\n",
       "|____________/ Generalized Processing ___________\n",
       "\n",
       "|_____preprocess.TrainTestSplit(array)\n",
       "\n",
       "|_____preprocess.SortSplit(array)\n",
       "\n",
       "|_____preprocess.UniformSplit(array)\n",
       "\n",
       "|____________/ Feature Scaling ___________\n",
       "\n",
       "|_____preprocess.Rescalar(array)\n",
       "\n",
       "|_____preprocess.ArbitraryRescale(array)\n",
       "\n",
       "|_____preprocess.MeanNormalization(array)\n",
       "\n",
       "|_____preprocess.StandardScalar(array)\n",
       "\n",
       "|____________/ Categorical Encoding ___________\n",
       "\n",
       "|_____preprocess.OneHotEncode(array)\n",
       "\n",
       "```\n",
       "\n",
       "```\n"
      ],
      "text/plain": [
       "  |====== Lathe.preprocess =====\n",
       "\n",
       "  |____________/ Generalized Processing ___________\n",
       "\n",
       "  |_____preprocess.TrainTestSplit(array)\n",
       "\n",
       "  |_____preprocess.SortSplit(array)\n",
       "\n",
       "  |_____preprocess.UniformSplit(array)\n",
       "\n",
       "  |____________/ Feature Scaling ___________\n",
       "\n",
       "  |_____preprocess.Rescalar(array)\n",
       "\n",
       "  |_____preprocess.ArbitraryRescale(array)\n",
       "\n",
       "  |_____preprocess.MeanNormalization(array)\n",
       "\n",
       "  |_____preprocess.StandardScalar(array)\n",
       "\n",
       "  |____________/ Categorical Encoding ___________\n",
       "\n",
       "  |_____preprocess.OneHotEncode(array)\n",
       "\n",
       "\u001b[36m  \u001b[39m"
      ]
     },
     "execution_count": 30,
     "metadata": {},
     "output_type": "execute_result"
    }
   ],
   "source": [
    "?(preprocess)"
   ]
  },
  {
   "cell_type": "code",
   "execution_count": 31,
   "metadata": {},
   "outputs": [
    {
     "data": {
      "text/latex": [
       "TrainTestSplit takes either a DataFrame or an Array and splits it according to the at parameter.\n",
       "\n",
       "\\rule{\\textwidth}{1pt}\n",
       "[data] <- Iterable dictionary, dataframe, or Array.\n",
       "\n",
       "a <- Percentage value used to determine a point to split the data.\n",
       "\n",
       "\\rule{\\textwidth}{1pt}\n",
       "\\begin{verbatim}\n",
       "\n",
       "\\end{verbatim}\n"
      ],
      "text/markdown": [
       "TrainTestSplit takes either a DataFrame or an Array and splits it according to the at parameter.\n",
       "\n",
       "---\n",
       "\n",
       "[data] <- Iterable dictionary, dataframe, or Array.\n",
       "\n",
       "a <- Percentage value used to determine a point to split the data.\n",
       "\n",
       "---\n",
       "\n",
       "```\n",
       "\n",
       "```\n"
      ],
      "text/plain": [
       "  TrainTestSplit takes either a DataFrame or an Array and splits it according\n",
       "  to the at parameter.\n",
       "\n",
       "  ────────────────────────────────────────────────────────────────────────────\n",
       "\n",
       "  [data] <- Iterable dictionary, dataframe, or Array.\n",
       "\n",
       "  a <- Percentage value used to determine a point to split the data.\n",
       "\n",
       "  ────────────────────────────────────────────────────────────────────────────\n",
       "\n",
       "\u001b[36m  \u001b[39m"
      ]
     },
     "execution_count": 31,
     "metadata": {},
     "output_type": "execute_result"
    }
   ],
   "source": [
    "?(preprocess.TrainTestSplit)"
   ]
  },
  {
   "cell_type": "code",
   "execution_count": 32,
   "metadata": {},
   "outputs": [
    {
     "data": {
      "text/plain": [
       "(212×2 DataFrame\n",
       "│ Row │ Year  │ Price   │\n",
       "│     │ \u001b[90mInt64\u001b[39m │ \u001b[90mFloat64\u001b[39m │\n",
       "├─────┼───────┼─────────┤\n",
       "│ 1   │ 2014  │ 3.35    │\n",
       "│ 2   │ 2013  │ 4.75    │\n",
       "│ 3   │ 2017  │ 7.25    │\n",
       "│ 4   │ 2014  │ 4.6     │\n",
       "│ 5   │ 2015  │ 6.5     │\n",
       "│ 6   │ 2015  │ 7.45    │\n",
       "│ 7   │ 2017  │ 2.85    │\n",
       "│ 8   │ 2015  │ 6.85    │\n",
       "│ 9   │ 2015  │ 6.1     │\n",
       "│ 10  │ 2015  │ 7.25    │\n",
       "⋮\n",
       "│ 202 │ 2015  │ 5.75    │\n",
       "│ 203 │ 2015  │ 8.4     │\n",
       "│ 204 │ 2015  │ 5.4     │\n",
       "│ 205 │ 2010  │ 3.25    │\n",
       "│ 206 │ 2014  │ 3.75    │\n",
       "│ 207 │ 2015  │ 8.55    │\n",
       "│ 208 │ 2016  │ 9.5     │\n",
       "│ 209 │ 2015  │ 4.0     │\n",
       "│ 210 │ 2009  │ 3.35    │\n",
       "│ 211 │ 2017  │ 11.5    │\n",
       "│ 212 │ 2016  │ 5.3     │, 89×2 DataFrame\n",
       "│ Row │ Year  │ Price   │\n",
       "│     │ \u001b[90mInt64\u001b[39m │ \u001b[90mFloat64\u001b[39m │\n",
       "├─────┼───────┼─────────┤\n",
       "│ 1   │ 2011  │ 2.85    │\n",
       "│ 2   │ 2018  │ 9.25    │\n",
       "│ 3   │ 2015  │ 6.75    │\n",
       "│ 4   │ 2016  │ 8.75    │\n",
       "│ 5   │ 2015  │ 7.5     │\n",
       "│ 6   │ 2009  │ 2.25    │\n",
       "│ 7   │ 2016  │ 7.75    │\n",
       "│ 8   │ 2017  │ 4.9     │\n",
       "│ 9   │ 2011  │ 4.4     │\n",
       "│ 10  │ 2014  │ 6.0     │\n",
       "⋮\n",
       "│ 79  │ 2015  │ 6.7     │\n",
       "│ 80  │ 2009  │ 3.0     │\n",
       "│ 81  │ 2015  │ 7.5     │\n",
       "│ 82  │ 2010  │ 2.25    │\n",
       "│ 83  │ 2015  │ 5.25    │\n",
       "│ 84  │ 2006  │ 2.1     │\n",
       "│ 85  │ 2014  │ 8.25    │\n",
       "│ 86  │ 2016  │ 7.4     │\n",
       "│ 87  │ 2016  │ 10.11   │\n",
       "│ 88  │ 2014  │ 4.5     │\n",
       "│ 89  │ 2016  │ 6.4     │)"
      ]
     },
     "execution_count": 32,
     "metadata": {},
     "output_type": "execute_result"
    }
   ],
   "source": [
    "train, test = preprocess._dfTrainTestSplit(df, .75)"
   ]
  },
  {
   "cell_type": "code",
   "execution_count": 33,
   "metadata": {},
   "outputs": [
    {
     "data": {
      "text/html": [
       "<table class=\"data-frame\"><thead><tr><th></th><th>Year</th><th>Price</th></tr><tr><th></th><th>Int64</th><th>Float64</th></tr></thead><tbody><p>89 rows × 2 columns</p><tr><th>1</th><td>2011</td><td>2.85</td></tr><tr><th>2</th><td>2018</td><td>9.25</td></tr><tr><th>3</th><td>2015</td><td>6.75</td></tr><tr><th>4</th><td>2016</td><td>8.75</td></tr><tr><th>5</th><td>2015</td><td>7.5</td></tr><tr><th>6</th><td>2009</td><td>2.25</td></tr><tr><th>7</th><td>2016</td><td>7.75</td></tr><tr><th>8</th><td>2017</td><td>4.9</td></tr><tr><th>9</th><td>2011</td><td>4.4</td></tr><tr><th>10</th><td>2014</td><td>6.0</td></tr><tr><th>11</th><td>2016</td><td>3.0</td></tr><tr><th>12</th><td>2016</td><td>5.85</td></tr><tr><th>13</th><td>2014</td><td>5.5</td></tr><tr><th>14</th><td>2015</td><td>5.8</td></tr><tr><th>15</th><td>2012</td><td>14.9</td></tr><tr><th>16</th><td>2017</td><td>18.0</td></tr><tr><th>17</th><td>2009</td><td>3.6</td></tr><tr><th>18</th><td>2015</td><td>4.5</td></tr><tr><th>19</th><td>2015</td><td>4.5</td></tr><tr><th>20</th><td>2014</td><td>4.75</td></tr><tr><th>21</th><td>2017</td><td>19.75</td></tr><tr><th>22</th><td>2010</td><td>9.25</td></tr><tr><th>23</th><td>2011</td><td>4.35</td></tr><tr><th>24</th><td>2016</td><td>14.25</td></tr><tr><th>25</th><td>2013</td><td>7.45</td></tr><tr><th>26</th><td>2011</td><td>2.65</td></tr><tr><th>27</th><td>2014</td><td>4.9</td></tr><tr><th>28</th><td>2009</td><td>3.8</td></tr><tr><th>29</th><td>2017</td><td>1.45</td></tr><tr><th>30</th><td>2015</td><td>1.35</td></tr><tr><th>&vellip;</th><td>&vellip;</td><td>&vellip;</td></tr></tbody></table>"
      ],
      "text/latex": [
       "\\begin{tabular}{r|cc}\n",
       "\t& Year & Price\\\\\n",
       "\t\\hline\n",
       "\t& Int64 & Float64\\\\\n",
       "\t\\hline\n",
       "\t1 & 2011 & 2.85 \\\\\n",
       "\t2 & 2018 & 9.25 \\\\\n",
       "\t3 & 2015 & 6.75 \\\\\n",
       "\t4 & 2016 & 8.75 \\\\\n",
       "\t5 & 2015 & 7.5 \\\\\n",
       "\t6 & 2009 & 2.25 \\\\\n",
       "\t7 & 2016 & 7.75 \\\\\n",
       "\t8 & 2017 & 4.9 \\\\\n",
       "\t9 & 2011 & 4.4 \\\\\n",
       "\t10 & 2014 & 6.0 \\\\\n",
       "\t11 & 2016 & 3.0 \\\\\n",
       "\t12 & 2016 & 5.85 \\\\\n",
       "\t13 & 2014 & 5.5 \\\\\n",
       "\t14 & 2015 & 5.8 \\\\\n",
       "\t15 & 2012 & 14.9 \\\\\n",
       "\t16 & 2017 & 18.0 \\\\\n",
       "\t17 & 2009 & 3.6 \\\\\n",
       "\t18 & 2015 & 4.5 \\\\\n",
       "\t19 & 2015 & 4.5 \\\\\n",
       "\t20 & 2014 & 4.75 \\\\\n",
       "\t21 & 2017 & 19.75 \\\\\n",
       "\t22 & 2010 & 9.25 \\\\\n",
       "\t23 & 2011 & 4.35 \\\\\n",
       "\t24 & 2016 & 14.25 \\\\\n",
       "\t25 & 2013 & 7.45 \\\\\n",
       "\t26 & 2011 & 2.65 \\\\\n",
       "\t27 & 2014 & 4.9 \\\\\n",
       "\t28 & 2009 & 3.8 \\\\\n",
       "\t29 & 2017 & 1.45 \\\\\n",
       "\t30 & 2015 & 1.35 \\\\\n",
       "\t$\\dots$ & $\\dots$ & $\\dots$ \\\\\n",
       "\\end{tabular}\n"
      ],
      "text/plain": [
       "89×2 DataFrame\n",
       "│ Row │ Year  │ Price   │\n",
       "│     │ \u001b[90mInt64\u001b[39m │ \u001b[90mFloat64\u001b[39m │\n",
       "├─────┼───────┼─────────┤\n",
       "│ 1   │ 2011  │ 2.85    │\n",
       "│ 2   │ 2018  │ 9.25    │\n",
       "│ 3   │ 2015  │ 6.75    │\n",
       "│ 4   │ 2016  │ 8.75    │\n",
       "│ 5   │ 2015  │ 7.5     │\n",
       "│ 6   │ 2009  │ 2.25    │\n",
       "│ 7   │ 2016  │ 7.75    │\n",
       "│ 8   │ 2017  │ 4.9     │\n",
       "│ 9   │ 2011  │ 4.4     │\n",
       "│ 10  │ 2014  │ 6.0     │\n",
       "⋮\n",
       "│ 79  │ 2015  │ 6.7     │\n",
       "│ 80  │ 2009  │ 3.0     │\n",
       "│ 81  │ 2015  │ 7.5     │\n",
       "│ 82  │ 2010  │ 2.25    │\n",
       "│ 83  │ 2015  │ 5.25    │\n",
       "│ 84  │ 2006  │ 2.1     │\n",
       "│ 85  │ 2014  │ 8.25    │\n",
       "│ 86  │ 2016  │ 7.4     │\n",
       "│ 87  │ 2016  │ 10.11   │\n",
       "│ 88  │ 2014  │ 4.5     │\n",
       "│ 89  │ 2016  │ 6.4     │"
      ]
     },
     "execution_count": 33,
     "metadata": {},
     "output_type": "execute_result"
    }
   ],
   "source": [
    "test"
   ]
  },
  {
   "cell_type": "code",
   "execution_count": 34,
   "metadata": {},
   "outputs": [
    {
     "data": {
      "text/plain": [
       "89-element Array{Int64,1}:\n",
       " 2011\n",
       " 2018\n",
       " 2015\n",
       " 2016\n",
       " 2015\n",
       " 2009\n",
       " 2016\n",
       " 2017\n",
       " 2011\n",
       " 2014\n",
       " 2016\n",
       " 2016\n",
       " 2014\n",
       "    ⋮\n",
       " 2016\n",
       " 2015\n",
       " 2009\n",
       " 2015\n",
       " 2010\n",
       " 2015\n",
       " 2006\n",
       " 2014\n",
       " 2016\n",
       " 2016\n",
       " 2014\n",
       " 2016"
      ]
     },
     "execution_count": 34,
     "metadata": {},
     "output_type": "execute_result"
    }
   ],
   "source": [
    "trainX = train[:Price]\n",
    "trainY = train[:Year]\n",
    "testX = test[:Price]\n",
    "testY = test[:Year]"
   ]
  },
  {
   "cell_type": "code",
   "execution_count": 35,
   "metadata": {},
   "outputs": [],
   "source": [
    "using Lathe: models\n"
   ]
  },
  {
   "cell_type": "code",
   "execution_count": 36,
   "metadata": {},
   "outputs": [
    {
     "data": {
      "text/latex": [
       "No documentation found.\n",
       "\n",
       "Binding \\texttt{Lathe.models.LinearRegression} does not exist.\n",
       "\n"
      ],
      "text/markdown": [
       "No documentation found.\n",
       "\n",
       "Binding `Lathe.models.LinearRegression` does not exist.\n"
      ],
      "text/plain": [
       "  No documentation found.\n",
       "\n",
       "  Binding \u001b[36mLathe.models.LinearRegression\u001b[39m does not exist."
      ]
     },
     "execution_count": 36,
     "metadata": {},
     "output_type": "execute_result"
    }
   ],
   "source": [
    "?(models.LinearRegression)"
   ]
  },
  {
   "cell_type": "code",
   "execution_count": 41,
   "metadata": {},
   "outputs": [
    {
     "data": {
      "text/latex": [
       "Linear Regression is a well-known linear function used for predicting  continuous features with a mostly linear or semi-linear slope.\n",
       "\n",
       "\\rule{\\textwidth}{1pt}\n",
       "==PARAMETERS==\n",
       "\n",
       "[y] <- Fill with your trainY values. Should be an array of shape (0,1) or (1,0)\n",
       "\n",
       "[x] <- Fill in with your trainX values. Should be an array of shape (0,1) or (1,0)\n",
       "\n",
       "\\rule{\\textwidth}{1pt}\n",
       "==Functions==\n",
       "\n",
       "predict(xt) <- Returns a prediction from the model based on the xtrain value passed (xt)\n",
       "\n"
      ],
      "text/markdown": [
       "Linear Regression is a well-known linear function used for predicting  continuous features with a mostly linear or semi-linear slope.\n",
       "\n",
       "---\n",
       "\n",
       "==PARAMETERS==\n",
       "\n",
       "[y] <- Fill with your trainY values. Should be an array of shape (0,1) or (1,0)\n",
       "\n",
       "[x] <- Fill in with your trainX values. Should be an array of shape (0,1) or (1,0)\n",
       "\n",
       "---\n",
       "\n",
       "==Functions==\n",
       "\n",
       "predict(xt) <- Returns a prediction from the model based on the xtrain value passed (xt)\n"
      ],
      "text/plain": [
       "  Linear Regression is a well-known linear function used for predicting\n",
       "  continuous features with a mostly linear or semi-linear slope.\n",
       "\n",
       "  ────────────────────────────────────────────────────────────────────────────\n",
       "\n",
       "  ==PARAMETERS==\n",
       "\n",
       "  [y] <- Fill with your trainY values. Should be an array of shape (0,1) or\n",
       "  (1,0)\n",
       "\n",
       "  [x] <- Fill in with your trainX values. Should be an array of shape (0,1) or\n",
       "  (1,0)\n",
       "\n",
       "  ────────────────────────────────────────────────────────────────────────────\n",
       "\n",
       "  ==Functions==\n",
       "\n",
       "  predict(xt) <- Returns a prediction from the model based on the xtrain value\n",
       "  passed (xt)"
      ]
     },
     "execution_count": 41,
     "metadata": {},
     "output_type": "execute_result"
    }
   ],
   "source": [
    "?(models.SimpleLinearRegression)"
   ]
  },
  {
   "cell_type": "code",
   "execution_count": 42,
   "metadata": {},
   "outputs": [
    {
     "data": {
      "text/plain": [
       "#7 (generic function with 1 method)"
      ]
     },
     "execution_count": 42,
     "metadata": {},
     "output_type": "execute_result"
    }
   ],
   "source": [
    "model = models.SimpleLinearRegression(trainX, trainY)"
   ]
  },
  {
   "cell_type": "code",
   "execution_count": 43,
   "metadata": {},
   "outputs": [
    {
     "data": {
      "text/plain": [
       "89-element Array{Float64,1}:\n",
       " 2013.4551444041285\n",
       " 2014.1056789979405\n",
       " 2013.8515639222326\n",
       " 2014.054855982799\n",
       " 2013.927798444945\n",
       " 2013.3941567859586\n",
       " 2013.9532099525159\n",
       " 2013.6635187662089\n",
       " 2013.6126957510673\n",
       " 2013.7753293995204\n",
       " 2013.470391308671\n",
       " 2013.760082494978\n",
       " 2013.7245063843789\n",
       "    ⋮\n",
       " 2013.8363170176901\n",
       " 2013.8464816207186\n",
       " 2013.470391308671\n",
       " 2013.927798444945\n",
       " 2013.3941567859586\n",
       " 2013.699094876808\n",
       " 2013.3789098814161\n",
       " 2014.0040329676574\n",
       " 2013.9176338419168\n",
       " 2014.193094583984\n",
       " 2013.6228603540956\n",
       " 2013.8159878116335"
      ]
     },
     "execution_count": 43,
     "metadata": {},
     "output_type": "execute_result"
    }
   ],
   "source": [
    "yhat = model.predict(testX)"
   ]
  },
  {
   "cell_type": "code",
   "execution_count": 44,
   "metadata": {},
   "outputs": [
    {
     "data": {
      "text/plain": [
       "89-element Array{Int64,1}:\n",
       " 2013\n",
       " 2014\n",
       " 2014\n",
       " 2014\n",
       " 2014\n",
       " 2013\n",
       " 2014\n",
       " 2014\n",
       " 2014\n",
       " 2014\n",
       " 2013\n",
       " 2014\n",
       " 2014\n",
       "    ⋮\n",
       " 2014\n",
       " 2014\n",
       " 2013\n",
       " 2014\n",
       " 2013\n",
       " 2014\n",
       " 2013\n",
       " 2014\n",
       " 2014\n",
       " 2014\n",
       " 2014\n",
       " 2014"
      ]
     },
     "execution_count": 44,
     "metadata": {},
     "output_type": "execute_result"
    }
   ],
   "source": [
    "yhat = [year = Int64(round(year)) for year in yhat]"
   ]
  },
  {
   "cell_type": "code",
   "execution_count": 45,
   "metadata": {},
   "outputs": [
    {
     "data": {
      "text/plain": [
       "0.0"
      ]
     },
     "execution_count": 45,
     "metadata": {},
     "output_type": "execute_result"
    }
   ],
   "source": [
    "stats.mae(yhat, testY)"
   ]
  },
  {
   "cell_type": "code",
   "execution_count": null,
   "metadata": {},
   "outputs": [],
   "source": []
  },
  {
   "cell_type": "code",
   "execution_count": null,
   "metadata": {},
   "outputs": [],
   "source": []
  },
  {
   "cell_type": "code",
   "execution_count": null,
   "metadata": {},
   "outputs": [],
   "source": []
  }
 ],
 "metadata": {
  "@webio": {
   "lastCommId": null,
   "lastKernelId": null
  },
  "kernelspec": {
   "display_name": "Julia 1.5.2",
   "language": "julia",
   "name": "julia-1.5"
  },
  "language_info": {
   "file_extension": ".jl",
   "mimetype": "application/julia",
   "name": "julia",
   "version": "1.5.2"
  }
 },
 "nbformat": 4,
 "nbformat_minor": 2
}
