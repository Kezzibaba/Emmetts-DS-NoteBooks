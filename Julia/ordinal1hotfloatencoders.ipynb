{
 "cells": [
  {
   "cell_type": "code",
   "execution_count": 4,
   "metadata": {},
   "outputs": [],
   "source": [
    "using DataFrames"
   ]
  },
  {
   "cell_type": "code",
   "execution_count": 14,
   "metadata": {},
   "outputs": [
    {
     "data": {
      "text/plain": [
       "11-element Array{Int64,1}:\n",
       " 25\n",
       " 31\n",
       " 22\n",
       " 21\n",
       " 23\n",
       " 19\n",
       " 22\n",
       " 13\n",
       " 27\n",
       " 23\n",
       " 28"
      ]
     },
     "execution_count": 14,
     "metadata": {},
     "output_type": "execute_result"
    }
   ],
   "source": [
    "weather = [\"rain\", \"sunshine\", \"rain\", \"sunshine\", \"overcast\", \"sunshine\", \"rain\", \"snow\", \"overcast\", \"rain\",\n",
    "\"sunshine\"]\n",
    "Temp = [25, 31, 22, 21, 23, 19, 22, 13, 27, 23, 28]"
   ]
  },
  {
   "cell_type": "code",
   "execution_count": 15,
   "metadata": {},
   "outputs": [
    {
     "data": {
      "text/html": [
       "<table class=\"data-frame\"><thead><tr><th></th><th>Weather</th><th>TemperatureC</th></tr><tr><th></th><th>String</th><th>Int64</th></tr></thead><tbody><p>11 rows × 2 columns</p><tr><th>1</th><td>rain</td><td>25</td></tr><tr><th>2</th><td>sunshine</td><td>31</td></tr><tr><th>3</th><td>rain</td><td>22</td></tr><tr><th>4</th><td>sunshine</td><td>21</td></tr><tr><th>5</th><td>overcast</td><td>23</td></tr><tr><th>6</th><td>sunshine</td><td>19</td></tr><tr><th>7</th><td>rain</td><td>22</td></tr><tr><th>8</th><td>snow</td><td>13</td></tr><tr><th>9</th><td>overcast</td><td>27</td></tr><tr><th>10</th><td>rain</td><td>23</td></tr><tr><th>11</th><td>sunshine</td><td>28</td></tr></tbody></table>"
      ],
      "text/latex": [
       "\\begin{tabular}{r|cc}\n",
       "\t& Weather & TemperatureC\\\\\n",
       "\t\\hline\n",
       "\t& String & Int64\\\\\n",
       "\t\\hline\n",
       "\t1 & rain & 25 \\\\\n",
       "\t2 & sunshine & 31 \\\\\n",
       "\t3 & rain & 22 \\\\\n",
       "\t4 & sunshine & 21 \\\\\n",
       "\t5 & overcast & 23 \\\\\n",
       "\t6 & sunshine & 19 \\\\\n",
       "\t7 & rain & 22 \\\\\n",
       "\t8 & snow & 13 \\\\\n",
       "\t9 & overcast & 27 \\\\\n",
       "\t10 & rain & 23 \\\\\n",
       "\t11 & sunshine & 28 \\\\\n",
       "\\end{tabular}\n"
      ],
      "text/plain": [
       "11×2 DataFrame\n",
       "│ Row │ Weather  │ TemperatureC │\n",
       "│     │ \u001b[90mString\u001b[39m   │ \u001b[90mInt64\u001b[39m        │\n",
       "├─────┼──────────┼──────────────┤\n",
       "│ 1   │ rain     │ 25           │\n",
       "│ 2   │ sunshine │ 31           │\n",
       "│ 3   │ rain     │ 22           │\n",
       "│ 4   │ sunshine │ 21           │\n",
       "│ 5   │ overcast │ 23           │\n",
       "│ 6   │ sunshine │ 19           │\n",
       "│ 7   │ rain     │ 22           │\n",
       "│ 8   │ snow     │ 13           │\n",
       "│ 9   │ overcast │ 27           │\n",
       "│ 10  │ rain     │ 23           │\n",
       "│ 11  │ sunshine │ 28           │"
      ]
     },
     "execution_count": 15,
     "metadata": {},
     "output_type": "execute_result"
    }
   ],
   "source": [
    "df = DataFrame(:Weather => weather, :TemperatureC => Temp)"
   ]
  },
  {
   "cell_type": "code",
   "execution_count": 20,
   "metadata": {},
   "outputs": [
    {
     "data": {
      "text/plain": [
       "OrdinalEncoder (generic function with 1 method)"
      ]
     },
     "execution_count": 20,
     "metadata": {},
     "output_type": "execute_result"
    }
   ],
   "source": [
    "function OrdinalEncoder(array)\n",
    "    uni = Set(array)\n",
    "    lookup = Dict()\n",
    "    [push!(lookup, (value => i)) for (i, value) in enumerate(uni)]\n",
    "    predict() = [row = lookup[row] for row in array]\n",
    "    ()->(predict)\n",
    "end"
   ]
  },
  {
   "cell_type": "code",
   "execution_count": 7,
   "metadata": {},
   "outputs": [
    {
     "data": {
      "text/plain": [
       "FloatEncoder (generic function with 1 method)"
      ]
     },
     "execution_count": 7,
     "metadata": {},
     "output_type": "execute_result"
    }
   ],
   "source": [
    "function FloatEncoder(array)\n",
    "    encoded_array = []\n",
    "    for dim in array\n",
    "        newnumber = 0\n",
    "        for char in dim\n",
    "            newnumber += Float64(char)\n",
    "        end\n",
    "        append!(encoded_array, newnumber)\n",
    "    end\n",
    "    predict() = encoded_array\n",
    "    ()->(predict)\n",
    "end"
   ]
  },
  {
   "cell_type": "code",
   "execution_count": 8,
   "metadata": {},
   "outputs": [
    {
     "ename": "UndefVarError",
     "evalue": "UndefVarError: df not defined",
     "output_type": "error",
     "traceback": [
      "UndefVarError: df not defined",
      "",
      "Stacktrace:",
      " [1] top-level scope at In[8]:1"
     ]
    }
   ],
   "source": [
    "show(df)"
   ]
  },
  {
   "cell_type": "code",
   "execution_count": 9,
   "metadata": {},
   "outputs": [
    {
     "data": {
      "text/plain": [
       "onehot (generic function with 1 method)"
      ]
     },
     "execution_count": 9,
     "metadata": {},
     "output_type": "execute_result"
    }
   ],
   "source": [
    "function onehot(df,symb)\n",
    "    copy = df\n",
    "    for c in unique(copy[!,symb])\n",
    "        copy[!,Symbol(c)] = copy[!,symb] .== c\n",
    "    end\n",
    "    return(copy)\n",
    "end"
   ]
  },
  {
   "cell_type": "code",
   "execution_count": 16,
   "metadata": {},
   "outputs": [
    {
     "name": "stdout",
     "output_type": "stream",
     "text": [
      "11×2 DataFrame\n",
      "│ Row │ Weather  │ TemperatureC │\n",
      "│     │ \u001b[90mString\u001b[39m   │ \u001b[90mInt64\u001b[39m        │\n",
      "├─────┼──────────┼──────────────┤\n",
      "│ 1   │ rain     │ 25           │\n",
      "│ 2   │ sunshine │ 31           │\n",
      "│ 3   │ rain     │ 22           │\n",
      "│ 4   │ sunshine │ 21           │\n",
      "│ 5   │ overcast │ 23           │\n",
      "│ 6   │ sunshine │ 19           │\n",
      "│ 7   │ rain     │ 22           │\n",
      "│ 8   │ snow     │ 13           │\n",
      "│ 9   │ overcast │ 27           │\n",
      "│ 10  │ rain     │ 23           │\n",
      "│ 11  │ sunshine │ 28           │"
     ]
    }
   ],
   "source": [
    "show(df)"
   ]
  },
  {
   "cell_type": "code",
   "execution_count": 18,
   "metadata": {},
   "outputs": [
    {
     "name": "stdout",
     "output_type": "stream",
     "text": [
      "11×6 DataFrame\n",
      "│ Row │ Weather  │ TemperatureC │ rain │ sunshine │ overcast │ snow │\n",
      "│     │ \u001b[90mString\u001b[39m   │ \u001b[90mInt64\u001b[39m        │ \u001b[90mBool\u001b[39m │ \u001b[90mBool\u001b[39m     │ \u001b[90mBool\u001b[39m     │ \u001b[90mBool\u001b[39m │\n",
      "├─────┼──────────┼──────────────┼──────┼──────────┼──────────┼──────┤\n",
      "│ 1   │ rain     │ 25           │ 1    │ 0        │ 0        │ 0    │\n",
      "│ 2   │ sunshine │ 31           │ 0    │ 1        │ 0        │ 0    │\n",
      "│ 3   │ rain     │ 22           │ 1    │ 0        │ 0        │ 0    │\n",
      "│ 4   │ sunshine │ 21           │ 0    │ 1        │ 0        │ 0    │\n",
      "│ 5   │ overcast │ 23           │ 0    │ 0        │ 1        │ 0    │\n",
      "│ 6   │ sunshine │ 19           │ 0    │ 1        │ 0        │ 0    │\n",
      "│ 7   │ rain     │ 22           │ 1    │ 0        │ 0        │ 0    │\n",
      "│ 8   │ snow     │ 13           │ 0    │ 0        │ 0        │ 1    │\n",
      "│ 9   │ overcast │ 27           │ 0    │ 0        │ 1        │ 0    │\n",
      "│ 10  │ rain     │ 23           │ 1    │ 0        │ 0        │ 0    │\n",
      "│ 11  │ sunshine │ 28           │ 0    │ 1        │ 0        │ 0    │"
     ]
    }
   ],
   "source": [
    "onehot(df, :Weather)\n",
    "show(df)"
   ]
  },
  {
   "cell_type": "code",
   "execution_count": 24,
   "metadata": {},
   "outputs": [
    {
     "name": "stderr",
     "output_type": "stream",
     "text": [
      "┌ Warning: `getindex(df::DataFrame, col_ind::ColumnIndex)` is deprecated, use `df[!, col_ind]` instead.\n",
      "│   caller = top-level scope at In[24]:1\n",
      "└ @ Core In[24]:1\n",
      "┌ Warning: `setindex!(df::DataFrame, v::AbstractVector, col_ind::ColumnIndex)` is deprecated, use `begin\n",
      "│     df[!, col_ind] = v\n",
      "│     df\n",
      "│ end` instead.\n",
      "│   caller = top-level scope at In[24]:2\n",
      "└ @ Core In[24]:2\n"
     ]
    },
    {
     "data": {
      "text/plain": [
       "11-element Array{Int64,1}:\n",
       " 2\n",
       " 4\n",
       " 2\n",
       " 4\n",
       " 3\n",
       " 4\n",
       " 2\n",
       " 1\n",
       " 3\n",
       " 2\n",
       " 4"
      ]
     },
     "execution_count": 24,
     "metadata": {},
     "output_type": "execute_result"
    }
   ],
   "source": [
    "oe = OrdinalEncoder(df[:Weather])\n",
    "df[:OrdinalEncoded] = oe.predict()"
   ]
  },
  {
   "cell_type": "code",
   "execution_count": 26,
   "metadata": {},
   "outputs": [
    {
     "name": "stdout",
     "output_type": "stream",
     "text": [
      "11×7 DataFrame\n",
      "│ Row │ Weather  │ TemperatureC │ rain │ sunshine │ overcast │ snow │\n",
      "│     │ \u001b[90mString\u001b[39m   │ \u001b[90mInt64\u001b[39m        │ \u001b[90mBool\u001b[39m │ \u001b[90mBool\u001b[39m     │ \u001b[90mBool\u001b[39m     │ \u001b[90mBool\u001b[39m │\n",
      "├─────┼──────────┼──────────────┼──────┼──────────┼──────────┼──────┤\n",
      "│ 1   │ rain     │ 25           │ 1    │ 0        │ 0        │ 0    │\n",
      "│ 2   │ sunshine │ 31           │ 0    │ 1        │ 0        │ 0    │\n",
      "│ 3   │ rain     │ 22           │ 1    │ 0        │ 0        │ 0    │\n",
      "│ 4   │ sunshine │ 21           │ 0    │ 1        │ 0        │ 0    │\n",
      "│ 5   │ overcast │ 23           │ 0    │ 0        │ 1        │ 0    │\n",
      "│ 6   │ sunshine │ 19           │ 0    │ 1        │ 0        │ 0    │\n",
      "│ 7   │ rain     │ 22           │ 1    │ 0        │ 0        │ 0    │\n",
      "│ 8   │ snow     │ 13           │ 0    │ 0        │ 0        │ 1    │\n",
      "│ 9   │ overcast │ 27           │ 0    │ 0        │ 1        │ 0    │\n",
      "│ 10  │ rain     │ 23           │ 1    │ 0        │ 0        │ 0    │\n",
      "│ 11  │ sunshine │ 28           │ 0    │ 1        │ 0        │ 0    │\n",
      "\n",
      "│ Row │ OrdinalEncoded │\n",
      "│     │ \u001b[90mInt64\u001b[39m          │\n",
      "├─────┼────────────────┤\n",
      "│ 1   │ 2              │\n",
      "│ 2   │ 4              │\n",
      "│ 3   │ 2              │\n",
      "│ 4   │ 4              │\n",
      "│ 5   │ 3              │\n",
      "│ 6   │ 4              │\n",
      "│ 7   │ 2              │\n",
      "│ 8   │ 1              │\n",
      "│ 9   │ 3              │\n",
      "│ 10  │ 2              │\n",
      "│ 11  │ 4              │"
     ]
    },
    {
     "name": "stderr",
     "output_type": "stream",
     "text": [
      "┌ Warning: `showall(df::AbstractDataFrame, allcols::Bool = true)` is deprecated, use `show(df, allrows = true, allcols = allcols)` instead.\n",
      "│   caller = showall(::DataFrame) at deprecated.jl:66\n",
      "└ @ DataFrames ./deprecated.jl:66\n"
     ]
    }
   ],
   "source": [
    "showall(df)"
   ]
  },
  {
   "cell_type": "code",
   "execution_count": 27,
   "metadata": {},
   "outputs": [
    {
     "name": "stderr",
     "output_type": "stream",
     "text": [
      "┌ Warning: `getindex(df::DataFrame, col_ind::ColumnIndex)` is deprecated, use `df[!, col_ind]` instead.\n",
      "│   caller = top-level scope at In[27]:1\n",
      "└ @ Core In[27]:1\n"
     ]
    },
    {
     "data": {
      "text/plain": [
       "#6 (generic function with 1 method)"
      ]
     },
     "execution_count": 27,
     "metadata": {},
     "output_type": "execute_result"
    }
   ],
   "source": [
    "fe = FloatEncoder(df[:Weather])"
   ]
  },
  {
   "cell_type": "code",
   "execution_count": 28,
   "metadata": {},
   "outputs": [
    {
     "name": "stderr",
     "output_type": "stream",
     "text": [
      "┌ Warning: `setindex!(df::DataFrame, v::AbstractVector, col_ind::ColumnIndex)` is deprecated, use `begin\n",
      "│     df[!, col_ind] = v\n",
      "│     df\n",
      "│ end` instead.\n",
      "│   caller = top-level scope at In[28]:1\n",
      "└ @ Core In[28]:1\n"
     ]
    },
    {
     "data": {
      "text/plain": [
       "11-element Array{Any,1}:\n",
       " 426.0\n",
       " 877.0\n",
       " 426.0\n",
       " 877.0\n",
       " 871.0\n",
       " 877.0\n",
       " 426.0\n",
       " 455.0\n",
       " 871.0\n",
       " 426.0\n",
       " 877.0"
      ]
     },
     "execution_count": 28,
     "metadata": {},
     "output_type": "execute_result"
    }
   ],
   "source": [
    "df[:FloatEncoder] = fe.predict()"
   ]
  },
  {
   "cell_type": "code",
   "execution_count": 29,
   "metadata": {},
   "outputs": [
    {
     "name": "stdout",
     "output_type": "stream",
     "text": [
      "11×8 DataFrame\n",
      "│ Row │ Weather  │ TemperatureC │ rain │ sunshine │ overcast │ snow │\n",
      "│     │ \u001b[90mString\u001b[39m   │ \u001b[90mInt64\u001b[39m        │ \u001b[90mBool\u001b[39m │ \u001b[90mBool\u001b[39m     │ \u001b[90mBool\u001b[39m     │ \u001b[90mBool\u001b[39m │\n",
      "├─────┼──────────┼──────────────┼──────┼──────────┼──────────┼──────┤\n",
      "│ 1   │ rain     │ 25           │ 1    │ 0        │ 0        │ 0    │\n",
      "│ 2   │ sunshine │ 31           │ 0    │ 1        │ 0        │ 0    │\n",
      "│ 3   │ rain     │ 22           │ 1    │ 0        │ 0        │ 0    │\n",
      "│ 4   │ sunshine │ 21           │ 0    │ 1        │ 0        │ 0    │\n",
      "│ 5   │ overcast │ 23           │ 0    │ 0        │ 1        │ 0    │\n",
      "│ 6   │ sunshine │ 19           │ 0    │ 1        │ 0        │ 0    │\n",
      "│ 7   │ rain     │ 22           │ 1    │ 0        │ 0        │ 0    │\n",
      "│ 8   │ snow     │ 13           │ 0    │ 0        │ 0        │ 1    │\n",
      "│ 9   │ overcast │ 27           │ 0    │ 0        │ 1        │ 0    │\n",
      "│ 10  │ rain     │ 23           │ 1    │ 0        │ 0        │ 0    │\n",
      "│ 11  │ sunshine │ 28           │ 0    │ 1        │ 0        │ 0    │\n",
      "\n",
      "│ Row │ OrdinalEncoded │ FloatEncoder │\n",
      "│     │ \u001b[90mInt64\u001b[39m          │ \u001b[90mAny\u001b[39m          │\n",
      "├─────┼────────────────┼──────────────┤\n",
      "│ 1   │ 2              │ 426.0        │\n",
      "│ 2   │ 4              │ 877.0        │\n",
      "│ 3   │ 2              │ 426.0        │\n",
      "│ 4   │ 4              │ 877.0        │\n",
      "│ 5   │ 3              │ 871.0        │\n",
      "│ 6   │ 4              │ 877.0        │\n",
      "│ 7   │ 2              │ 426.0        │\n",
      "│ 8   │ 1              │ 455.0        │\n",
      "│ 9   │ 3              │ 871.0        │\n",
      "│ 10  │ 2              │ 426.0        │\n",
      "│ 11  │ 4              │ 877.0        │"
     ]
    }
   ],
   "source": [
    "showall(df)"
   ]
  },
  {
   "cell_type": "code",
   "execution_count": null,
   "metadata": {},
   "outputs": [],
   "source": []
  }
 ],
 "metadata": {
  "@webio": {
   "lastCommId": null,
   "lastKernelId": null
  },
  "kernelspec": {
   "display_name": "Julia 1.4.1",
   "language": "julia",
   "name": "julia-1.4"
  },
  "language_info": {
   "file_extension": ".jl",
   "mimetype": "application/julia",
   "name": "julia",
   "version": "1.4.1"
  }
 },
 "nbformat": 4,
 "nbformat_minor": 2
}
