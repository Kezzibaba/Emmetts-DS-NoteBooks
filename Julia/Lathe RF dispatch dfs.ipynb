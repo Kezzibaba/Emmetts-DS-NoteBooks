{
 "cells": [
  {
   "cell_type": "code",
   "execution_count": 1,
   "metadata": {},
   "outputs": [
    {
     "data": {
      "text/plain": [
       "testfunction (generic function with 2 methods)"
      ]
     },
     "execution_count": 1,
     "metadata": {},
     "output_type": "execute_result"
    }
   ],
   "source": [
    "function testfunction(a::Int64)\n",
    "    println(\"Ran function 1\")\n",
    "end\n",
    "function testfunction(a::Float64)\n",
    "    println(\"Ran function 2\")\n",
    "end"
   ]
  },
  {
   "cell_type": "code",
   "execution_count": 2,
   "metadata": {},
   "outputs": [
    {
     "data": {
      "text/plain": [
       "Float64"
      ]
     },
     "execution_count": 2,
     "metadata": {},
     "output_type": "execute_result"
    }
   ],
   "source": [
    "typeof(5.5)"
   ]
  },
  {
   "cell_type": "code",
   "execution_count": 3,
   "metadata": {},
   "outputs": [
    {
     "name": "stdout",
     "output_type": "stream",
     "text": [
      "Ran function 2\n"
     ]
    }
   ],
   "source": [
    "testfunction(5.5)"
   ]
  },
  {
   "cell_type": "code",
   "execution_count": 4,
   "metadata": {},
   "outputs": [
    {
     "data": {
      "text/plain": [
       "Int64"
      ]
     },
     "execution_count": 4,
     "metadata": {},
     "output_type": "execute_result"
    }
   ],
   "source": [
    "typeof(5)"
   ]
  },
  {
   "cell_type": "code",
   "execution_count": 5,
   "metadata": {},
   "outputs": [
    {
     "name": "stdout",
     "output_type": "stream",
     "text": [
      "Ran function 1\n"
     ]
    }
   ],
   "source": [
    "testfunction(5)"
   ]
  },
  {
   "cell_type": "code",
   "execution_count": 6,
   "metadata": {},
   "outputs": [
    {
     "name": "stderr",
     "output_type": "stream",
     "text": [
      "┌ Info: Precompiling DataFrames [a93c6f00-e57d-5684-b7b6-d8193f3e46c0]\n",
      "└ @ Base loading.jl:1278\n"
     ]
    },
    {
     "data": {
      "text/html": [
       "<table class=\"data-frame\"><thead><tr><th></th><th>A</th><th>B</th></tr><tr><th></th><th>Int64</th><th>Int64</th></tr></thead><tbody><p>4 rows × 2 columns</p><tr><th>1</th><td>5</td><td>8</td></tr><tr><th>2</th><td>10</td><td>10</td></tr><tr><th>3</th><td>15</td><td>11</td></tr><tr><th>4</th><td>20</td><td>12</td></tr></tbody></table>"
      ],
      "text/latex": [
       "\\begin{tabular}{r|cc}\n",
       "\t& A & B\\\\\n",
       "\t\\hline\n",
       "\t& Int64 & Int64\\\\\n",
       "\t\\hline\n",
       "\t1 & 5 & 8 \\\\\n",
       "\t2 & 10 & 10 \\\\\n",
       "\t3 & 15 & 11 \\\\\n",
       "\t4 & 20 & 12 \\\\\n",
       "\\end{tabular}\n"
      ],
      "text/plain": [
       "\u001b[1m4×2 DataFrame\u001b[0m\n",
       "\u001b[1m Row \u001b[0m│\u001b[1m A     \u001b[0m\u001b[1m B     \u001b[0m\n",
       "\u001b[1m     \u001b[0m│\u001b[90m Int64 \u001b[0m\u001b[90m Int64 \u001b[0m\n",
       "─────┼──────────────\n",
       "   1 │     5      8\n",
       "   2 │    10     10\n",
       "   3 │    15     11\n",
       "   4 │    20     12"
      ]
     },
     "execution_count": 6,
     "metadata": {},
     "output_type": "execute_result"
    }
   ],
   "source": [
    "using DataFrames\n",
    "df = DataFrame(:A => [5, 10, 15, 20], :B => [8, 10, 11, 12])"
   ]
  },
  {
   "cell_type": "code",
   "execution_count": 7,
   "metadata": {},
   "outputs": [],
   "source": [
    "for data in eachcol(df)\n",
    "\n",
    "end"
   ]
  },
  {
   "cell_type": "code",
   "execution_count": 8,
   "metadata": {},
   "outputs": [
    {
     "data": {
      "text/plain": [
       "(4, 2)"
      ]
     },
     "execution_count": 8,
     "metadata": {},
     "output_type": "execute_result"
    }
   ],
   "source": [
    "size(df)"
   ]
  },
  {
   "cell_type": "code",
   "execution_count": 9,
   "metadata": {},
   "outputs": [
    {
     "ename": "LoadError",
     "evalue": "MethodError: no method matching length(::DataFrame)\nClosest candidates are:\n  length(!Matched::DataFrames.Index) at /home/emmett/.julia/packages/DataFrames/yqToF/src/other/index.jl:33\n  length(!Matched::DataStructures.DiBitVector) at /home/emmett/.julia/packages/DataStructures/5hvIb/src/dibit_vector.jl:40\n  length(!Matched::Base.MethodList) at reflection.jl:872\n  ...",
     "output_type": "error",
     "traceback": [
      "MethodError: no method matching length(::DataFrame)\nClosest candidates are:\n  length(!Matched::DataFrames.Index) at /home/emmett/.julia/packages/DataFrames/yqToF/src/other/index.jl:33\n  length(!Matched::DataStructures.DiBitVector) at /home/emmett/.julia/packages/DataStructures/5hvIb/src/dibit_vector.jl:40\n  length(!Matched::Base.MethodList) at reflection.jl:872\n  ...",
      "",
      "Stacktrace:",
      " [1] top-level scope at In[9]:1",
      " [2] include_string(::Function, ::Module, ::String, ::String) at ./loading.jl:1091"
     ]
    }
   ],
   "source": [
    "length(df)"
   ]
  },
  {
   "cell_type": "code",
   "execution_count": 10,
   "metadata": {},
   "outputs": [
    {
     "data": {
      "text/plain": [
       "rowcount (generic function with 1 method)"
      ]
     },
     "execution_count": 10,
     "metadata": {},
     "output_type": "execute_result"
    }
   ],
   "source": [
    "function rowcount(df::DataFrame)\n",
    "    count = 0\n",
    "    for row in eachrow(df)\n",
    "        count += 1\n",
    "    end\n",
    "    return(count)\n",
    "end"
   ]
  },
  {
   "cell_type": "code",
   "execution_count": 11,
   "metadata": {},
   "outputs": [
    {
     "data": {
      "text/plain": [
       "2"
      ]
     },
     "execution_count": 11,
     "metadata": {},
     "output_type": "execute_result"
    }
   ],
   "source": [
    "size(df)[2]"
   ]
  },
  {
   "cell_type": "code",
   "execution_count": 12,
   "metadata": {},
   "outputs": [
    {
     "name": "stderr",
     "output_type": "stream",
     "text": [
      "┌ Info: Precompiling Lathe [38d8eb38-e7b1-11e9-0012-376b6c802672]\n",
      "└ @ Base loading.jl:1278\n"
     ]
    }
   ],
   "source": [
    "import Lathe.models: RandomForestClassifier"
   ]
  },
  {
   "cell_type": "code",
   "execution_count": 13,
   "metadata": {},
   "outputs": [],
   "source": [
    "using Random"
   ]
  },
  {
   "cell_type": "code",
   "execution_count": 14,
   "metadata": {},
   "outputs": [
    {
     "data": {
      "text/plain": [
       "OrdinalEncoder (generic function with 1 method)"
      ]
     },
     "execution_count": 14,
     "metadata": {},
     "output_type": "execute_result"
    }
   ],
   "source": [
    "function OrdinalEncoder(array)\n",
    "    uni = Set(array)\n",
    "    lookup = Dict()\n",
    "    [push!(lookup, (value => i)) for (i, value) in enumerate(uni)]\n",
    "    predict(arr) = [row = lookup[row] for row in arr]\n",
    "    ()->(predict;lookup)\n",
    "end"
   ]
  },
  {
   "cell_type": "code",
   "execution_count": 15,
   "metadata": {},
   "outputs": [
    {
     "data": {
      "text/plain": [
       "RandomForestClassifier (generic function with 4 methods)"
      ]
     },
     "execution_count": 15,
     "metadata": {},
     "output_type": "execute_result"
    }
   ],
   "source": [
    "import  Lathe.models: RandomForestClassifier\n"
   ]
  },
  {
   "cell_type": "code",
   "execution_count": 70,
   "metadata": {},
   "outputs": [],
   "source": [
    "using Lathe.lstats: mean"
   ]
  },
  {
   "cell_type": "code",
   "execution_count": 83,
   "metadata": {},
   "outputs": [
    {
     "data": {
      "text/plain": [
       "compare_pred (generic function with 1 method)"
      ]
     },
     "execution_count": 83,
     "metadata": {},
     "output_type": "execute_result"
    }
   ],
   "source": [
    "\n"
   ]
  },
  {
   "cell_type": "code",
   "execution_count": 84,
   "metadata": {},
   "outputs": [
    {
     "data": {
      "text/plain": [
       "3-element Array{String,1}:\n",
       " \"h\"\n",
       " \"b\"\n",
       " \"h\""
      ]
     },
     "execution_count": 84,
     "metadata": {},
     "output_type": "execute_result"
    }
   ],
   "source": [
    "x = DataFrame(:A => [5,10,15], :B => [5,10,15])\n",
    "y = [\"h\", \"b\", \"h\"]"
   ]
  },
  {
   "cell_type": "code",
   "execution_count": 85,
   "metadata": {},
   "outputs": [
    {
     "data": {
      "text/html": [
       "<table class=\"data-frame\"><thead><tr><th></th><th>A</th><th>B</th></tr><tr><th></th><th>Int64</th><th>Int64</th></tr></thead><tbody><p>3 rows × 2 columns</p><tr><th>1</th><td>5</td><td>5</td></tr><tr><th>2</th><td>10</td><td>10</td></tr><tr><th>3</th><td>15</td><td>15</td></tr></tbody></table>"
      ],
      "text/latex": [
       "\\begin{tabular}{r|cc}\n",
       "\t& A & B\\\\\n",
       "\t\\hline\n",
       "\t& Int64 & Int64\\\\\n",
       "\t\\hline\n",
       "\t1 & 5 & 5 \\\\\n",
       "\t2 & 10 & 10 \\\\\n",
       "\t3 & 15 & 15 \\\\\n",
       "\\end{tabular}\n"
      ],
      "text/plain": [
       "\u001b[1m3×2 DataFrame\u001b[0m\n",
       "\u001b[1m Row \u001b[0m│\u001b[1m A     \u001b[0m\u001b[1m B     \u001b[0m\n",
       "\u001b[1m     \u001b[0m│\u001b[90m Int64 \u001b[0m\u001b[90m Int64 \u001b[0m\n",
       "─────┼──────────────\n",
       "   1 │     5      5\n",
       "   2 │    10     10\n",
       "   3 │    15     15"
      ]
     },
     "execution_count": 85,
     "metadata": {},
     "output_type": "execute_result"
    }
   ],
   "source": [
    "x"
   ]
  },
  {
   "cell_type": "code",
   "execution_count": 86,
   "metadata": {},
   "outputs": [
    {
     "data": {
      "text/plain": [
       "#9 (generic function with 1 method)"
      ]
     },
     "execution_count": 86,
     "metadata": {},
     "output_type": "execute_result"
    }
   ],
   "source": [
    "d = RandomForestClassifier(x, y)"
   ]
  },
  {
   "cell_type": "code",
   "execution_count": 87,
   "metadata": {},
   "outputs": [
    {
     "data": {
      "text/plain": [
       "2"
      ]
     },
     "execution_count": 87,
     "metadata": {},
     "output_type": "execute_result"
    }
   ],
   "source": [
    "length(Dict(:A => [5,10], :B => [8, 5]))"
   ]
  },
  {
   "cell_type": "code",
   "execution_count": 89,
   "metadata": {},
   "outputs": [
    {
     "name": "stdout",
     "output_type": "stream",
     "text": [
      "h\n",
      "b\n",
      "h\n"
     ]
    }
   ],
   "source": [
    "h = d.predict(x)"
   ]
  },
  {
   "cell_type": "code",
   "execution_count": 100,
   "metadata": {},
   "outputs": [
    {
     "data": {
      "text/html": [
       "<table class=\"data-frame\"><thead><tr><th></th><th>Formatted Date</th><th>Summary</th><th>Precip Type</th><th>Temperature (C)</th><th>Apparent Temperature (C)</th></tr><tr><th></th><th>String</th><th>String</th><th>String</th><th>Float64</th><th>Float64</th></tr></thead><tbody><p>96,453 rows × 12 columns (omitted printing of 7 columns)</p><tr><th>1</th><td>2006-04-01 00:00:00.000 +0200</td><td>Partly Cloudy</td><td>rain</td><td>9.47222</td><td>7.38889</td></tr><tr><th>2</th><td>2006-04-01 01:00:00.000 +0200</td><td>Partly Cloudy</td><td>rain</td><td>9.35556</td><td>7.22778</td></tr><tr><th>3</th><td>2006-04-01 02:00:00.000 +0200</td><td>Mostly Cloudy</td><td>rain</td><td>9.37778</td><td>9.37778</td></tr><tr><th>4</th><td>2006-04-01 03:00:00.000 +0200</td><td>Partly Cloudy</td><td>rain</td><td>8.28889</td><td>5.94444</td></tr><tr><th>5</th><td>2006-04-01 04:00:00.000 +0200</td><td>Mostly Cloudy</td><td>rain</td><td>8.75556</td><td>6.97778</td></tr><tr><th>6</th><td>2006-04-01 05:00:00.000 +0200</td><td>Partly Cloudy</td><td>rain</td><td>9.22222</td><td>7.11111</td></tr><tr><th>7</th><td>2006-04-01 06:00:00.000 +0200</td><td>Partly Cloudy</td><td>rain</td><td>7.73333</td><td>5.52222</td></tr><tr><th>8</th><td>2006-04-01 07:00:00.000 +0200</td><td>Partly Cloudy</td><td>rain</td><td>8.77222</td><td>6.52778</td></tr><tr><th>9</th><td>2006-04-01 08:00:00.000 +0200</td><td>Partly Cloudy</td><td>rain</td><td>10.8222</td><td>10.8222</td></tr><tr><th>10</th><td>2006-04-01 09:00:00.000 +0200</td><td>Partly Cloudy</td><td>rain</td><td>13.7722</td><td>13.7722</td></tr><tr><th>11</th><td>2006-04-01 10:00:00.000 +0200</td><td>Partly Cloudy</td><td>rain</td><td>16.0167</td><td>16.0167</td></tr><tr><th>12</th><td>2006-04-01 11:00:00.000 +0200</td><td>Partly Cloudy</td><td>rain</td><td>17.1444</td><td>17.1444</td></tr><tr><th>13</th><td>2006-04-01 12:00:00.000 +0200</td><td>Partly Cloudy</td><td>rain</td><td>17.8</td><td>17.8</td></tr><tr><th>14</th><td>2006-04-01 13:00:00.000 +0200</td><td>Partly Cloudy</td><td>rain</td><td>17.3333</td><td>17.3333</td></tr><tr><th>15</th><td>2006-04-01 14:00:00.000 +0200</td><td>Partly Cloudy</td><td>rain</td><td>18.8778</td><td>18.8778</td></tr><tr><th>16</th><td>2006-04-01 15:00:00.000 +0200</td><td>Partly Cloudy</td><td>rain</td><td>18.9111</td><td>18.9111</td></tr><tr><th>17</th><td>2006-04-01 16:00:00.000 +0200</td><td>Partly Cloudy</td><td>rain</td><td>15.3889</td><td>15.3889</td></tr><tr><th>18</th><td>2006-04-01 17:00:00.000 +0200</td><td>Mostly Cloudy</td><td>rain</td><td>15.55</td><td>15.55</td></tr><tr><th>19</th><td>2006-04-01 18:00:00.000 +0200</td><td>Mostly Cloudy</td><td>rain</td><td>14.2556</td><td>14.2556</td></tr><tr><th>20</th><td>2006-04-01 19:00:00.000 +0200</td><td>Mostly Cloudy</td><td>rain</td><td>13.1444</td><td>13.1444</td></tr><tr><th>21</th><td>2006-04-01 20:00:00.000 +0200</td><td>Mostly Cloudy</td><td>rain</td><td>11.55</td><td>11.55</td></tr><tr><th>22</th><td>2006-04-01 21:00:00.000 +0200</td><td>Mostly Cloudy</td><td>rain</td><td>11.1833</td><td>11.1833</td></tr><tr><th>23</th><td>2006-04-01 22:00:00.000 +0200</td><td>Partly Cloudy</td><td>rain</td><td>10.1167</td><td>10.1167</td></tr><tr><th>24</th><td>2006-04-01 23:00:00.000 +0200</td><td>Mostly Cloudy</td><td>rain</td><td>10.2</td><td>10.2</td></tr><tr><th>25</th><td>2006-04-10 00:00:00.000 +0200</td><td>Partly Cloudy</td><td>rain</td><td>10.4222</td><td>10.4222</td></tr><tr><th>26</th><td>2006-04-10 01:00:00.000 +0200</td><td>Partly Cloudy</td><td>rain</td><td>9.91111</td><td>7.56667</td></tr><tr><th>27</th><td>2006-04-10 02:00:00.000 +0200</td><td>Mostly Cloudy</td><td>rain</td><td>11.1833</td><td>11.1833</td></tr><tr><th>28</th><td>2006-04-10 03:00:00.000 +0200</td><td>Partly Cloudy</td><td>rain</td><td>7.15556</td><td>5.04444</td></tr><tr><th>29</th><td>2006-04-10 04:00:00.000 +0200</td><td>Partly Cloudy</td><td>rain</td><td>6.11111</td><td>4.81667</td></tr><tr><th>30</th><td>2006-04-10 05:00:00.000 +0200</td><td>Partly Cloudy</td><td>rain</td><td>6.78889</td><td>4.27222</td></tr><tr><th>&vellip;</th><td>&vellip;</td><td>&vellip;</td><td>&vellip;</td><td>&vellip;</td><td>&vellip;</td></tr></tbody></table>"
      ],
      "text/latex": [
       "\\begin{tabular}{r|cccccc}\n",
       "\t& Formatted Date & Summary & Precip Type & Temperature (C) & Apparent Temperature (C) & \\\\\n",
       "\t\\hline\n",
       "\t& String & String & String & Float64 & Float64 & \\\\\n",
       "\t\\hline\n",
       "\t1 & 2006-04-01 00:00:00.000 +0200 & Partly Cloudy & rain & 9.47222 & 7.38889 & $\\dots$ \\\\\n",
       "\t2 & 2006-04-01 01:00:00.000 +0200 & Partly Cloudy & rain & 9.35556 & 7.22778 & $\\dots$ \\\\\n",
       "\t3 & 2006-04-01 02:00:00.000 +0200 & Mostly Cloudy & rain & 9.37778 & 9.37778 & $\\dots$ \\\\\n",
       "\t4 & 2006-04-01 03:00:00.000 +0200 & Partly Cloudy & rain & 8.28889 & 5.94444 & $\\dots$ \\\\\n",
       "\t5 & 2006-04-01 04:00:00.000 +0200 & Mostly Cloudy & rain & 8.75556 & 6.97778 & $\\dots$ \\\\\n",
       "\t6 & 2006-04-01 05:00:00.000 +0200 & Partly Cloudy & rain & 9.22222 & 7.11111 & $\\dots$ \\\\\n",
       "\t7 & 2006-04-01 06:00:00.000 +0200 & Partly Cloudy & rain & 7.73333 & 5.52222 & $\\dots$ \\\\\n",
       "\t8 & 2006-04-01 07:00:00.000 +0200 & Partly Cloudy & rain & 8.77222 & 6.52778 & $\\dots$ \\\\\n",
       "\t9 & 2006-04-01 08:00:00.000 +0200 & Partly Cloudy & rain & 10.8222 & 10.8222 & $\\dots$ \\\\\n",
       "\t10 & 2006-04-01 09:00:00.000 +0200 & Partly Cloudy & rain & 13.7722 & 13.7722 & $\\dots$ \\\\\n",
       "\t11 & 2006-04-01 10:00:00.000 +0200 & Partly Cloudy & rain & 16.0167 & 16.0167 & $\\dots$ \\\\\n",
       "\t12 & 2006-04-01 11:00:00.000 +0200 & Partly Cloudy & rain & 17.1444 & 17.1444 & $\\dots$ \\\\\n",
       "\t13 & 2006-04-01 12:00:00.000 +0200 & Partly Cloudy & rain & 17.8 & 17.8 & $\\dots$ \\\\\n",
       "\t14 & 2006-04-01 13:00:00.000 +0200 & Partly Cloudy & rain & 17.3333 & 17.3333 & $\\dots$ \\\\\n",
       "\t15 & 2006-04-01 14:00:00.000 +0200 & Partly Cloudy & rain & 18.8778 & 18.8778 & $\\dots$ \\\\\n",
       "\t16 & 2006-04-01 15:00:00.000 +0200 & Partly Cloudy & rain & 18.9111 & 18.9111 & $\\dots$ \\\\\n",
       "\t17 & 2006-04-01 16:00:00.000 +0200 & Partly Cloudy & rain & 15.3889 & 15.3889 & $\\dots$ \\\\\n",
       "\t18 & 2006-04-01 17:00:00.000 +0200 & Mostly Cloudy & rain & 15.55 & 15.55 & $\\dots$ \\\\\n",
       "\t19 & 2006-04-01 18:00:00.000 +0200 & Mostly Cloudy & rain & 14.2556 & 14.2556 & $\\dots$ \\\\\n",
       "\t20 & 2006-04-01 19:00:00.000 +0200 & Mostly Cloudy & rain & 13.1444 & 13.1444 & $\\dots$ \\\\\n",
       "\t21 & 2006-04-01 20:00:00.000 +0200 & Mostly Cloudy & rain & 11.55 & 11.55 & $\\dots$ \\\\\n",
       "\t22 & 2006-04-01 21:00:00.000 +0200 & Mostly Cloudy & rain & 11.1833 & 11.1833 & $\\dots$ \\\\\n",
       "\t23 & 2006-04-01 22:00:00.000 +0200 & Partly Cloudy & rain & 10.1167 & 10.1167 & $\\dots$ \\\\\n",
       "\t24 & 2006-04-01 23:00:00.000 +0200 & Mostly Cloudy & rain & 10.2 & 10.2 & $\\dots$ \\\\\n",
       "\t25 & 2006-04-10 00:00:00.000 +0200 & Partly Cloudy & rain & 10.4222 & 10.4222 & $\\dots$ \\\\\n",
       "\t26 & 2006-04-10 01:00:00.000 +0200 & Partly Cloudy & rain & 9.91111 & 7.56667 & $\\dots$ \\\\\n",
       "\t27 & 2006-04-10 02:00:00.000 +0200 & Mostly Cloudy & rain & 11.1833 & 11.1833 & $\\dots$ \\\\\n",
       "\t28 & 2006-04-10 03:00:00.000 +0200 & Partly Cloudy & rain & 7.15556 & 5.04444 & $\\dots$ \\\\\n",
       "\t29 & 2006-04-10 04:00:00.000 +0200 & Partly Cloudy & rain & 6.11111 & 4.81667 & $\\dots$ \\\\\n",
       "\t30 & 2006-04-10 05:00:00.000 +0200 & Partly Cloudy & rain & 6.78889 & 4.27222 & $\\dots$ \\\\\n",
       "\t$\\dots$ & $\\dots$ & $\\dots$ & $\\dots$ & $\\dots$ & $\\dots$ &  \\\\\n",
       "\\end{tabular}\n"
      ],
      "text/plain": [
       "\u001b[1m96453×12 DataFrame\u001b[0m\n",
       "\u001b[1m   Row \u001b[0m│\u001b[1m Formatted Date                \u001b[0m\u001b[1m Summary       \u001b[0m\u001b[1m Precip Type \u001b[0m\u001b[1m Temperatur\u001b[0m ⋯\n",
       "\u001b[1m       \u001b[0m│\u001b[90m String                        \u001b[0m\u001b[90m String        \u001b[0m\u001b[90m String      \u001b[0m\u001b[90m Float64   \u001b[0m ⋯\n",
       "───────┼────────────────────────────────────────────────────────────────────────\n",
       "     1 │ 2006-04-01 00:00:00.000 +0200  Partly Cloudy  rain                 9. ⋯\n",
       "     2 │ 2006-04-01 01:00:00.000 +0200  Partly Cloudy  rain                 9.\n",
       "     3 │ 2006-04-01 02:00:00.000 +0200  Mostly Cloudy  rain                 9.\n",
       "     4 │ 2006-04-01 03:00:00.000 +0200  Partly Cloudy  rain                 8.\n",
       "     5 │ 2006-04-01 04:00:00.000 +0200  Mostly Cloudy  rain                 8. ⋯\n",
       "     6 │ 2006-04-01 05:00:00.000 +0200  Partly Cloudy  rain                 9.\n",
       "     7 │ 2006-04-01 06:00:00.000 +0200  Partly Cloudy  rain                 7.\n",
       "     8 │ 2006-04-01 07:00:00.000 +0200  Partly Cloudy  rain                 8.\n",
       "     9 │ 2006-04-01 08:00:00.000 +0200  Partly Cloudy  rain                10. ⋯\n",
       "    10 │ 2006-04-01 09:00:00.000 +0200  Partly Cloudy  rain                13.\n",
       "    11 │ 2006-04-01 10:00:00.000 +0200  Partly Cloudy  rain                16.\n",
       "   ⋮   │               ⋮                      ⋮             ⋮              ⋮   ⋱\n",
       " 96444 │ 2016-09-09 14:00:00.000 +0200  Partly Cloudy  rain                30.\n",
       " 96445 │ 2016-09-09 15:00:00.000 +0200  Partly Cloudy  rain                31. ⋯\n",
       " 96446 │ 2016-09-09 16:00:00.000 +0200  Partly Cloudy  rain                31.\n",
       " 96447 │ 2016-09-09 17:00:00.000 +0200  Partly Cloudy  rain                30.\n",
       " 96448 │ 2016-09-09 18:00:00.000 +0200  Partly Cloudy  rain                28.\n",
       " 96449 │ 2016-09-09 19:00:00.000 +0200  Partly Cloudy  rain                26. ⋯\n",
       " 96450 │ 2016-09-09 20:00:00.000 +0200  Partly Cloudy  rain                24.\n",
       " 96451 │ 2016-09-09 21:00:00.000 +0200  Partly Cloudy  rain                22.\n",
       " 96452 │ 2016-09-09 22:00:00.000 +0200  Partly Cloudy  rain                21.\n",
       " 96453 │ 2016-09-09 23:00:00.000 +0200  Partly Cloudy  rain                20. ⋯\n",
       "\u001b[31m                                                9 columns and 96432 rows omitted\u001b[0m"
      ]
     },
     "execution_count": 100,
     "metadata": {},
     "output_type": "execute_result"
    }
   ],
   "source": [
    "using CSV\n",
    "using DataFrames; df = CSV.read(\"weatherHistory.csv\", DataFrame)"
   ]
  },
  {
   "cell_type": "code",
   "execution_count": 101,
   "metadata": {},
   "outputs": [
    {
     "name": "stdout",
     "output_type": "stream",
     "text": [
      "\u001b[1m96453×12 DataFrame\u001b[0m\n",
      "\u001b[1m   Row \u001b[0m│\u001b[1m Formatted Date                \u001b[0m\u001b[1m Summary       \u001b[0m\u001b[1m Precip Type \u001b[0m\u001b[1m Temperature (C) \u001b[0m\u001b[1m Apparent Temperature (C) \u001b[0m\u001b[1m Humidity \u001b[0m\u001b[1m Wind Speed (km/h) \u001b[0m\u001b[1m Wind Bearing (degrees) \u001b[0m\u001b[1m Visibility (km) \u001b[0m\u001b[1m Loud Cover \u001b[0m\u001b[1m Pressure (millibars) \u001b[0m\u001b[1m Daily Summary                     \u001b[0m\n",
      "\u001b[1m       \u001b[0m│\u001b[90m String                        \u001b[0m\u001b[90m String        \u001b[0m\u001b[90m String      \u001b[0m\u001b[90m Float64         \u001b[0m\u001b[90m Float64                  \u001b[0m\u001b[90m Float64  \u001b[0m\u001b[90m Float64           \u001b[0m\u001b[90m Float64                \u001b[0m\u001b[90m Float64         \u001b[0m\u001b[90m Float64    \u001b[0m\u001b[90m Float64              \u001b[0m\u001b[90m String                            \u001b[0m\n",
      "───────┼─────────────────────────────────────────────────────────────────────────────────────────────────────────────────────────────────────────────────────────────────────────────────────────────────────────────────────────────────────────────────\n",
      "     1 │ 2006-04-01 00:00:00.000 +0200  Partly Cloudy  rain                 9.47222                   7.38889      0.89            14.1197                   251.0          15.8263         0.0               1015.13  Partly cloudy throughout the day.\n",
      "     2 │ 2006-04-01 01:00:00.000 +0200  Partly Cloudy  rain                 9.35556                   7.22778      0.86            14.2646                   259.0          15.8263         0.0               1015.63  Partly cloudy throughout the day.\n",
      "     3 │ 2006-04-01 02:00:00.000 +0200  Mostly Cloudy  rain                 9.37778                   9.37778      0.89             3.9284                   204.0          14.9569         0.0               1015.94  Partly cloudy throughout the day.\n",
      "     4 │ 2006-04-01 03:00:00.000 +0200  Partly Cloudy  rain                 8.28889                   5.94444      0.83            14.1036                   269.0          15.8263         0.0               1016.41  Partly cloudy throughout the day.\n",
      "     5 │ 2006-04-01 04:00:00.000 +0200  Mostly Cloudy  rain                 8.75556                   6.97778      0.83            11.0446                   259.0          15.8263         0.0               1016.51  Partly cloudy throughout the day.\n",
      "     6 │ 2006-04-01 05:00:00.000 +0200  Partly Cloudy  rain                 9.22222                   7.11111      0.85            13.9587                   258.0          14.9569         0.0               1016.66  Partly cloudy throughout the day.\n",
      "     7 │ 2006-04-01 06:00:00.000 +0200  Partly Cloudy  rain                 7.73333                   5.52222      0.95            12.3648                   259.0           9.982          0.0               1016.72  Partly cloudy throughout the day.\n",
      "     8 │ 2006-04-01 07:00:00.000 +0200  Partly Cloudy  rain                 8.77222                   6.52778      0.89            14.1519                   260.0           9.982          0.0               1016.84  Partly cloudy throughout the day.\n",
      "     9 │ 2006-04-01 08:00:00.000 +0200  Partly Cloudy  rain                10.8222                   10.8222       0.82            11.3183                   259.0           9.982          0.0               1017.37  Partly cloudy throughout the day.\n",
      "    10 │ 2006-04-01 09:00:00.000 +0200  Partly Cloudy  rain                13.7722                   13.7722       0.72            12.5258                   279.0           9.982          0.0               1017.22  Partly cloudy throughout the day.\n",
      "    11 │ 2006-04-01 10:00:00.000 +0200  Partly Cloudy  rain                16.0167                   16.0167       0.67            17.5651                   290.0          11.2056         0.0               1017.42  Partly cloudy throughout the day.\n",
      "   ⋮   │               ⋮                      ⋮             ⋮              ⋮                    ⋮                 ⋮              ⋮                    ⋮                    ⋮             ⋮                ⋮                            ⋮\n",
      " 96443 │ 2016-09-09 13:00:00.000 +0200  Partly Cloudy  rain                30.9944                   29.9722       0.33            15.617                     70.0          16.1            0.0               1014.86  Partly cloudy starting in the mo…\n",
      " 96444 │ 2016-09-09 14:00:00.000 +0200  Partly Cloudy  rain                30.8944                   29.45         0.28            14.7798                    43.0          15.5526         0.0               1014.66  Partly cloudy starting in the mo…\n",
      " 96445 │ 2016-09-09 15:00:00.000 +0200  Partly Cloudy  rain                31.0833                   29.6167       0.28            15.5043                    40.0          16.1            0.0               1014.17  Partly cloudy starting in the mo…\n",
      " 96446 │ 2016-09-09 16:00:00.000 +0200  Partly Cloudy  rain                31.0833                   29.6111       0.28            13.8943                    40.0          16.1            0.0               1013.97  Partly cloudy starting in the mo…\n",
      " 96447 │ 2016-09-09 17:00:00.000 +0200  Partly Cloudy  rain                30.7667                   29.3111       0.28            14.2163                    24.0          15.5526         0.0               1013.83  Partly cloudy starting in the mo…\n",
      " 96448 │ 2016-09-09 18:00:00.000 +0200  Partly Cloudy  rain                28.8389                   27.85         0.32            12.2038                    21.0          16.1            0.0               1014.07  Partly cloudy starting in the mo…\n",
      " 96449 │ 2016-09-09 19:00:00.000 +0200  Partly Cloudy  rain                26.0167                   26.0167       0.43            10.9963                    31.0          16.1            0.0               1014.36  Partly cloudy starting in the mo…\n",
      " 96450 │ 2016-09-09 20:00:00.000 +0200  Partly Cloudy  rain                24.5833                   24.5833       0.48            10.0947                    20.0          15.5526         0.0               1015.16  Partly cloudy starting in the mo…\n",
      " 96451 │ 2016-09-09 21:00:00.000 +0200  Partly Cloudy  rain                22.0389                   22.0389       0.56             8.9838                    30.0          16.1            0.0               1015.66  Partly cloudy starting in the mo…\n",
      " 96452 │ 2016-09-09 22:00:00.000 +0200  Partly Cloudy  rain                21.5222                   21.5222       0.6             10.5294                    20.0          16.1            0.0               1015.95  Partly cloudy starting in the mo…\n",
      " 96453 │ 2016-09-09 23:00:00.000 +0200  Partly Cloudy  rain                20.4389                   20.4389       0.61             5.8765                    39.0          15.5204         0.0               1016.16  Partly cloudy starting in the mo…\n",
      "\u001b[31m                                                                                                                                                                                                                                       96431 rows omitted\u001b[0m"
     ]
    }
   ],
   "source": [
    "show(df, allcols = true)"
   ]
  },
  {
   "cell_type": "code",
   "execution_count": 102,
   "metadata": {},
   "outputs": [
    {
     "name": "stdout",
     "output_type": "stream",
     "text": [
      "\u001b[1mDataFrameRow\u001b[0m\n",
      "\u001b[1m Row \u001b[0m│\u001b[1m Formatted Date                \u001b[0m\u001b[1m Summary       \u001b[0m\u001b[1m Precip Type \u001b[0m\u001b[1m Temperature (C) \u001b[0m\u001b[1m Apparent Temperature (C) \u001b[0m\u001b[1m Humidity \u001b[0m\u001b[1m Wind Speed (km/h) \u001b[0m\u001b[1m Wind Bearing (degrees) \u001b[0m\u001b[1m Visibility (km) \u001b[0m\u001b[1m Loud Cover \u001b[0m\u001b[1m Pressure (millibars) \u001b[0m\u001b[1m Daily Summary                     \u001b[0m\n",
      "\u001b[1m     \u001b[0m│\u001b[90m String                        \u001b[0m\u001b[90m String        \u001b[0m\u001b[90m String      \u001b[0m\u001b[90m Float64         \u001b[0m\u001b[90m Float64                  \u001b[0m\u001b[90m Float64  \u001b[0m\u001b[90m Float64           \u001b[0m\u001b[90m Float64                \u001b[0m\u001b[90m Float64         \u001b[0m\u001b[90m Float64    \u001b[0m\u001b[90m Float64              \u001b[0m\u001b[90m String                            \u001b[0m\n",
      "─────┼─────────────────────────────────────────────────────────────────────────────────────────────────────────────────────────────────────────────────────────────────────────────────────────────────────────────────────────────────────────────────\n",
      "   1 │ 2006-04-01 00:00:00.000 +0200  Partly Cloudy  rain                 9.47222                   7.38889      0.89            14.1197                   251.0          15.8263         0.0               1015.13  Partly cloudy throughout the day.\n"
     ]
    }
   ],
   "source": [
    "println(df[1, :])"
   ]
  },
  {
   "cell_type": "code",
   "execution_count": 103,
   "metadata": {},
   "outputs": [
    {
     "data": {
      "text/html": [
       "<table class=\"data-frame\"><thead><tr><th></th><th>Temp</th><th>WindSp</th><th>Precip</th></tr><tr><th></th><th>Float64</th><th>Float64</th><th>String</th></tr></thead><tbody><p>96,453 rows × 3 columns</p><tr><th>1</th><td>9.47222</td><td>14.1197</td><td>rain</td></tr><tr><th>2</th><td>9.35556</td><td>14.2646</td><td>rain</td></tr><tr><th>3</th><td>9.37778</td><td>3.9284</td><td>rain</td></tr><tr><th>4</th><td>8.28889</td><td>14.1036</td><td>rain</td></tr><tr><th>5</th><td>8.75556</td><td>11.0446</td><td>rain</td></tr><tr><th>6</th><td>9.22222</td><td>13.9587</td><td>rain</td></tr><tr><th>7</th><td>7.73333</td><td>12.3648</td><td>rain</td></tr><tr><th>8</th><td>8.77222</td><td>14.1519</td><td>rain</td></tr><tr><th>9</th><td>10.8222</td><td>11.3183</td><td>rain</td></tr><tr><th>10</th><td>13.7722</td><td>12.5258</td><td>rain</td></tr><tr><th>11</th><td>16.0167</td><td>17.5651</td><td>rain</td></tr><tr><th>12</th><td>17.1444</td><td>19.7869</td><td>rain</td></tr><tr><th>13</th><td>17.8</td><td>21.9443</td><td>rain</td></tr><tr><th>14</th><td>17.3333</td><td>20.6885</td><td>rain</td></tr><tr><th>15</th><td>18.8778</td><td>15.3755</td><td>rain</td></tr><tr><th>16</th><td>18.9111</td><td>10.4006</td><td>rain</td></tr><tr><th>17</th><td>15.3889</td><td>14.4095</td><td>rain</td></tr><tr><th>18</th><td>15.55</td><td>11.1573</td><td>rain</td></tr><tr><th>19</th><td>14.2556</td><td>8.5169</td><td>rain</td></tr><tr><th>20</th><td>13.1444</td><td>7.6314</td><td>rain</td></tr><tr><th>21</th><td>11.55</td><td>7.3899</td><td>rain</td></tr><tr><th>22</th><td>11.1833</td><td>4.9266</td><td>rain</td></tr><tr><th>23</th><td>10.1167</td><td>6.6493</td><td>rain</td></tr><tr><th>24</th><td>10.2</td><td>3.9284</td><td>rain</td></tr><tr><th>25</th><td>10.4222</td><td>16.9855</td><td>rain</td></tr><tr><th>26</th><td>9.91111</td><td>17.2109</td><td>rain</td></tr><tr><th>27</th><td>11.1833</td><td>10.8192</td><td>rain</td></tr><tr><th>28</th><td>7.15556</td><td>11.0768</td><td>rain</td></tr><tr><th>29</th><td>6.11111</td><td>6.6493</td><td>rain</td></tr><tr><th>30</th><td>6.78889</td><td>13.0088</td><td>rain</td></tr><tr><th>&vellip;</th><td>&vellip;</td><td>&vellip;</td><td>&vellip;</td></tr></tbody></table>"
      ],
      "text/latex": [
       "\\begin{tabular}{r|ccc}\n",
       "\t& Temp & WindSp & Precip\\\\\n",
       "\t\\hline\n",
       "\t& Float64 & Float64 & String\\\\\n",
       "\t\\hline\n",
       "\t1 & 9.47222 & 14.1197 & rain \\\\\n",
       "\t2 & 9.35556 & 14.2646 & rain \\\\\n",
       "\t3 & 9.37778 & 3.9284 & rain \\\\\n",
       "\t4 & 8.28889 & 14.1036 & rain \\\\\n",
       "\t5 & 8.75556 & 11.0446 & rain \\\\\n",
       "\t6 & 9.22222 & 13.9587 & rain \\\\\n",
       "\t7 & 7.73333 & 12.3648 & rain \\\\\n",
       "\t8 & 8.77222 & 14.1519 & rain \\\\\n",
       "\t9 & 10.8222 & 11.3183 & rain \\\\\n",
       "\t10 & 13.7722 & 12.5258 & rain \\\\\n",
       "\t11 & 16.0167 & 17.5651 & rain \\\\\n",
       "\t12 & 17.1444 & 19.7869 & rain \\\\\n",
       "\t13 & 17.8 & 21.9443 & rain \\\\\n",
       "\t14 & 17.3333 & 20.6885 & rain \\\\\n",
       "\t15 & 18.8778 & 15.3755 & rain \\\\\n",
       "\t16 & 18.9111 & 10.4006 & rain \\\\\n",
       "\t17 & 15.3889 & 14.4095 & rain \\\\\n",
       "\t18 & 15.55 & 11.1573 & rain \\\\\n",
       "\t19 & 14.2556 & 8.5169 & rain \\\\\n",
       "\t20 & 13.1444 & 7.6314 & rain \\\\\n",
       "\t21 & 11.55 & 7.3899 & rain \\\\\n",
       "\t22 & 11.1833 & 4.9266 & rain \\\\\n",
       "\t23 & 10.1167 & 6.6493 & rain \\\\\n",
       "\t24 & 10.2 & 3.9284 & rain \\\\\n",
       "\t25 & 10.4222 & 16.9855 & rain \\\\\n",
       "\t26 & 9.91111 & 17.2109 & rain \\\\\n",
       "\t27 & 11.1833 & 10.8192 & rain \\\\\n",
       "\t28 & 7.15556 & 11.0768 & rain \\\\\n",
       "\t29 & 6.11111 & 6.6493 & rain \\\\\n",
       "\t30 & 6.78889 & 13.0088 & rain \\\\\n",
       "\t$\\dots$ & $\\dots$ & $\\dots$ & $\\dots$ \\\\\n",
       "\\end{tabular}\n"
      ],
      "text/plain": [
       "\u001b[1m96453×3 DataFrame\u001b[0m\n",
       "\u001b[1m   Row \u001b[0m│\u001b[1m Temp     \u001b[0m\u001b[1m WindSp  \u001b[0m\u001b[1m Precip \u001b[0m\n",
       "\u001b[1m       \u001b[0m│\u001b[90m Float64  \u001b[0m\u001b[90m Float64 \u001b[0m\u001b[90m String \u001b[0m\n",
       "───────┼───────────────────────────\n",
       "     1 │  9.47222  14.1197  rain\n",
       "     2 │  9.35556  14.2646  rain\n",
       "     3 │  9.37778   3.9284  rain\n",
       "     4 │  8.28889  14.1036  rain\n",
       "     5 │  8.75556  11.0446  rain\n",
       "     6 │  9.22222  13.9587  rain\n",
       "     7 │  7.73333  12.3648  rain\n",
       "     8 │  8.77222  14.1519  rain\n",
       "     9 │ 10.8222   11.3183  rain\n",
       "    10 │ 13.7722   12.5258  rain\n",
       "    11 │ 16.0167   17.5651  rain\n",
       "   ⋮   │    ⋮         ⋮       ⋮\n",
       " 96444 │ 30.8944   14.7798  rain\n",
       " 96445 │ 31.0833   15.5043  rain\n",
       " 96446 │ 31.0833   13.8943  rain\n",
       " 96447 │ 30.7667   14.2163  rain\n",
       " 96448 │ 28.8389   12.2038  rain\n",
       " 96449 │ 26.0167   10.9963  rain\n",
       " 96450 │ 24.5833   10.0947  rain\n",
       " 96451 │ 22.0389    8.9838  rain\n",
       " 96452 │ 21.5222   10.5294  rain\n",
       " 96453 │ 20.4389    5.8765  rain\n",
       "\u001b[31m                 96432 rows omitted\u001b[0m"
      ]
     },
     "execution_count": 103,
     "metadata": {},
     "output_type": "execute_result"
    }
   ],
   "source": [
    "df = DataFrame(:Temp => df[!, Symbol(\"Temperature (C)\")],\n",
    "    :WindSp => df[!, Symbol(\"Wind Speed (km/h)\")],\n",
    "    :Precip => df[!, Symbol(\"Precip Type\")]\n",
    ")"
   ]
  },
  {
   "cell_type": "code",
   "execution_count": 105,
   "metadata": {},
   "outputs": [
    {
     "data": {
      "text/plain": [
       "(\u001b[1m72292×3 DataFrame\u001b[0m\n",
       "\u001b[1m   Row \u001b[0m│\u001b[1m Temp     \u001b[0m\u001b[1m WindSp  \u001b[0m\u001b[1m Precip \u001b[0m\n",
       "\u001b[1m       \u001b[0m│\u001b[90m Float64  \u001b[0m\u001b[90m Float64 \u001b[0m\u001b[90m String \u001b[0m\n",
       "───────┼───────────────────────────\n",
       "     1 │  9.47222  14.1197  rain\n",
       "     2 │  9.35556  14.2646  rain\n",
       "     3 │  9.37778   3.9284  rain\n",
       "     4 │  8.28889  14.1036  rain\n",
       "     5 │  8.75556  11.0446  rain\n",
       "     6 │  9.22222  13.9587  rain\n",
       "     7 │  7.73333  12.3648  rain\n",
       "     8 │  8.77222  14.1519  rain\n",
       "     9 │ 10.8222   11.3183  rain\n",
       "    10 │ 16.0167   17.5651  rain\n",
       "    11 │ 17.1444   19.7869  rain\n",
       "   ⋮   │    ⋮         ⋮       ⋮\n",
       " 72283 │ 22.1389    7.7763  rain\n",
       " 72284 │ 22.8722    6.4239  rain\n",
       " 72285 │ 28.8667   13.9265  rain\n",
       " 72286 │ 30.9944   15.617   rain\n",
       " 72287 │ 30.8944   14.7798  rain\n",
       " 72288 │ 31.0833   13.8943  rain\n",
       " 72289 │ 28.8389   12.2038  rain\n",
       " 72290 │ 26.0167   10.9963  rain\n",
       " 72291 │ 22.0389    8.9838  rain\n",
       " 72292 │ 21.5222   10.5294  rain\n",
       "\u001b[31m                 72271 rows omitted\u001b[0m, \u001b[1m24161×3 DataFrame\u001b[0m\n",
       "\u001b[1m   Row \u001b[0m│\u001b[1m Temp     \u001b[0m\u001b[1m WindSp  \u001b[0m\u001b[1m Precip \u001b[0m\n",
       "\u001b[1m       \u001b[0m│\u001b[90m Float64  \u001b[0m\u001b[90m Float64 \u001b[0m\u001b[90m String \u001b[0m\n",
       "───────┼───────────────────────────\n",
       "     1 │ 13.7722   12.5258  rain\n",
       "     2 │ 15.55     11.1573  rain\n",
       "     3 │ 11.55      7.3899  rain\n",
       "     4 │ 11.1833    4.9266  rain\n",
       "     5 │  9.87222  13.7494  rain\n",
       "     6 │ 17.3556   22.7815  rain\n",
       "     7 │ 20.1167   25.3092  rain\n",
       "     8 │ 20.2167   18.1125  rain\n",
       "     9 │ 17.8      20.0445  rain\n",
       "    10 │ 15.0222   21.3808  rain\n",
       "    11 │ 10.6944   10.4006  rain\n",
       "   ⋮   │    ⋮         ⋮       ⋮\n",
       " 24152 │ 19.9278    3.1556  rain\n",
       " 24153 │ 18.35      3.22    rain\n",
       " 24154 │ 17.7556    2.9624  rain\n",
       " 24155 │ 13.8722    4.7495  rain\n",
       " 24156 │ 19.5611    3.7191  rain\n",
       " 24157 │ 27.0722   12.0106  rain\n",
       " 24158 │ 31.0833   15.5043  rain\n",
       " 24159 │ 30.7667   14.2163  rain\n",
       " 24160 │ 24.5833   10.0947  rain\n",
       " 24161 │ 20.4389    5.8765  rain\n",
       "\u001b[31m                 24140 rows omitted\u001b[0m)"
      ]
     },
     "execution_count": 105,
     "metadata": {},
     "output_type": "execute_result"
    }
   ],
   "source": [
    "using Lathe.preprocess: TrainTestSplit\n",
    "train, test = TrainTestSplit(df)"
   ]
  },
  {
   "cell_type": "code",
   "execution_count": 114,
   "metadata": {},
   "outputs": [
    {
     "data": {
      "text/html": [
       "<table class=\"data-frame\"><thead><tr><th></th><th>Temp</th><th>WindSp</th></tr><tr><th></th><th>Float64</th><th>Float64</th></tr></thead><tbody><p>72,292 rows × 2 columns</p><tr><th>1</th><td>9.47222</td><td>14.1197</td></tr><tr><th>2</th><td>9.35556</td><td>14.2646</td></tr><tr><th>3</th><td>9.37778</td><td>3.9284</td></tr><tr><th>4</th><td>8.28889</td><td>14.1036</td></tr><tr><th>5</th><td>8.75556</td><td>11.0446</td></tr><tr><th>6</th><td>9.22222</td><td>13.9587</td></tr><tr><th>7</th><td>7.73333</td><td>12.3648</td></tr><tr><th>8</th><td>8.77222</td><td>14.1519</td></tr><tr><th>9</th><td>10.8222</td><td>11.3183</td></tr><tr><th>10</th><td>16.0167</td><td>17.5651</td></tr><tr><th>11</th><td>17.1444</td><td>19.7869</td></tr><tr><th>12</th><td>17.8</td><td>21.9443</td></tr><tr><th>13</th><td>17.3333</td><td>20.6885</td></tr><tr><th>14</th><td>18.8778</td><td>15.3755</td></tr><tr><th>15</th><td>18.9111</td><td>10.4006</td></tr><tr><th>16</th><td>15.3889</td><td>14.4095</td></tr><tr><th>17</th><td>14.2556</td><td>8.5169</td></tr><tr><th>18</th><td>13.1444</td><td>7.6314</td></tr><tr><th>19</th><td>10.1167</td><td>6.6493</td></tr><tr><th>20</th><td>10.2</td><td>3.9284</td></tr><tr><th>21</th><td>10.4222</td><td>16.9855</td></tr><tr><th>22</th><td>9.91111</td><td>17.2109</td></tr><tr><th>23</th><td>11.1833</td><td>10.8192</td></tr><tr><th>24</th><td>7.15556</td><td>11.0768</td></tr><tr><th>25</th><td>6.11111</td><td>6.6493</td></tr><tr><th>26</th><td>6.78889</td><td>13.0088</td></tr><tr><th>27</th><td>7.26111</td><td>11.1734</td></tr><tr><th>28</th><td>7.8</td><td>12.8156</td></tr><tr><th>29</th><td>12.2222</td><td>15.6331</td></tr><tr><th>30</th><td>15.0944</td><td>17.549</td></tr><tr><th>&vellip;</th><td>&vellip;</td><td>&vellip;</td></tr></tbody></table>"
      ],
      "text/latex": [
       "\\begin{tabular}{r|cc}\n",
       "\t& Temp & WindSp\\\\\n",
       "\t\\hline\n",
       "\t& Float64 & Float64\\\\\n",
       "\t\\hline\n",
       "\t1 & 9.47222 & 14.1197 \\\\\n",
       "\t2 & 9.35556 & 14.2646 \\\\\n",
       "\t3 & 9.37778 & 3.9284 \\\\\n",
       "\t4 & 8.28889 & 14.1036 \\\\\n",
       "\t5 & 8.75556 & 11.0446 \\\\\n",
       "\t6 & 9.22222 & 13.9587 \\\\\n",
       "\t7 & 7.73333 & 12.3648 \\\\\n",
       "\t8 & 8.77222 & 14.1519 \\\\\n",
       "\t9 & 10.8222 & 11.3183 \\\\\n",
       "\t10 & 16.0167 & 17.5651 \\\\\n",
       "\t11 & 17.1444 & 19.7869 \\\\\n",
       "\t12 & 17.8 & 21.9443 \\\\\n",
       "\t13 & 17.3333 & 20.6885 \\\\\n",
       "\t14 & 18.8778 & 15.3755 \\\\\n",
       "\t15 & 18.9111 & 10.4006 \\\\\n",
       "\t16 & 15.3889 & 14.4095 \\\\\n",
       "\t17 & 14.2556 & 8.5169 \\\\\n",
       "\t18 & 13.1444 & 7.6314 \\\\\n",
       "\t19 & 10.1167 & 6.6493 \\\\\n",
       "\t20 & 10.2 & 3.9284 \\\\\n",
       "\t21 & 10.4222 & 16.9855 \\\\\n",
       "\t22 & 9.91111 & 17.2109 \\\\\n",
       "\t23 & 11.1833 & 10.8192 \\\\\n",
       "\t24 & 7.15556 & 11.0768 \\\\\n",
       "\t25 & 6.11111 & 6.6493 \\\\\n",
       "\t26 & 6.78889 & 13.0088 \\\\\n",
       "\t27 & 7.26111 & 11.1734 \\\\\n",
       "\t28 & 7.8 & 12.8156 \\\\\n",
       "\t29 & 12.2222 & 15.6331 \\\\\n",
       "\t30 & 15.0944 & 17.549 \\\\\n",
       "\t$\\dots$ & $\\dots$ & $\\dots$ \\\\\n",
       "\\end{tabular}\n"
      ],
      "text/plain": [
       "\u001b[1m72292×2 DataFrame\u001b[0m\n",
       "\u001b[1m   Row \u001b[0m│\u001b[1m Temp     \u001b[0m\u001b[1m WindSp  \u001b[0m\n",
       "\u001b[1m       \u001b[0m│\u001b[90m Float64  \u001b[0m\u001b[90m Float64 \u001b[0m\n",
       "───────┼───────────────────\n",
       "     1 │  9.47222  14.1197\n",
       "     2 │  9.35556  14.2646\n",
       "     3 │  9.37778   3.9284\n",
       "     4 │  8.28889  14.1036\n",
       "     5 │  8.75556  11.0446\n",
       "     6 │  9.22222  13.9587\n",
       "     7 │  7.73333  12.3648\n",
       "     8 │  8.77222  14.1519\n",
       "     9 │ 10.8222   11.3183\n",
       "    10 │ 16.0167   17.5651\n",
       "    11 │ 17.1444   19.7869\n",
       "   ⋮   │    ⋮         ⋮\n",
       " 72283 │ 22.1389    7.7763\n",
       " 72284 │ 22.8722    6.4239\n",
       " 72285 │ 28.8667   13.9265\n",
       " 72286 │ 30.9944   15.617\n",
       " 72287 │ 30.8944   14.7798\n",
       " 72288 │ 31.0833   13.8943\n",
       " 72289 │ 28.8389   12.2038\n",
       " 72290 │ 26.0167   10.9963\n",
       " 72291 │ 22.0389    8.9838\n",
       " 72292 │ 21.5222   10.5294\n",
       "\u001b[31m         72271 rows omitted\u001b[0m"
      ]
     },
     "execution_count": 114,
     "metadata": {},
     "output_type": "execute_result"
    }
   ],
   "source": [
    "trainX = DataFrame(:Temp => train[!, :Temp], :WindSp => train[!, :WindSp])"
   ]
  },
  {
   "cell_type": "code",
   "execution_count": 116,
   "metadata": {},
   "outputs": [
    {
     "data": {
      "text/plain": [
       "72292-element PooledArrays.PooledArray{String,UInt32,1,Array{UInt32,1}}:\n",
       " \"rain\"\n",
       " \"rain\"\n",
       " \"rain\"\n",
       " \"rain\"\n",
       " \"rain\"\n",
       " \"rain\"\n",
       " \"rain\"\n",
       " \"rain\"\n",
       " \"rain\"\n",
       " \"rain\"\n",
       " \"rain\"\n",
       " \"rain\"\n",
       " \"rain\"\n",
       " ⋮\n",
       " \"rain\"\n",
       " \"rain\"\n",
       " \"rain\"\n",
       " \"rain\"\n",
       " \"rain\"\n",
       " \"rain\"\n",
       " \"rain\"\n",
       " \"rain\"\n",
       " \"rain\"\n",
       " \"rain\"\n",
       " \"rain\"\n",
       " \"rain\""
      ]
     },
     "execution_count": 116,
     "metadata": {},
     "output_type": "execute_result"
    }
   ],
   "source": [
    "trainy = train[!, :Precip]"
   ]
  },
  {
   "cell_type": "code",
   "execution_count": 117,
   "metadata": {},
   "outputs": [
    {
     "data": {
      "text/html": [
       "<table class=\"data-frame\"><thead><tr><th></th><th>Temp</th><th>WindSp</th></tr><tr><th></th><th>Float64</th><th>Float64</th></tr></thead><tbody><p>24,161 rows × 2 columns</p><tr><th>1</th><td>13.7722</td><td>12.5258</td></tr><tr><th>2</th><td>15.55</td><td>11.1573</td></tr><tr><th>3</th><td>11.55</td><td>7.3899</td></tr><tr><th>4</th><td>11.1833</td><td>4.9266</td></tr><tr><th>5</th><td>9.87222</td><td>13.7494</td></tr><tr><th>6</th><td>17.3556</td><td>22.7815</td></tr><tr><th>7</th><td>20.1167</td><td>25.3092</td></tr><tr><th>8</th><td>20.2167</td><td>18.1125</td></tr><tr><th>9</th><td>17.8</td><td>20.0445</td></tr><tr><th>10</th><td>15.0222</td><td>21.3808</td></tr><tr><th>11</th><td>10.6944</td><td>10.4006</td></tr><tr><th>12</th><td>16.1833</td><td>0.644</td></tr><tr><th>13</th><td>17.2056</td><td>15.5848</td></tr><tr><th>14</th><td>15.6333</td><td>23.6992</td></tr><tr><th>15</th><td>7.76667</td><td>19.2878</td></tr><tr><th>16</th><td>8.2</td><td>20.447</td></tr><tr><th>17</th><td>8.17778</td><td>27.8691</td></tr><tr><th>18</th><td>6.06667</td><td>27.9818</td></tr><tr><th>19</th><td>7.13333</td><td>32.1678</td></tr><tr><th>20</th><td>8.9</td><td>29.8333</td></tr><tr><th>21</th><td>10.65</td><td>17.8549</td></tr><tr><th>22</th><td>10.05</td><td>15.1984</td></tr><tr><th>23</th><td>7.85556</td><td>9.8049</td></tr><tr><th>24</th><td>7.2</td><td>14.4739</td></tr><tr><th>25</th><td>6.17222</td><td>17.0499</td></tr><tr><th>26</th><td>7.22222</td><td>20.5114</td></tr><tr><th>27</th><td>9.07778</td><td>2.3828</td></tr><tr><th>28</th><td>9.05</td><td>0.322</td></tr><tr><th>29</th><td>7.98333</td><td>7.3416</td></tr><tr><th>30</th><td>7.89444</td><td>9.9981</td></tr><tr><th>&vellip;</th><td>&vellip;</td><td>&vellip;</td></tr></tbody></table>"
      ],
      "text/latex": [
       "\\begin{tabular}{r|cc}\n",
       "\t& Temp & WindSp\\\\\n",
       "\t\\hline\n",
       "\t& Float64 & Float64\\\\\n",
       "\t\\hline\n",
       "\t1 & 13.7722 & 12.5258 \\\\\n",
       "\t2 & 15.55 & 11.1573 \\\\\n",
       "\t3 & 11.55 & 7.3899 \\\\\n",
       "\t4 & 11.1833 & 4.9266 \\\\\n",
       "\t5 & 9.87222 & 13.7494 \\\\\n",
       "\t6 & 17.3556 & 22.7815 \\\\\n",
       "\t7 & 20.1167 & 25.3092 \\\\\n",
       "\t8 & 20.2167 & 18.1125 \\\\\n",
       "\t9 & 17.8 & 20.0445 \\\\\n",
       "\t10 & 15.0222 & 21.3808 \\\\\n",
       "\t11 & 10.6944 & 10.4006 \\\\\n",
       "\t12 & 16.1833 & 0.644 \\\\\n",
       "\t13 & 17.2056 & 15.5848 \\\\\n",
       "\t14 & 15.6333 & 23.6992 \\\\\n",
       "\t15 & 7.76667 & 19.2878 \\\\\n",
       "\t16 & 8.2 & 20.447 \\\\\n",
       "\t17 & 8.17778 & 27.8691 \\\\\n",
       "\t18 & 6.06667 & 27.9818 \\\\\n",
       "\t19 & 7.13333 & 32.1678 \\\\\n",
       "\t20 & 8.9 & 29.8333 \\\\\n",
       "\t21 & 10.65 & 17.8549 \\\\\n",
       "\t22 & 10.05 & 15.1984 \\\\\n",
       "\t23 & 7.85556 & 9.8049 \\\\\n",
       "\t24 & 7.2 & 14.4739 \\\\\n",
       "\t25 & 6.17222 & 17.0499 \\\\\n",
       "\t26 & 7.22222 & 20.5114 \\\\\n",
       "\t27 & 9.07778 & 2.3828 \\\\\n",
       "\t28 & 9.05 & 0.322 \\\\\n",
       "\t29 & 7.98333 & 7.3416 \\\\\n",
       "\t30 & 7.89444 & 9.9981 \\\\\n",
       "\t$\\dots$ & $\\dots$ & $\\dots$ \\\\\n",
       "\\end{tabular}\n"
      ],
      "text/plain": [
       "\u001b[1m24161×2 DataFrame\u001b[0m\n",
       "\u001b[1m   Row \u001b[0m│\u001b[1m Temp     \u001b[0m\u001b[1m WindSp  \u001b[0m\n",
       "\u001b[1m       \u001b[0m│\u001b[90m Float64  \u001b[0m\u001b[90m Float64 \u001b[0m\n",
       "───────┼───────────────────\n",
       "     1 │ 13.7722   12.5258\n",
       "     2 │ 15.55     11.1573\n",
       "     3 │ 11.55      7.3899\n",
       "     4 │ 11.1833    4.9266\n",
       "     5 │  9.87222  13.7494\n",
       "     6 │ 17.3556   22.7815\n",
       "     7 │ 20.1167   25.3092\n",
       "     8 │ 20.2167   18.1125\n",
       "     9 │ 17.8      20.0445\n",
       "    10 │ 15.0222   21.3808\n",
       "    11 │ 10.6944   10.4006\n",
       "   ⋮   │    ⋮         ⋮\n",
       " 24152 │ 19.9278    3.1556\n",
       " 24153 │ 18.35      3.22\n",
       " 24154 │ 17.7556    2.9624\n",
       " 24155 │ 13.8722    4.7495\n",
       " 24156 │ 19.5611    3.7191\n",
       " 24157 │ 27.0722   12.0106\n",
       " 24158 │ 31.0833   15.5043\n",
       " 24159 │ 30.7667   14.2163\n",
       " 24160 │ 24.5833   10.0947\n",
       " 24161 │ 20.4389    5.8765\n",
       "\u001b[31m         24140 rows omitted\u001b[0m"
      ]
     },
     "execution_count": 117,
     "metadata": {},
     "output_type": "execute_result"
    }
   ],
   "source": [
    "testX = DataFrame(:Temp => test[!, :Temp], :WindSp => test[!, :WindSp])"
   ]
  },
  {
   "cell_type": "code",
   "execution_count": 118,
   "metadata": {},
   "outputs": [
    {
     "data": {
      "text/plain": [
       "24161-element PooledArrays.PooledArray{String,UInt32,1,Array{UInt32,1}}:\n",
       " \"rain\"\n",
       " \"rain\"\n",
       " \"rain\"\n",
       " \"rain\"\n",
       " \"rain\"\n",
       " \"rain\"\n",
       " \"rain\"\n",
       " \"rain\"\n",
       " \"rain\"\n",
       " \"rain\"\n",
       " \"rain\"\n",
       " \"rain\"\n",
       " \"rain\"\n",
       " ⋮\n",
       " \"rain\"\n",
       " \"rain\"\n",
       " \"rain\"\n",
       " \"rain\"\n",
       " \"rain\"\n",
       " \"rain\"\n",
       " \"rain\"\n",
       " \"rain\"\n",
       " \"rain\"\n",
       " \"rain\"\n",
       " \"rain\"\n",
       " \"rain\""
      ]
     },
     "execution_count": 118,
     "metadata": {},
     "output_type": "execute_result"
    }
   ],
   "source": [
    "testy = test[!, :Precip]"
   ]
  },
  {
   "cell_type": "code",
   "execution_count": 119,
   "metadata": {},
   "outputs": [
    {
     "data": {
      "text/plain": [
       "#15 (generic function with 1 method)"
      ]
     },
     "execution_count": 119,
     "metadata": {},
     "output_type": "execute_result"
    }
   ],
   "source": [
    "mdl = RandomForestClassifier(trainX, trainy)"
   ]
  },
  {
   "cell_type": "code",
   "execution_count": 120,
   "metadata": {},
   "outputs": [
    {
     "data": {
      "text/plain": [
       "24161-element Array{String,1}:\n",
       " \"rain\"\n",
       " \"rain\"\n",
       " \"rain\"\n",
       " \"rain\"\n",
       " \"rain\"\n",
       " \"rain\"\n",
       " \"rain\"\n",
       " \"rain\"\n",
       " \"rain\"\n",
       " \"rain\"\n",
       " \"rain\"\n",
       " \"rain\"\n",
       " \"rain\"\n",
       " ⋮\n",
       " \"rain\"\n",
       " \"rain\"\n",
       " \"rain\"\n",
       " \"rain\"\n",
       " \"rain\"\n",
       " \"rain\"\n",
       " \"rain\"\n",
       " \"rain\"\n",
       " \"rain\"\n",
       " \"rain\"\n",
       " \"rain\"\n",
       " \"rain\""
      ]
     },
     "execution_count": 120,
     "metadata": {},
     "output_type": "execute_result"
    }
   ],
   "source": [
    "yhat = mdl.predict(testX)"
   ]
  },
  {
   "cell_type": "code",
   "execution_count": 121,
   "metadata": {},
   "outputs": [],
   "source": [
    "using Lathe.lstats: catacc"
   ]
  },
  {
   "cell_type": "code",
   "execution_count": 122,
   "metadata": {},
   "outputs": [
    {
     "name": "stdout",
     "output_type": "stream",
     "text": [
      "0.9947435950498738\n"
     ]
    }
   ],
   "source": [
    "println(catacc(yhat, testy))"
   ]
  },
  {
   "cell_type": "code",
   "execution_count": 124,
   "metadata": {},
   "outputs": [
    {
     "name": "stdout",
     "output_type": "stream",
     "text": [
      " 21.266509 seconds (426.51 M allocations: 9.095 GiB, 7.65% gc time)\n"
     ]
    },
    {
     "data": {
      "text/plain": [
       "24161-element Array{String,1}:\n",
       " \"rain\"\n",
       " \"rain\"\n",
       " \"rain\"\n",
       " \"rain\"\n",
       " \"rain\"\n",
       " \"rain\"\n",
       " \"rain\"\n",
       " \"rain\"\n",
       " \"rain\"\n",
       " \"rain\"\n",
       " \"rain\"\n",
       " \"rain\"\n",
       " \"rain\"\n",
       " ⋮\n",
       " \"rain\"\n",
       " \"rain\"\n",
       " \"rain\"\n",
       " \"rain\"\n",
       " \"rain\"\n",
       " \"rain\"\n",
       " \"rain\"\n",
       " \"rain\"\n",
       " \"rain\"\n",
       " \"rain\"\n",
       " \"rain\"\n",
       " \"rain\""
      ]
     },
     "execution_count": 124,
     "metadata": {},
     "output_type": "execute_result"
    }
   ],
   "source": [
    "@time RandomForestClassifier(trainX, trainy).predict(testX)"
   ]
  },
  {
   "cell_type": "code",
   "execution_count": null,
   "metadata": {},
   "outputs": [],
   "source": []
  }
 ],
 "metadata": {
  "@webio": {
   "lastCommId": null,
   "lastKernelId": null
  },
  "kernelspec": {
   "display_name": "Julia 1.5.2",
   "language": "julia",
   "name": "julia-1.5"
  },
  "language_info": {
   "file_extension": ".jl",
   "mimetype": "application/julia",
   "name": "julia",
   "version": "1.5.2"
  }
 },
 "nbformat": 4,
 "nbformat_minor": 2
}
