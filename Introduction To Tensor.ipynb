{
 "cells": [
  {
   "cell_type": "markdown",
   "metadata": {},
   "source": [
    "# XTensor\n",
    "\n",
    "- GitHub repository: https://github.com/xtensor-stack/xtensor/\n",
    "- Online documentation: https://xtensor.readthedocs.io/\n",
    "- NumPy to xtensor cheat sheet: http://xtensor.readthedocs.io/en/latest/numpy.html\n",
    "\n",
    "`xtensor` is a C++ library for manipulating N-D arrays with an API very similar to that of numpy."
   ]
  },
  {
   "cell_type": "code",
   "execution_count": 33,
   "metadata": {},
   "outputs": [],
   "source": [
    "#include <iostream>\n",
    "// Base Arrays:\n",
    "#include \"xtensor/xarray.hpp\"\n",
    "// XTensor IO:\n",
    "#include \"xtensor/xio.hpp\"\n",
    "// XTensor View:\n",
    "#include \"xtensor/xview.hpp\""
   ]
  },
  {
   "cell_type": "markdown",
   "metadata": {},
   "source": [
    "# Basic Matrices"
   ]
  },
  {
   "cell_type": "code",
   "execution_count": 34,
   "metadata": {},
   "outputs": [],
   "source": [
    "xt::xarray<int>array\n",
    "({{500, 500, 300}, {500, 600, 800}})"
   ]
  },
  {
   "cell_type": "code",
   "execution_count": 35,
   "metadata": {},
   "outputs": [
    {
     "data": {
      "text/html": [
       "<table style='border-style:solid;border-width:1px;'><tbody><tr><td style='font-family:monospace;' title='(0, 0)'><pre>500</pre></td><td style='font-family:monospace;' title='(0, 1)'><pre>500</pre></td><td style='font-family:monospace;' title='(0, 2)'><pre>300</pre></td></tr><tr><td style='font-family:monospace;' title='(1, 0)'><pre>500</pre></td><td style='font-family:monospace;' title='(1, 1)'><pre>600</pre></td><td style='font-family:monospace;' title='(1, 2)'><pre>800</pre></td></tr></tbody></table>"
      ]
     },
     "execution_count": 35,
     "metadata": {},
     "output_type": "execute_result"
    }
   ],
   "source": [
    "array"
   ]
  },
  {
   "cell_type": "code",
   "execution_count": 36,
   "metadata": {},
   "outputs": [
    {
     "name": "stdout",
     "output_type": "stream",
     "text": [
      "{{500, 500, 300},\n",
      " {500, 600, 800}}"
     ]
    }
   ],
   "source": [
    "std::cout << array;"
   ]
  },
  {
   "cell_type": "code",
   "execution_count": 37,
   "metadata": {},
   "outputs": [],
   "source": [
    "// Compilable example:\n",
    "#include <iostream>\n",
    "// Base Arrays:\n",
    "#include \"xtensor/xarray.hpp\"\n",
    "// XTensor IO:\n",
    "#include \"xtensor/xio.hpp\"\n",
    "// XTensor View:\n",
    "#include \"xtensor/xview.hpp\"\n",
    "int main()\n",
    "{\n",
    "    xt::xarray<int>array\n",
    "({{500, 500, 300}, {500, 600, 800}});\n",
    "    std::cout << array;\n",
    "}"
   ]
  },
  {
   "cell_type": "code",
   "execution_count": 38,
   "metadata": {},
   "outputs": [
    {
     "data": {
      "text/html": [
       "<table style='border-style:solid;border-width:1px;'><tbody><tr><td style='font-family:monospace;' title='(0, 0)'><pre>500</pre></td><td style='font-family:monospace;' title='(0, 1)'><pre>500</pre></td></tr><tr><td style='font-family:monospace;' title='(1, 0)'><pre>300</pre></td><td style='font-family:monospace;' title='(1, 1)'><pre>500</pre></td></tr><tr><td style='font-family:monospace;' title='(2, 0)'><pre>600</pre></td><td style='font-family:monospace;' title='(2, 1)'><pre>800</pre></td></tr></tbody></table>"
      ]
     },
     "execution_count": 38,
     "metadata": {},
     "output_type": "execute_result"
    }
   ],
   "source": [
    "array.reshape({3, 2})"
   ]
  },
  {
   "cell_type": "code",
   "execution_count": 39,
   "metadata": {},
   "outputs": [
    {
     "data": {
      "text/html": [
       "<table style='border-style:solid;border-width:1px;'><tbody><tr><td style='font-family:monospace;' title='(0, 0)'><pre> 500.</pre></td><td style='font-family:monospace;' title='(0, 1)'><pre> 500.</pre></td></tr><tr><td style='font-family:monospace;' title='(1, 0)'><pre> 300.</pre></td><td style='font-family:monospace;' title='(1, 1)'><pre> 500.</pre></td></tr><tr><td style='font-family:monospace;' title='(2, 0)'><pre> 600.</pre></td><td style='font-family:monospace;' title='(2, 1)'><pre> 800.</pre></td></tr></tbody></table>"
      ]
     },
     "execution_count": 39,
     "metadata": {},
     "output_type": "execute_result"
    }
   ],
   "source": [
    "xt::cast<double>(array)"
   ]
  },
  {
   "cell_type": "code",
   "execution_count": 40,
   "metadata": {},
   "outputs": [
    {
     "data": {
      "text/html": [
       "<table style='border-style:solid;border-width:1px;'><tbody><tr><td style='font-family:monospace;' title='(0, 0)'><pre> 0.</pre></td><td style='font-family:monospace;' title='(0, 1)'><pre> 0.</pre></td><td style='font-family:monospace;' title='(0, 2)'><pre> 0.</pre></td><td style='font-family:monospace;' title='(0, 3)'><pre> 0.</pre></td></tr><tr><td style='font-family:monospace;' title='(1, 0)'><pre> 0.</pre></td><td style='font-family:monospace;' title='(1, 1)'><pre> 0.</pre></td><td style='font-family:monospace;' title='(1, 2)'><pre> 0.</pre></td><td style='font-family:monospace;' title='(1, 3)'><pre> 0.</pre></td></tr><tr><td style='font-family:monospace;' title='(2, 0)'><pre> 0.</pre></td><td style='font-family:monospace;' title='(2, 1)'><pre> 0.</pre></td><td style='font-family:monospace;' title='(2, 2)'><pre> 0.</pre></td><td style='font-family:monospace;' title='(2, 3)'><pre> 0.</pre></td></tr></tbody></table>"
      ]
     },
     "execution_count": 40,
     "metadata": {},
     "output_type": "execute_result"
    }
   ],
   "source": [
    "xt::zeros<double>({3, 4})"
   ]
  },
  {
   "cell_type": "code",
   "execution_count": 41,
   "metadata": {},
   "outputs": [
    {
     "data": {
      "text/html": [
       "<table style='border-style:solid;border-width:1px;'><tbody><tr><td style='font-family:monospace;' title='(0, 0)'><pre> true</pre></td><td style='font-family:monospace;' title='(0, 1)'><pre>false</pre></td><td style='font-family:monospace;' title='(0, 2)'><pre>false</pre></td><td style='font-family:monospace;' title='(0, 3)'><pre>false</pre></td></tr><tr><td style='font-family:monospace;' title='(1, 0)'><pre>false</pre></td><td style='font-family:monospace;' title='(1, 1)'><pre> true</pre></td><td style='font-family:monospace;' title='(1, 2)'><pre>false</pre></td><td style='font-family:monospace;' title='(1, 3)'><pre>false</pre></td></tr><tr><td style='font-family:monospace;' title='(2, 0)'><pre>false</pre></td><td style='font-family:monospace;' title='(2, 1)'><pre>false</pre></td><td style='font-family:monospace;' title='(2, 2)'><pre> true</pre></td><td style='font-family:monospace;' title='(2, 3)'><pre>false</pre></td></tr><tr><td style='font-family:monospace;' title='(3, 0)'><pre>false</pre></td><td style='font-family:monospace;' title='(3, 1)'><pre>false</pre></td><td style='font-family:monospace;' title='(3, 2)'><pre>false</pre></td><td style='font-family:monospace;' title='(3, 3)'><pre> true</pre></td></tr></tbody></table>"
      ]
     },
     "execution_count": 41,
     "metadata": {},
     "output_type": "execute_result"
    }
   ],
   "source": [
    "xt::eye(4)"
   ]
  },
  {
   "cell_type": "code",
   "execution_count": 42,
   "metadata": {},
   "outputs": [
    {
     "data": {
      "text/html": [
       "<table style='border-style:solid;border-width:1px;'><tbody><tr><td style='font-family:monospace;' title='(0, 0)'><pre> 1.</pre></td><td style='font-family:monospace;' title='(0, 1)'><pre> 1.</pre></td><td style='font-family:monospace;' title='(0, 2)'><pre> 1.</pre></td><td style='font-family:monospace;' title='(0, 3)'><pre> 1.</pre></td></tr><tr><td style='font-family:monospace;' title='(1, 0)'><pre> 1.</pre></td><td style='font-family:monospace;' title='(1, 1)'><pre> 1.</pre></td><td style='font-family:monospace;' title='(1, 2)'><pre> 1.</pre></td><td style='font-family:monospace;' title='(1, 3)'><pre> 1.</pre></td></tr><tr><td style='font-family:monospace;' title='(2, 0)'><pre> 1.</pre></td><td style='font-family:monospace;' title='(2, 1)'><pre> 1.</pre></td><td style='font-family:monospace;' title='(2, 2)'><pre> 1.</pre></td><td style='font-family:monospace;' title='(2, 3)'><pre> 1.</pre></td></tr></tbody></table>"
      ]
     },
     "execution_count": 42,
     "metadata": {},
     "output_type": "execute_result"
    }
   ],
   "source": [
    "xt::ones<double>({3, 4})"
   ]
  },
  {
   "cell_type": "code",
   "execution_count": 43,
   "metadata": {},
   "outputs": [
    {
     "data": {
      "text/html": [
       "<table style='border-style:solid;border-width:1px;'><tbody><tr><td style='font-family:monospace;' title='0'><pre>3</pre></td></tr><tr><td style='font-family:monospace;' title='1'><pre>4</pre></td></tr><tr><td style='font-family:monospace;' title='2'><pre>5</pre></td></tr><tr><td style='font-family:monospace;' title='3'><pre>6</pre></td></tr></tbody></table>"
      ]
     },
     "execution_count": 43,
     "metadata": {},
     "output_type": "execute_result"
    }
   ],
   "source": [
    "xt::arange(3, 7)"
   ]
  },
  {
   "cell_type": "code",
   "execution_count": 44,
   "metadata": {},
   "outputs": [
    {
     "data": {
      "text/html": [
       "<table style='border-style:solid;border-width:1px;'><tbody><tr><td style='font-family:monospace;' title='(0, 0)'><pre>500</pre></td><td style='font-family:monospace;' title='(0, 1)'><pre>500</pre></td></tr><tr><td style='font-family:monospace;' title='(1, 0)'><pre>300</pre></td><td style='font-family:monospace;' title='(1, 1)'><pre>500</pre></td></tr><tr><td style='font-family:monospace;' title='(2, 0)'><pre>600</pre></td><td style='font-family:monospace;' title='(2, 1)'><pre>800</pre></td></tr></tbody></table>"
      ]
     },
     "execution_count": 44,
     "metadata": {},
     "output_type": "execute_result"
    }
   ],
   "source": [
    "array"
   ]
  },
  {
   "cell_type": "code",
   "execution_count": 45,
   "metadata": {},
   "outputs": [
    {
     "name": "stdout",
     "output_type": "stream",
     "text": [
      "300"
     ]
    },
    {
     "data": {
      "text/plain": [
       "@0x7f2141624b60"
      ]
     },
     "execution_count": 45,
     "metadata": {},
     "output_type": "execute_result"
    }
   ],
   "source": [
    "std::cout << array(0,2)"
   ]
  },
  {
   "cell_type": "code",
   "execution_count": 46,
   "metadata": {},
   "outputs": [],
   "source": [
    "xt::xarray<int>arraytwo\n",
    "({{500, 500, 300}, {500, 600, 800}})"
   ]
  },
  {
   "cell_type": "code",
   "execution_count": 48,
   "metadata": {},
   "outputs": [
    {
     "data": {
      "text/html": [
       "<table style='border-style:solid;border-width:1px;'><tbody><tr><td style='font-family:monospace;' title='(0, 0)'><pre>500</pre></td><td style='font-family:monospace;' title='(0, 1)'><pre>500</pre></td></tr><tr><td style='font-family:monospace;' title='(1, 0)'><pre>300</pre></td><td style='font-family:monospace;' title='(1, 1)'><pre>500</pre></td></tr><tr><td style='font-family:monospace;' title='(2, 0)'><pre>600</pre></td><td style='font-family:monospace;' title='(2, 1)'><pre>800</pre></td></tr></tbody></table>"
      ]
     },
     "execution_count": 48,
     "metadata": {},
     "output_type": "execute_result"
    }
   ],
   "source": [
    "arraytwo.reshape({3, 2})"
   ]
  },
  {
   "cell_type": "code",
   "execution_count": 49,
   "metadata": {},
   "outputs": [
    {
     "data": {
      "text/html": [
       "<table style='border-style:solid;border-width:1px;'><tbody><tr><td style='font-family:monospace;' title='(0, 0)'><pre>500</pre></td><td style='font-family:monospace;' title='(0, 1)'><pre>500</pre></td></tr><tr><td style='font-family:monospace;' title='(1, 0)'><pre>300</pre></td><td style='font-family:monospace;' title='(1, 1)'><pre>500</pre></td></tr><tr><td style='font-family:monospace;' title='(2, 0)'><pre>600</pre></td><td style='font-family:monospace;' title='(2, 1)'><pre>800</pre></td></tr><tr><td style='font-family:monospace;' title='(3, 0)'><pre>500</pre></td><td style='font-family:monospace;' title='(3, 1)'><pre>500</pre></td></tr><tr><td style='font-family:monospace;' title='(4, 0)'><pre>300</pre></td><td style='font-family:monospace;' title='(4, 1)'><pre>500</pre></td></tr><tr><td style='font-family:monospace;' title='(5, 0)'><pre>600</pre></td><td style='font-family:monospace;' title='(5, 1)'><pre>800</pre></td></tr></tbody></table>"
      ]
     },
     "execution_count": 49,
     "metadata": {},
     "output_type": "execute_result"
    }
   ],
   "source": [
    "xt::concatenate(xtuple(array, arraytwo))"
   ]
  },
  {
   "cell_type": "code",
   "execution_count": 51,
   "metadata": {},
   "outputs": [
    {
     "data": {
      "text/html": [
       "<table style='border-style:solid;border-width:1px;'><tbody><tr><td style='font-family:monospace;' title='(0, 0)'><pre>500</pre></td><td style='font-family:monospace;' title='(0, 1)'><pre>500</pre></td></tr><tr><td style='font-family:monospace;' title='(1, 0)'><pre>300</pre></td><td style='font-family:monospace;' title='(1, 1)'><pre>500</pre></td></tr><tr><td style='font-family:monospace;' title='(2, 0)'><pre>600</pre></td><td style='font-family:monospace;' title='(2, 1)'><pre>800</pre></td></tr></tbody></table>"
      ]
     },
     "execution_count": 51,
     "metadata": {},
     "output_type": "execute_result"
    }
   ],
   "source": [
    "xt::squeeze(array)"
   ]
  },
  {
   "cell_type": "code",
   "execution_count": 52,
   "metadata": {},
   "outputs": [
    {
     "data": {
      "text/html": [
       "<table style='border-style:solid;border-width:1px;'><tbody><tr><td style='font-family:monospace;'><pre>3200</pre></td></tr></tbody></table>"
      ]
     },
     "execution_count": 52,
     "metadata": {},
     "output_type": "execute_result"
    }
   ],
   "source": [
    "xt::sum(array, {0, 1})"
   ]
  },
  {
   "cell_type": "code",
   "execution_count": 53,
   "metadata": {},
   "outputs": [
    {
     "data": {
      "text/html": [
       "<table style='border-style:solid;border-width:1px;'><tbody><tr><td style='font-family:monospace;'><pre>533.333</pre></td></tr></tbody></table>"
      ]
     },
     "execution_count": 53,
     "metadata": {},
     "output_type": "execute_result"
    }
   ],
   "source": [
    "xt::mean(array)"
   ]
  },
  {
   "cell_type": "code",
   "execution_count": 56,
   "metadata": {},
   "outputs": [
    {
     "data": {
      "text/html": [
       "<table style='border-style:solid;border-width:1px;'><tbody><tr><td style='font-family:monospace;'><pre>149.071</pre></td></tr></tbody></table>"
      ]
     },
     "execution_count": 56,
     "metadata": {},
     "output_type": "execute_result"
    }
   ],
   "source": [
    "xt::stddev(array, {0,1})"
   ]
  },
  {
   "cell_type": "code",
   "execution_count": 58,
   "metadata": {},
   "outputs": [
    {
     "name": "stderr",
     "output_type": "stream",
     "text": [
      "\u001b[1minput_line_132:2:2: \u001b[0m\u001b[0;1;31merror: \u001b[0m\u001b[1muse of undeclared identifier 'linalg'\u001b[0m\n",
      " linalg::dot(array, arraytwo)\n",
      "\u001b[0;1;32m ^\n",
      "\u001b[0m"
     ]
    },
    {
     "ename": "Interpreter Error",
     "evalue": "",
     "output_type": "error",
     "traceback": [
      "Interpreter Error: "
     ]
    }
   ],
   "source": [
    "linalg::dot(array, arraytwo)"
   ]
  },
  {
   "cell_type": "code",
   "execution_count": null,
   "metadata": {},
   "outputs": [],
   "source": []
  }
 ],
 "metadata": {
  "@webio": {
   "lastCommId": null,
   "lastKernelId": null
  },
  "kernelspec": {
   "display_name": "C++17",
   "language": "C++17",
   "name": "xcpp17"
  },
  "language_info": {
   "codemirror_mode": "text/x-c++src",
   "file_extension": ".cpp",
   "mimetype": "text/x-c++src",
   "name": "c++",
   "version": "17"
  }
 },
 "nbformat": 4,
 "nbformat_minor": 4
}
